{
 "cells": [
  {
   "cell_type": "markdown",
   "metadata": {},
   "source": [
    "# Проектная работа по приоритезации гипотез с последующим анализом результатов А/В- теста"
   ]
  },
  {
   "cell_type": "markdown",
   "metadata": {},
   "source": [
    "В нашем распоряжении есть три датасета. В первом датасете представлена информация с девятью гипотезами по увеличению выручки интернет-магазина. Во втором и третьем датасетах находится информация о результатах проведенного А/В-теста. \n",
    "\n",
    "Цели данной работы:\n",
    "1. Применить фреймворки ICE и RICE для приоритезации гипотез\n",
    "2. Проанализировать А/В-тест\n",
    "3. Принять решение по результатам теста "
   ]
  },
  {
   "cell_type": "markdown",
   "metadata": {},
   "source": [
    "## Приоритезация гипотез"
   ]
  },
  {
   "cell_type": "markdown",
   "metadata": {},
   "source": [
    "`Импортируем нужные библиотеки и сохраним датасет в переменную hypotheses.`"
   ]
  },
  {
   "cell_type": "code",
   "execution_count": 1,
   "metadata": {},
   "outputs": [],
   "source": [
    "import pandas as pd\n",
    "import datetime as dt\n",
    "import numpy as np\n",
    "import matplotlib.pyplot as plt\n",
    "import scipy.stats as stats"
   ]
  },
  {
   "cell_type": "code",
   "execution_count": 2,
   "metadata": {},
   "outputs": [],
   "source": [
    "hypotheses = pd.read_csv('/datasets/hypothesis.csv')"
   ]
  },
  {
   "cell_type": "markdown",
   "metadata": {},
   "source": [
    "`Применим фреймворк ICE для приоритезации гипотез и отсортируем их по убыванию приоритета.`"
   ]
  },
  {
   "cell_type": "code",
   "execution_count": 3,
   "metadata": {},
   "outputs": [],
   "source": [
    "hypotheses['ICE'] = (hypotheses['Impact'] * hypotheses['Confidence'] / hypotheses['Efforts']).round(2)"
   ]
  },
  {
   "cell_type": "code",
   "execution_count": 4,
   "metadata": {},
   "outputs": [
    {
     "data": {
      "text/html": [
       "<div>\n",
       "<style scoped>\n",
       "    .dataframe tbody tr th:only-of-type {\n",
       "        vertical-align: middle;\n",
       "    }\n",
       "\n",
       "    .dataframe tbody tr th {\n",
       "        vertical-align: top;\n",
       "    }\n",
       "\n",
       "    .dataframe thead th {\n",
       "        text-align: right;\n",
       "    }\n",
       "</style>\n",
       "<table border=\"1\" class=\"dataframe\">\n",
       "  <thead>\n",
       "    <tr style=\"text-align: right;\">\n",
       "      <th></th>\n",
       "      <th>Hypothesis</th>\n",
       "      <th>ICE</th>\n",
       "    </tr>\n",
       "  </thead>\n",
       "  <tbody>\n",
       "    <tr>\n",
       "      <th>8</th>\n",
       "      <td>Запустить акцию, дающую скидку на товар в день...</td>\n",
       "      <td>16.20</td>\n",
       "    </tr>\n",
       "    <tr>\n",
       "      <th>0</th>\n",
       "      <td>Добавить два новых канала привлечения трафика,...</td>\n",
       "      <td>13.33</td>\n",
       "    </tr>\n",
       "    <tr>\n",
       "      <th>7</th>\n",
       "      <td>Добавить форму подписки на все основные страни...</td>\n",
       "      <td>11.20</td>\n",
       "    </tr>\n",
       "    <tr>\n",
       "      <th>6</th>\n",
       "      <td>Показать на главной странице баннеры с актуаль...</td>\n",
       "      <td>8.00</td>\n",
       "    </tr>\n",
       "    <tr>\n",
       "      <th>2</th>\n",
       "      <td>Добавить блоки рекомендаций товаров на сайт ин...</td>\n",
       "      <td>7.00</td>\n",
       "    </tr>\n",
       "    <tr>\n",
       "      <th>1</th>\n",
       "      <td>Запустить собственную службу доставки, что сок...</td>\n",
       "      <td>2.00</td>\n",
       "    </tr>\n",
       "    <tr>\n",
       "      <th>5</th>\n",
       "      <td>Добавить страницу отзывов клиентов о магазине,...</td>\n",
       "      <td>1.33</td>\n",
       "    </tr>\n",
       "    <tr>\n",
       "      <th>3</th>\n",
       "      <td>Изменить структура категорий, что увеличит кон...</td>\n",
       "      <td>1.12</td>\n",
       "    </tr>\n",
       "    <tr>\n",
       "      <th>4</th>\n",
       "      <td>Изменить цвет фона главной страницы, чтобы уве...</td>\n",
       "      <td>1.00</td>\n",
       "    </tr>\n",
       "  </tbody>\n",
       "</table>\n",
       "</div>"
      ],
      "text/plain": [
       "                                          Hypothesis    ICE\n",
       "8  Запустить акцию, дающую скидку на товар в день...  16.20\n",
       "0  Добавить два новых канала привлечения трафика,...  13.33\n",
       "7  Добавить форму подписки на все основные страни...  11.20\n",
       "6  Показать на главной странице баннеры с актуаль...   8.00\n",
       "2  Добавить блоки рекомендаций товаров на сайт ин...   7.00\n",
       "1  Запустить собственную службу доставки, что сок...   2.00\n",
       "5  Добавить страницу отзывов клиентов о магазине,...   1.33\n",
       "3  Изменить структура категорий, что увеличит кон...   1.12\n",
       "4  Изменить цвет фона главной страницы, чтобы уве...   1.00"
      ]
     },
     "execution_count": 4,
     "metadata": {},
     "output_type": "execute_result"
    }
   ],
   "source": [
    "hypotheses[['Hypothesis', 'ICE']].sort_values(by='ICE', ascending=False)"
   ]
  },
  {
   "cell_type": "markdown",
   "metadata": {},
   "source": [
    "`Наиболее перпспективными являются гипотезы 8,0,7.`\n",
    "\n",
    "`Теперь посчитаем RICE для гипотез и отсортируем по убыванию приоритета.`"
   ]
  },
  {
   "cell_type": "code",
   "execution_count": 5,
   "metadata": {},
   "outputs": [],
   "source": [
    "hypotheses['RICE'] = hypotheses['Reach'] * hypotheses['Impact'] * hypotheses['Confidence'] / hypotheses['Efforts']"
   ]
  },
  {
   "cell_type": "code",
   "execution_count": 6,
   "metadata": {},
   "outputs": [
    {
     "data": {
      "text/html": [
       "<div>\n",
       "<style scoped>\n",
       "    .dataframe tbody tr th:only-of-type {\n",
       "        vertical-align: middle;\n",
       "    }\n",
       "\n",
       "    .dataframe tbody tr th {\n",
       "        vertical-align: top;\n",
       "    }\n",
       "\n",
       "    .dataframe thead th {\n",
       "        text-align: right;\n",
       "    }\n",
       "</style>\n",
       "<table border=\"1\" class=\"dataframe\">\n",
       "  <thead>\n",
       "    <tr style=\"text-align: right;\">\n",
       "      <th></th>\n",
       "      <th>Hypothesis</th>\n",
       "      <th>Reach</th>\n",
       "      <th>Impact</th>\n",
       "      <th>Confidence</th>\n",
       "      <th>Efforts</th>\n",
       "      <th>ICE</th>\n",
       "      <th>RICE</th>\n",
       "    </tr>\n",
       "  </thead>\n",
       "  <tbody>\n",
       "    <tr>\n",
       "      <th>7</th>\n",
       "      <td>Добавить форму подписки на все основные страни...</td>\n",
       "      <td>10</td>\n",
       "      <td>7</td>\n",
       "      <td>8</td>\n",
       "      <td>5</td>\n",
       "      <td>11.20</td>\n",
       "      <td>112.0</td>\n",
       "    </tr>\n",
       "    <tr>\n",
       "      <th>2</th>\n",
       "      <td>Добавить блоки рекомендаций товаров на сайт ин...</td>\n",
       "      <td>8</td>\n",
       "      <td>3</td>\n",
       "      <td>7</td>\n",
       "      <td>3</td>\n",
       "      <td>7.00</td>\n",
       "      <td>56.0</td>\n",
       "    </tr>\n",
       "    <tr>\n",
       "      <th>0</th>\n",
       "      <td>Добавить два новых канала привлечения трафика,...</td>\n",
       "      <td>3</td>\n",
       "      <td>10</td>\n",
       "      <td>8</td>\n",
       "      <td>6</td>\n",
       "      <td>13.33</td>\n",
       "      <td>40.0</td>\n",
       "    </tr>\n",
       "    <tr>\n",
       "      <th>6</th>\n",
       "      <td>Показать на главной странице баннеры с актуаль...</td>\n",
       "      <td>5</td>\n",
       "      <td>3</td>\n",
       "      <td>8</td>\n",
       "      <td>3</td>\n",
       "      <td>8.00</td>\n",
       "      <td>40.0</td>\n",
       "    </tr>\n",
       "    <tr>\n",
       "      <th>8</th>\n",
       "      <td>Запустить акцию, дающую скидку на товар в день...</td>\n",
       "      <td>1</td>\n",
       "      <td>9</td>\n",
       "      <td>9</td>\n",
       "      <td>5</td>\n",
       "      <td>16.20</td>\n",
       "      <td>16.2</td>\n",
       "    </tr>\n",
       "    <tr>\n",
       "      <th>3</th>\n",
       "      <td>Изменить структура категорий, что увеличит кон...</td>\n",
       "      <td>8</td>\n",
       "      <td>3</td>\n",
       "      <td>3</td>\n",
       "      <td>8</td>\n",
       "      <td>1.12</td>\n",
       "      <td>9.0</td>\n",
       "    </tr>\n",
       "    <tr>\n",
       "      <th>1</th>\n",
       "      <td>Запустить собственную службу доставки, что сок...</td>\n",
       "      <td>2</td>\n",
       "      <td>5</td>\n",
       "      <td>4</td>\n",
       "      <td>10</td>\n",
       "      <td>2.00</td>\n",
       "      <td>4.0</td>\n",
       "    </tr>\n",
       "    <tr>\n",
       "      <th>5</th>\n",
       "      <td>Добавить страницу отзывов клиентов о магазине,...</td>\n",
       "      <td>3</td>\n",
       "      <td>2</td>\n",
       "      <td>2</td>\n",
       "      <td>3</td>\n",
       "      <td>1.33</td>\n",
       "      <td>4.0</td>\n",
       "    </tr>\n",
       "    <tr>\n",
       "      <th>4</th>\n",
       "      <td>Изменить цвет фона главной страницы, чтобы уве...</td>\n",
       "      <td>3</td>\n",
       "      <td>1</td>\n",
       "      <td>1</td>\n",
       "      <td>1</td>\n",
       "      <td>1.00</td>\n",
       "      <td>3.0</td>\n",
       "    </tr>\n",
       "  </tbody>\n",
       "</table>\n",
       "</div>"
      ],
      "text/plain": [
       "                                          Hypothesis  Reach  Impact  \\\n",
       "7  Добавить форму подписки на все основные страни...     10       7   \n",
       "2  Добавить блоки рекомендаций товаров на сайт ин...      8       3   \n",
       "0  Добавить два новых канала привлечения трафика,...      3      10   \n",
       "6  Показать на главной странице баннеры с актуаль...      5       3   \n",
       "8  Запустить акцию, дающую скидку на товар в день...      1       9   \n",
       "3  Изменить структура категорий, что увеличит кон...      8       3   \n",
       "1  Запустить собственную службу доставки, что сок...      2       5   \n",
       "5  Добавить страницу отзывов клиентов о магазине,...      3       2   \n",
       "4  Изменить цвет фона главной страницы, чтобы уве...      3       1   \n",
       "\n",
       "   Confidence  Efforts    ICE   RICE  \n",
       "7           8        5  11.20  112.0  \n",
       "2           7        3   7.00   56.0  \n",
       "0           8        6  13.33   40.0  \n",
       "6           8        3   8.00   40.0  \n",
       "8           9        5  16.20   16.2  \n",
       "3           3        8   1.12    9.0  \n",
       "1           4       10   2.00    4.0  \n",
       "5           2        3   1.33    4.0  \n",
       "4           1        1   1.00    3.0  "
      ]
     },
     "execution_count": 6,
     "metadata": {},
     "output_type": "execute_result"
    }
   ],
   "source": [
    "hypotheses.sort_values(by='RICE', ascending=False)"
   ]
  },
  {
   "cell_type": "markdown",
   "metadata": {},
   "source": [
    "`Применение фреймворка RICE меняет приоритет гипотез: самыми перспективными становятся 7,2,0 и 6.`"
   ]
  },
  {
   "cell_type": "markdown",
   "metadata": {},
   "source": [
    "## Анализ А/В-теста"
   ]
  },
  {
   "cell_type": "markdown",
   "metadata": {},
   "source": [
    "`Сохраним датасеты в переменные orders и visitors.`"
   ]
  },
  {
   "cell_type": "code",
   "execution_count": 7,
   "metadata": {},
   "outputs": [],
   "source": [
    "orders = pd.read_csv('/datasets/orders.csv')"
   ]
  },
  {
   "cell_type": "code",
   "execution_count": 8,
   "metadata": {},
   "outputs": [],
   "source": [
    "visitors = pd.read_csv('/datasets/visitors.csv')"
   ]
  },
  {
   "cell_type": "markdown",
   "metadata": {},
   "source": [
    "`Преобразуем тип данных в столбцах date в datetime обоих датасетов.`"
   ]
  },
  {
   "cell_type": "code",
   "execution_count": 9,
   "metadata": {},
   "outputs": [],
   "source": [
    "orders['date'] = orders['date'].map(lambda x: dt.datetime.strptime(x, '%Y-%m-%d'))\n",
    "visitors['date'] = visitors['date'].map(lambda x: dt.datetime.strptime(x, '%Y-%m-%d'))"
   ]
  },
  {
   "cell_type": "markdown",
   "metadata": {},
   "source": [
    "### Кумулятивная выручка по группам"
   ]
  },
  {
   "cell_type": "markdown",
   "metadata": {},
   "source": [
    "`В переменную date_group сохраним массив уникальных пар значений дат и групп теста.`"
   ]
  },
  {
   "cell_type": "code",
   "execution_count": 10,
   "metadata": {},
   "outputs": [],
   "source": [
    "date_group = orders[['date','group']].drop_duplicates()"
   ]
  },
  {
   "cell_type": "markdown",
   "metadata": {},
   "source": [
    "`В переменную orders_cumulative сохраним агрегированные кумулятивные данные о заказах по дням.`"
   ]
  },
  {
   "cell_type": "code",
   "execution_count": 11,
   "metadata": {},
   "outputs": [],
   "source": [
    "orders_cumulative = date_group.apply(lambda x: orders[np.logical_and(orders['date'] <= x['date'],\n",
    "                                                                     orders['group'] == x['group'])]\n",
    "                                     .agg({'date':'max',\n",
    "                                           'group':'max',\n",
    "                                           'transactionId':'nunique',\n",
    "                                           'visitorId':'nunique',\n",
    "                                           'revenue':'sum'}), axis=1).sort_values(by=['date'])"
   ]
  },
  {
   "cell_type": "markdown",
   "metadata": {},
   "source": [
    "`Сохраним в переменные срезы, хранящие данные о дате и выручке по группе А и В.`"
   ]
  },
  {
   "cell_type": "code",
   "execution_count": 12,
   "metadata": {},
   "outputs": [],
   "source": [
    "orders_cumulative_revenue_a = orders_cumulative[orders_cumulative['group']=='A'][['date','revenue','transactionId']]"
   ]
  },
  {
   "cell_type": "code",
   "execution_count": 13,
   "metadata": {},
   "outputs": [],
   "source": [
    "orders_cumulative_revenue_b = orders_cumulative[orders_cumulative['group']=='B'][['date','revenue','transactionId']]"
   ]
  },
  {
   "cell_type": "markdown",
   "metadata": {},
   "source": [
    "`Построим график кумулятивной выручки по группам.`"
   ]
  },
  {
   "cell_type": "code",
   "execution_count": 14,
   "metadata": {},
   "outputs": [
    {
     "data": {
      "image/png": "[encoded data removed]",
      "text/plain": [
       "<Figure size 864x360 with 1 Axes>"
      ]
     },
     "metadata": {
      "needs_background": "light"
     },
     "output_type": "display_data"
    }
   ],
   "source": [
    "plt.figure(figsize=(12,5))\n",
    "plt.plot(orders_cumulative_revenue_a['date'],orders_cumulative_revenue_a['revenue'], label='A')\n",
    "plt.plot(orders_cumulative_revenue_b['date'],orders_cumulative_revenue_b['revenue'], label='B')\n",
    "plt.legend()\n",
    "plt.title('График кумулятивной выручки по группам')\n",
    "plt.grid(True)\n",
    "plt.xlabel('Даты проведения теста')\n",
    "plt.ylabel('Кумулятивная выручка')\n",
    "plt.show()"
   ]
  },
  {
   "cell_type": "markdown",
   "metadata": {},
   "source": [
    "`Выручка в обеих группах равномерно увеличивается. В группе В есть резкие скачки, что может говорить о наличии выбросов. `"
   ]
  },
  {
   "cell_type": "markdown",
   "metadata": {},
   "source": [
    "### Кумулятивный средний чек по группам"
   ]
  },
  {
   "cell_type": "markdown",
   "metadata": {},
   "source": [
    "`Построим график кумулятивного среднего чека по группам.`"
   ]
  },
  {
   "cell_type": "code",
   "execution_count": 15,
   "metadata": {},
   "outputs": [
    {
     "data": {
      "image/png": "[encoded data removed]",
      "text/plain": [
       "<Figure size 864x360 with 1 Axes>"
      ]
     },
     "metadata": {
      "needs_background": "light"
     },
     "output_type": "display_data"
    }
   ],
   "source": [
    "plt.figure(figsize=(12,5))\n",
    "plt.plot(orders_cumulative_revenue_a['date'],orders_cumulative_revenue_a['revenue']/orders_cumulative_revenue_a['transactionId'], label='A')\n",
    "plt.plot(orders_cumulative_revenue_b['date'],orders_cumulative_revenue_b['revenue']/orders_cumulative_revenue_b['transactionId'], label='B')\n",
    "plt.legend()\n",
    "plt.title('График кумулятивного среднего чека по группам')\n",
    "plt.grid(True)\n",
    "plt.ylabel('Сумма среднего чека')\n",
    "plt.xlabel('Даты проведения теста')\n",
    "plt.show()"
   ]
  },
  {
   "cell_type": "markdown",
   "metadata": {},
   "source": [
    "`К середине теста средний чек группы А начал устанавливаться. В группе В на середине теста произошел резкий скачок, что может говорить об аномалиях в данных.`"
   ]
  },
  {
   "cell_type": "markdown",
   "metadata": {},
   "source": [
    "### Относительное изменение кумулятивного среднего чека группы B к группе A"
   ]
  },
  {
   "cell_type": "markdown",
   "metadata": {},
   "source": [
    "`Объединим данные о выручке по группам в один датасет и сохраним все в переменную merge_cum_revenue_ab.`"
   ]
  },
  {
   "cell_type": "code",
   "execution_count": 16,
   "metadata": {},
   "outputs": [],
   "source": [
    "merge_cam_revenue_ab = orders_cumulative_revenue_a.merge(orders_cumulative_revenue_b,\n",
    "                                                         how='left',\n",
    "                                                         left_on='date',\n",
    "                                                         right_on='date',\n",
    "                                                         suffixes=['A', 'B'])"
   ]
  },
  {
   "cell_type": "markdown",
   "metadata": {},
   "source": [
    "`Строим график.`"
   ]
  },
  {
   "cell_type": "code",
   "execution_count": 17,
   "metadata": {},
   "outputs": [
    {
     "data": {
      "image/png": "[encoded data removed]",
      "text/plain": [
       "<Figure size 864x360 with 1 Axes>"
      ]
     },
     "metadata": {
      "needs_background": "light"
     },
     "output_type": "display_data"
    }
   ],
   "source": [
    "plt.figure(figsize=(12,5))\n",
    "plt.plot(merge_cam_revenue_ab['date'],(merge_cam_revenue_ab['revenueB']/merge_cam_revenue_ab['transactionIdB']) / (merge_cam_revenue_ab['revenueA']/merge_cam_revenue_ab['transactionIdA']-1))\n",
    "plt.title('Отношение кумулятивного среднего чека группы B к группе A')\n",
    "plt.axhline(y=0.8, color='black', linestyle='--')\n",
    "plt.grid(True)\n",
    "plt.xlabel('Даты проведения теста')\n",
    "plt.show()"
   ]
  },
  {
   "cell_type": "markdown",
   "metadata": {},
   "source": [
    "`На графике видны резкие скачки, что может говорить об аномалиях в данных.`"
   ]
  },
  {
   "cell_type": "markdown",
   "metadata": {},
   "source": [
    "### Кумулятивная конверсия по группам"
   ]
  },
  {
   "cell_type": "markdown",
   "metadata": {},
   "source": [
    "`В переменную visits_cumulative сохраним данные о кумулятивных посещениях интернет-магазина.`"
   ]
  },
  {
   "cell_type": "code",
   "execution_count": 18,
   "metadata": {},
   "outputs": [],
   "source": [
    "visits_cumulative = date_group.apply(lambda x: visitors[np.logical_and(visitors['date'] <= x['date'],\n",
    "                                                                       visitors['group'] ==x['group'])]\n",
    "                                     .agg({'date':'max',\n",
    "                                           'group':'max',\n",
    "                                           'visitors':'nunique'}),axis=1).sort_values(by='date')"
   ]
  },
  {
   "cell_type": "markdown",
   "metadata": {},
   "source": [
    "`Для рассчета конверсии объединим visits_cumulative и orders_cumulative.`"
   ]
  },
  {
   "cell_type": "code",
   "execution_count": 19,
   "metadata": {},
   "outputs": [],
   "source": [
    "cumulative = visits_cumulative.merge(orders_cumulative, how='left')"
   ]
  },
  {
   "cell_type": "code",
   "execution_count": 20,
   "metadata": {},
   "outputs": [],
   "source": [
    "cumulative.columns = ['date', 'group', 'visitors', 'orders', 'buyers', 'revenue']"
   ]
  },
  {
   "cell_type": "markdown",
   "metadata": {},
   "source": [
    "`Считаем конверсию.`"
   ]
  },
  {
   "cell_type": "code",
   "execution_count": 21,
   "metadata": {},
   "outputs": [],
   "source": [
    "cumulative['conversion'] = cumulative['orders'] / cumulative['visitors']"
   ]
  },
  {
   "cell_type": "markdown",
   "metadata": {},
   "source": [
    "`Отделим данные по группам А и В.`"
   ]
  },
  {
   "cell_type": "code",
   "execution_count": 22,
   "metadata": {},
   "outputs": [],
   "source": [
    "cumulative_a = cumulative[cumulative['group']=='A']"
   ]
  },
  {
   "cell_type": "code",
   "execution_count": 23,
   "metadata": {},
   "outputs": [],
   "source": [
    "cumulative_b = cumulative[cumulative['group']=='B']"
   ]
  },
  {
   "cell_type": "markdown",
   "metadata": {},
   "source": [
    "`Строим график кумулятивной конверсии по группам.`"
   ]
  },
  {
   "cell_type": "code",
   "execution_count": 24,
   "metadata": {},
   "outputs": [
    {
     "data": {
      "image/png": "[encoded data removed]",
      "text/plain": [
       "<Figure size 864x360 with 1 Axes>"
      ]
     },
     "metadata": {
      "needs_background": "light"
     },
     "output_type": "display_data"
    }
   ],
   "source": [
    "plt.figure(figsize=(12,5))\n",
    "plt.plot(cumulative_a['date'], cumulative_a['conversion'], label='A')\n",
    "plt.plot(cumulative_b['date'], cumulative_b['conversion'], label='B')\n",
    "plt.legend()\n",
    "plt.title('График кумулятивной конверсии')\n",
    "plt.grid(True)\n",
    "plt.ylabel('Кумулятивная конверсия')\n",
    "plt.xlabel('Даты проведения теста')\n",
    "plt.show()"
   ]
  },
  {
   "cell_type": "markdown",
   "metadata": {},
   "source": [
    "`На графике видны скачки как в начале проведения теста, так и спустя некоторое время. Конверсия группы В уменьшается, а у группы А наблюдатеся рост.`"
   ]
  },
  {
   "cell_type": "markdown",
   "metadata": {},
   "source": [
    "### Относительное изменение кумулятивной конверсии группы B к группе A"
   ]
  },
  {
   "cell_type": "markdown",
   "metadata": {},
   "source": [
    "`Объединим данные по группам и построим график.`"
   ]
  },
  {
   "cell_type": "code",
   "execution_count": 25,
   "metadata": {},
   "outputs": [],
   "source": [
    "merge_conversion_ab = cumulative_a[['date', 'conversion']].merge(cumulative_b[['date', 'conversion']],\n",
    "                                                                 how='left',\n",
    "                                                                 left_on ='date', \n",
    "                                                                 right_on='date',\n",
    "                                                                suffixes=['A', 'B'])"
   ]
  },
  {
   "cell_type": "code",
   "execution_count": 26,
   "metadata": {},
   "outputs": [
    {
     "data": {
      "image/png": "[encoded data removed]",
      "text/plain": [
       "<Figure size 864x360 with 1 Axes>"
      ]
     },
     "metadata": {
      "needs_background": "light"
     },
     "output_type": "display_data"
    }
   ],
   "source": [
    "plt.figure(figsize=(12,5))\n",
    "plt.plot(merge_conversion_ab['date'], \n",
    "         merge_conversion_ab['conversionB']/merge_conversion_ab['conversionA']-1)\n",
    "plt.title('Отношение кумулятивной конверсии группы В к группе А')\n",
    "plt.grid(True)\n",
    "plt.xlabel('Даты проведения теста')\n",
    "plt.axhline(y=0, color='black', linestyle='--')\n",
    "plt.show()"
   ]
  },
  {
   "cell_type": "markdown",
   "metadata": {},
   "source": [
    "`Виден резкий рост конверсии в начале проведения теста и ее последующий рост в дальнейшем.`"
   ]
  },
  {
   "cell_type": "markdown",
   "metadata": {},
   "source": [
    "### Анализ выбросов"
   ]
  },
  {
   "cell_type": "markdown",
   "metadata": {},
   "source": [
    "#### Количество заказов по пользователям"
   ]
  },
  {
   "cell_type": "markdown",
   "metadata": {},
   "source": [
    "`Подсчитаем количество уникальных заказов по пользователям и сохраним эти данные в переменную orders_by_users.`"
   ]
  },
  {
   "cell_type": "code",
   "execution_count": 27,
   "metadata": {},
   "outputs": [],
   "source": [
    "orders_by_users = orders.groupby('visitorId', as_index=False).agg({'transactionId':'nunique'})"
   ]
  },
  {
   "cell_type": "code",
   "execution_count": 28,
   "metadata": {},
   "outputs": [],
   "source": [
    "x = pd.Series(range(0,len(orders_by_users))) #список с количеством пользователей для построения диаграммы"
   ]
  },
  {
   "cell_type": "markdown",
   "metadata": {},
   "source": [
    "`Построим точечную диаграмму числа заказов на одного пользователя.`"
   ]
  },
  {
   "cell_type": "code",
   "execution_count": 29,
   "metadata": {},
   "outputs": [
    {
     "data": {
      "image/png": "[encoded data removed]",
      "text/plain": [
       "<Figure size 720x360 with 1 Axes>"
      ]
     },
     "metadata": {
      "needs_background": "light"
     },
     "output_type": "display_data"
    }
   ],
   "source": [
    "plt.figure(figsize=(10,5))\n",
    "plt.scatter(x, orders_by_users['transactionId'])\n",
    "plt.title('Точечная диаграмма кол-ва заказов на одного пользователя')\n",
    "plt.xlabel('Пользователи')\n",
    "plt.ylabel('Количество заказов')\n",
    "plt.show()"
   ]
  },
  {
   "cell_type": "markdown",
   "metadata": {},
   "source": [
    "`Основная масса заказов приходится на 1-2, также много пользователей, совершивших 3 заказа. Есть пользователи, совершившие больше 6 заказов.`\n",
    "\n",
    "`Посчитаем 95 и 99 перцентили для количества заказов на одного пользователя.`"
   ]
  },
  {
   "cell_type": "code",
   "execution_count": 30,
   "metadata": {},
   "outputs": [
    {
     "data": {
      "text/plain": [
       "array([2., 4.])"
      ]
     },
     "execution_count": 30,
     "metadata": {},
     "output_type": "execute_result"
    }
   ],
   "source": [
    "np.percentile(orders_by_users['transactionId'], [95,99])"
   ]
  },
  {
   "cell_type": "markdown",
   "metadata": {},
   "source": [
    "`Из рассчетов выше следует, что не более 5% пользователей совершили более 2-х заказов и не более 1% пользователей совершили более 4-х заказов. Будем считать, что аномальными являются те пользователи, которые совершили более 3-х заказов.`"
   ]
  },
  {
   "cell_type": "markdown",
   "metadata": {},
   "source": [
    "#### Стоимость заказов"
   ]
  },
  {
   "cell_type": "code",
   "execution_count": 31,
   "metadata": {},
   "outputs": [],
   "source": [
    "y = pd.Series(range(0,len(orders['revenue']))) #список кол-ва заказов для построения точечной диаграммы"
   ]
  },
  {
   "cell_type": "markdown",
   "metadata": {},
   "source": [
    "`Построим диаграмму стоимости заказов.`"
   ]
  },
  {
   "cell_type": "code",
   "execution_count": 32,
   "metadata": {},
   "outputs": [
    {
     "data": {
      "text/plain": [
       "2978.0"
      ]
     },
     "execution_count": 32,
     "metadata": {},
     "output_type": "execute_result"
    }
   ],
   "source": [
    "orders['revenue'].median()"
   ]
  },
  {
   "cell_type": "code",
   "execution_count": 33,
   "metadata": {},
   "outputs": [
    {
     "data": {
      "image/png": "[encoded data removed]",
      "text/plain": [
       "<Figure size 720x360 with 1 Axes>"
      ]
     },
     "metadata": {
      "needs_background": "light"
     },
     "output_type": "display_data"
    }
   ],
   "source": [
    "plt.figure(figsize=(10,5))\n",
    "plt.scatter(y, orders['revenue'])\n",
    "plt.title('Точечная диаграмма стоимости заказов')\n",
    "plt.ticklabel_format(style='plain')\n",
    "plt.xlabel('Количество заказов')\n",
    "plt.ylabel('Выручка')\n",
    "plt.ylim([0,200000])\n",
    "plt.show()"
   ]
  },
  {
   "cell_type": "markdown",
   "metadata": {},
   "source": [
    "`Диаграмма показывает, что основная масса заказов приходится на сумму до 25 тысяч. Есть несколько выбивающихся заказов.`\n",
    "\n",
    "`Для точного выявления аномалий определим 95-й и 99-й перцентили стоимости заказов.`"
   ]
  },
  {
   "cell_type": "code",
   "execution_count": 34,
   "metadata": {},
   "outputs": [
    {
     "data": {
      "text/plain": [
       "array([28000. , 58233.2])"
      ]
     },
     "execution_count": 34,
     "metadata": {},
     "output_type": "execute_result"
    }
   ],
   "source": [
    "np.percentile(orders['revenue'], [95,99])"
   ]
  },
  {
   "cell_type": "markdown",
   "metadata": {},
   "source": [
    "`Не более 5% заказов дороже 28000 рублей и не более 1% заказов дороже 58233 рублей. Будем считать, что заказы на сумму более 28000 рублей являются аномальными.`"
   ]
  },
  {
   "cell_type": "markdown",
   "metadata": {},
   "source": [
    "### Расчет статистической значимости"
   ]
  },
  {
   "cell_type": "markdown",
   "metadata": {},
   "source": [
    "#### Статистическая значимость различий конверсии между группами"
   ]
  },
  {
   "cell_type": "markdown",
   "metadata": {},
   "source": [
    "`В переменные orders_group_a и orders_group_b сохраним данные по совершенным заказам для группы А и В. Проверим, есть ли пользователи, которые находятся в группе А и В одновременно. Если такие пользователи существуют, то удалим их.`"
   ]
  },
  {
   "cell_type": "code",
   "execution_count": 35,
   "metadata": {},
   "outputs": [],
   "source": [
    "orders_group_a = orders[orders['group']=='A'].groupby('visitorId', as_index=False).agg({'transactionId':'nunique'})"
   ]
  },
  {
   "cell_type": "code",
   "execution_count": 36,
   "metadata": {},
   "outputs": [],
   "source": [
    "orders_group_b = orders[orders['group']=='B'].groupby('visitorId', as_index=False).agg({'transactionId':'nunique'})"
   ]
  },
  {
   "cell_type": "code",
   "execution_count": 37,
   "metadata": {},
   "outputs": [],
   "source": [
    "a = set(orders_group_a['visitorId']) #создаем множество"
   ]
  },
  {
   "cell_type": "code",
   "execution_count": 38,
   "metadata": {},
   "outputs": [],
   "source": [
    "b = set(orders_group_b['visitorId']) #создаем множество"
   ]
  },
  {
   "cell_type": "code",
   "execution_count": 39,
   "metadata": {},
   "outputs": [],
   "source": [
    "c = list(a & b) #находим пересечения множества а и множества b"
   ]
  },
  {
   "cell_type": "code",
   "execution_count": 40,
   "metadata": {},
   "outputs": [],
   "source": [
    "orders_group_a = orders_group_a[np.logical_not(orders_group_a['visitorId'].isin(c))] \n",
    "#пересохраняем в переменную данные без пересекающихся пользователей"
   ]
  },
  {
   "cell_type": "code",
   "execution_count": 41,
   "metadata": {},
   "outputs": [],
   "source": [
    "orders_group_b = orders_group_b[np.logical_not(orders_group_b['visitorId'].isin(c))] \n",
    "#пересохраняем в переменную данные без пересекающихся пользователей"
   ]
  },
  {
   "cell_type": "markdown",
   "metadata": {},
   "source": [
    "`Подготовим выборки к проверке критерием Манна-Уитни. Для этого в переменне sample_a и sample_b сохраним список со значениями заказов. Пользователи, не совершившие заказов будут обозначаться 0.`"
   ]
  },
  {
   "cell_type": "code",
   "execution_count": 42,
   "metadata": {},
   "outputs": [],
   "source": [
    "sample_a = pd.concat([orders_group_a['transactionId'], pd.Series(0, index=np.arange((visitors[visitors['group']=='A']['visitors']).sum() - len(orders_group_a['transactionId'])))], axis=0)"
   ]
  },
  {
   "cell_type": "code",
   "execution_count": 43,
   "metadata": {},
   "outputs": [],
   "source": [
    "sample_b = pd.concat([orders_group_b['transactionId'], pd.Series(0, index=np.arange((visitors[visitors['group']=='B']['visitors']).sum() - len(orders_group_b['transactionId'])))], axis=0)"
   ]
  },
  {
   "cell_type": "markdown",
   "metadata": {},
   "source": [
    "`Применим критерий и отформатируем p-value, округлив его до трёх знаков после запятой. Также сформулируем нулевую и альтернативную гипотезы:`\n",
    "\n",
    "`Нулевая гипотеза: различий в конверсии между группами нет. Альтернативная: различия в конверсии между группами есть.`"
   ]
  },
  {
   "cell_type": "code",
   "execution_count": 44,
   "metadata": {},
   "outputs": [
    {
     "data": {
      "text/plain": [
       "'0.011'"
      ]
     },
     "execution_count": 44,
     "metadata": {},
     "output_type": "execute_result"
    }
   ],
   "source": [
    "\"{0:.3f}\".format(stats.mannwhitneyu(sample_a,sample_b)[1])"
   ]
  },
  {
   "cell_type": "markdown",
   "metadata": {},
   "source": [
    "`p-value меньше 0,05, значит нулевую гипотезу можно отвергнуть и принять альтернативную, которая утверждает, что существуют различия в конверсии между группами.`\n",
    "\n",
    "`Посмотрим на относительный прирост конверсии группы В.`"
   ]
  },
  {
   "cell_type": "code",
   "execution_count": 45,
   "metadata": {},
   "outputs": [
    {
     "data": {
      "text/plain": [
       "'0.160'"
      ]
     },
     "execution_count": 45,
     "metadata": {},
     "output_type": "execute_result"
    }
   ],
   "source": [
    "'{0:.3f}'.format(sample_b.mean() / sample_a.mean()-1)"
   ]
  },
  {
   "cell_type": "markdown",
   "metadata": {},
   "source": [
    "`Прирост конверсии группы В составляет 16%.`"
   ]
  },
  {
   "cell_type": "markdown",
   "metadata": {},
   "source": [
    "#### Cтатистическая значимость различий в среднем чеке заказа между группами"
   ]
  },
  {
   "cell_type": "markdown",
   "metadata": {},
   "source": [
    "`Применим критерий и отформатируем p-value, округлив его до трёх знаков после запятой. Также сформулируем нулевую и альтернативную гипотезы:`\n",
    "\n",
    "`Нулевая гипотеза: различий в среднем чеке между группами нет. Альтернативная: различия в среднем чеке между группами есть.`"
   ]
  },
  {
   "cell_type": "code",
   "execution_count": 46,
   "metadata": {},
   "outputs": [
    {
     "data": {
      "text/plain": [
       "'0.729'"
      ]
     },
     "execution_count": 46,
     "metadata": {},
     "output_type": "execute_result"
    }
   ],
   "source": [
    "'{0:.3f}'.format(stats.mannwhitneyu(orders[orders['group']=='A']['revenue'], orders[orders['group']=='B']['revenue'])[1])"
   ]
  },
  {
   "cell_type": "markdown",
   "metadata": {},
   "source": [
    "`p-value значительно больше 0,05, значит нет причин отвергнуть нулевую гипотезу об отсутствии различий в среднем чеке.`\n",
    "\n",
    "`Посмотрим на относительные различия в среднем чеке между группами.`"
   ]
  },
  {
   "cell_type": "code",
   "execution_count": 47,
   "metadata": {},
   "outputs": [
    {
     "data": {
      "text/plain": [
       "'0.259'"
      ]
     },
     "execution_count": 47,
     "metadata": {},
     "output_type": "execute_result"
    }
   ],
   "source": [
    "'{0:.3f}'.format(orders[orders['group']=='B']['revenue'].mean() / orders[orders['group']=='A']['revenue'].mean()-1)"
   ]
  },
  {
   "cell_type": "markdown",
   "metadata": {},
   "source": [
    "`Прирост среднего чека группы В составляет 25,9%.`"
   ]
  },
  {
   "cell_type": "markdown",
   "metadata": {},
   "source": [
    "### Расчет статистической значимости по данным без аномальных значений"
   ]
  },
  {
   "cell_type": "markdown",
   "metadata": {},
   "source": [
    "`Аномальными являются те пользователи, которые совершили более 3-х заказов, а также заказы на сумму более 28000 рублей. Удалим аномальные значения и посмотрим, повлияет ли это на результаты расчета статистической значимости.` \n",
    "\n",
    "`В переменные orders_clean и revenue_clean сохраним данные без аномалий.`"
   ]
  },
  {
   "cell_type": "code",
   "execution_count": 48,
   "metadata": {},
   "outputs": [],
   "source": [
    "orders_clean = pd.concat([orders_group_a[orders_group_a['transactionId'] > 3]['visitorId'],orders_group_b[orders_group_b['transactionId'] > 3]['visitorId']], axis=0)"
   ]
  },
  {
   "cell_type": "code",
   "execution_count": 49,
   "metadata": {},
   "outputs": [],
   "source": [
    "revenue_clean = orders[orders['revenue'] >28000]['visitorId']"
   ]
  },
  {
   "cell_type": "code",
   "execution_count": 50,
   "metadata": {},
   "outputs": [],
   "source": [
    "orders_revenue_clean = pd.concat([orders_clean,revenue_clean],axis=0).drop_duplicates()"
   ]
  },
  {
   "cell_type": "markdown",
   "metadata": {},
   "source": [
    "`В переменные orders_clean_a и orders_clean_b сохраним выборки с количеством заказов без аномалий.`"
   ]
  },
  {
   "cell_type": "code",
   "execution_count": 51,
   "metadata": {},
   "outputs": [],
   "source": [
    "orders_clean_a = pd.concat([orders_group_a[np.logical_not(orders_group_a['visitorId'].isin(orders_clean))]['transactionId'],\n",
    "           pd.Series(0, index= np.arange((visitors[visitors['group']=='A']['visitors']).sum() - len(orders_group_a['transactionId'])))], axis=0)"
   ]
  },
  {
   "cell_type": "code",
   "execution_count": 52,
   "metadata": {},
   "outputs": [],
   "source": [
    "orders_clean_b = pd.concat([orders_group_b[np.logical_not(orders_group_b['visitorId'].isin(orders_clean))]['transactionId'],\n",
    "           pd.Series(0, index= np.arange((visitors[visitors['group']=='B']['visitors']).sum() - len(orders_group_b['transactionId'])))], axis=0)"
   ]
  },
  {
   "cell_type": "markdown",
   "metadata": {},
   "source": [
    "#### Статистическая значимость различий в конверсии между группами"
   ]
  },
  {
   "cell_type": "markdown",
   "metadata": {},
   "source": [
    "`Применим критерий Манна-Уитни к полученным выборкам и отформатируем p-value, округлив его до трёх знаков после запятой. Также сформулируем нулевую и альтернативную гипотезы:`\n",
    "\n",
    "`Нулевая гипотеза: различий в конверсии между группами нет. Альтернативная: различия в конверсии между группами есть.`"
   ]
  },
  {
   "cell_type": "code",
   "execution_count": 53,
   "metadata": {},
   "outputs": [
    {
     "data": {
      "text/plain": [
       "'0.011'"
      ]
     },
     "execution_count": 53,
     "metadata": {},
     "output_type": "execute_result"
    }
   ],
   "source": [
    "'{0:.3f}'.format(stats.mannwhitneyu(orders_clean_a, orders_clean_b)[1])"
   ]
  },
  {
   "cell_type": "markdown",
   "metadata": {},
   "source": [
    "`Результаты по конверсии не изменились без аномальных значений в выборке. p-value меньше 0,05. Это означает, что нулевую гипотезу об отсутствии различий в конверсии можно отвергнуть и принять альтернативную.`"
   ]
  },
  {
   "cell_type": "markdown",
   "metadata": {},
   "source": [
    "`Посмотрим на относительный прирост конверсии группы В.`"
   ]
  },
  {
   "cell_type": "code",
   "execution_count": 54,
   "metadata": {},
   "outputs": [
    {
     "data": {
      "text/plain": [
       "'0.160'"
      ]
     },
     "execution_count": 54,
     "metadata": {},
     "output_type": "execute_result"
    }
   ],
   "source": [
    "'{0:.3f}'.format(orders_clean_b.mean() / orders_clean_a.mean()-1)"
   ]
  },
  {
   "cell_type": "markdown",
   "metadata": {},
   "source": [
    "`Прирост конверсии группы В не изменился: все те же 16%.`"
   ]
  },
  {
   "cell_type": "markdown",
   "metadata": {},
   "source": [
    "#### Cтатистическая значимость различий в среднем чеке заказа между группами"
   ]
  },
  {
   "cell_type": "markdown",
   "metadata": {},
   "source": [
    "`Применим критерий и отформатируем p-value, округлив его до трёх знаков после запятой. Также сформулируем нулевую и альтернативную гипотезы:`\n",
    "\n",
    "`Нулевая гипотеза: различий в среднем чеке между группами нет. Альтернативная: различия в среднем чеке между группами есть.`"
   ]
  },
  {
   "cell_type": "code",
   "execution_count": 55,
   "metadata": {},
   "outputs": [
    {
     "data": {
      "text/plain": [
       "'0.729'"
      ]
     },
     "execution_count": 55,
     "metadata": {},
     "output_type": "execute_result"
    }
   ],
   "source": [
    "'{0:.3f}'.format(stats.mannwhitneyu(orders[np.logical_and(orders['group']=='A', \n",
    "                                                          np.logical_not(orders['visitorId'].isin(orders_clean)))]['revenue'],\n",
    "                                    orders[np.logical_and(orders['group']=='B',\n",
    "                                                          np.logical_not(orders['visitorId'].isin(orders_clean)))]['revenue'])[1])"
   ]
  },
  {
   "cell_type": "markdown",
   "metadata": {},
   "source": [
    "`p-value значительно больше 0,05, значит нет причин отвергнуть нулевую гипотезу об отсутствии различий в среднем чеке.`\n",
    "\n",
    "`Посмотрим на относительный прирост среднего чека группы B.`"
   ]
  },
  {
   "cell_type": "code",
   "execution_count": 56,
   "metadata": {},
   "outputs": [
    {
     "data": {
      "text/plain": [
       "'0.259'"
      ]
     },
     "execution_count": 56,
     "metadata": {},
     "output_type": "execute_result"
    }
   ],
   "source": [
    "'{0:.3f}'.format(orders[np.logical_and(orders['group']=='B',\n",
    "                                       np.logical_not(orders['visitorId'].isin(orders_clean)))]['revenue'].mean()\n",
    "                 / orders[np.logical_and(orders['group']=='A',\n",
    "                                         np.logical_not(orders['visitorId'].isin(orders_clean)))]['revenue'].mean()-1)"
   ]
  },
  {
   "cell_type": "markdown",
   "metadata": {},
   "source": [
    "`Прирост среднего чека группы В тоже не изменился: 25,9 % .`"
   ]
  },
  {
   "cell_type": "markdown",
   "metadata": {},
   "source": [
    "### Результаты теста"
   ]
  },
  {
   "cell_type": "markdown",
   "metadata": {},
   "source": [
    "1. Расчет статистической значимости показал, что разница между конверсиями есть.\n",
    "2. Нет статистически значимого различия в среднем чеке.\n",
    "3. Результаты проверки данных с аномальными значениями никак не отличаются от результатов проверки данных, очищенных от аномалий.\n",
    "4. Наблюдается прирост среднего чека группы В.\n",
    "5. Наблюдается относительный прирост конверсии группы В.\n",
    "6. График отношения кумулятивной конверсии имеет много скачков, но при этом показывает рост конверсии группы В.\n",
    "7. По графику отношения кумулятивного среднего чека нельзя сделать однозначных выводов, т.к. на нем наблюдаются скачки за все время проведения теста.\n",
    "\n",
    "`Исходя из пунктов выше, можно остановить тест, признать его успешным и сделать вывод, что группа В лучше группы А.`"
   ]
  }
 ],
 "metadata": {
  "ExecuteTimeLog": [
   {
    "duration": 443,
    "start_time": "2022-06-11T21:51:42.533Z"
   },
   {
    "duration": 29,
    "start_time": "2022-06-11T21:52:56.260Z"
   },
   {
    "duration": 54,
    "start_time": "2022-06-11T21:53:15.612Z"
   },
   {
    "duration": 13,
    "start_time": "2022-06-11T21:53:22.878Z"
   },
   {
    "duration": 25,
    "start_time": "2022-06-11T21:55:00.301Z"
   },
   {
    "duration": 7,
    "start_time": "2022-06-11T21:55:02.449Z"
   },
   {
    "duration": 24,
    "start_time": "2022-06-11T21:55:08.354Z"
   },
   {
    "duration": 10,
    "start_time": "2022-06-11T21:55:10.504Z"
   },
   {
    "duration": 7,
    "start_time": "2022-06-11T21:58:09.324Z"
   },
   {
    "duration": 16,
    "start_time": "2022-06-11T22:00:17.825Z"
   },
   {
    "duration": 3,
    "start_time": "2022-06-11T22:00:34.667Z"
   },
   {
    "duration": 6,
    "start_time": "2022-06-11T22:00:40.774Z"
   },
   {
    "duration": 5,
    "start_time": "2022-06-11T22:01:54.732Z"
   },
   {
    "duration": 6,
    "start_time": "2022-06-11T22:01:56.789Z"
   },
   {
    "duration": 11,
    "start_time": "2022-06-11T22:02:01.395Z"
   },
   {
    "duration": 3,
    "start_time": "2022-06-11T22:03:16.179Z"
   },
   {
    "duration": 10,
    "start_time": "2022-06-11T22:03:18.411Z"
   },
   {
    "duration": 10,
    "start_time": "2022-06-11T22:03:41.608Z"
   },
   {
    "duration": 9,
    "start_time": "2022-06-11T22:03:56.867Z"
   },
   {
    "duration": 438,
    "start_time": "2022-06-11T22:04:34.884Z"
   },
   {
    "duration": 10,
    "start_time": "2022-06-11T22:04:43.544Z"
   },
   {
    "duration": 10,
    "start_time": "2022-06-11T22:06:03.860Z"
   },
   {
    "duration": 5,
    "start_time": "2022-06-11T22:10:03.959Z"
   },
   {
    "duration": 10,
    "start_time": "2022-06-11T22:10:34.558Z"
   },
   {
    "duration": 11,
    "start_time": "2022-06-11T22:11:52.704Z"
   },
   {
    "duration": 10,
    "start_time": "2022-06-11T22:14:02.476Z"
   },
   {
    "duration": 83,
    "start_time": "2022-06-11T22:22:20.969Z"
   },
   {
    "duration": 60,
    "start_time": "2022-06-11T22:22:47.458Z"
   },
   {
    "duration": 17,
    "start_time": "2022-06-11T22:22:53.556Z"
   },
   {
    "duration": 9,
    "start_time": "2022-06-11T22:23:08.666Z"
   },
   {
    "duration": 12,
    "start_time": "2022-06-11T22:23:26.420Z"
   },
   {
    "duration": 382,
    "start_time": "2022-06-12T16:10:48.077Z"
   },
   {
    "duration": 73,
    "start_time": "2022-06-12T16:10:48.461Z"
   },
   {
    "duration": 6,
    "start_time": "2022-06-12T16:10:48.536Z"
   },
   {
    "duration": 14,
    "start_time": "2022-06-12T16:10:48.543Z"
   },
   {
    "duration": 4,
    "start_time": "2022-06-12T16:10:48.559Z"
   },
   {
    "duration": 13,
    "start_time": "2022-06-12T16:10:48.564Z"
   },
   {
    "duration": 75,
    "start_time": "2022-06-12T16:10:48.579Z"
   },
   {
    "duration": 58,
    "start_time": "2022-06-12T16:10:48.655Z"
   },
   {
    "duration": 404,
    "start_time": "2022-06-12T16:27:41.967Z"
   },
   {
    "duration": 29,
    "start_time": "2022-06-12T16:27:42.373Z"
   },
   {
    "duration": 6,
    "start_time": "2022-06-12T16:27:42.404Z"
   },
   {
    "duration": 16,
    "start_time": "2022-06-12T16:27:42.411Z"
   },
   {
    "duration": 4,
    "start_time": "2022-06-12T16:27:42.428Z"
   },
   {
    "duration": 11,
    "start_time": "2022-06-12T16:27:42.434Z"
   },
   {
    "duration": 42,
    "start_time": "2022-06-12T16:27:42.446Z"
   },
   {
    "duration": 16,
    "start_time": "2022-06-12T16:27:42.489Z"
   },
   {
    "duration": 11,
    "start_time": "2022-06-12T16:27:47.235Z"
   },
   {
    "duration": 9,
    "start_time": "2022-06-12T16:28:22.311Z"
   },
   {
    "duration": 10,
    "start_time": "2022-06-12T16:28:31.540Z"
   },
   {
    "duration": 3,
    "start_time": "2022-06-12T16:33:42.230Z"
   },
   {
    "duration": 363,
    "start_time": "2022-06-12T16:33:50.897Z"
   },
   {
    "duration": 28,
    "start_time": "2022-06-12T16:33:51.262Z"
   },
   {
    "duration": 6,
    "start_time": "2022-06-12T16:33:51.291Z"
   },
   {
    "duration": 16,
    "start_time": "2022-06-12T16:33:51.298Z"
   },
   {
    "duration": 5,
    "start_time": "2022-06-12T16:33:51.316Z"
   },
   {
    "duration": 18,
    "start_time": "2022-06-12T16:33:51.322Z"
   },
   {
    "duration": 47,
    "start_time": "2022-06-12T16:33:51.342Z"
   },
   {
    "duration": 16,
    "start_time": "2022-06-12T16:33:51.390Z"
   },
   {
    "duration": 5,
    "start_time": "2022-06-12T16:33:51.407Z"
   },
   {
    "duration": 59,
    "start_time": "2022-06-12T16:34:59.149Z"
   },
   {
    "duration": 8,
    "start_time": "2022-06-12T16:35:13.522Z"
   },
   {
    "duration": 7,
    "start_time": "2022-06-12T16:35:17.465Z"
   },
   {
    "duration": 12,
    "start_time": "2022-06-12T16:35:38.225Z"
   },
   {
    "duration": 8,
    "start_time": "2022-06-12T16:36:37.297Z"
   },
   {
    "duration": 340,
    "start_time": "2022-06-12T16:37:05.834Z"
   },
   {
    "duration": 29,
    "start_time": "2022-06-12T16:37:06.176Z"
   },
   {
    "duration": 6,
    "start_time": "2022-06-12T16:37:06.206Z"
   },
   {
    "duration": 14,
    "start_time": "2022-06-12T16:37:06.214Z"
   },
   {
    "duration": 4,
    "start_time": "2022-06-12T16:37:06.229Z"
   },
   {
    "duration": 11,
    "start_time": "2022-06-12T16:37:06.234Z"
   },
   {
    "duration": 41,
    "start_time": "2022-06-12T16:37:06.246Z"
   },
   {
    "duration": 15,
    "start_time": "2022-06-12T16:37:06.289Z"
   },
   {
    "duration": 58,
    "start_time": "2022-06-12T16:37:06.305Z"
   },
   {
    "duration": 6,
    "start_time": "2022-06-12T16:38:38.249Z"
   },
   {
    "duration": 13,
    "start_time": "2022-06-12T16:38:44.008Z"
   },
   {
    "duration": 11,
    "start_time": "2022-06-12T16:38:51.898Z"
   },
   {
    "duration": 7,
    "start_time": "2022-06-12T16:39:03.641Z"
   },
   {
    "duration": 12,
    "start_time": "2022-06-12T16:39:05.807Z"
   },
   {
    "duration": 5,
    "start_time": "2022-06-12T16:39:19.599Z"
   },
   {
    "duration": 12,
    "start_time": "2022-06-12T16:39:21.468Z"
   },
   {
    "duration": 11,
    "start_time": "2022-06-12T16:42:43.239Z"
   },
   {
    "duration": 33,
    "start_time": "2022-06-12T16:43:26.364Z"
   },
   {
    "duration": 119,
    "start_time": "2022-06-12T16:43:33.400Z"
   },
   {
    "duration": 119,
    "start_time": "2022-06-12T16:43:53.506Z"
   },
   {
    "duration": 121,
    "start_time": "2022-06-12T16:44:02.024Z"
   },
   {
    "duration": 3,
    "start_time": "2022-06-12T16:45:47.326Z"
   },
   {
    "duration": 355,
    "start_time": "2022-06-12T16:45:52.498Z"
   },
   {
    "duration": 29,
    "start_time": "2022-06-12T16:45:52.854Z"
   },
   {
    "duration": 5,
    "start_time": "2022-06-12T16:45:52.884Z"
   },
   {
    "duration": 15,
    "start_time": "2022-06-12T16:45:52.891Z"
   },
   {
    "duration": 4,
    "start_time": "2022-06-12T16:45:52.907Z"
   },
   {
    "duration": 11,
    "start_time": "2022-06-12T16:45:52.912Z"
   },
   {
    "duration": 43,
    "start_time": "2022-06-12T16:45:52.925Z"
   },
   {
    "duration": 15,
    "start_time": "2022-06-12T16:45:52.970Z"
   },
   {
    "duration": 11,
    "start_time": "2022-06-12T16:45:52.986Z"
   },
   {
    "duration": 16,
    "start_time": "2022-06-12T16:45:52.998Z"
   },
   {
    "duration": 10,
    "start_time": "2022-06-12T16:45:59.802Z"
   },
   {
    "duration": 9,
    "start_time": "2022-06-12T16:51:19.237Z"
   },
   {
    "duration": 166,
    "start_time": "2022-06-12T16:51:36.671Z"
   },
   {
    "duration": 133,
    "start_time": "2022-06-12T16:51:48.120Z"
   },
   {
    "duration": 10,
    "start_time": "2022-06-12T16:52:00.795Z"
   },
   {
    "duration": 390,
    "start_time": "2022-06-12T16:52:27.710Z"
   },
   {
    "duration": 28,
    "start_time": "2022-06-12T16:52:28.102Z"
   },
   {
    "duration": 5,
    "start_time": "2022-06-12T16:52:28.132Z"
   },
   {
    "duration": 17,
    "start_time": "2022-06-12T16:52:28.138Z"
   },
   {
    "duration": 9,
    "start_time": "2022-06-12T16:52:28.156Z"
   },
   {
    "duration": 18,
    "start_time": "2022-06-12T16:52:28.166Z"
   },
   {
    "duration": 46,
    "start_time": "2022-06-12T16:52:28.186Z"
   },
   {
    "duration": 15,
    "start_time": "2022-06-12T16:52:28.234Z"
   },
   {
    "duration": 69,
    "start_time": "2022-06-12T16:52:28.251Z"
   },
   {
    "duration": 0,
    "start_time": "2022-06-12T16:52:28.322Z"
   },
   {
    "duration": 21,
    "start_time": "2022-06-12T16:52:36.521Z"
   },
   {
    "duration": 375,
    "start_time": "2022-06-12T16:52:43.774Z"
   },
   {
    "duration": 28,
    "start_time": "2022-06-12T16:52:44.151Z"
   },
   {
    "duration": 5,
    "start_time": "2022-06-12T16:52:44.181Z"
   },
   {
    "duration": 16,
    "start_time": "2022-06-12T16:52:44.188Z"
   },
   {
    "duration": 6,
    "start_time": "2022-06-12T16:52:44.206Z"
   },
   {
    "duration": 15,
    "start_time": "2022-06-12T16:52:44.213Z"
   },
   {
    "duration": 43,
    "start_time": "2022-06-12T16:52:44.229Z"
   },
   {
    "duration": 16,
    "start_time": "2022-06-12T16:52:44.273Z"
   },
   {
    "duration": 13,
    "start_time": "2022-06-12T16:52:44.290Z"
   },
   {
    "duration": 14,
    "start_time": "2022-06-12T16:52:44.304Z"
   },
   {
    "duration": 4,
    "start_time": "2022-06-12T17:37:01.866Z"
   },
   {
    "duration": 362,
    "start_time": "2022-06-12T17:58:14.191Z"
   },
   {
    "duration": 28,
    "start_time": "2022-06-12T17:58:14.555Z"
   },
   {
    "duration": 6,
    "start_time": "2022-06-12T17:58:14.584Z"
   },
   {
    "duration": 15,
    "start_time": "2022-06-12T17:58:14.592Z"
   },
   {
    "duration": 5,
    "start_time": "2022-06-12T17:58:14.608Z"
   },
   {
    "duration": 11,
    "start_time": "2022-06-12T17:58:14.614Z"
   },
   {
    "duration": 42,
    "start_time": "2022-06-12T17:58:14.626Z"
   },
   {
    "duration": 16,
    "start_time": "2022-06-12T17:58:14.669Z"
   },
   {
    "duration": 12,
    "start_time": "2022-06-12T17:58:14.686Z"
   },
   {
    "duration": 5,
    "start_time": "2022-06-12T17:59:14.565Z"
   },
   {
    "duration": 10,
    "start_time": "2022-06-12T17:59:19.052Z"
   },
   {
    "duration": 10,
    "start_time": "2022-06-12T17:59:36.644Z"
   },
   {
    "duration": 35,
    "start_time": "2022-06-12T18:02:38.622Z"
   },
   {
    "duration": 73,
    "start_time": "2022-06-12T18:02:57.971Z"
   },
   {
    "duration": 12,
    "start_time": "2022-06-12T18:08:39.680Z"
   },
   {
    "duration": 12,
    "start_time": "2022-06-12T18:08:46.006Z"
   },
   {
    "duration": 339,
    "start_time": "2022-06-12T18:08:59.271Z"
   },
   {
    "duration": 349,
    "start_time": "2022-06-12T18:09:15.305Z"
   },
   {
    "duration": 28,
    "start_time": "2022-06-12T18:09:15.656Z"
   },
   {
    "duration": 6,
    "start_time": "2022-06-12T18:09:15.686Z"
   },
   {
    "duration": 17,
    "start_time": "2022-06-12T18:09:15.693Z"
   },
   {
    "duration": 5,
    "start_time": "2022-06-12T18:09:15.712Z"
   },
   {
    "duration": 13,
    "start_time": "2022-06-12T18:09:15.718Z"
   },
   {
    "duration": 43,
    "start_time": "2022-06-12T18:09:15.732Z"
   },
   {
    "duration": 16,
    "start_time": "2022-06-12T18:09:15.776Z"
   },
   {
    "duration": 12,
    "start_time": "2022-06-12T18:09:15.793Z"
   },
   {
    "duration": 10,
    "start_time": "2022-06-12T18:09:15.808Z"
   },
   {
    "duration": 83,
    "start_time": "2022-06-12T18:09:15.820Z"
   },
   {
    "duration": 11,
    "start_time": "2022-06-12T18:10:33.835Z"
   },
   {
    "duration": 320,
    "start_time": "2022-06-12T18:11:22.980Z"
   },
   {
    "duration": 378,
    "start_time": "2022-06-12T18:11:56.282Z"
   },
   {
    "duration": 27,
    "start_time": "2022-06-12T18:11:56.662Z"
   },
   {
    "duration": 4,
    "start_time": "2022-06-12T18:11:56.691Z"
   },
   {
    "duration": 18,
    "start_time": "2022-06-12T18:11:56.697Z"
   },
   {
    "duration": 4,
    "start_time": "2022-06-12T18:11:56.716Z"
   },
   {
    "duration": 12,
    "start_time": "2022-06-12T18:11:56.721Z"
   },
   {
    "duration": 43,
    "start_time": "2022-06-12T18:11:56.735Z"
   },
   {
    "duration": 15,
    "start_time": "2022-06-12T18:11:56.779Z"
   },
   {
    "duration": 2,
    "start_time": "2022-06-12T18:11:56.796Z"
   },
   {
    "duration": 20,
    "start_time": "2022-06-12T18:11:56.799Z"
   },
   {
    "duration": 79,
    "start_time": "2022-06-12T18:11:56.820Z"
   },
   {
    "duration": 12,
    "start_time": "2022-06-12T18:12:19.145Z"
   },
   {
    "duration": 12,
    "start_time": "2022-06-12T18:12:21.526Z"
   },
   {
    "duration": 22,
    "start_time": "2022-06-12T18:12:24.912Z"
   },
   {
    "duration": 5,
    "start_time": "2022-06-12T18:12:43.515Z"
   },
   {
    "duration": 21,
    "start_time": "2022-06-12T18:12:50.031Z"
   },
   {
    "duration": 152,
    "start_time": "2022-06-12T18:18:44.856Z"
   },
   {
    "duration": 11,
    "start_time": "2022-06-12T18:18:55.428Z"
   },
   {
    "duration": 177,
    "start_time": "2022-06-12T18:19:28.741Z"
   },
   {
    "duration": 17,
    "start_time": "2022-06-12T18:19:31.659Z"
   },
   {
    "duration": 144,
    "start_time": "2022-06-12T18:32:54.822Z"
   },
   {
    "duration": 12,
    "start_time": "2022-06-12T18:32:59.421Z"
   },
   {
    "duration": 146,
    "start_time": "2022-06-12T18:33:16.129Z"
   },
   {
    "duration": 11,
    "start_time": "2022-06-12T18:33:19.232Z"
   },
   {
    "duration": 140,
    "start_time": "2022-06-12T18:33:32.108Z"
   },
   {
    "duration": 11,
    "start_time": "2022-06-12T18:33:34.917Z"
   },
   {
    "duration": 34,
    "start_time": "2022-06-12T18:33:40.811Z"
   },
   {
    "duration": 30,
    "start_time": "2022-06-12T18:33:48.264Z"
   },
   {
    "duration": 166,
    "start_time": "2022-06-12T18:34:15.376Z"
   },
   {
    "duration": 10,
    "start_time": "2022-06-12T18:34:18.819Z"
   },
   {
    "duration": 178,
    "start_time": "2022-06-12T18:34:30.133Z"
   },
   {
    "duration": 6,
    "start_time": "2022-06-12T18:34:46.067Z"
   },
   {
    "duration": 4,
    "start_time": "2022-06-12T20:22:21.830Z"
   },
   {
    "duration": 440,
    "start_time": "2022-06-12T20:22:47.678Z"
   },
   {
    "duration": 27,
    "start_time": "2022-06-12T20:22:48.120Z"
   },
   {
    "duration": 7,
    "start_time": "2022-06-12T20:22:48.149Z"
   },
   {
    "duration": 21,
    "start_time": "2022-06-12T20:22:48.158Z"
   },
   {
    "duration": 24,
    "start_time": "2022-06-12T20:22:48.180Z"
   },
   {
    "duration": 22,
    "start_time": "2022-06-12T20:22:48.206Z"
   },
   {
    "duration": 42,
    "start_time": "2022-06-12T20:22:48.230Z"
   },
   {
    "duration": 20,
    "start_time": "2022-06-12T20:22:48.274Z"
   },
   {
    "duration": 19,
    "start_time": "2022-06-12T20:22:48.295Z"
   },
   {
    "duration": 9,
    "start_time": "2022-06-12T20:22:48.316Z"
   },
   {
    "duration": 168,
    "start_time": "2022-06-12T20:22:48.327Z"
   },
   {
    "duration": 13,
    "start_time": "2022-06-12T20:22:48.501Z"
   },
   {
    "duration": 8,
    "start_time": "2022-06-12T20:22:48.516Z"
   },
   {
    "duration": 28,
    "start_time": "2022-06-12T20:23:46.776Z"
   },
   {
    "duration": 18,
    "start_time": "2022-06-12T20:24:18.497Z"
   },
   {
    "duration": 15,
    "start_time": "2022-06-12T20:27:19.918Z"
   },
   {
    "duration": 89,
    "start_time": "2022-06-12T20:32:12.098Z"
   },
   {
    "duration": 16,
    "start_time": "2022-06-12T20:32:32.104Z"
   },
   {
    "duration": 16,
    "start_time": "2022-06-12T20:32:42.743Z"
   },
   {
    "duration": 4,
    "start_time": "2022-06-12T20:55:30.554Z"
   },
   {
    "duration": 5,
    "start_time": "2022-06-12T20:55:35.444Z"
   },
   {
    "duration": 6,
    "start_time": "2022-06-12T20:55:54.847Z"
   },
   {
    "duration": 8,
    "start_time": "2022-06-12T20:58:30.564Z"
   },
   {
    "duration": 11,
    "start_time": "2022-06-12T21:00:20.248Z"
   },
   {
    "duration": 11,
    "start_time": "2022-06-12T21:01:17.683Z"
   },
   {
    "duration": 168,
    "start_time": "2022-06-12T21:03:15.843Z"
   },
   {
    "duration": 141,
    "start_time": "2022-06-12T21:03:33.455Z"
   },
   {
    "duration": 121,
    "start_time": "2022-06-12T21:03:48.665Z"
   },
   {
    "duration": 332,
    "start_time": "2022-06-12T21:04:09.391Z"
   },
   {
    "duration": 324,
    "start_time": "2022-06-12T21:04:23.692Z"
   },
   {
    "duration": 18,
    "start_time": "2022-06-12T21:07:32.734Z"
   },
   {
    "duration": 34,
    "start_time": "2022-06-12T21:08:03.242Z"
   },
   {
    "duration": 40,
    "start_time": "2022-06-12T21:08:12.980Z"
   },
   {
    "duration": 19,
    "start_time": "2022-06-12T21:08:15.648Z"
   },
   {
    "duration": 21,
    "start_time": "2022-06-12T21:08:22.814Z"
   },
   {
    "duration": 13,
    "start_time": "2022-06-12T21:08:44.205Z"
   },
   {
    "duration": 17,
    "start_time": "2022-06-12T21:09:00.363Z"
   },
   {
    "duration": 486,
    "start_time": "2022-06-12T21:11:57.801Z"
   },
   {
    "duration": 459,
    "start_time": "2022-06-12T21:12:21.803Z"
   },
   {
    "duration": 435,
    "start_time": "2022-06-12T21:12:30.677Z"
   },
   {
    "duration": 482,
    "start_time": "2022-06-12T21:12:37.776Z"
   },
   {
    "duration": 21,
    "start_time": "2022-06-12T21:12:47.508Z"
   },
   {
    "duration": 18,
    "start_time": "2022-06-12T21:12:53.558Z"
   },
   {
    "duration": 12,
    "start_time": "2022-06-12T21:13:13.057Z"
   },
   {
    "duration": 118,
    "start_time": "2022-06-12T21:14:37.376Z"
   },
   {
    "duration": 165,
    "start_time": "2022-06-12T21:14:47.034Z"
   },
   {
    "duration": 115,
    "start_time": "2022-06-12T21:14:52.226Z"
   },
   {
    "duration": 37,
    "start_time": "2022-06-12T21:14:57.508Z"
   },
   {
    "duration": 4,
    "start_time": "2022-06-12T21:15:40.093Z"
   },
   {
    "duration": 7,
    "start_time": "2022-06-12T21:15:47.059Z"
   },
   {
    "duration": 8,
    "start_time": "2022-06-12T21:16:08.751Z"
   },
   {
    "duration": 13,
    "start_time": "2022-06-12T21:16:27.957Z"
   },
   {
    "duration": 4,
    "start_time": "2022-06-12T21:22:01.295Z"
   },
   {
    "duration": 7,
    "start_time": "2022-06-12T21:22:31.296Z"
   },
   {
    "duration": 12,
    "start_time": "2022-06-12T21:23:28.322Z"
   },
   {
    "duration": 8,
    "start_time": "2022-06-12T21:23:42.253Z"
   },
   {
    "duration": 5,
    "start_time": "2022-06-12T21:28:50.461Z"
   },
   {
    "duration": 34,
    "start_time": "2022-06-12T21:35:43.606Z"
   },
   {
    "duration": 170,
    "start_time": "2022-06-12T21:35:47.367Z"
   },
   {
    "duration": 11,
    "start_time": "2022-06-12T21:35:49.214Z"
   },
   {
    "duration": 61,
    "start_time": "2022-06-12T21:40:53.893Z"
   },
   {
    "duration": 412,
    "start_time": "2022-06-12T21:41:02.047Z"
   },
   {
    "duration": 36,
    "start_time": "2022-06-12T21:41:02.460Z"
   },
   {
    "duration": 6,
    "start_time": "2022-06-12T21:41:02.497Z"
   },
   {
    "duration": 20,
    "start_time": "2022-06-12T21:41:02.505Z"
   },
   {
    "duration": 6,
    "start_time": "2022-06-12T21:41:02.526Z"
   },
   {
    "duration": 12,
    "start_time": "2022-06-12T21:41:02.533Z"
   },
   {
    "duration": 49,
    "start_time": "2022-06-12T21:41:02.546Z"
   },
   {
    "duration": 15,
    "start_time": "2022-06-12T21:41:02.597Z"
   },
   {
    "duration": 15,
    "start_time": "2022-06-12T21:41:02.613Z"
   },
   {
    "duration": 24,
    "start_time": "2022-06-12T21:41:02.631Z"
   },
   {
    "duration": 181,
    "start_time": "2022-06-12T21:41:02.656Z"
   },
   {
    "duration": 12,
    "start_time": "2022-06-12T21:41:02.839Z"
   },
   {
    "duration": 4,
    "start_time": "2022-06-12T21:48:59.358Z"
   },
   {
    "duration": 9,
    "start_time": "2022-06-12T21:49:05.523Z"
   },
   {
    "duration": 449,
    "start_time": "2022-06-12T21:49:37.652Z"
   },
   {
    "duration": 9,
    "start_time": "2022-06-12T21:49:39.707Z"
   },
   {
    "duration": 5,
    "start_time": "2022-06-12T21:50:23.366Z"
   },
   {
    "duration": 8,
    "start_time": "2022-06-12T21:50:26.363Z"
   },
   {
    "duration": 4,
    "start_time": "2022-06-12T21:50:43.280Z"
   },
   {
    "duration": 8,
    "start_time": "2022-06-12T21:51:37.730Z"
   },
   {
    "duration": 6,
    "start_time": "2022-06-12T21:51:50.637Z"
   },
   {
    "duration": 409,
    "start_time": "2022-06-12T21:52:10.972Z"
   },
   {
    "duration": 28,
    "start_time": "2022-06-12T21:52:11.382Z"
   },
   {
    "duration": 5,
    "start_time": "2022-06-12T21:52:11.411Z"
   },
   {
    "duration": 17,
    "start_time": "2022-06-12T21:52:11.417Z"
   },
   {
    "duration": 4,
    "start_time": "2022-06-12T21:52:11.435Z"
   },
   {
    "duration": 11,
    "start_time": "2022-06-12T21:52:11.440Z"
   },
   {
    "duration": 44,
    "start_time": "2022-06-12T21:52:11.453Z"
   },
   {
    "duration": 15,
    "start_time": "2022-06-12T21:52:11.499Z"
   },
   {
    "duration": 13,
    "start_time": "2022-06-12T21:52:11.515Z"
   },
   {
    "duration": 9,
    "start_time": "2022-06-12T21:52:11.531Z"
   },
   {
    "duration": 173,
    "start_time": "2022-06-12T21:52:11.541Z"
   },
   {
    "duration": 3,
    "start_time": "2022-06-12T21:52:11.716Z"
   },
   {
    "duration": 8,
    "start_time": "2022-06-12T21:52:11.721Z"
   },
   {
    "duration": 61,
    "start_time": "2022-06-12T21:52:11.731Z"
   },
   {
    "duration": 696,
    "start_time": "2022-06-12T21:52:44.872Z"
   },
   {
    "duration": 29,
    "start_time": "2022-06-12T21:52:45.570Z"
   },
   {
    "duration": 5,
    "start_time": "2022-06-12T21:52:45.600Z"
   },
   {
    "duration": 12,
    "start_time": "2022-06-12T21:52:45.607Z"
   },
   {
    "duration": 5,
    "start_time": "2022-06-12T21:52:45.620Z"
   },
   {
    "duration": 20,
    "start_time": "2022-06-12T21:52:45.627Z"
   },
   {
    "duration": 39,
    "start_time": "2022-06-12T21:52:45.648Z"
   },
   {
    "duration": 16,
    "start_time": "2022-06-12T21:52:45.688Z"
   },
   {
    "duration": 15,
    "start_time": "2022-06-12T21:52:45.705Z"
   },
   {
    "duration": 12,
    "start_time": "2022-06-12T21:52:45.723Z"
   },
   {
    "duration": 161,
    "start_time": "2022-06-12T21:52:45.736Z"
   },
   {
    "duration": 4,
    "start_time": "2022-06-12T21:52:45.899Z"
   },
   {
    "duration": 9,
    "start_time": "2022-06-12T21:52:45.905Z"
   },
   {
    "duration": 259,
    "start_time": "2022-06-12T21:52:45.915Z"
   },
   {
    "duration": 177,
    "start_time": "2022-06-12T21:52:58.626Z"
   },
   {
    "duration": 180,
    "start_time": "2022-06-12T21:53:09.381Z"
   },
   {
    "duration": 144,
    "start_time": "2022-06-12T21:53:14.289Z"
   },
   {
    "duration": 141,
    "start_time": "2022-06-12T21:53:21.219Z"
   },
   {
    "duration": 124,
    "start_time": "2022-06-12T21:56:29.643Z"
   },
   {
    "duration": 123,
    "start_time": "2022-06-12T21:56:42.601Z"
   },
   {
    "duration": 147,
    "start_time": "2022-06-12T21:57:03.718Z"
   },
   {
    "duration": 151,
    "start_time": "2022-06-12T21:57:19.729Z"
   },
   {
    "duration": 161,
    "start_time": "2022-06-12T22:01:49.985Z"
   },
   {
    "duration": 148,
    "start_time": "2022-06-12T22:01:57.166Z"
   },
   {
    "duration": 164,
    "start_time": "2022-06-12T22:02:31.171Z"
   },
   {
    "duration": 163,
    "start_time": "2022-06-12T22:09:30.798Z"
   },
   {
    "duration": 254,
    "start_time": "2022-06-12T22:13:34.995Z"
   },
   {
    "duration": 10,
    "start_time": "2022-06-12T22:31:07.819Z"
   },
   {
    "duration": 4,
    "start_time": "2022-06-12T22:32:34.936Z"
   },
   {
    "duration": 4,
    "start_time": "2022-06-12T22:32:39.425Z"
   },
   {
    "duration": 138,
    "start_time": "2022-06-12T22:34:18.904Z"
   },
   {
    "duration": 150,
    "start_time": "2022-06-12T22:34:51.203Z"
   },
   {
    "duration": 556,
    "start_time": "2022-06-12T22:38:46.863Z"
   },
   {
    "duration": 28,
    "start_time": "2022-06-12T22:38:47.420Z"
   },
   {
    "duration": 5,
    "start_time": "2022-06-12T22:38:47.449Z"
   },
   {
    "duration": 12,
    "start_time": "2022-06-12T22:38:47.456Z"
   },
   {
    "duration": 3,
    "start_time": "2022-06-12T22:38:47.469Z"
   },
   {
    "duration": 14,
    "start_time": "2022-06-12T22:38:47.473Z"
   },
   {
    "duration": 41,
    "start_time": "2022-06-12T22:38:47.488Z"
   },
   {
    "duration": 15,
    "start_time": "2022-06-12T22:38:47.530Z"
   },
   {
    "duration": 14,
    "start_time": "2022-06-12T22:38:47.546Z"
   },
   {
    "duration": 22,
    "start_time": "2022-06-12T22:38:47.562Z"
   },
   {
    "duration": 182,
    "start_time": "2022-06-12T22:38:47.586Z"
   },
   {
    "duration": 4,
    "start_time": "2022-06-12T22:38:47.769Z"
   },
   {
    "duration": 3,
    "start_time": "2022-06-12T22:38:47.778Z"
   },
   {
    "duration": 231,
    "start_time": "2022-06-12T22:38:47.782Z"
   },
   {
    "duration": 156,
    "start_time": "2022-06-12T22:38:48.014Z"
   },
   {
    "duration": 5,
    "start_time": "2022-06-12T22:51:42.892Z"
   },
   {
    "duration": 9,
    "start_time": "2022-06-12T22:51:49.674Z"
   },
   {
    "duration": 6,
    "start_time": "2022-06-12T22:52:22.675Z"
   },
   {
    "duration": 9,
    "start_time": "2022-06-12T22:52:25.088Z"
   },
   {
    "duration": 5,
    "start_time": "2022-06-12T22:52:48.272Z"
   },
   {
    "duration": 9,
    "start_time": "2022-06-12T22:52:50.879Z"
   },
   {
    "duration": 7,
    "start_time": "2022-06-12T22:53:24.190Z"
   },
   {
    "duration": 9,
    "start_time": "2022-06-12T22:53:31.297Z"
   },
   {
    "duration": 1062,
    "start_time": "2022-06-13T11:48:39.371Z"
   },
   {
    "duration": 135,
    "start_time": "2022-06-13T11:48:40.449Z"
   },
   {
    "duration": 10,
    "start_time": "2022-06-13T11:48:40.586Z"
   },
   {
    "duration": 25,
    "start_time": "2022-06-13T11:48:40.599Z"
   },
   {
    "duration": 8,
    "start_time": "2022-06-13T11:48:40.627Z"
   },
   {
    "duration": 79,
    "start_time": "2022-06-13T11:48:40.638Z"
   },
   {
    "duration": 99,
    "start_time": "2022-06-13T11:48:40.719Z"
   },
   {
    "duration": 98,
    "start_time": "2022-06-13T11:48:40.821Z"
   },
   {
    "duration": 44,
    "start_time": "2022-06-13T11:48:40.921Z"
   },
   {
    "duration": 32,
    "start_time": "2022-06-13T11:48:40.968Z"
   },
   {
    "duration": 301,
    "start_time": "2022-06-13T11:48:41.003Z"
   },
   {
    "duration": 5,
    "start_time": "2022-06-13T11:48:41.307Z"
   },
   {
    "duration": 35,
    "start_time": "2022-06-13T11:48:41.313Z"
   },
   {
    "duration": 412,
    "start_time": "2022-06-13T11:48:41.361Z"
   },
   {
    "duration": 309,
    "start_time": "2022-06-13T11:48:41.776Z"
   },
   {
    "duration": 9,
    "start_time": "2022-06-13T11:48:42.088Z"
   },
   {
    "duration": 33,
    "start_time": "2022-06-13T11:48:42.099Z"
   },
   {
    "duration": 31,
    "start_time": "2022-06-13T11:51:35.755Z"
   },
   {
    "duration": 23,
    "start_time": "2022-06-13T12:56:47.722Z"
   },
   {
    "duration": 11,
    "start_time": "2022-06-13T12:58:02.001Z"
   },
   {
    "duration": 211,
    "start_time": "2022-06-13T12:58:34.545Z"
   },
   {
    "duration": 214,
    "start_time": "2022-06-13T13:08:28.603Z"
   },
   {
    "duration": 141,
    "start_time": "2022-06-13T13:08:37.972Z"
   },
   {
    "duration": 225,
    "start_time": "2022-06-13T13:09:44.854Z"
   },
   {
    "duration": 300,
    "start_time": "2022-06-13T13:09:53.264Z"
   },
   {
    "duration": 11,
    "start_time": "2022-06-13T13:21:06.653Z"
   },
   {
    "duration": 261,
    "start_time": "2022-06-13T13:22:18.252Z"
   },
   {
    "duration": 4,
    "start_time": "2022-06-13T13:22:58.258Z"
   },
   {
    "duration": 8,
    "start_time": "2022-06-13T13:23:04.172Z"
   },
   {
    "duration": 323,
    "start_time": "2022-06-13T13:24:06.052Z"
   },
   {
    "duration": 285,
    "start_time": "2022-06-13T13:26:15.776Z"
   },
   {
    "duration": 737,
    "start_time": "2022-06-13T19:28:35.495Z"
   },
   {
    "duration": 63,
    "start_time": "2022-06-13T19:28:36.234Z"
   },
   {
    "duration": 6,
    "start_time": "2022-06-13T19:28:36.299Z"
   },
   {
    "duration": 14,
    "start_time": "2022-06-13T19:28:36.307Z"
   },
   {
    "duration": 4,
    "start_time": "2022-06-13T19:28:36.322Z"
   },
   {
    "duration": 14,
    "start_time": "2022-06-13T19:28:36.328Z"
   },
   {
    "duration": 79,
    "start_time": "2022-06-13T19:28:36.343Z"
   },
   {
    "duration": 56,
    "start_time": "2022-06-13T19:28:36.424Z"
   },
   {
    "duration": 13,
    "start_time": "2022-06-13T19:28:36.482Z"
   },
   {
    "duration": 9,
    "start_time": "2022-06-13T19:28:36.497Z"
   },
   {
    "duration": 180,
    "start_time": "2022-06-13T19:28:36.507Z"
   },
   {
    "duration": 6,
    "start_time": "2022-06-13T19:28:36.689Z"
   },
   {
    "duration": 10,
    "start_time": "2022-06-13T19:28:36.697Z"
   },
   {
    "duration": 278,
    "start_time": "2022-06-13T19:28:36.709Z"
   },
   {
    "duration": 196,
    "start_time": "2022-06-13T19:28:36.989Z"
   },
   {
    "duration": 6,
    "start_time": "2022-06-13T19:28:37.186Z"
   },
   {
    "duration": 26,
    "start_time": "2022-06-13T19:28:37.194Z"
   },
   {
    "duration": 376,
    "start_time": "2022-06-13T19:28:37.222Z"
   },
   {
    "duration": 80,
    "start_time": "2022-06-13T19:34:12.129Z"
   },
   {
    "duration": 43,
    "start_time": "2022-06-13T19:34:44.346Z"
   },
   {
    "duration": 43,
    "start_time": "2022-06-13T19:35:01.344Z"
   },
   {
    "duration": 23,
    "start_time": "2022-06-13T19:35:21.722Z"
   },
   {
    "duration": 184,
    "start_time": "2022-06-13T19:35:54.842Z"
   },
   {
    "duration": 159,
    "start_time": "2022-06-13T19:36:35.969Z"
   },
   {
    "duration": 11,
    "start_time": "2022-06-13T19:36:49.034Z"
   },
   {
    "duration": 30,
    "start_time": "2022-06-13T19:38:59.143Z"
   },
   {
    "duration": 140,
    "start_time": "2022-06-13T19:39:30.869Z"
   },
   {
    "duration": 28,
    "start_time": "2022-06-13T19:40:18.636Z"
   },
   {
    "duration": 14,
    "start_time": "2022-06-13T19:40:37.597Z"
   },
   {
    "duration": 9,
    "start_time": "2022-06-13T19:41:34.136Z"
   },
   {
    "duration": 15,
    "start_time": "2022-06-13T19:41:50.622Z"
   },
   {
    "duration": 4,
    "start_time": "2022-06-13T19:42:51.464Z"
   },
   {
    "duration": 8,
    "start_time": "2022-06-13T19:43:00.524Z"
   },
   {
    "duration": 364,
    "start_time": "2022-06-13T19:44:44.213Z"
   },
   {
    "duration": 15,
    "start_time": "2022-06-13T19:44:54.070Z"
   },
   {
    "duration": 4,
    "start_time": "2022-06-13T19:45:17.388Z"
   },
   {
    "duration": 5,
    "start_time": "2022-06-13T19:45:30.277Z"
   },
   {
    "duration": 407,
    "start_time": "2022-06-13T19:47:42.831Z"
   },
   {
    "duration": 549,
    "start_time": "2022-06-13T19:48:01.120Z"
   },
   {
    "duration": 28,
    "start_time": "2022-06-13T19:48:01.673Z"
   },
   {
    "duration": 5,
    "start_time": "2022-06-13T19:48:01.702Z"
   },
   {
    "duration": 31,
    "start_time": "2022-06-13T19:48:01.709Z"
   },
   {
    "duration": 14,
    "start_time": "2022-06-13T19:48:01.742Z"
   },
   {
    "duration": 34,
    "start_time": "2022-06-13T19:48:01.762Z"
   },
   {
    "duration": 42,
    "start_time": "2022-06-13T19:48:01.797Z"
   },
   {
    "duration": 17,
    "start_time": "2022-06-13T19:48:01.841Z"
   },
   {
    "duration": 26,
    "start_time": "2022-06-13T19:48:01.869Z"
   },
   {
    "duration": 9,
    "start_time": "2022-06-13T19:48:01.898Z"
   },
   {
    "duration": 188,
    "start_time": "2022-06-13T19:48:01.909Z"
   },
   {
    "duration": 3,
    "start_time": "2022-06-13T19:48:02.099Z"
   },
   {
    "duration": 21,
    "start_time": "2022-06-13T19:48:02.104Z"
   },
   {
    "duration": 281,
    "start_time": "2022-06-13T19:48:02.126Z"
   },
   {
    "duration": 218,
    "start_time": "2022-06-13T19:48:02.408Z"
   },
   {
    "duration": 6,
    "start_time": "2022-06-13T19:48:02.627Z"
   },
   {
    "duration": 57,
    "start_time": "2022-06-13T19:48:02.635Z"
   },
   {
    "duration": 282,
    "start_time": "2022-06-13T19:48:02.694Z"
   },
   {
    "duration": 178,
    "start_time": "2022-06-13T19:48:02.979Z"
   },
   {
    "duration": 8,
    "start_time": "2022-06-13T19:48:03.158Z"
   },
   {
    "duration": 70,
    "start_time": "2022-06-13T19:48:03.168Z"
   },
   {
    "duration": 14,
    "start_time": "2022-06-13T19:48:03.240Z"
   },
   {
    "duration": 29,
    "start_time": "2022-06-13T19:48:03.255Z"
   },
   {
    "duration": 24,
    "start_time": "2022-06-13T19:48:03.286Z"
   },
   {
    "duration": 97,
    "start_time": "2022-06-13T19:48:03.311Z"
   },
   {
    "duration": 159,
    "start_time": "2022-06-13T19:48:36.107Z"
   },
   {
    "duration": 167,
    "start_time": "2022-06-13T19:49:08.041Z"
   },
   {
    "duration": 203,
    "start_time": "2022-06-13T19:49:56.016Z"
   },
   {
    "duration": 7,
    "start_time": "2022-06-13T19:55:11.681Z"
   },
   {
    "duration": 7,
    "start_time": "2022-06-13T19:55:20.103Z"
   },
   {
    "duration": 18,
    "start_time": "2022-06-13T19:55:26.559Z"
   },
   {
    "duration": 6,
    "start_time": "2022-06-13T19:56:10.687Z"
   },
   {
    "duration": 21,
    "start_time": "2022-06-13T19:56:14.168Z"
   },
   {
    "duration": 366,
    "start_time": "2022-06-13T19:57:38.549Z"
   },
   {
    "duration": 8,
    "start_time": "2022-06-13T19:58:07.021Z"
   },
   {
    "duration": 18,
    "start_time": "2022-06-13T19:58:11.148Z"
   },
   {
    "duration": 28,
    "start_time": "2022-06-13T19:58:36.559Z"
   },
   {
    "duration": 7,
    "start_time": "2022-06-13T19:58:50.189Z"
   },
   {
    "duration": 7,
    "start_time": "2022-06-13T19:59:16.527Z"
   },
   {
    "duration": 11,
    "start_time": "2022-06-13T19:59:18.937Z"
   },
   {
    "duration": 161,
    "start_time": "2022-06-13T20:00:07.647Z"
   },
   {
    "duration": 159,
    "start_time": "2022-06-13T20:06:40.640Z"
   },
   {
    "duration": 188,
    "start_time": "2022-06-13T20:06:58.705Z"
   },
   {
    "duration": 297,
    "start_time": "2022-06-13T20:07:30.211Z"
   },
   {
    "duration": 146,
    "start_time": "2022-06-13T20:10:02.886Z"
   },
   {
    "duration": 864,
    "start_time": "2022-06-13T22:04:14.040Z"
   },
   {
    "duration": 79,
    "start_time": "2022-06-13T22:04:14.906Z"
   },
   {
    "duration": 8,
    "start_time": "2022-06-13T22:04:14.988Z"
   },
   {
    "duration": 18,
    "start_time": "2022-06-13T22:04:14.999Z"
   },
   {
    "duration": 15,
    "start_time": "2022-06-13T22:04:15.020Z"
   },
   {
    "duration": 18,
    "start_time": "2022-06-13T22:04:15.037Z"
   },
   {
    "duration": 133,
    "start_time": "2022-06-13T22:04:15.057Z"
   },
   {
    "duration": 52,
    "start_time": "2022-06-13T22:04:15.192Z"
   },
   {
    "duration": 20,
    "start_time": "2022-06-13T22:04:15.246Z"
   },
   {
    "duration": 36,
    "start_time": "2022-06-13T22:04:15.269Z"
   },
   {
    "duration": 184,
    "start_time": "2022-06-13T22:04:15.307Z"
   },
   {
    "duration": 4,
    "start_time": "2022-06-13T22:04:15.493Z"
   },
   {
    "duration": 9,
    "start_time": "2022-06-13T22:04:15.498Z"
   },
   {
    "duration": 307,
    "start_time": "2022-06-13T22:04:15.508Z"
   },
   {
    "duration": 232,
    "start_time": "2022-06-13T22:04:15.816Z"
   },
   {
    "duration": 22,
    "start_time": "2022-06-13T22:04:16.050Z"
   },
   {
    "duration": 358,
    "start_time": "2022-06-13T22:04:16.086Z"
   },
   {
    "duration": 222,
    "start_time": "2022-06-13T22:04:16.446Z"
   },
   {
    "duration": 9,
    "start_time": "2022-06-13T22:04:16.674Z"
   },
   {
    "duration": 7,
    "start_time": "2022-06-13T22:04:16.686Z"
   },
   {
    "duration": 9,
    "start_time": "2022-06-13T22:04:16.695Z"
   },
   {
    "duration": 11,
    "start_time": "2022-06-13T22:04:16.706Z"
   },
   {
    "duration": 15,
    "start_time": "2022-06-13T22:04:16.719Z"
   },
   {
    "duration": 279,
    "start_time": "2022-06-13T22:04:16.737Z"
   },
   {
    "duration": 10,
    "start_time": "2022-06-13T22:04:17.018Z"
   },
   {
    "duration": 362,
    "start_time": "2022-06-13T22:04:17.031Z"
   },
   {
    "duration": 84,
    "start_time": "2022-06-13T22:07:04.610Z"
   },
   {
    "duration": 11,
    "start_time": "2022-06-13T22:07:53.333Z"
   },
   {
    "duration": 19,
    "start_time": "2022-06-13T22:08:07.765Z"
   },
   {
    "duration": 13,
    "start_time": "2022-06-13T22:08:14.180Z"
   },
   {
    "duration": 7,
    "start_time": "2022-06-13T22:11:49.098Z"
   },
   {
    "duration": 6,
    "start_time": "2022-06-13T22:13:01.077Z"
   },
   {
    "duration": 13,
    "start_time": "2022-06-13T22:13:07.900Z"
   },
   {
    "duration": 13,
    "start_time": "2022-06-13T22:17:55.651Z"
   },
   {
    "duration": 130,
    "start_time": "2022-06-13T22:19:16.024Z"
   },
   {
    "duration": 11,
    "start_time": "2022-06-13T22:20:26.386Z"
   },
   {
    "duration": 4,
    "start_time": "2022-06-13T22:20:33.183Z"
   },
   {
    "duration": 7,
    "start_time": "2022-06-13T22:20:36.638Z"
   },
   {
    "duration": 7,
    "start_time": "2022-06-13T22:21:15.487Z"
   },
   {
    "duration": 128,
    "start_time": "2022-06-13T22:22:00.813Z"
   },
   {
    "duration": 141,
    "start_time": "2022-06-13T22:23:00.861Z"
   },
   {
    "duration": 183,
    "start_time": "2022-06-13T22:23:22.713Z"
   },
   {
    "duration": 142,
    "start_time": "2022-06-13T22:23:30.857Z"
   },
   {
    "duration": 5,
    "start_time": "2022-06-13T22:33:22.181Z"
   },
   {
    "duration": 7,
    "start_time": "2022-06-13T22:50:37.676Z"
   },
   {
    "duration": 4,
    "start_time": "2022-06-13T22:51:24.089Z"
   },
   {
    "duration": 21,
    "start_time": "2022-06-13T22:52:41.608Z"
   },
   {
    "duration": 132,
    "start_time": "2022-06-13T22:53:04.992Z"
   },
   {
    "duration": 166,
    "start_time": "2022-06-13T22:53:54.635Z"
   },
   {
    "duration": 6,
    "start_time": "2022-06-13T22:55:35.427Z"
   },
   {
    "duration": 5,
    "start_time": "2022-06-13T22:55:46.141Z"
   },
   {
    "duration": 5,
    "start_time": "2022-06-13T22:55:52.112Z"
   },
   {
    "duration": 137,
    "start_time": "2022-06-13T22:57:09.173Z"
   },
   {
    "duration": 157,
    "start_time": "2022-06-13T22:58:32.028Z"
   },
   {
    "duration": 6,
    "start_time": "2022-06-13T23:00:37.886Z"
   },
   {
    "duration": 818,
    "start_time": "2022-06-14T17:37:16.038Z"
   },
   {
    "duration": 71,
    "start_time": "2022-06-14T17:37:16.859Z"
   },
   {
    "duration": 7,
    "start_time": "2022-06-14T17:37:16.931Z"
   },
   {
    "duration": 16,
    "start_time": "2022-06-14T17:37:16.940Z"
   },
   {
    "duration": 22,
    "start_time": "2022-06-14T17:37:16.959Z"
   },
   {
    "duration": 17,
    "start_time": "2022-06-14T17:37:16.982Z"
   },
   {
    "duration": 135,
    "start_time": "2022-06-14T17:37:17.001Z"
   },
   {
    "duration": 54,
    "start_time": "2022-06-14T17:37:17.138Z"
   },
   {
    "duration": 20,
    "start_time": "2022-06-14T17:37:17.196Z"
   },
   {
    "duration": 35,
    "start_time": "2022-06-14T17:37:17.224Z"
   },
   {
    "duration": 251,
    "start_time": "2022-06-14T17:37:17.261Z"
   },
   {
    "duration": 7,
    "start_time": "2022-06-14T17:37:17.514Z"
   },
   {
    "duration": 16,
    "start_time": "2022-06-14T17:37:17.523Z"
   },
   {
    "duration": 295,
    "start_time": "2022-06-14T17:37:17.544Z"
   },
   {
    "duration": 203,
    "start_time": "2022-06-14T17:37:17.841Z"
   },
   {
    "duration": 22,
    "start_time": "2022-06-14T17:37:18.045Z"
   },
   {
    "duration": 337,
    "start_time": "2022-06-14T17:37:18.069Z"
   },
   {
    "duration": 201,
    "start_time": "2022-06-14T17:37:18.407Z"
   },
   {
    "duration": 6,
    "start_time": "2022-06-14T17:37:18.610Z"
   },
   {
    "duration": 7,
    "start_time": "2022-06-14T17:37:18.618Z"
   },
   {
    "duration": 9,
    "start_time": "2022-06-14T17:37:18.627Z"
   },
   {
    "duration": 33,
    "start_time": "2022-06-14T17:37:18.638Z"
   },
   {
    "duration": 9,
    "start_time": "2022-06-14T17:37:18.673Z"
   },
   {
    "duration": 205,
    "start_time": "2022-06-14T17:37:18.684Z"
   },
   {
    "duration": 7,
    "start_time": "2022-06-14T17:37:18.890Z"
   },
   {
    "duration": 299,
    "start_time": "2022-06-14T17:37:18.899Z"
   },
   {
    "duration": 6,
    "start_time": "2022-06-14T17:37:19.200Z"
   },
   {
    "duration": 4,
    "start_time": "2022-06-14T17:37:19.208Z"
   },
   {
    "duration": 135,
    "start_time": "2022-06-14T17:37:19.214Z"
   },
   {
    "duration": 10,
    "start_time": "2022-06-14T17:37:19.351Z"
   },
   {
    "duration": 26,
    "start_time": "2022-06-14T17:37:19.363Z"
   },
   {
    "duration": 7,
    "start_time": "2022-06-14T17:37:19.391Z"
   },
   {
    "duration": 145,
    "start_time": "2022-06-14T17:37:19.400Z"
   },
   {
    "duration": 5,
    "start_time": "2022-06-14T17:37:19.547Z"
   },
   {
    "duration": 18,
    "start_time": "2022-06-14T17:49:02.058Z"
   },
   {
    "duration": 32,
    "start_time": "2022-06-14T17:49:21.616Z"
   },
   {
    "duration": 14,
    "start_time": "2022-06-14T17:49:25.871Z"
   },
   {
    "duration": 12,
    "start_time": "2022-06-14T17:50:15.239Z"
   },
   {
    "duration": 9,
    "start_time": "2022-06-14T17:51:03.857Z"
   },
   {
    "duration": 29,
    "start_time": "2022-06-14T17:51:11.520Z"
   },
   {
    "duration": 8,
    "start_time": "2022-06-14T17:51:15.410Z"
   },
   {
    "duration": 7,
    "start_time": "2022-06-14T17:51:25.855Z"
   },
   {
    "duration": 9,
    "start_time": "2022-06-14T17:51:29.845Z"
   },
   {
    "duration": 9,
    "start_time": "2022-06-14T17:51:35.323Z"
   },
   {
    "duration": 10,
    "start_time": "2022-06-14T17:57:35.334Z"
   },
   {
    "duration": 10,
    "start_time": "2022-06-14T18:17:04.822Z"
   },
   {
    "duration": 8,
    "start_time": "2022-06-14T18:17:17.229Z"
   },
   {
    "duration": 6,
    "start_time": "2022-06-14T18:17:32.158Z"
   },
   {
    "duration": 6,
    "start_time": "2022-06-14T18:19:02.386Z"
   },
   {
    "duration": 3,
    "start_time": "2022-06-14T18:19:13.984Z"
   },
   {
    "duration": 5,
    "start_time": "2022-06-14T18:19:19.209Z"
   },
   {
    "duration": 82,
    "start_time": "2022-06-14T18:20:18.010Z"
   },
   {
    "duration": 9,
    "start_time": "2022-06-14T18:20:30.585Z"
   },
   {
    "duration": 16,
    "start_time": "2022-06-14T18:20:48.677Z"
   },
   {
    "duration": 10,
    "start_time": "2022-06-14T18:20:59.808Z"
   },
   {
    "duration": 9,
    "start_time": "2022-06-14T18:22:11.422Z"
   },
   {
    "duration": 6,
    "start_time": "2022-06-14T18:23:34.775Z"
   },
   {
    "duration": 29,
    "start_time": "2022-06-14T18:23:41.806Z"
   },
   {
    "duration": 20,
    "start_time": "2022-06-14T18:24:02.417Z"
   },
   {
    "duration": 34,
    "start_time": "2022-06-14T18:28:15.692Z"
   },
   {
    "duration": 7,
    "start_time": "2022-06-14T18:28:53.642Z"
   },
   {
    "duration": 10,
    "start_time": "2022-06-14T18:35:10.292Z"
   },
   {
    "duration": 15,
    "start_time": "2022-06-14T18:35:52.118Z"
   },
   {
    "duration": 6,
    "start_time": "2022-06-14T18:36:31.625Z"
   },
   {
    "duration": 12,
    "start_time": "2022-06-14T18:36:48.311Z"
   },
   {
    "duration": 9,
    "start_time": "2022-06-14T18:38:18.350Z"
   },
   {
    "duration": 5,
    "start_time": "2022-06-14T18:38:24.354Z"
   },
   {
    "duration": 30,
    "start_time": "2022-06-14T18:38:45.511Z"
   },
   {
    "duration": 5,
    "start_time": "2022-06-14T18:39:18.610Z"
   },
   {
    "duration": 6,
    "start_time": "2022-06-14T18:39:25.137Z"
   },
   {
    "duration": 5,
    "start_time": "2022-06-14T18:40:04.245Z"
   },
   {
    "duration": 556,
    "start_time": "2022-06-14T18:40:15.094Z"
   },
   {
    "duration": 31,
    "start_time": "2022-06-14T18:40:15.652Z"
   },
   {
    "duration": 5,
    "start_time": "2022-06-14T18:40:15.685Z"
   },
   {
    "duration": 17,
    "start_time": "2022-06-14T18:40:15.692Z"
   },
   {
    "duration": 6,
    "start_time": "2022-06-14T18:40:15.710Z"
   },
   {
    "duration": 15,
    "start_time": "2022-06-14T18:40:15.718Z"
   },
   {
    "duration": 44,
    "start_time": "2022-06-14T18:40:15.734Z"
   },
   {
    "duration": 15,
    "start_time": "2022-06-14T18:40:15.780Z"
   },
   {
    "duration": 13,
    "start_time": "2022-06-14T18:40:15.796Z"
   },
   {
    "duration": 8,
    "start_time": "2022-06-14T18:40:15.811Z"
   },
   {
    "duration": 154,
    "start_time": "2022-06-14T18:40:15.821Z"
   },
   {
    "duration": 4,
    "start_time": "2022-06-14T18:40:15.977Z"
   },
   {
    "duration": 9,
    "start_time": "2022-06-14T18:40:15.982Z"
   },
   {
    "duration": 269,
    "start_time": "2022-06-14T18:40:15.994Z"
   },
   {
    "duration": 180,
    "start_time": "2022-06-14T18:40:16.264Z"
   },
   {
    "duration": 7,
    "start_time": "2022-06-14T18:40:16.445Z"
   },
   {
    "duration": 312,
    "start_time": "2022-06-14T18:40:16.459Z"
   },
   {
    "duration": 176,
    "start_time": "2022-06-14T18:40:16.773Z"
   },
   {
    "duration": 11,
    "start_time": "2022-06-14T18:40:16.951Z"
   },
   {
    "duration": 5,
    "start_time": "2022-06-14T18:40:16.964Z"
   },
   {
    "duration": 8,
    "start_time": "2022-06-14T18:40:16.971Z"
   },
   {
    "duration": 6,
    "start_time": "2022-06-14T18:40:16.980Z"
   },
   {
    "duration": 7,
    "start_time": "2022-06-14T18:40:16.988Z"
   },
   {
    "duration": 207,
    "start_time": "2022-06-14T18:40:16.996Z"
   },
   {
    "duration": 13,
    "start_time": "2022-06-14T18:40:17.205Z"
   },
   {
    "duration": 365,
    "start_time": "2022-06-14T18:40:17.219Z"
   },
   {
    "duration": 7,
    "start_time": "2022-06-14T18:40:17.586Z"
   },
   {
    "duration": 5,
    "start_time": "2022-06-14T18:40:17.594Z"
   },
   {
    "duration": 125,
    "start_time": "2022-06-14T18:40:17.600Z"
   },
   {
    "duration": 5,
    "start_time": "2022-06-14T18:40:17.727Z"
   },
   {
    "duration": 10,
    "start_time": "2022-06-14T18:40:17.733Z"
   },
   {
    "duration": 16,
    "start_time": "2022-06-14T18:40:17.744Z"
   },
   {
    "duration": 126,
    "start_time": "2022-06-14T18:40:17.761Z"
   },
   {
    "duration": 4,
    "start_time": "2022-06-14T18:40:17.889Z"
   },
   {
    "duration": 9,
    "start_time": "2022-06-14T18:40:17.895Z"
   },
   {
    "duration": 8,
    "start_time": "2022-06-14T18:40:17.905Z"
   },
   {
    "duration": 5,
    "start_time": "2022-06-14T18:40:17.915Z"
   },
   {
    "duration": 8,
    "start_time": "2022-06-14T18:40:17.922Z"
   },
   {
    "duration": 35,
    "start_time": "2022-06-14T18:40:17.931Z"
   },
   {
    "duration": 6,
    "start_time": "2022-06-14T18:40:17.968Z"
   },
   {
    "duration": 5,
    "start_time": "2022-06-14T18:40:29.355Z"
   },
   {
    "duration": 6,
    "start_time": "2022-06-14T18:41:35.746Z"
   },
   {
    "duration": 68,
    "start_time": "2022-06-14T18:44:08.081Z"
   },
   {
    "duration": 438,
    "start_time": "2022-06-14T18:44:51.829Z"
   },
   {
    "duration": 1131,
    "start_time": "2022-06-14T18:45:01.656Z"
   },
   {
    "duration": 27,
    "start_time": "2022-06-14T18:45:02.789Z"
   },
   {
    "duration": 5,
    "start_time": "2022-06-14T18:45:02.817Z"
   },
   {
    "duration": 18,
    "start_time": "2022-06-14T18:45:02.824Z"
   },
   {
    "duration": 8,
    "start_time": "2022-06-14T18:45:02.843Z"
   },
   {
    "duration": 16,
    "start_time": "2022-06-14T18:45:02.852Z"
   },
   {
    "duration": 47,
    "start_time": "2022-06-14T18:45:02.870Z"
   },
   {
    "duration": 15,
    "start_time": "2022-06-14T18:45:02.919Z"
   },
   {
    "duration": 21,
    "start_time": "2022-06-14T18:45:02.936Z"
   },
   {
    "duration": 16,
    "start_time": "2022-06-14T18:45:02.959Z"
   },
   {
    "duration": 189,
    "start_time": "2022-06-14T18:45:02.976Z"
   },
   {
    "duration": 5,
    "start_time": "2022-06-14T18:45:03.167Z"
   },
   {
    "duration": 12,
    "start_time": "2022-06-14T18:45:03.174Z"
   },
   {
    "duration": 297,
    "start_time": "2022-06-14T18:45:03.188Z"
   },
   {
    "duration": 189,
    "start_time": "2022-06-14T18:45:03.488Z"
   },
   {
    "duration": 6,
    "start_time": "2022-06-14T18:45:03.679Z"
   },
   {
    "duration": 302,
    "start_time": "2022-06-14T18:45:03.687Z"
   },
   {
    "duration": 137,
    "start_time": "2022-06-14T18:45:03.991Z"
   },
   {
    "duration": 7,
    "start_time": "2022-06-14T18:45:04.130Z"
   },
   {
    "duration": 7,
    "start_time": "2022-06-14T18:45:04.139Z"
   },
   {
    "duration": 5,
    "start_time": "2022-06-14T18:45:04.158Z"
   },
   {
    "duration": 9,
    "start_time": "2022-06-14T18:45:04.164Z"
   },
   {
    "duration": 9,
    "start_time": "2022-06-14T18:45:04.175Z"
   },
   {
    "duration": 203,
    "start_time": "2022-06-14T18:45:04.186Z"
   },
   {
    "duration": 9,
    "start_time": "2022-06-14T18:45:04.390Z"
   },
   {
    "duration": 284,
    "start_time": "2022-06-14T18:45:04.401Z"
   },
   {
    "duration": 6,
    "start_time": "2022-06-14T18:45:04.687Z"
   },
   {
    "duration": 3,
    "start_time": "2022-06-14T18:45:04.696Z"
   },
   {
    "duration": 136,
    "start_time": "2022-06-14T18:45:04.701Z"
   },
   {
    "duration": 6,
    "start_time": "2022-06-14T18:45:04.839Z"
   },
   {
    "duration": 3,
    "start_time": "2022-06-14T18:45:04.858Z"
   },
   {
    "duration": 13,
    "start_time": "2022-06-14T18:45:04.863Z"
   },
   {
    "duration": 135,
    "start_time": "2022-06-14T18:45:04.878Z"
   },
   {
    "duration": 6,
    "start_time": "2022-06-14T18:45:05.015Z"
   },
   {
    "duration": 16,
    "start_time": "2022-06-14T18:45:05.023Z"
   },
   {
    "duration": 21,
    "start_time": "2022-06-14T18:45:05.041Z"
   },
   {
    "duration": 4,
    "start_time": "2022-06-14T18:45:05.064Z"
   },
   {
    "duration": 8,
    "start_time": "2022-06-14T18:45:05.070Z"
   },
   {
    "duration": 27,
    "start_time": "2022-06-14T18:45:05.080Z"
   },
   {
    "duration": 21,
    "start_time": "2022-06-14T18:45:14.875Z"
   },
   {
    "duration": 36,
    "start_time": "2022-06-14T18:45:24.840Z"
   },
   {
    "duration": 30,
    "start_time": "2022-06-14T18:53:41.439Z"
   },
   {
    "duration": 35,
    "start_time": "2022-06-14T18:53:53.321Z"
   },
   {
    "duration": 30,
    "start_time": "2022-06-14T18:54:09.222Z"
   },
   {
    "duration": 32,
    "start_time": "2022-06-14T18:54:25.388Z"
   },
   {
    "duration": 38,
    "start_time": "2022-06-14T18:54:35.694Z"
   },
   {
    "duration": 36,
    "start_time": "2022-06-14T18:56:05.254Z"
   },
   {
    "duration": 37,
    "start_time": "2022-06-14T18:56:45.881Z"
   },
   {
    "duration": 21,
    "start_time": "2022-06-14T19:07:45.116Z"
   },
   {
    "duration": 5,
    "start_time": "2022-06-14T19:13:19.890Z"
   },
   {
    "duration": 5,
    "start_time": "2022-06-14T19:13:32.551Z"
   },
   {
    "duration": 5,
    "start_time": "2022-06-14T19:14:05.317Z"
   },
   {
    "duration": 13,
    "start_time": "2022-06-14T19:19:34.026Z"
   },
   {
    "duration": 19,
    "start_time": "2022-06-14T19:20:42.211Z"
   },
   {
    "duration": 8,
    "start_time": "2022-06-14T19:20:47.386Z"
   },
   {
    "duration": 9,
    "start_time": "2022-06-14T19:21:16.621Z"
   },
   {
    "duration": 9,
    "start_time": "2022-06-14T19:21:25.591Z"
   },
   {
    "duration": 9,
    "start_time": "2022-06-14T19:21:50.624Z"
   },
   {
    "duration": 8,
    "start_time": "2022-06-14T19:26:04.415Z"
   },
   {
    "duration": 10,
    "start_time": "2022-06-14T19:26:27.731Z"
   },
   {
    "duration": 1386,
    "start_time": "2022-06-15T17:36:03.144Z"
   },
   {
    "duration": 90,
    "start_time": "2022-06-15T17:36:04.533Z"
   },
   {
    "duration": 7,
    "start_time": "2022-06-15T17:36:04.625Z"
   },
   {
    "duration": 35,
    "start_time": "2022-06-15T17:36:04.634Z"
   },
   {
    "duration": 5,
    "start_time": "2022-06-15T17:36:04.671Z"
   },
   {
    "duration": 31,
    "start_time": "2022-06-15T17:36:04.678Z"
   },
   {
    "duration": 101,
    "start_time": "2022-06-15T17:36:04.716Z"
   },
   {
    "duration": 58,
    "start_time": "2022-06-15T17:36:04.826Z"
   },
   {
    "duration": 22,
    "start_time": "2022-06-15T17:36:04.885Z"
   },
   {
    "duration": 27,
    "start_time": "2022-06-15T17:36:04.910Z"
   },
   {
    "duration": 173,
    "start_time": "2022-06-15T17:36:04.939Z"
   },
   {
    "duration": 5,
    "start_time": "2022-06-15T17:36:05.116Z"
   },
   {
    "duration": 23,
    "start_time": "2022-06-15T17:36:05.125Z"
   },
   {
    "duration": 401,
    "start_time": "2022-06-15T17:36:05.150Z"
   },
   {
    "duration": 228,
    "start_time": "2022-06-15T17:36:05.553Z"
   },
   {
    "duration": 23,
    "start_time": "2022-06-15T17:36:05.783Z"
   },
   {
    "duration": 397,
    "start_time": "2022-06-15T17:36:05.808Z"
   },
   {
    "duration": 237,
    "start_time": "2022-06-15T17:36:06.208Z"
   },
   {
    "duration": 9,
    "start_time": "2022-06-15T17:36:06.449Z"
   },
   {
    "duration": 19,
    "start_time": "2022-06-15T17:36:06.460Z"
   },
   {
    "duration": 46,
    "start_time": "2022-06-15T17:36:06.482Z"
   },
   {
    "duration": 10,
    "start_time": "2022-06-15T17:36:06.530Z"
   },
   {
    "duration": 35,
    "start_time": "2022-06-15T17:36:06.541Z"
   },
   {
    "duration": 270,
    "start_time": "2022-06-15T17:36:06.579Z"
   },
   {
    "duration": 11,
    "start_time": "2022-06-15T17:36:06.852Z"
   },
   {
    "duration": 386,
    "start_time": "2022-06-15T17:36:06.865Z"
   },
   {
    "duration": 7,
    "start_time": "2022-06-15T17:36:07.253Z"
   },
   {
    "duration": 17,
    "start_time": "2022-06-15T17:36:07.263Z"
   },
   {
    "duration": 158,
    "start_time": "2022-06-15T17:36:07.282Z"
   },
   {
    "duration": 7,
    "start_time": "2022-06-15T17:36:07.442Z"
   },
   {
    "duration": 25,
    "start_time": "2022-06-15T17:36:07.450Z"
   },
   {
    "duration": 42,
    "start_time": "2022-06-15T17:36:07.477Z"
   },
   {
    "duration": 160,
    "start_time": "2022-06-15T17:36:07.521Z"
   },
   {
    "duration": 5,
    "start_time": "2022-06-15T17:36:07.683Z"
   },
   {
    "duration": 65,
    "start_time": "2022-06-15T17:36:07.690Z"
   },
   {
    "duration": 63,
    "start_time": "2022-06-15T17:36:07.757Z"
   },
   {
    "duration": 18,
    "start_time": "2022-06-15T17:36:07.822Z"
   },
   {
    "duration": 22,
    "start_time": "2022-06-15T17:36:07.842Z"
   },
   {
    "duration": 64,
    "start_time": "2022-06-15T17:36:07.866Z"
   },
   {
    "duration": 11,
    "start_time": "2022-06-15T17:36:07.933Z"
   },
   {
    "duration": 30,
    "start_time": "2022-06-15T17:36:07.946Z"
   },
   {
    "duration": 15,
    "start_time": "2022-06-15T17:36:07.981Z"
   },
   {
    "duration": 8,
    "start_time": "2022-06-15T17:40:09.570Z"
   },
   {
    "duration": 7,
    "start_time": "2022-06-15T17:46:13.253Z"
   },
   {
    "duration": 7,
    "start_time": "2022-06-15T17:47:37.681Z"
   },
   {
    "duration": 7,
    "start_time": "2022-06-15T17:47:52.155Z"
   },
   {
    "duration": 12,
    "start_time": "2022-06-15T17:48:00.630Z"
   },
   {
    "duration": 7,
    "start_time": "2022-06-15T17:48:59.497Z"
   },
   {
    "duration": 5,
    "start_time": "2022-06-15T17:49:21.153Z"
   },
   {
    "duration": 7,
    "start_time": "2022-06-15T17:49:31.355Z"
   },
   {
    "duration": 5,
    "start_time": "2022-06-15T17:50:04.078Z"
   },
   {
    "duration": 6,
    "start_time": "2022-06-15T17:50:40.557Z"
   },
   {
    "duration": 7,
    "start_time": "2022-06-15T17:50:54.481Z"
   },
   {
    "duration": 103,
    "start_time": "2022-06-15T17:51:09.960Z"
   },
   {
    "duration": 13,
    "start_time": "2022-06-15T17:52:36.341Z"
   },
   {
    "duration": 6,
    "start_time": "2022-06-15T17:52:51.101Z"
   },
   {
    "duration": 4,
    "start_time": "2022-06-15T17:53:20.955Z"
   },
   {
    "duration": 6,
    "start_time": "2022-06-15T17:54:00.865Z"
   },
   {
    "duration": 4,
    "start_time": "2022-06-15T17:54:27.682Z"
   },
   {
    "duration": 11,
    "start_time": "2022-06-15T17:54:35.264Z"
   },
   {
    "duration": 7,
    "start_time": "2022-06-15T17:54:53.229Z"
   },
   {
    "duration": 8,
    "start_time": "2022-06-15T17:55:04.012Z"
   },
   {
    "duration": 4,
    "start_time": "2022-06-15T17:55:14.424Z"
   },
   {
    "duration": 4,
    "start_time": "2022-06-15T17:55:34.331Z"
   },
   {
    "duration": 7,
    "start_time": "2022-06-15T17:55:47.875Z"
   },
   {
    "duration": 3,
    "start_time": "2022-06-15T17:56:25.276Z"
   },
   {
    "duration": 9,
    "start_time": "2022-06-15T17:58:05.431Z"
   },
   {
    "duration": 4,
    "start_time": "2022-06-15T17:58:10.637Z"
   },
   {
    "duration": 4,
    "start_time": "2022-06-15T17:58:12.924Z"
   },
   {
    "duration": 3,
    "start_time": "2022-06-15T17:58:20.742Z"
   },
   {
    "duration": 4,
    "start_time": "2022-06-15T17:59:47.310Z"
   },
   {
    "duration": 6,
    "start_time": "2022-06-15T18:00:35.434Z"
   },
   {
    "duration": 6,
    "start_time": "2022-06-15T18:02:26.253Z"
   },
   {
    "duration": 12,
    "start_time": "2022-06-15T18:03:27.635Z"
   },
   {
    "duration": 7,
    "start_time": "2022-06-15T18:03:42.417Z"
   },
   {
    "duration": 4,
    "start_time": "2022-06-15T18:05:17.209Z"
   },
   {
    "duration": 5,
    "start_time": "2022-06-15T18:05:29.399Z"
   },
   {
    "duration": 36,
    "start_time": "2022-06-15T18:07:38.465Z"
   },
   {
    "duration": 8,
    "start_time": "2022-06-15T18:08:28.204Z"
   },
   {
    "duration": 8,
    "start_time": "2022-06-15T18:08:40.951Z"
   },
   {
    "duration": 7,
    "start_time": "2022-06-15T18:08:51.501Z"
   },
   {
    "duration": 7,
    "start_time": "2022-06-15T18:12:13.737Z"
   },
   {
    "duration": 5,
    "start_time": "2022-06-15T18:12:43.725Z"
   },
   {
    "duration": 12,
    "start_time": "2022-06-15T18:14:35.986Z"
   },
   {
    "duration": 7,
    "start_time": "2022-06-15T18:14:56.233Z"
   },
   {
    "duration": 6,
    "start_time": "2022-06-15T18:15:01.835Z"
   },
   {
    "duration": 9,
    "start_time": "2022-06-15T18:17:55.266Z"
   },
   {
    "duration": 14,
    "start_time": "2022-06-15T18:18:17.167Z"
   },
   {
    "duration": 10,
    "start_time": "2022-06-15T18:18:34.158Z"
   },
   {
    "duration": 10,
    "start_time": "2022-06-15T18:19:34.774Z"
   },
   {
    "duration": 997,
    "start_time": "2022-06-15T18:19:55.064Z"
   },
   {
    "duration": 29,
    "start_time": "2022-06-15T18:19:56.063Z"
   },
   {
    "duration": 11,
    "start_time": "2022-06-15T18:19:56.093Z"
   },
   {
    "duration": 25,
    "start_time": "2022-06-15T18:19:56.106Z"
   },
   {
    "duration": 10,
    "start_time": "2022-06-15T18:19:56.132Z"
   },
   {
    "duration": 12,
    "start_time": "2022-06-15T18:19:56.143Z"
   },
   {
    "duration": 34,
    "start_time": "2022-06-15T18:19:56.156Z"
   },
   {
    "duration": 20,
    "start_time": "2022-06-15T18:19:56.192Z"
   },
   {
    "duration": 12,
    "start_time": "2022-06-15T18:19:56.214Z"
   },
   {
    "duration": 8,
    "start_time": "2022-06-15T18:19:56.228Z"
   },
   {
    "duration": 179,
    "start_time": "2022-06-15T18:19:56.238Z"
   },
   {
    "duration": 4,
    "start_time": "2022-06-15T18:19:56.419Z"
   },
   {
    "duration": 16,
    "start_time": "2022-06-15T18:19:56.425Z"
   },
   {
    "duration": 251,
    "start_time": "2022-06-15T18:19:56.443Z"
   },
   {
    "duration": 175,
    "start_time": "2022-06-15T18:19:56.696Z"
   },
   {
    "duration": 6,
    "start_time": "2022-06-15T18:19:56.873Z"
   },
   {
    "duration": 300,
    "start_time": "2022-06-15T18:19:56.880Z"
   },
   {
    "duration": 141,
    "start_time": "2022-06-15T18:19:57.181Z"
   },
   {
    "duration": 8,
    "start_time": "2022-06-15T18:19:57.331Z"
   },
   {
    "duration": 7,
    "start_time": "2022-06-15T18:19:57.341Z"
   },
   {
    "duration": 6,
    "start_time": "2022-06-15T18:19:57.350Z"
   },
   {
    "duration": 9,
    "start_time": "2022-06-15T18:19:57.358Z"
   },
   {
    "duration": 8,
    "start_time": "2022-06-15T18:19:57.368Z"
   },
   {
    "duration": 234,
    "start_time": "2022-06-15T18:19:57.378Z"
   },
   {
    "duration": 9,
    "start_time": "2022-06-15T18:19:57.613Z"
   },
   {
    "duration": 260,
    "start_time": "2022-06-15T18:19:57.624Z"
   },
   {
    "duration": 13,
    "start_time": "2022-06-15T18:19:57.885Z"
   },
   {
    "duration": 13,
    "start_time": "2022-06-15T18:19:57.903Z"
   },
   {
    "duration": 105,
    "start_time": "2022-06-15T18:19:57.918Z"
   },
   {
    "duration": 4,
    "start_time": "2022-06-15T18:19:58.025Z"
   },
   {
    "duration": 7,
    "start_time": "2022-06-15T18:19:58.031Z"
   },
   {
    "duration": 9,
    "start_time": "2022-06-15T18:19:58.039Z"
   },
   {
    "duration": 137,
    "start_time": "2022-06-15T18:19:58.050Z"
   },
   {
    "duration": 6,
    "start_time": "2022-06-15T18:19:58.189Z"
   },
   {
    "duration": 20,
    "start_time": "2022-06-15T18:19:58.197Z"
   },
   {
    "duration": 9,
    "start_time": "2022-06-15T18:19:58.219Z"
   },
   {
    "duration": 6,
    "start_time": "2022-06-15T18:19:58.230Z"
   },
   {
    "duration": 6,
    "start_time": "2022-06-15T18:19:58.237Z"
   },
   {
    "duration": 21,
    "start_time": "2022-06-15T18:19:58.245Z"
   },
   {
    "duration": 5,
    "start_time": "2022-06-15T18:19:58.267Z"
   },
   {
    "duration": 26,
    "start_time": "2022-06-15T18:19:58.273Z"
   },
   {
    "duration": 19,
    "start_time": "2022-06-15T18:19:58.301Z"
   },
   {
    "duration": 7,
    "start_time": "2022-06-15T18:19:58.322Z"
   },
   {
    "duration": 6,
    "start_time": "2022-06-15T18:19:58.330Z"
   },
   {
    "duration": 8,
    "start_time": "2022-06-15T18:19:58.337Z"
   },
   {
    "duration": 12,
    "start_time": "2022-06-15T18:19:58.349Z"
   },
   {
    "duration": 8,
    "start_time": "2022-06-15T18:19:58.363Z"
   },
   {
    "duration": 97,
    "start_time": "2022-06-15T18:19:58.372Z"
   },
   {
    "duration": 11,
    "start_time": "2022-06-15T18:20:12.741Z"
   },
   {
    "duration": 5,
    "start_time": "2022-06-15T18:20:27.344Z"
   },
   {
    "duration": 5,
    "start_time": "2022-06-15T18:20:35.282Z"
   },
   {
    "duration": 12,
    "start_time": "2022-06-15T18:21:25.709Z"
   },
   {
    "duration": 4,
    "start_time": "2022-06-15T18:21:57.869Z"
   },
   {
    "duration": 5,
    "start_time": "2022-06-15T18:22:02.377Z"
   },
   {
    "duration": 5,
    "start_time": "2022-06-15T18:23:25.353Z"
   },
   {
    "duration": 5,
    "start_time": "2022-06-15T18:23:50.242Z"
   },
   {
    "duration": 22,
    "start_time": "2022-06-15T18:24:06.008Z"
   },
   {
    "duration": 25,
    "start_time": "2022-06-15T18:24:20.181Z"
   },
   {
    "duration": 11,
    "start_time": "2022-06-15T18:41:14.376Z"
   },
   {
    "duration": 11,
    "start_time": "2022-06-15T18:47:24.693Z"
   },
   {
    "duration": 10,
    "start_time": "2022-06-15T18:48:48.672Z"
   },
   {
    "duration": 9,
    "start_time": "2022-06-15T19:05:57.958Z"
   },
   {
    "duration": 8,
    "start_time": "2022-06-15T19:06:15.441Z"
   },
   {
    "duration": 8,
    "start_time": "2022-06-15T19:06:41.352Z"
   },
   {
    "duration": 996,
    "start_time": "2022-06-15T20:32:35.510Z"
   },
   {
    "duration": 26,
    "start_time": "2022-06-15T20:32:36.507Z"
   },
   {
    "duration": 6,
    "start_time": "2022-06-15T20:32:36.534Z"
   },
   {
    "duration": 12,
    "start_time": "2022-06-15T20:32:36.541Z"
   },
   {
    "duration": 4,
    "start_time": "2022-06-15T20:32:36.554Z"
   },
   {
    "duration": 11,
    "start_time": "2022-06-15T20:32:36.559Z"
   },
   {
    "duration": 36,
    "start_time": "2022-06-15T20:32:36.571Z"
   },
   {
    "duration": 14,
    "start_time": "2022-06-15T20:32:36.609Z"
   },
   {
    "duration": 18,
    "start_time": "2022-06-15T20:32:36.625Z"
   },
   {
    "duration": 9,
    "start_time": "2022-06-15T20:32:36.645Z"
   },
   {
    "duration": 154,
    "start_time": "2022-06-15T20:32:36.656Z"
   },
   {
    "duration": 5,
    "start_time": "2022-06-15T20:32:36.811Z"
   },
   {
    "duration": 8,
    "start_time": "2022-06-15T20:32:36.817Z"
   },
   {
    "duration": 239,
    "start_time": "2022-06-15T20:32:36.827Z"
   },
   {
    "duration": 174,
    "start_time": "2022-06-15T20:32:37.068Z"
   },
   {
    "duration": 6,
    "start_time": "2022-06-15T20:32:37.243Z"
   },
   {
    "duration": 288,
    "start_time": "2022-06-15T20:32:37.250Z"
   },
   {
    "duration": 128,
    "start_time": "2022-06-15T20:32:37.540Z"
   },
   {
    "duration": 9,
    "start_time": "2022-06-15T20:32:37.670Z"
   },
   {
    "duration": 13,
    "start_time": "2022-06-15T20:32:37.681Z"
   },
   {
    "duration": 6,
    "start_time": "2022-06-15T20:32:37.696Z"
   },
   {
    "duration": 7,
    "start_time": "2022-06-15T20:32:37.703Z"
   },
   {
    "duration": 6,
    "start_time": "2022-06-15T20:32:37.711Z"
   },
   {
    "duration": 190,
    "start_time": "2022-06-15T20:32:37.718Z"
   },
   {
    "duration": 8,
    "start_time": "2022-06-15T20:32:37.909Z"
   },
   {
    "duration": 269,
    "start_time": "2022-06-15T20:32:37.918Z"
   },
   {
    "duration": 6,
    "start_time": "2022-06-15T20:32:38.195Z"
   },
   {
    "duration": 6,
    "start_time": "2022-06-15T20:32:38.204Z"
   },
   {
    "duration": 126,
    "start_time": "2022-06-15T20:32:38.212Z"
   },
   {
    "duration": 5,
    "start_time": "2022-06-15T20:32:38.340Z"
   },
   {
    "duration": 5,
    "start_time": "2022-06-15T20:32:38.347Z"
   },
   {
    "duration": 7,
    "start_time": "2022-06-15T20:32:38.353Z"
   },
   {
    "duration": 144,
    "start_time": "2022-06-15T20:32:38.361Z"
   },
   {
    "duration": 5,
    "start_time": "2022-06-15T20:32:38.507Z"
   },
   {
    "duration": 11,
    "start_time": "2022-06-15T20:32:38.513Z"
   },
   {
    "duration": 7,
    "start_time": "2022-06-15T20:32:38.526Z"
   },
   {
    "duration": 5,
    "start_time": "2022-06-15T20:32:38.535Z"
   },
   {
    "duration": 5,
    "start_time": "2022-06-15T20:32:38.541Z"
   },
   {
    "duration": 23,
    "start_time": "2022-06-15T20:32:38.547Z"
   },
   {
    "duration": 4,
    "start_time": "2022-06-15T20:32:38.594Z"
   },
   {
    "duration": 9,
    "start_time": "2022-06-15T20:32:38.600Z"
   },
   {
    "duration": 6,
    "start_time": "2022-06-15T20:32:38.611Z"
   },
   {
    "duration": 6,
    "start_time": "2022-06-15T20:32:38.620Z"
   },
   {
    "duration": 8,
    "start_time": "2022-06-15T20:32:38.627Z"
   },
   {
    "duration": 6,
    "start_time": "2022-06-15T20:32:38.637Z"
   },
   {
    "duration": 8,
    "start_time": "2022-06-15T20:32:38.644Z"
   },
   {
    "duration": 6,
    "start_time": "2022-06-15T20:32:38.653Z"
   },
   {
    "duration": 49,
    "start_time": "2022-06-15T20:32:38.661Z"
   },
   {
    "duration": 5,
    "start_time": "2022-06-15T20:32:38.711Z"
   },
   {
    "duration": 11,
    "start_time": "2022-06-15T20:32:38.717Z"
   },
   {
    "duration": 7,
    "start_time": "2022-06-15T20:32:38.729Z"
   },
   {
    "duration": 11,
    "start_time": "2022-06-15T21:08:39.569Z"
   },
   {
    "duration": 5,
    "start_time": "2022-06-15T21:09:33.448Z"
   },
   {
    "duration": 5,
    "start_time": "2022-06-15T21:09:40.906Z"
   },
   {
    "duration": 1157,
    "start_time": "2022-06-16T09:52:33.008Z"
   },
   {
    "duration": 66,
    "start_time": "2022-06-16T09:52:34.167Z"
   },
   {
    "duration": 6,
    "start_time": "2022-06-16T09:52:34.235Z"
   },
   {
    "duration": 21,
    "start_time": "2022-06-16T09:52:34.243Z"
   },
   {
    "duration": 5,
    "start_time": "2022-06-16T09:52:34.267Z"
   },
   {
    "duration": 14,
    "start_time": "2022-06-16T09:52:34.274Z"
   },
   {
    "duration": 68,
    "start_time": "2022-06-16T09:52:34.289Z"
   },
   {
    "duration": 52,
    "start_time": "2022-06-16T09:52:34.359Z"
   },
   {
    "duration": 12,
    "start_time": "2022-06-16T09:52:34.413Z"
   },
   {
    "duration": 10,
    "start_time": "2022-06-16T09:52:34.426Z"
   },
   {
    "duration": 147,
    "start_time": "2022-06-16T09:52:34.437Z"
   },
   {
    "duration": 4,
    "start_time": "2022-06-16T09:52:34.586Z"
   },
   {
    "duration": 8,
    "start_time": "2022-06-16T09:52:34.591Z"
   },
   {
    "duration": 247,
    "start_time": "2022-06-16T09:52:34.602Z"
   },
   {
    "duration": 167,
    "start_time": "2022-06-16T09:52:34.850Z"
   },
   {
    "duration": 5,
    "start_time": "2022-06-16T09:52:35.019Z"
   },
   {
    "duration": 319,
    "start_time": "2022-06-16T09:52:35.025Z"
   },
   {
    "duration": 130,
    "start_time": "2022-06-16T09:52:35.345Z"
   },
   {
    "duration": 17,
    "start_time": "2022-06-16T09:52:35.477Z"
   },
   {
    "duration": 8,
    "start_time": "2022-06-16T09:52:35.496Z"
   },
   {
    "duration": 8,
    "start_time": "2022-06-16T09:52:35.506Z"
   },
   {
    "duration": 5,
    "start_time": "2022-06-16T09:52:35.515Z"
   },
   {
    "duration": 5,
    "start_time": "2022-06-16T09:52:35.522Z"
   },
   {
    "duration": 177,
    "start_time": "2022-06-16T09:52:35.528Z"
   },
   {
    "duration": 8,
    "start_time": "2022-06-16T09:52:35.706Z"
   },
   {
    "duration": 264,
    "start_time": "2022-06-16T09:52:35.715Z"
   },
   {
    "duration": 6,
    "start_time": "2022-06-16T09:52:35.981Z"
   },
   {
    "duration": 11,
    "start_time": "2022-06-16T09:52:35.994Z"
   },
   {
    "duration": 107,
    "start_time": "2022-06-16T09:52:36.007Z"
   },
   {
    "duration": 5,
    "start_time": "2022-06-16T09:52:36.116Z"
   },
   {
    "duration": 9,
    "start_time": "2022-06-16T09:52:36.122Z"
   },
   {
    "duration": 8,
    "start_time": "2022-06-16T09:52:36.132Z"
   },
   {
    "duration": 118,
    "start_time": "2022-06-16T09:52:36.141Z"
   },
   {
    "duration": 4,
    "start_time": "2022-06-16T09:52:36.261Z"
   },
   {
    "duration": 8,
    "start_time": "2022-06-16T09:52:36.266Z"
   },
   {
    "duration": 19,
    "start_time": "2022-06-16T09:52:36.275Z"
   },
   {
    "duration": 7,
    "start_time": "2022-06-16T09:52:36.295Z"
   },
   {
    "duration": 6,
    "start_time": "2022-06-16T09:52:36.303Z"
   },
   {
    "duration": 21,
    "start_time": "2022-06-16T09:52:36.310Z"
   },
   {
    "duration": 5,
    "start_time": "2022-06-16T09:52:36.333Z"
   },
   {
    "duration": 11,
    "start_time": "2022-06-16T09:52:36.342Z"
   },
   {
    "duration": 8,
    "start_time": "2022-06-16T09:52:36.354Z"
   },
   {
    "duration": 34,
    "start_time": "2022-06-16T09:52:36.364Z"
   },
   {
    "duration": 8,
    "start_time": "2022-06-16T09:52:36.400Z"
   },
   {
    "duration": 8,
    "start_time": "2022-06-16T09:52:36.411Z"
   },
   {
    "duration": 7,
    "start_time": "2022-06-16T09:52:36.421Z"
   },
   {
    "duration": 8,
    "start_time": "2022-06-16T09:52:36.430Z"
   },
   {
    "duration": 20,
    "start_time": "2022-06-16T09:52:36.440Z"
   },
   {
    "duration": 4,
    "start_time": "2022-06-16T09:52:36.462Z"
   },
   {
    "duration": 29,
    "start_time": "2022-06-16T09:52:36.468Z"
   },
   {
    "duration": 7,
    "start_time": "2022-06-16T09:52:36.498Z"
   },
   {
    "duration": 1026,
    "start_time": "2022-06-16T09:55:40.426Z"
   },
   {
    "duration": 26,
    "start_time": "2022-06-16T09:55:41.453Z"
   },
   {
    "duration": 6,
    "start_time": "2022-06-16T09:55:41.480Z"
   },
   {
    "duration": 14,
    "start_time": "2022-06-16T09:55:41.488Z"
   },
   {
    "duration": 6,
    "start_time": "2022-06-16T09:55:41.503Z"
   },
   {
    "duration": 17,
    "start_time": "2022-06-16T09:55:41.511Z"
   },
   {
    "duration": 38,
    "start_time": "2022-06-16T09:55:41.530Z"
   },
   {
    "duration": 15,
    "start_time": "2022-06-16T09:55:41.570Z"
   },
   {
    "duration": 13,
    "start_time": "2022-06-16T09:55:41.586Z"
   },
   {
    "duration": 9,
    "start_time": "2022-06-16T09:55:41.601Z"
   },
   {
    "duration": 153,
    "start_time": "2022-06-16T09:55:41.611Z"
   },
   {
    "duration": 5,
    "start_time": "2022-06-16T09:55:41.765Z"
   },
   {
    "duration": 6,
    "start_time": "2022-06-16T09:55:41.772Z"
   },
   {
    "duration": 255,
    "start_time": "2022-06-16T09:55:41.781Z"
   },
   {
    "duration": 180,
    "start_time": "2022-06-16T09:55:42.038Z"
   },
   {
    "duration": 6,
    "start_time": "2022-06-16T09:55:42.220Z"
   },
   {
    "duration": 335,
    "start_time": "2022-06-16T09:55:42.227Z"
   },
   {
    "duration": 231,
    "start_time": "2022-06-16T09:55:42.563Z"
   },
   {
    "duration": 7,
    "start_time": "2022-06-16T09:55:42.796Z"
   },
   {
    "duration": 6,
    "start_time": "2022-06-16T09:55:42.804Z"
   },
   {
    "duration": 7,
    "start_time": "2022-06-16T09:55:42.811Z"
   },
   {
    "duration": 6,
    "start_time": "2022-06-16T09:55:42.820Z"
   },
   {
    "duration": 7,
    "start_time": "2022-06-16T09:55:42.828Z"
   },
   {
    "duration": 385,
    "start_time": "2022-06-16T09:55:42.836Z"
   },
   {
    "duration": 7,
    "start_time": "2022-06-16T09:55:43.223Z"
   },
   {
    "duration": 367,
    "start_time": "2022-06-16T09:55:43.232Z"
   },
   {
    "duration": 6,
    "start_time": "2022-06-16T09:55:43.600Z"
   },
   {
    "duration": 5,
    "start_time": "2022-06-16T09:55:43.607Z"
   },
   {
    "duration": 123,
    "start_time": "2022-06-16T09:55:43.613Z"
   },
   {
    "duration": 5,
    "start_time": "2022-06-16T09:55:43.737Z"
   },
   {
    "duration": 9,
    "start_time": "2022-06-16T09:55:43.744Z"
   },
   {
    "duration": 14,
    "start_time": "2022-06-16T09:55:43.754Z"
   },
   {
    "duration": 143,
    "start_time": "2022-06-16T09:55:43.769Z"
   },
   {
    "duration": 5,
    "start_time": "2022-06-16T09:55:43.914Z"
   },
   {
    "duration": 7,
    "start_time": "2022-06-16T09:55:43.920Z"
   },
   {
    "duration": 6,
    "start_time": "2022-06-16T09:55:43.929Z"
   },
   {
    "duration": 5,
    "start_time": "2022-06-16T09:55:43.936Z"
   },
   {
    "duration": 6,
    "start_time": "2022-06-16T09:55:43.942Z"
   },
   {
    "duration": 51,
    "start_time": "2022-06-16T09:55:43.950Z"
   },
   {
    "duration": 5,
    "start_time": "2022-06-16T09:55:44.003Z"
   },
   {
    "duration": 8,
    "start_time": "2022-06-16T09:55:44.013Z"
   },
   {
    "duration": 11,
    "start_time": "2022-06-16T09:55:44.022Z"
   },
   {
    "duration": 5,
    "start_time": "2022-06-16T09:55:44.036Z"
   },
   {
    "duration": 11,
    "start_time": "2022-06-16T09:55:44.043Z"
   },
   {
    "duration": 8,
    "start_time": "2022-06-16T09:55:44.055Z"
   },
   {
    "duration": 31,
    "start_time": "2022-06-16T09:55:44.064Z"
   },
   {
    "duration": 9,
    "start_time": "2022-06-16T09:55:44.096Z"
   },
   {
    "duration": 21,
    "start_time": "2022-06-16T09:55:44.106Z"
   },
   {
    "duration": 4,
    "start_time": "2022-06-16T09:55:44.128Z"
   },
   {
    "duration": 12,
    "start_time": "2022-06-16T09:55:44.134Z"
   },
   {
    "duration": 8,
    "start_time": "2022-06-16T09:55:44.147Z"
   },
   {
    "duration": 1247,
    "start_time": "2022-06-16T18:54:02.728Z"
   },
   {
    "duration": 63,
    "start_time": "2022-06-16T18:54:03.977Z"
   },
   {
    "duration": 6,
    "start_time": "2022-06-16T18:54:04.042Z"
   },
   {
    "duration": 16,
    "start_time": "2022-06-16T18:54:04.050Z"
   },
   {
    "duration": 4,
    "start_time": "2022-06-16T18:54:04.068Z"
   },
   {
    "duration": 14,
    "start_time": "2022-06-16T18:54:04.074Z"
   },
   {
    "duration": 94,
    "start_time": "2022-06-16T18:54:04.090Z"
   },
   {
    "duration": 54,
    "start_time": "2022-06-16T18:54:04.186Z"
   },
   {
    "duration": 14,
    "start_time": "2022-06-16T18:54:04.242Z"
   },
   {
    "duration": 7,
    "start_time": "2022-06-16T18:54:04.259Z"
   },
   {
    "duration": 184,
    "start_time": "2022-06-16T18:54:04.268Z"
   },
   {
    "duration": 4,
    "start_time": "2022-06-16T18:54:04.454Z"
   },
   {
    "duration": 9,
    "start_time": "2022-06-16T18:54:04.460Z"
   },
   {
    "duration": 300,
    "start_time": "2022-06-16T18:54:04.471Z"
   },
   {
    "duration": 210,
    "start_time": "2022-06-16T18:54:04.772Z"
   },
   {
    "duration": 7,
    "start_time": "2022-06-16T18:54:04.984Z"
   },
   {
    "duration": 353,
    "start_time": "2022-06-16T18:54:04.995Z"
   },
   {
    "duration": 132,
    "start_time": "2022-06-16T18:54:05.349Z"
   },
   {
    "duration": 12,
    "start_time": "2022-06-16T18:54:05.483Z"
   },
   {
    "duration": 19,
    "start_time": "2022-06-16T18:54:05.497Z"
   },
   {
    "duration": 7,
    "start_time": "2022-06-16T18:54:05.518Z"
   },
   {
    "duration": 6,
    "start_time": "2022-06-16T18:54:05.526Z"
   },
   {
    "duration": 6,
    "start_time": "2022-06-16T18:54:05.534Z"
   },
   {
    "duration": 206,
    "start_time": "2022-06-16T18:54:05.542Z"
   },
   {
    "duration": 8,
    "start_time": "2022-06-16T18:54:05.749Z"
   },
   {
    "duration": 319,
    "start_time": "2022-06-16T18:54:05.758Z"
   },
   {
    "duration": 17,
    "start_time": "2022-06-16T18:54:06.078Z"
   },
   {
    "duration": 4,
    "start_time": "2022-06-16T18:54:06.102Z"
   },
   {
    "duration": 129,
    "start_time": "2022-06-16T18:54:06.109Z"
   },
   {
    "duration": 5,
    "start_time": "2022-06-16T18:54:06.239Z"
   },
   {
    "duration": 10,
    "start_time": "2022-06-16T18:54:06.245Z"
   },
   {
    "duration": 7,
    "start_time": "2022-06-16T18:54:06.257Z"
   },
   {
    "duration": 152,
    "start_time": "2022-06-16T18:54:06.265Z"
   },
   {
    "duration": 4,
    "start_time": "2022-06-16T18:54:06.419Z"
   },
   {
    "duration": 10,
    "start_time": "2022-06-16T18:54:06.425Z"
   },
   {
    "duration": 11,
    "start_time": "2022-06-16T18:54:06.436Z"
   },
   {
    "duration": 5,
    "start_time": "2022-06-16T18:54:06.449Z"
   },
   {
    "duration": 9,
    "start_time": "2022-06-16T18:54:06.455Z"
   },
   {
    "duration": 55,
    "start_time": "2022-06-16T18:54:06.465Z"
   },
   {
    "duration": 4,
    "start_time": "2022-06-16T18:54:06.522Z"
   },
   {
    "duration": 14,
    "start_time": "2022-06-16T18:54:06.528Z"
   },
   {
    "duration": 8,
    "start_time": "2022-06-16T18:54:06.543Z"
   },
   {
    "duration": 7,
    "start_time": "2022-06-16T18:54:06.552Z"
   },
   {
    "duration": 7,
    "start_time": "2022-06-16T18:54:06.560Z"
   },
   {
    "duration": 7,
    "start_time": "2022-06-16T18:54:06.569Z"
   },
   {
    "duration": 34,
    "start_time": "2022-06-16T18:54:06.577Z"
   },
   {
    "duration": 8,
    "start_time": "2022-06-16T18:54:06.613Z"
   },
   {
    "duration": 22,
    "start_time": "2022-06-16T18:54:06.622Z"
   },
   {
    "duration": 5,
    "start_time": "2022-06-16T18:54:06.645Z"
   },
   {
    "duration": 12,
    "start_time": "2022-06-16T18:54:06.651Z"
   },
   {
    "duration": 8,
    "start_time": "2022-06-16T18:54:06.664Z"
   },
   {
    "duration": 187,
    "start_time": "2022-06-16T18:58:20.806Z"
   },
   {
    "duration": 202,
    "start_time": "2022-06-16T18:59:10.846Z"
   },
   {
    "duration": 331,
    "start_time": "2022-06-16T19:00:08.163Z"
   },
   {
    "duration": 229,
    "start_time": "2022-06-16T19:00:22.017Z"
   },
   {
    "duration": 247,
    "start_time": "2022-06-16T19:00:32.386Z"
   },
   {
    "duration": 209,
    "start_time": "2022-06-16T19:00:43.317Z"
   },
   {
    "duration": 207,
    "start_time": "2022-06-16T19:01:40.117Z"
   },
   {
    "duration": 200,
    "start_time": "2022-06-16T19:01:47.413Z"
   },
   {
    "duration": 304,
    "start_time": "2022-06-16T19:02:00.010Z"
   },
   {
    "duration": 268,
    "start_time": "2022-06-16T19:02:48.532Z"
   },
   {
    "duration": 344,
    "start_time": "2022-06-16T19:04:08.595Z"
   },
   {
    "duration": 13,
    "start_time": "2022-06-16T19:07:35.711Z"
   },
   {
    "duration": 220,
    "start_time": "2022-06-16T19:08:22.750Z"
   },
   {
    "duration": 204,
    "start_time": "2022-06-16T19:08:29.415Z"
   },
   {
    "duration": 400,
    "start_time": "2022-06-16T19:10:06.002Z"
   },
   {
    "duration": 284,
    "start_time": "2022-06-16T19:10:12.529Z"
   },
   {
    "duration": 123,
    "start_time": "2022-06-16T19:10:25.347Z"
   },
   {
    "duration": 126,
    "start_time": "2022-06-16T19:12:52.922Z"
   },
   {
    "duration": 124,
    "start_time": "2022-06-16T19:14:19.488Z"
   },
   {
    "duration": 183,
    "start_time": "2022-06-16T19:14:28.971Z"
   },
   {
    "duration": 223,
    "start_time": "2022-06-16T19:15:59.411Z"
   },
   {
    "duration": 237,
    "start_time": "2022-06-16T19:16:05.273Z"
   },
   {
    "duration": 163,
    "start_time": "2022-06-16T19:17:10.157Z"
   },
   {
    "duration": 158,
    "start_time": "2022-06-16T19:20:27.310Z"
   },
   {
    "duration": 145,
    "start_time": "2022-06-16T19:20:36.568Z"
   },
   {
    "duration": 149,
    "start_time": "2022-06-16T19:20:57.690Z"
   },
   {
    "duration": 1196,
    "start_time": "2022-06-18T21:07:40.051Z"
   },
   {
    "duration": 70,
    "start_time": "2022-06-18T21:07:41.249Z"
   },
   {
    "duration": 5,
    "start_time": "2022-06-18T21:07:41.321Z"
   },
   {
    "duration": 14,
    "start_time": "2022-06-18T21:07:41.328Z"
   },
   {
    "duration": 5,
    "start_time": "2022-06-18T21:07:41.343Z"
   },
   {
    "duration": 15,
    "start_time": "2022-06-18T21:07:41.349Z"
   },
   {
    "duration": 81,
    "start_time": "2022-06-18T21:07:41.366Z"
   },
   {
    "duration": 54,
    "start_time": "2022-06-18T21:07:41.449Z"
   },
   {
    "duration": 12,
    "start_time": "2022-06-18T21:07:41.505Z"
   },
   {
    "duration": 9,
    "start_time": "2022-06-18T21:07:41.520Z"
   },
   {
    "duration": 154,
    "start_time": "2022-06-18T21:07:41.530Z"
   },
   {
    "duration": 10,
    "start_time": "2022-06-18T21:07:41.685Z"
   },
   {
    "duration": 7,
    "start_time": "2022-06-18T21:07:41.696Z"
   },
   {
    "duration": 280,
    "start_time": "2022-06-18T21:07:41.704Z"
   },
   {
    "duration": 198,
    "start_time": "2022-06-18T21:07:41.986Z"
   },
   {
    "duration": 13,
    "start_time": "2022-06-18T21:07:42.185Z"
   },
   {
    "duration": 350,
    "start_time": "2022-06-18T21:07:42.199Z"
   },
   {
    "duration": 120,
    "start_time": "2022-06-18T21:07:42.551Z"
   },
   {
    "duration": 7,
    "start_time": "2022-06-18T21:07:42.673Z"
   },
   {
    "duration": 14,
    "start_time": "2022-06-18T21:07:42.682Z"
   },
   {
    "duration": 16,
    "start_time": "2022-06-18T21:07:42.697Z"
   },
   {
    "duration": 7,
    "start_time": "2022-06-18T21:07:42.715Z"
   },
   {
    "duration": 6,
    "start_time": "2022-06-18T21:07:42.724Z"
   },
   {
    "duration": 202,
    "start_time": "2022-06-18T21:07:42.731Z"
   },
   {
    "duration": 8,
    "start_time": "2022-06-18T21:07:42.934Z"
   },
   {
    "duration": 277,
    "start_time": "2022-06-18T21:07:42.943Z"
   },
   {
    "duration": 7,
    "start_time": "2022-06-18T21:07:43.222Z"
   },
   {
    "duration": 5,
    "start_time": "2022-06-18T21:07:43.232Z"
   },
   {
    "duration": 143,
    "start_time": "2022-06-18T21:07:43.239Z"
   },
   {
    "duration": 10,
    "start_time": "2022-06-18T21:07:43.384Z"
   },
   {
    "duration": 4,
    "start_time": "2022-06-18T21:07:43.395Z"
   },
   {
    "duration": 7,
    "start_time": "2022-06-18T21:07:43.400Z"
   },
   {
    "duration": 165,
    "start_time": "2022-06-18T21:07:43.409Z"
   },
   {
    "duration": 5,
    "start_time": "2022-06-18T21:07:43.576Z"
   },
   {
    "duration": 18,
    "start_time": "2022-06-18T21:07:43.582Z"
   },
   {
    "duration": 23,
    "start_time": "2022-06-18T21:07:43.601Z"
   },
   {
    "duration": 22,
    "start_time": "2022-06-18T21:07:43.625Z"
   },
   {
    "duration": 12,
    "start_time": "2022-06-18T21:07:43.649Z"
   },
   {
    "duration": 43,
    "start_time": "2022-06-18T21:07:43.662Z"
   },
   {
    "duration": 4,
    "start_time": "2022-06-18T21:07:43.707Z"
   },
   {
    "duration": 26,
    "start_time": "2022-06-18T21:07:43.713Z"
   },
   {
    "duration": 26,
    "start_time": "2022-06-18T21:07:43.741Z"
   },
   {
    "duration": 14,
    "start_time": "2022-06-18T21:07:43.769Z"
   },
   {
    "duration": 17,
    "start_time": "2022-06-18T21:07:43.784Z"
   },
   {
    "duration": 9,
    "start_time": "2022-06-18T21:07:43.803Z"
   },
   {
    "duration": 30,
    "start_time": "2022-06-18T21:07:43.814Z"
   },
   {
    "duration": 18,
    "start_time": "2022-06-18T21:07:43.846Z"
   },
   {
    "duration": 35,
    "start_time": "2022-06-18T21:07:43.865Z"
   },
   {
    "duration": 15,
    "start_time": "2022-06-18T21:07:43.902Z"
   },
   {
    "duration": 39,
    "start_time": "2022-06-18T21:07:43.919Z"
   },
   {
    "duration": 31,
    "start_time": "2022-06-18T21:07:43.960Z"
   },
   {
    "duration": 3,
    "start_time": "2022-06-18T21:08:15.752Z"
   },
   {
    "duration": 3,
    "start_time": "2022-06-18T21:08:30.845Z"
   },
   {
    "duration": 4,
    "start_time": "2022-06-18T21:08:55.623Z"
   },
   {
    "duration": 3,
    "start_time": "2022-06-18T21:09:20.511Z"
   },
   {
    "duration": 3,
    "start_time": "2022-06-18T21:09:24.447Z"
   },
   {
    "duration": 4,
    "start_time": "2022-06-18T21:09:26.332Z"
   },
   {
    "duration": 5,
    "start_time": "2022-06-18T21:10:25.094Z"
   },
   {
    "duration": 4,
    "start_time": "2022-06-18T21:10:48.790Z"
   },
   {
    "duration": 4,
    "start_time": "2022-06-18T21:10:53.933Z"
   },
   {
    "duration": 5,
    "start_time": "2022-06-18T21:11:05.559Z"
   },
   {
    "duration": 4,
    "start_time": "2022-06-18T21:11:13.137Z"
   },
   {
    "duration": 5,
    "start_time": "2022-06-18T21:20:17.848Z"
   },
   {
    "duration": 5,
    "start_time": "2022-06-18T21:20:57.659Z"
   },
   {
    "duration": 94,
    "start_time": "2022-06-18T21:23:03.563Z"
   },
   {
    "duration": 8,
    "start_time": "2022-06-18T21:23:08.040Z"
   },
   {
    "duration": 6,
    "start_time": "2022-06-18T21:23:38.106Z"
   },
   {
    "duration": 4,
    "start_time": "2022-06-18T21:26:48.059Z"
   },
   {
    "duration": 9,
    "start_time": "2022-06-18T21:26:57.789Z"
   },
   {
    "duration": 13,
    "start_time": "2022-06-18T21:27:53.601Z"
   },
   {
    "duration": 7,
    "start_time": "2022-06-18T21:28:08.009Z"
   },
   {
    "duration": 8,
    "start_time": "2022-06-18T21:31:29.080Z"
   },
   {
    "duration": 4,
    "start_time": "2022-06-18T21:32:12.693Z"
   },
   {
    "duration": 100,
    "start_time": "2022-06-18T21:32:39.687Z"
   },
   {
    "duration": 21,
    "start_time": "2022-06-18T21:32:55.477Z"
   },
   {
    "duration": 3,
    "start_time": "2022-06-18T21:32:59.428Z"
   },
   {
    "duration": 9,
    "start_time": "2022-06-18T21:33:03.200Z"
   },
   {
    "duration": 4,
    "start_time": "2022-06-18T21:33:15.013Z"
   },
   {
    "duration": 8,
    "start_time": "2022-06-18T21:33:17.538Z"
   },
   {
    "duration": 10,
    "start_time": "2022-06-18T21:33:29.764Z"
   },
   {
    "duration": 11,
    "start_time": "2022-06-18T21:33:50.964Z"
   },
   {
    "duration": 6,
    "start_time": "2022-06-18T21:34:11.672Z"
   },
   {
    "duration": 6,
    "start_time": "2022-06-18T21:34:26.392Z"
   },
   {
    "duration": 13,
    "start_time": "2022-06-18T21:35:24.330Z"
   },
   {
    "duration": 7,
    "start_time": "2022-06-18T21:35:31.432Z"
   },
   {
    "duration": 4,
    "start_time": "2022-06-18T21:41:21.835Z"
   },
   {
    "duration": 13,
    "start_time": "2022-06-18T21:41:32.025Z"
   },
   {
    "duration": 18,
    "start_time": "2022-06-18T21:41:45.194Z"
   },
   {
    "duration": 8,
    "start_time": "2022-06-18T21:42:05.908Z"
   },
   {
    "duration": 8,
    "start_time": "2022-06-18T21:42:16.734Z"
   },
   {
    "duration": 10,
    "start_time": "2022-06-18T21:42:20.827Z"
   },
   {
    "duration": 9,
    "start_time": "2022-06-18T21:44:01.740Z"
   },
   {
    "duration": 9,
    "start_time": "2022-06-18T21:44:37.604Z"
   },
   {
    "duration": 10,
    "start_time": "2022-06-18T21:48:04.274Z"
   },
   {
    "duration": 34,
    "start_time": "2022-06-18T21:49:23.593Z"
   },
   {
    "duration": 9,
    "start_time": "2022-06-18T21:49:29.243Z"
   },
   {
    "duration": 7,
    "start_time": "2022-06-18T21:50:41.912Z"
   },
   {
    "duration": 13,
    "start_time": "2022-06-18T21:51:07.954Z"
   },
   {
    "duration": 5,
    "start_time": "2022-06-18T21:51:18.673Z"
   },
   {
    "duration": 10,
    "start_time": "2022-06-18T21:52:05.653Z"
   },
   {
    "duration": 3,
    "start_time": "2022-06-18T21:52:42.834Z"
   },
   {
    "duration": 10,
    "start_time": "2022-06-18T21:53:28.457Z"
   },
   {
    "duration": 11,
    "start_time": "2022-06-18T21:53:33.419Z"
   },
   {
    "duration": 3,
    "start_time": "2022-06-18T21:54:12.077Z"
   },
   {
    "duration": 11,
    "start_time": "2022-06-18T21:54:19.185Z"
   },
   {
    "duration": 3,
    "start_time": "2022-06-18T21:54:25.771Z"
   },
   {
    "duration": 10,
    "start_time": "2022-06-18T21:54:29.957Z"
   },
   {
    "duration": 5,
    "start_time": "2022-06-18T21:54:42.301Z"
   },
   {
    "duration": 11,
    "start_time": "2022-06-18T21:55:05.480Z"
   },
   {
    "duration": 10,
    "start_time": "2022-06-18T21:55:17.241Z"
   },
   {
    "duration": 3,
    "start_time": "2022-06-18T21:55:26.412Z"
   },
   {
    "duration": 9,
    "start_time": "2022-06-18T21:55:29.872Z"
   },
   {
    "duration": 4,
    "start_time": "2022-06-18T21:58:38.212Z"
   },
   {
    "duration": 4,
    "start_time": "2022-06-18T21:59:07.544Z"
   },
   {
    "duration": 9,
    "start_time": "2022-06-18T21:59:17.005Z"
   },
   {
    "duration": 5,
    "start_time": "2022-06-18T21:59:25.354Z"
   },
   {
    "duration": 13,
    "start_time": "2022-06-18T21:59:32.685Z"
   },
   {
    "duration": 8,
    "start_time": "2022-06-18T21:59:45.298Z"
   },
   {
    "duration": 11,
    "start_time": "2022-06-18T21:59:50.272Z"
   },
   {
    "duration": 5,
    "start_time": "2022-06-18T21:59:57.222Z"
   },
   {
    "duration": 1094,
    "start_time": "2022-06-18T22:02:34.761Z"
   },
   {
    "duration": 28,
    "start_time": "2022-06-18T22:02:35.857Z"
   },
   {
    "duration": 6,
    "start_time": "2022-06-18T22:02:35.887Z"
   },
   {
    "duration": 14,
    "start_time": "2022-06-18T22:02:35.895Z"
   },
   {
    "duration": 9,
    "start_time": "2022-06-18T22:02:35.911Z"
   },
   {
    "duration": 24,
    "start_time": "2022-06-18T22:02:35.921Z"
   },
   {
    "duration": 42,
    "start_time": "2022-06-18T22:02:35.947Z"
   },
   {
    "duration": 15,
    "start_time": "2022-06-18T22:02:35.991Z"
   },
   {
    "duration": 14,
    "start_time": "2022-06-18T22:02:36.008Z"
   },
   {
    "duration": 7,
    "start_time": "2022-06-18T22:02:36.026Z"
   },
   {
    "duration": 164,
    "start_time": "2022-06-18T22:02:36.035Z"
   },
   {
    "duration": 6,
    "start_time": "2022-06-18T22:02:36.201Z"
   },
   {
    "duration": 7,
    "start_time": "2022-06-18T22:02:36.209Z"
   },
   {
    "duration": 304,
    "start_time": "2022-06-18T22:02:36.218Z"
   },
   {
    "duration": 231,
    "start_time": "2022-06-18T22:02:36.524Z"
   },
   {
    "duration": 6,
    "start_time": "2022-06-18T22:02:36.757Z"
   },
   {
    "duration": 329,
    "start_time": "2022-06-18T22:02:36.765Z"
   },
   {
    "duration": 139,
    "start_time": "2022-06-18T22:02:37.096Z"
   },
   {
    "duration": 6,
    "start_time": "2022-06-18T22:02:37.237Z"
   },
   {
    "duration": 10,
    "start_time": "2022-06-18T22:02:37.245Z"
   },
   {
    "duration": 8,
    "start_time": "2022-06-18T22:02:37.257Z"
   },
   {
    "duration": 10,
    "start_time": "2022-06-18T22:02:37.266Z"
   },
   {
    "duration": 19,
    "start_time": "2022-06-18T22:02:37.277Z"
   },
   {
    "duration": 214,
    "start_time": "2022-06-18T22:02:37.298Z"
   },
   {
    "duration": 9,
    "start_time": "2022-06-18T22:02:37.513Z"
   },
   {
    "duration": 291,
    "start_time": "2022-06-18T22:02:37.523Z"
   },
   {
    "duration": 8,
    "start_time": "2022-06-18T22:02:37.816Z"
   },
   {
    "duration": 5,
    "start_time": "2022-06-18T22:02:37.828Z"
   },
   {
    "duration": 150,
    "start_time": "2022-06-18T22:02:37.835Z"
   },
   {
    "duration": 8,
    "start_time": "2022-06-18T22:02:37.987Z"
   },
   {
    "duration": 10,
    "start_time": "2022-06-18T22:02:37.996Z"
   },
   {
    "duration": 11,
    "start_time": "2022-06-18T22:02:38.008Z"
   },
   {
    "duration": 174,
    "start_time": "2022-06-18T22:02:38.020Z"
   },
   {
    "duration": 6,
    "start_time": "2022-06-18T22:02:38.196Z"
   },
   {
    "duration": 10,
    "start_time": "2022-06-18T22:02:38.204Z"
   },
   {
    "duration": 10,
    "start_time": "2022-06-18T22:02:38.216Z"
   },
   {
    "duration": 5,
    "start_time": "2022-06-18T22:02:38.227Z"
   },
   {
    "duration": 8,
    "start_time": "2022-06-18T22:02:38.233Z"
   },
   {
    "duration": 10,
    "start_time": "2022-06-18T22:02:38.242Z"
   },
   {
    "duration": 8,
    "start_time": "2022-06-18T22:02:38.253Z"
   },
   {
    "duration": 9,
    "start_time": "2022-06-18T22:02:38.262Z"
   },
   {
    "duration": 10,
    "start_time": "2022-06-18T22:02:38.272Z"
   },
   {
    "duration": 6,
    "start_time": "2022-06-18T22:02:38.293Z"
   },
   {
    "duration": 30,
    "start_time": "2022-06-18T22:02:38.300Z"
   },
   {
    "duration": 5,
    "start_time": "2022-06-18T22:02:38.332Z"
   },
   {
    "duration": 19,
    "start_time": "2022-06-18T22:02:38.339Z"
   },
   {
    "duration": 14,
    "start_time": "2022-06-18T22:02:38.360Z"
   },
   {
    "duration": 18,
    "start_time": "2022-06-18T22:02:38.376Z"
   },
   {
    "duration": 8,
    "start_time": "2022-06-18T22:02:38.396Z"
   },
   {
    "duration": 12,
    "start_time": "2022-06-18T22:02:38.406Z"
   },
   {
    "duration": 11,
    "start_time": "2022-06-18T22:02:38.420Z"
   },
   {
    "duration": 9,
    "start_time": "2022-06-18T22:02:38.433Z"
   },
   {
    "duration": 30,
    "start_time": "2022-06-18T22:02:38.444Z"
   },
   {
    "duration": 5,
    "start_time": "2022-06-18T22:02:38.476Z"
   },
   {
    "duration": 11,
    "start_time": "2022-06-18T22:02:38.495Z"
   },
   {
    "duration": 12,
    "start_time": "2022-06-18T22:02:38.508Z"
   },
   {
    "duration": 1076,
    "start_time": "2022-06-20T08:22:42.207Z"
   },
   {
    "duration": 25,
    "start_time": "2022-06-20T08:22:43.284Z"
   },
   {
    "duration": 6,
    "start_time": "2022-06-20T08:22:43.310Z"
   },
   {
    "duration": 57,
    "start_time": "2022-06-20T08:22:43.318Z"
   },
   {
    "duration": 10,
    "start_time": "2022-06-20T08:22:43.377Z"
   },
   {
    "duration": 16,
    "start_time": "2022-06-20T08:22:43.389Z"
   },
   {
    "duration": 55,
    "start_time": "2022-06-20T08:22:43.406Z"
   },
   {
    "duration": 15,
    "start_time": "2022-06-20T08:22:43.463Z"
   },
   {
    "duration": 18,
    "start_time": "2022-06-20T08:22:43.480Z"
   },
   {
    "duration": 8,
    "start_time": "2022-06-20T08:22:43.500Z"
   },
   {
    "duration": 174,
    "start_time": "2022-06-20T08:22:43.510Z"
   },
   {
    "duration": 3,
    "start_time": "2022-06-20T08:22:43.686Z"
   },
   {
    "duration": 11,
    "start_time": "2022-06-20T08:22:43.691Z"
   },
   {
    "duration": 288,
    "start_time": "2022-06-20T08:22:43.703Z"
   },
   {
    "duration": 205,
    "start_time": "2022-06-20T08:22:43.993Z"
   },
   {
    "duration": 5,
    "start_time": "2022-06-20T08:22:44.200Z"
   },
   {
    "duration": 337,
    "start_time": "2022-06-20T08:22:44.206Z"
   },
   {
    "duration": 141,
    "start_time": "2022-06-20T08:22:44.544Z"
   },
   {
    "duration": 7,
    "start_time": "2022-06-20T08:22:44.687Z"
   },
   {
    "duration": 6,
    "start_time": "2022-06-20T08:22:44.695Z"
   },
   {
    "duration": 6,
    "start_time": "2022-06-20T08:22:44.703Z"
   },
   {
    "duration": 6,
    "start_time": "2022-06-20T08:22:44.710Z"
   },
   {
    "duration": 32,
    "start_time": "2022-06-20T08:22:44.718Z"
   },
   {
    "duration": 215,
    "start_time": "2022-06-20T08:22:44.751Z"
   },
   {
    "duration": 10,
    "start_time": "2022-06-20T08:22:44.968Z"
   },
   {
    "duration": 284,
    "start_time": "2022-06-20T08:22:44.980Z"
   },
   {
    "duration": 6,
    "start_time": "2022-06-20T08:22:45.265Z"
   },
   {
    "duration": 5,
    "start_time": "2022-06-20T08:22:45.275Z"
   },
   {
    "duration": 146,
    "start_time": "2022-06-20T08:22:45.281Z"
   },
   {
    "duration": 5,
    "start_time": "2022-06-20T08:22:45.428Z"
   },
   {
    "duration": 42,
    "start_time": "2022-06-20T08:22:45.434Z"
   },
   {
    "duration": 7,
    "start_time": "2022-06-20T08:22:45.477Z"
   },
   {
    "duration": 158,
    "start_time": "2022-06-20T08:22:45.485Z"
   },
   {
    "duration": 5,
    "start_time": "2022-06-20T08:22:45.644Z"
   },
   {
    "duration": 19,
    "start_time": "2022-06-20T08:22:45.650Z"
   },
   {
    "duration": 6,
    "start_time": "2022-06-20T08:22:45.670Z"
   },
   {
    "duration": 3,
    "start_time": "2022-06-20T08:22:45.677Z"
   },
   {
    "duration": 6,
    "start_time": "2022-06-20T08:22:45.681Z"
   },
   {
    "duration": 5,
    "start_time": "2022-06-20T08:22:45.688Z"
   },
   {
    "duration": 5,
    "start_time": "2022-06-20T08:22:45.694Z"
   },
   {
    "duration": 5,
    "start_time": "2022-06-20T08:22:45.701Z"
   },
   {
    "duration": 23,
    "start_time": "2022-06-20T08:22:45.707Z"
   },
   {
    "duration": 31,
    "start_time": "2022-06-20T08:22:45.731Z"
   },
   {
    "duration": 23,
    "start_time": "2022-06-20T08:22:45.764Z"
   },
   {
    "duration": 4,
    "start_time": "2022-06-20T08:22:45.788Z"
   },
   {
    "duration": 9,
    "start_time": "2022-06-20T08:22:45.794Z"
   },
   {
    "duration": 5,
    "start_time": "2022-06-20T08:22:45.804Z"
   },
   {
    "duration": 5,
    "start_time": "2022-06-20T08:22:45.811Z"
   },
   {
    "duration": 4,
    "start_time": "2022-06-20T08:22:45.828Z"
   },
   {
    "duration": 31,
    "start_time": "2022-06-20T08:22:45.835Z"
   },
   {
    "duration": 6,
    "start_time": "2022-06-20T08:22:45.868Z"
   },
   {
    "duration": 7,
    "start_time": "2022-06-20T08:22:45.875Z"
   },
   {
    "duration": 20,
    "start_time": "2022-06-20T08:22:45.884Z"
   },
   {
    "duration": 4,
    "start_time": "2022-06-20T08:22:45.905Z"
   },
   {
    "duration": 9,
    "start_time": "2022-06-20T08:22:45.910Z"
   },
   {
    "duration": 10,
    "start_time": "2022-06-20T08:22:45.921Z"
   },
   {
    "duration": 53,
    "start_time": "2022-09-08T18:43:28.550Z"
   },
   {
    "duration": 1139,
    "start_time": "2022-09-08T18:43:34.790Z"
   },
   {
    "duration": 73,
    "start_time": "2022-09-08T18:43:35.931Z"
   },
   {
    "duration": 8,
    "start_time": "2022-09-08T18:43:36.005Z"
   },
   {
    "duration": 14,
    "start_time": "2022-09-08T18:43:36.015Z"
   },
   {
    "duration": 8,
    "start_time": "2022-09-08T18:43:36.031Z"
   },
   {
    "duration": 15,
    "start_time": "2022-09-08T18:43:36.040Z"
   },
   {
    "duration": 88,
    "start_time": "2022-09-08T18:43:36.057Z"
   },
   {
    "duration": 62,
    "start_time": "2022-09-08T18:43:36.147Z"
   },
   {
    "duration": 14,
    "start_time": "2022-09-08T18:43:36.210Z"
   },
   {
    "duration": 7,
    "start_time": "2022-09-08T18:43:36.226Z"
   },
   {
    "duration": 169,
    "start_time": "2022-09-08T18:43:36.234Z"
   },
   {
    "duration": 5,
    "start_time": "2022-09-08T18:43:36.404Z"
   },
   {
    "duration": 7,
    "start_time": "2022-09-08T18:43:36.410Z"
   },
   {
    "duration": 318,
    "start_time": "2022-09-08T18:43:36.418Z"
   },
   {
    "duration": 241,
    "start_time": "2022-09-08T18:43:36.738Z"
   },
   {
    "duration": 16,
    "start_time": "2022-09-08T18:43:36.982Z"
   },
   {
    "duration": 311,
    "start_time": "2022-09-08T18:43:37.002Z"
   },
   {
    "duration": 270,
    "start_time": "2022-09-08T18:43:37.314Z"
   },
   {
    "duration": 9,
    "start_time": "2022-09-08T18:43:37.586Z"
   },
   {
    "duration": 11,
    "start_time": "2022-09-08T18:43:37.597Z"
   },
   {
    "duration": 11,
    "start_time": "2022-09-08T18:43:37.609Z"
   },
   {
    "duration": 17,
    "start_time": "2022-09-08T18:43:37.621Z"
   },
   {
    "duration": 30,
    "start_time": "2022-09-08T18:43:37.677Z"
   },
   {
    "duration": 408,
    "start_time": "2022-09-08T18:43:37.709Z"
   },
   {
    "duration": 70,
    "start_time": "2022-09-08T18:43:38.118Z"
   },
   {
    "duration": 528,
    "start_time": "2022-09-08T18:43:38.195Z"
   },
   {
    "duration": 14,
    "start_time": "2022-09-08T18:43:38.779Z"
   },
   {
    "duration": 4,
    "start_time": "2022-09-08T18:43:38.801Z"
   },
   {
    "duration": 397,
    "start_time": "2022-09-08T18:43:38.806Z"
   },
   {
    "duration": 8,
    "start_time": "2022-09-08T18:43:39.207Z"
   },
   {
    "duration": 65,
    "start_time": "2022-09-08T18:43:39.217Z"
   },
   {
    "duration": 30,
    "start_time": "2022-09-08T18:43:39.284Z"
   },
   {
    "duration": 274,
    "start_time": "2022-09-08T18:43:39.315Z"
   },
   {
    "duration": 5,
    "start_time": "2022-09-08T18:43:39.592Z"
   },
   {
    "duration": 21,
    "start_time": "2022-09-08T18:43:39.599Z"
   },
   {
    "duration": 22,
    "start_time": "2022-09-08T18:43:39.621Z"
   },
   {
    "duration": 15,
    "start_time": "2022-09-08T18:43:39.644Z"
   },
   {
    "duration": 7,
    "start_time": "2022-09-08T18:43:39.660Z"
   },
   {
    "duration": 26,
    "start_time": "2022-09-08T18:43:39.668Z"
   },
   {
    "duration": 27,
    "start_time": "2022-09-08T18:43:39.695Z"
   },
   {
    "duration": 10,
    "start_time": "2022-09-08T18:43:39.724Z"
   },
   {
    "duration": 23,
    "start_time": "2022-09-08T18:43:39.736Z"
   },
   {
    "duration": 15,
    "start_time": "2022-09-08T18:43:39.760Z"
   },
   {
    "duration": 47,
    "start_time": "2022-09-08T18:43:39.778Z"
   },
   {
    "duration": 5,
    "start_time": "2022-09-08T18:43:39.827Z"
   },
   {
    "duration": 42,
    "start_time": "2022-09-08T18:43:39.834Z"
   },
   {
    "duration": 36,
    "start_time": "2022-09-08T18:43:39.878Z"
   },
   {
    "duration": 14,
    "start_time": "2022-09-08T18:43:39.915Z"
   },
   {
    "duration": 27,
    "start_time": "2022-09-08T18:43:39.931Z"
   },
   {
    "duration": 44,
    "start_time": "2022-09-08T18:43:39.959Z"
   },
   {
    "duration": 16,
    "start_time": "2022-09-08T18:43:40.004Z"
   },
   {
    "duration": 18,
    "start_time": "2022-09-08T18:43:40.022Z"
   },
   {
    "duration": 52,
    "start_time": "2022-09-08T18:43:40.042Z"
   },
   {
    "duration": 5,
    "start_time": "2022-09-08T18:43:40.096Z"
   },
   {
    "duration": 30,
    "start_time": "2022-09-08T18:43:40.103Z"
   },
   {
    "duration": 10,
    "start_time": "2022-09-08T18:43:40.136Z"
   },
   {
    "duration": 9,
    "start_time": "2022-09-08T18:43:55.444Z"
   },
   {
    "duration": 3,
    "start_time": "2022-09-08T18:44:00.505Z"
   },
   {
    "duration": 17,
    "start_time": "2022-09-08T18:44:15.296Z"
   },
   {
    "duration": 9,
    "start_time": "2022-09-08T18:44:21.210Z"
   },
   {
    "duration": 4,
    "start_time": "2022-09-08T19:00:42.415Z"
   },
   {
    "duration": 1090,
    "start_time": "2022-09-08T19:01:23.034Z"
   },
   {
    "duration": 28,
    "start_time": "2022-09-08T19:01:24.125Z"
   },
   {
    "duration": 6,
    "start_time": "2022-09-08T19:01:24.155Z"
   },
   {
    "duration": 22,
    "start_time": "2022-09-08T19:01:24.163Z"
   },
   {
    "duration": 17,
    "start_time": "2022-09-08T19:01:24.188Z"
   },
   {
    "duration": 13,
    "start_time": "2022-09-08T19:01:24.207Z"
   },
   {
    "duration": 40,
    "start_time": "2022-09-08T19:01:24.222Z"
   },
   {
    "duration": 16,
    "start_time": "2022-09-08T19:01:24.263Z"
   },
   {
    "duration": 15,
    "start_time": "2022-09-08T19:01:24.286Z"
   },
   {
    "duration": 5,
    "start_time": "2022-09-08T19:01:24.303Z"
   },
   {
    "duration": 159,
    "start_time": "2022-09-08T19:01:24.310Z"
   },
   {
    "duration": 15,
    "start_time": "2022-09-08T19:01:24.470Z"
   },
   {
    "duration": 7,
    "start_time": "2022-09-08T19:01:24.492Z"
   },
   {
    "duration": 298,
    "start_time": "2022-09-08T19:01:24.500Z"
   },
   {
    "duration": 221,
    "start_time": "2022-09-08T19:01:24.800Z"
   },
   {
    "duration": 6,
    "start_time": "2022-09-08T19:01:25.023Z"
   },
   {
    "duration": 321,
    "start_time": "2022-09-08T19:01:25.031Z"
   },
   {
    "duration": 221,
    "start_time": "2022-09-08T19:01:25.354Z"
   },
   {
    "duration": 11,
    "start_time": "2022-09-08T19:01:25.583Z"
   },
   {
    "duration": 11,
    "start_time": "2022-09-08T19:01:25.595Z"
   },
   {
    "duration": 8,
    "start_time": "2022-09-08T19:01:25.607Z"
   },
   {
    "duration": 6,
    "start_time": "2022-09-08T19:01:25.617Z"
   },
   {
    "duration": 8,
    "start_time": "2022-09-08T19:01:25.625Z"
   },
   {
    "duration": 212,
    "start_time": "2022-09-08T19:01:25.635Z"
   },
   {
    "duration": 8,
    "start_time": "2022-09-08T19:01:25.849Z"
   },
   {
    "duration": 449,
    "start_time": "2022-09-08T19:01:25.859Z"
   },
   {
    "duration": 8,
    "start_time": "2022-09-08T19:01:26.309Z"
   },
   {
    "duration": 65,
    "start_time": "2022-09-08T19:01:26.321Z"
   },
   {
    "duration": 405,
    "start_time": "2022-09-08T19:01:26.388Z"
   },
   {
    "duration": 5,
    "start_time": "2022-09-08T19:01:26.799Z"
   },
   {
    "duration": 5,
    "start_time": "2022-09-08T19:01:26.805Z"
   },
   {
    "duration": 9,
    "start_time": "2022-09-08T19:01:26.812Z"
   },
   {
    "duration": 385,
    "start_time": "2022-09-08T19:01:26.823Z"
   },
   {
    "duration": 5,
    "start_time": "2022-09-08T19:01:27.210Z"
   },
   {
    "duration": 63,
    "start_time": "2022-09-08T19:01:27.217Z"
   },
   {
    "duration": 13,
    "start_time": "2022-09-08T19:01:27.281Z"
   },
   {
    "duration": 8,
    "start_time": "2022-09-08T19:01:27.296Z"
   },
   {
    "duration": 5,
    "start_time": "2022-09-08T19:01:27.306Z"
   },
   {
    "duration": 5,
    "start_time": "2022-09-08T19:01:27.312Z"
   },
   {
    "duration": 5,
    "start_time": "2022-09-08T19:01:27.319Z"
   },
   {
    "duration": 56,
    "start_time": "2022-09-08T19:01:27.326Z"
   },
   {
    "duration": 10,
    "start_time": "2022-09-08T19:01:27.387Z"
   },
   {
    "duration": 14,
    "start_time": "2022-09-08T19:01:27.398Z"
   },
   {
    "duration": 77,
    "start_time": "2022-09-08T19:01:27.415Z"
   },
   {
    "duration": 6,
    "start_time": "2022-09-08T19:01:27.494Z"
   },
   {
    "duration": 10,
    "start_time": "2022-09-08T19:01:27.502Z"
   },
   {
    "duration": 9,
    "start_time": "2022-09-08T19:01:27.514Z"
   },
   {
    "duration": 59,
    "start_time": "2022-09-08T19:01:27.525Z"
   },
   {
    "duration": 17,
    "start_time": "2022-09-08T19:01:27.589Z"
   },
   {
    "duration": 8,
    "start_time": "2022-09-08T19:01:27.608Z"
   },
   {
    "duration": 9,
    "start_time": "2022-09-08T19:01:27.617Z"
   },
   {
    "duration": 61,
    "start_time": "2022-09-08T19:01:27.627Z"
   },
   {
    "duration": 38,
    "start_time": "2022-09-08T19:01:27.690Z"
   },
   {
    "duration": 50,
    "start_time": "2022-09-08T19:01:27.730Z"
   },
   {
    "duration": 16,
    "start_time": "2022-09-08T19:01:27.793Z"
   },
   {
    "duration": 12,
    "start_time": "2022-09-08T19:01:27.811Z"
   },
   {
    "duration": 1007,
    "start_time": "2022-09-09T22:24:52.381Z"
   },
   {
    "duration": 78,
    "start_time": "2022-09-09T22:24:53.390Z"
   },
   {
    "duration": 7,
    "start_time": "2022-09-09T22:24:53.470Z"
   },
   {
    "duration": 17,
    "start_time": "2022-09-09T22:24:53.478Z"
   },
   {
    "duration": 8,
    "start_time": "2022-09-09T22:24:53.496Z"
   },
   {
    "duration": 23,
    "start_time": "2022-09-09T22:24:53.506Z"
   },
   {
    "duration": 149,
    "start_time": "2022-09-09T22:24:53.531Z"
   },
   {
    "duration": 54,
    "start_time": "2022-09-09T22:24:53.682Z"
   },
   {
    "duration": 14,
    "start_time": "2022-09-09T22:24:53.737Z"
   },
   {
    "duration": 11,
    "start_time": "2022-09-09T22:24:53.753Z"
   },
   {
    "duration": 163,
    "start_time": "2022-09-09T22:24:53.765Z"
   },
   {
    "duration": 7,
    "start_time": "2022-09-09T22:24:53.930Z"
   },
   {
    "duration": 12,
    "start_time": "2022-09-09T22:24:53.939Z"
   },
   {
    "duration": 294,
    "start_time": "2022-09-09T22:24:53.952Z"
   },
   {
    "duration": 194,
    "start_time": "2022-09-09T22:24:54.247Z"
   },
   {
    "duration": 5,
    "start_time": "2022-09-09T22:24:54.443Z"
   },
   {
    "duration": 289,
    "start_time": "2022-09-09T22:24:54.450Z"
   },
   {
    "duration": 129,
    "start_time": "2022-09-09T22:24:54.741Z"
   },
   {
    "duration": 6,
    "start_time": "2022-09-09T22:24:54.871Z"
   },
   {
    "duration": 7,
    "start_time": "2022-09-09T22:24:54.878Z"
   },
   {
    "duration": 7,
    "start_time": "2022-09-09T22:24:54.886Z"
   },
   {
    "duration": 17,
    "start_time": "2022-09-09T22:24:54.894Z"
   },
   {
    "duration": 5,
    "start_time": "2022-09-09T22:24:54.913Z"
   },
   {
    "duration": 194,
    "start_time": "2022-09-09T22:24:54.920Z"
   },
   {
    "duration": 7,
    "start_time": "2022-09-09T22:24:55.115Z"
   },
   {
    "duration": 291,
    "start_time": "2022-09-09T22:24:55.124Z"
   },
   {
    "duration": 6,
    "start_time": "2022-09-09T22:24:55.417Z"
   },
   {
    "duration": 3,
    "start_time": "2022-09-09T22:24:55.439Z"
   },
   {
    "duration": 124,
    "start_time": "2022-09-09T22:24:55.444Z"
   },
   {
    "duration": 5,
    "start_time": "2022-09-09T22:24:55.570Z"
   },
   {
    "duration": 9,
    "start_time": "2022-09-09T22:24:55.577Z"
   },
   {
    "duration": 9,
    "start_time": "2022-09-09T22:24:55.587Z"
   },
   {
    "duration": 148,
    "start_time": "2022-09-09T22:24:55.597Z"
   },
   {
    "duration": 5,
    "start_time": "2022-09-09T22:24:55.747Z"
   },
   {
    "duration": 14,
    "start_time": "2022-09-09T22:24:55.753Z"
   },
   {
    "duration": 13,
    "start_time": "2022-09-09T22:24:55.768Z"
   },
   {
    "duration": 7,
    "start_time": "2022-09-09T22:24:55.783Z"
   },
   {
    "duration": 7,
    "start_time": "2022-09-09T22:24:55.792Z"
   },
   {
    "duration": 6,
    "start_time": "2022-09-09T22:24:55.800Z"
   },
   {
    "duration": 9,
    "start_time": "2022-09-09T22:24:55.807Z"
   },
   {
    "duration": 13,
    "start_time": "2022-09-09T22:24:55.817Z"
   },
   {
    "duration": 9,
    "start_time": "2022-09-09T22:24:55.832Z"
   },
   {
    "duration": 7,
    "start_time": "2022-09-09T22:24:55.842Z"
   },
   {
    "duration": 23,
    "start_time": "2022-09-09T22:24:55.850Z"
   },
   {
    "duration": 4,
    "start_time": "2022-09-09T22:24:55.874Z"
   },
   {
    "duration": 14,
    "start_time": "2022-09-09T22:24:55.880Z"
   },
   {
    "duration": 12,
    "start_time": "2022-09-09T22:24:55.895Z"
   },
   {
    "duration": 6,
    "start_time": "2022-09-09T22:24:55.909Z"
   },
   {
    "duration": 21,
    "start_time": "2022-09-09T22:24:55.916Z"
   },
   {
    "duration": 7,
    "start_time": "2022-09-09T22:24:55.939Z"
   },
   {
    "duration": 10,
    "start_time": "2022-09-09T22:24:55.947Z"
   },
   {
    "duration": 8,
    "start_time": "2022-09-09T22:24:55.959Z"
   },
   {
    "duration": 23,
    "start_time": "2022-09-09T22:24:55.969Z"
   },
   {
    "duration": 4,
    "start_time": "2022-09-09T22:24:55.993Z"
   },
   {
    "duration": 13,
    "start_time": "2022-09-09T22:24:55.998Z"
   },
   {
    "duration": 11,
    "start_time": "2022-09-09T22:24:56.012Z"
   },
   {
    "duration": 13,
    "start_time": "2022-09-09T22:25:11.898Z"
   },
   {
    "duration": 7,
    "start_time": "2022-09-09T22:25:27.316Z"
   },
   {
    "duration": 10,
    "start_time": "2022-09-09T22:25:37.902Z"
   },
   {
    "duration": 4,
    "start_time": "2022-09-09T22:25:42.228Z"
   },
   {
    "duration": 8,
    "start_time": "2022-09-09T22:26:11.260Z"
   },
   {
    "duration": 6,
    "start_time": "2022-09-09T22:30:35.231Z"
   },
   {
    "duration": 1205,
    "start_time": "2022-09-17T20:38:46.109Z"
   },
   {
    "duration": 72,
    "start_time": "2022-09-17T20:38:47.316Z"
   },
   {
    "duration": 8,
    "start_time": "2022-09-17T20:38:47.390Z"
   },
   {
    "duration": 12,
    "start_time": "2022-09-17T20:38:47.400Z"
   },
   {
    "duration": 4,
    "start_time": "2022-09-17T20:38:47.414Z"
   },
   {
    "duration": 13,
    "start_time": "2022-09-17T20:38:47.420Z"
   },
   {
    "duration": 76,
    "start_time": "2022-09-17T20:38:47.434Z"
   },
   {
    "duration": 58,
    "start_time": "2022-09-17T20:38:47.512Z"
   },
   {
    "duration": 14,
    "start_time": "2022-09-17T20:38:47.571Z"
   },
   {
    "duration": 7,
    "start_time": "2022-09-17T20:38:47.587Z"
   },
   {
    "duration": 173,
    "start_time": "2022-09-17T20:38:47.596Z"
   },
   {
    "duration": 5,
    "start_time": "2022-09-17T20:38:47.771Z"
   },
   {
    "duration": 18,
    "start_time": "2022-09-17T20:38:47.777Z"
   },
   {
    "duration": 303,
    "start_time": "2022-09-17T20:38:47.797Z"
   },
   {
    "duration": 214,
    "start_time": "2022-09-17T20:38:48.102Z"
   },
   {
    "duration": 5,
    "start_time": "2022-09-17T20:38:48.318Z"
   },
   {
    "duration": 282,
    "start_time": "2022-09-17T20:38:48.325Z"
   },
   {
    "duration": 135,
    "start_time": "2022-09-17T20:38:48.609Z"
   },
   {
    "duration": 7,
    "start_time": "2022-09-17T20:38:48.745Z"
   },
   {
    "duration": 5,
    "start_time": "2022-09-17T20:38:48.753Z"
   },
   {
    "duration": 5,
    "start_time": "2022-09-17T20:38:48.760Z"
   },
   {
    "duration": 5,
    "start_time": "2022-09-17T20:38:48.767Z"
   },
   {
    "duration": 4,
    "start_time": "2022-09-17T20:38:48.774Z"
   },
   {
    "duration": 217,
    "start_time": "2022-09-17T20:38:48.780Z"
   },
   {
    "duration": 7,
    "start_time": "2022-09-17T20:38:48.999Z"
   },
   {
    "duration": 308,
    "start_time": "2022-09-17T20:38:49.008Z"
   },
   {
    "duration": 7,
    "start_time": "2022-09-17T20:38:49.317Z"
   },
   {
    "duration": 7,
    "start_time": "2022-09-17T20:38:49.327Z"
   },
   {
    "duration": 158,
    "start_time": "2022-09-17T20:38:49.335Z"
   },
   {
    "duration": 5,
    "start_time": "2022-09-17T20:38:49.495Z"
   },
   {
    "duration": 6,
    "start_time": "2022-09-17T20:38:49.502Z"
   },
   {
    "duration": 7,
    "start_time": "2022-09-17T20:38:49.509Z"
   },
   {
    "duration": 184,
    "start_time": "2022-09-17T20:38:49.518Z"
   },
   {
    "duration": 6,
    "start_time": "2022-09-17T20:38:49.705Z"
   },
   {
    "duration": 10,
    "start_time": "2022-09-17T20:38:49.712Z"
   },
   {
    "duration": 8,
    "start_time": "2022-09-17T20:38:49.724Z"
   },
   {
    "duration": 3,
    "start_time": "2022-09-17T20:38:49.734Z"
   },
   {
    "duration": 5,
    "start_time": "2022-09-17T20:38:49.738Z"
   },
   {
    "duration": 5,
    "start_time": "2022-09-17T20:38:49.744Z"
   },
   {
    "duration": 6,
    "start_time": "2022-09-17T20:38:49.750Z"
   },
   {
    "duration": 38,
    "start_time": "2022-09-17T20:38:49.757Z"
   },
   {
    "duration": 9,
    "start_time": "2022-09-17T20:38:49.797Z"
   },
   {
    "duration": 6,
    "start_time": "2022-09-17T20:38:49.808Z"
   },
   {
    "duration": 23,
    "start_time": "2022-09-17T20:38:49.816Z"
   },
   {
    "duration": 5,
    "start_time": "2022-09-17T20:38:49.841Z"
   },
   {
    "duration": 9,
    "start_time": "2022-09-17T20:38:49.848Z"
   },
   {
    "duration": 42,
    "start_time": "2022-09-17T20:38:49.859Z"
   },
   {
    "duration": 6,
    "start_time": "2022-09-17T20:38:49.903Z"
   },
   {
    "duration": 5,
    "start_time": "2022-09-17T20:38:49.910Z"
   },
   {
    "duration": 5,
    "start_time": "2022-09-17T20:38:49.917Z"
   },
   {
    "duration": 7,
    "start_time": "2022-09-17T20:38:49.923Z"
   },
   {
    "duration": 7,
    "start_time": "2022-09-17T20:38:49.932Z"
   },
   {
    "duration": 62,
    "start_time": "2022-09-17T20:38:49.940Z"
   },
   {
    "duration": 6,
    "start_time": "2022-09-17T20:38:50.004Z"
   },
   {
    "duration": 12,
    "start_time": "2022-09-17T20:38:50.012Z"
   },
   {
    "duration": 11,
    "start_time": "2022-09-17T20:38:50.025Z"
   }
  ],
  "kernelspec": {
   "display_name": "Python 3 (ipykernel)",
   "language": "python",
   "name": "python3"
  },
  "language_info": {
   "codemirror_mode": {
    "name": "ipython",
    "version": 3
   },
   "file_extension": ".py",
   "mimetype": "text/x-python",
   "name": "python",
   "nbconvert_exporter": "python",
   "pygments_lexer": "ipython3",
   "version": "3.9.5"
  },
  "toc": {
   "base_numbering": 1,
   "nav_menu": {},
   "number_sections": true,
   "sideBar": true,
   "skip_h1_title": true,
   "title_cell": "Table of Contents",
   "title_sidebar": "Contents",
   "toc_cell": false,
   "toc_position": {},
   "toc_section_display": true,
   "toc_window_display": true
  }
 },
 "nbformat": 4,
 "nbformat_minor": 2
}
