{
 "cells": [
  {
   "cell_type": "markdown",
   "metadata": {
    "toc": true
   },
   "source": [
    "<h1>Содержание<span class=\"tocSkip\"></span></h1>\n",
    "<div class=\"toc\"><ul class=\"toc-item\"><li><span><a href=\"#Изучение-данных-из-файла\" data-toc-modified-id=\"Изучение-данных-из-файла-1\"><span class=\"toc-item-num\">1&nbsp;&nbsp;</span>Изучение данных из файла</a></span><ul class=\"toc-item\"><li><span><a href=\"#Вывод\" data-toc-modified-id=\"Вывод-1.1\"><span class=\"toc-item-num\">1.1&nbsp;&nbsp;</span>Вывод</a></span></li></ul></li><li><span><a href=\"#Предобработка-данных\" data-toc-modified-id=\"Предобработка-данных-2\"><span class=\"toc-item-num\">2&nbsp;&nbsp;</span>Предобработка данных</a></span></li><li><span><a href=\"#Расчёты-и-добавление-результатов-в-таблицу\" data-toc-modified-id=\"Расчёты-и-добавление-результатов-в-таблицу-3\"><span class=\"toc-item-num\">3&nbsp;&nbsp;</span>Расчёты и добавление результатов в таблицу</a></span></li><li><span><a href=\"#Исследовательский-анализ-данных\" data-toc-modified-id=\"Исследовательский-анализ-данных-4\"><span class=\"toc-item-num\">4&nbsp;&nbsp;</span>Исследовательский анализ данных</a></span><ul class=\"toc-item\"><li><span><a href=\"#Исследование-площади,-цены,-числа-комнат,-высоты-потолков\" data-toc-modified-id=\"Исследование-площади,-цены,-числа-комнат,-высоты-потолков-4.1\"><span class=\"toc-item-num\">4.1&nbsp;&nbsp;</span>Исследование площади, цены, числа комнат, высоты потолков</a></span><ul class=\"toc-item\"><li><span><a href=\"#Вывод\" data-toc-modified-id=\"Вывод-4.1.1\"><span class=\"toc-item-num\">4.1.1&nbsp;&nbsp;</span>Вывод</a></span></li></ul></li><li><span><a href=\"#Исследование-времени-продажи-квартиры\" data-toc-modified-id=\"Исследование-времени-продажи-квартиры-4.2\"><span class=\"toc-item-num\">4.2&nbsp;&nbsp;</span>Исследование времени продажи квартиры</a></span><ul class=\"toc-item\"><li><span><a href=\"#Вывод\" data-toc-modified-id=\"Вывод-4.2.1\"><span class=\"toc-item-num\">4.2.1&nbsp;&nbsp;</span>Вывод</a></span></li></ul></li><li><span><a href=\"#Анализ-редких-и-выбивающихся-значений\" data-toc-modified-id=\"Анализ-редких-и-выбивающихся-значений-4.3\"><span class=\"toc-item-num\">4.3&nbsp;&nbsp;</span>Анализ редких и выбивающихся значений</a></span></li><li><span><a href=\"#Факторы,-влияющие-на-стоимость-квартиры\" data-toc-modified-id=\"Факторы,-влияющие-на-стоимость-квартиры-4.4\"><span class=\"toc-item-num\">4.4&nbsp;&nbsp;</span>Факторы, влияющие на стоимость квартиры</a></span><ul class=\"toc-item\"><li><span><a href=\"#Вывод\" data-toc-modified-id=\"Вывод-4.4.1\"><span class=\"toc-item-num\">4.4.1&nbsp;&nbsp;</span>Вывод</a></span></li></ul></li><li><span><a href=\"#Исследование-средней-цены-квадратного-метра-квартиры\" data-toc-modified-id=\"Исследование-средней-цены-квадратного-метра-квартиры-4.5\"><span class=\"toc-item-num\">4.5&nbsp;&nbsp;</span>Исследование средней цены квадратного метра квартиры</a></span><ul class=\"toc-item\"><li><span><a href=\"#Вывод\" data-toc-modified-id=\"Вывод-4.5.1\"><span class=\"toc-item-num\">4.5.1&nbsp;&nbsp;</span>Вывод</a></span></li></ul></li><li><span><a href=\"#Исследование-зависимости-цены-от-удаленности-от-центра\" data-toc-modified-id=\"Исследование-зависимости-цены-от-удаленности-от-центра-4.6\"><span class=\"toc-item-num\">4.6&nbsp;&nbsp;</span>Исследование зависимости цены от удаленности от центра</a></span><ul class=\"toc-item\"><li><span><a href=\"#Вывод\" data-toc-modified-id=\"Вывод-4.6.1\"><span class=\"toc-item-num\">4.6.1&nbsp;&nbsp;</span>Вывод</a></span></li></ul></li><li><span><a href=\"#Анализ-квартир-в-центре-и-общих-выводов-по-всей-базе\" data-toc-modified-id=\"Анализ-квартир-в-центре-и-общих-выводов-по-всей-базе-4.7\"><span class=\"toc-item-num\">4.7&nbsp;&nbsp;</span>Анализ квартир в центре и общих выводов по всей базе</a></span><ul class=\"toc-item\"><li><span><a href=\"#Вывод\" data-toc-modified-id=\"Вывод-4.7.1\"><span class=\"toc-item-num\">4.7.1&nbsp;&nbsp;</span>Вывод</a></span></li></ul></li></ul></li><li><span><a href=\"#Общий-вывод\" data-toc-modified-id=\"Общий-вывод-5\"><span class=\"toc-item-num\">5&nbsp;&nbsp;</span>Общий вывод</a></span></li></ul></div>"
   ]
  },
  {
   "cell_type": "markdown",
   "metadata": {},
   "source": [
    "# Исследование объявлений о продаже квартир\n",
    "\n",
    "В вашем распоряжении данные сервиса Яндекc Недвижимость — архив объявлений о продаже квартир в Санкт-Петербурге и соседних населённых пунктах за несколько лет. Нужно научиться определять рыночную стоимость объектов недвижимости. Ваша задача — установить параметры. Это позволит построить автоматизированную систему: она отследит аномалии и мошенническую деятельность. \n",
    "\n",
    "По каждой квартире на продажу доступны два вида данных. Первые вписаны пользователем, вторые получены автоматически на основе картографических данных. Например, расстояние до центра, аэропорта, ближайшего парка и водоёма. "
   ]
  },
  {
   "cell_type": "markdown",
   "metadata": {},
   "source": [
    "## Изучение данных из файла"
   ]
  },
  {
   "cell_type": "code",
   "execution_count": 46,
   "metadata": {},
   "outputs": [],
   "source": [
    "import pandas as pd\n",
    "import matplotlib.pyplot as plt "
   ]
  },
  {
   "cell_type": "code",
   "execution_count": 2,
   "metadata": {},
   "outputs": [
    {
     "data": {
      "text/html": [
       "<div>\n",
       "<style scoped>\n",
       "    .dataframe tbody tr th:only-of-type {\n",
       "        vertical-align: middle;\n",
       "    }\n",
       "\n",
       "    .dataframe tbody tr th {\n",
       "        vertical-align: top;\n",
       "    }\n",
       "\n",
       "    .dataframe thead th {\n",
       "        text-align: right;\n",
       "    }\n",
       "</style>\n",
       "<table border=\"1\" class=\"dataframe\">\n",
       "  <thead>\n",
       "    <tr style=\"text-align: right;\">\n",
       "      <th></th>\n",
       "      <th>total_images</th>\n",
       "      <th>last_price</th>\n",
       "      <th>total_area</th>\n",
       "      <th>first_day_exposition</th>\n",
       "      <th>rooms</th>\n",
       "      <th>ceiling_height</th>\n",
       "      <th>floors_total</th>\n",
       "      <th>living_area</th>\n",
       "      <th>floor</th>\n",
       "      <th>is_apartment</th>\n",
       "      <th>...</th>\n",
       "      <th>kitchen_area</th>\n",
       "      <th>balcony</th>\n",
       "      <th>locality_name</th>\n",
       "      <th>airports_nearest</th>\n",
       "      <th>cityCenters_nearest</th>\n",
       "      <th>parks_around3000</th>\n",
       "      <th>parks_nearest</th>\n",
       "      <th>ponds_around3000</th>\n",
       "      <th>ponds_nearest</th>\n",
       "      <th>days_exposition</th>\n",
       "    </tr>\n",
       "  </thead>\n",
       "  <tbody>\n",
       "    <tr>\n",
       "      <th>0</th>\n",
       "      <td>20</td>\n",
       "      <td>13000000.0</td>\n",
       "      <td>108.0</td>\n",
       "      <td>2019-03-07T00:00:00</td>\n",
       "      <td>3</td>\n",
       "      <td>2.70</td>\n",
       "      <td>16.0</td>\n",
       "      <td>51.0</td>\n",
       "      <td>8</td>\n",
       "      <td>NaN</td>\n",
       "      <td>...</td>\n",
       "      <td>25.0</td>\n",
       "      <td>NaN</td>\n",
       "      <td>Санкт-Петербург</td>\n",
       "      <td>18863.0</td>\n",
       "      <td>16028.0</td>\n",
       "      <td>1.0</td>\n",
       "      <td>482.0</td>\n",
       "      <td>2.0</td>\n",
       "      <td>755.0</td>\n",
       "      <td>NaN</td>\n",
       "    </tr>\n",
       "    <tr>\n",
       "      <th>1</th>\n",
       "      <td>7</td>\n",
       "      <td>3350000.0</td>\n",
       "      <td>40.4</td>\n",
       "      <td>2018-12-04T00:00:00</td>\n",
       "      <td>1</td>\n",
       "      <td>NaN</td>\n",
       "      <td>11.0</td>\n",
       "      <td>18.6</td>\n",
       "      <td>1</td>\n",
       "      <td>NaN</td>\n",
       "      <td>...</td>\n",
       "      <td>11.0</td>\n",
       "      <td>2.0</td>\n",
       "      <td>посёлок Шушары</td>\n",
       "      <td>12817.0</td>\n",
       "      <td>18603.0</td>\n",
       "      <td>0.0</td>\n",
       "      <td>NaN</td>\n",
       "      <td>0.0</td>\n",
       "      <td>NaN</td>\n",
       "      <td>81.0</td>\n",
       "    </tr>\n",
       "    <tr>\n",
       "      <th>2</th>\n",
       "      <td>10</td>\n",
       "      <td>5196000.0</td>\n",
       "      <td>56.0</td>\n",
       "      <td>2015-08-20T00:00:00</td>\n",
       "      <td>2</td>\n",
       "      <td>NaN</td>\n",
       "      <td>5.0</td>\n",
       "      <td>34.3</td>\n",
       "      <td>4</td>\n",
       "      <td>NaN</td>\n",
       "      <td>...</td>\n",
       "      <td>8.3</td>\n",
       "      <td>0.0</td>\n",
       "      <td>Санкт-Петербург</td>\n",
       "      <td>21741.0</td>\n",
       "      <td>13933.0</td>\n",
       "      <td>1.0</td>\n",
       "      <td>90.0</td>\n",
       "      <td>2.0</td>\n",
       "      <td>574.0</td>\n",
       "      <td>558.0</td>\n",
       "    </tr>\n",
       "    <tr>\n",
       "      <th>3</th>\n",
       "      <td>0</td>\n",
       "      <td>64900000.0</td>\n",
       "      <td>159.0</td>\n",
       "      <td>2015-07-24T00:00:00</td>\n",
       "      <td>3</td>\n",
       "      <td>NaN</td>\n",
       "      <td>14.0</td>\n",
       "      <td>NaN</td>\n",
       "      <td>9</td>\n",
       "      <td>NaN</td>\n",
       "      <td>...</td>\n",
       "      <td>NaN</td>\n",
       "      <td>0.0</td>\n",
       "      <td>Санкт-Петербург</td>\n",
       "      <td>28098.0</td>\n",
       "      <td>6800.0</td>\n",
       "      <td>2.0</td>\n",
       "      <td>84.0</td>\n",
       "      <td>3.0</td>\n",
       "      <td>234.0</td>\n",
       "      <td>424.0</td>\n",
       "    </tr>\n",
       "    <tr>\n",
       "      <th>4</th>\n",
       "      <td>2</td>\n",
       "      <td>10000000.0</td>\n",
       "      <td>100.0</td>\n",
       "      <td>2018-06-19T00:00:00</td>\n",
       "      <td>2</td>\n",
       "      <td>3.03</td>\n",
       "      <td>14.0</td>\n",
       "      <td>32.0</td>\n",
       "      <td>13</td>\n",
       "      <td>NaN</td>\n",
       "      <td>...</td>\n",
       "      <td>41.0</td>\n",
       "      <td>NaN</td>\n",
       "      <td>Санкт-Петербург</td>\n",
       "      <td>31856.0</td>\n",
       "      <td>8098.0</td>\n",
       "      <td>2.0</td>\n",
       "      <td>112.0</td>\n",
       "      <td>1.0</td>\n",
       "      <td>48.0</td>\n",
       "      <td>121.0</td>\n",
       "    </tr>\n",
       "  </tbody>\n",
       "</table>\n",
       "<p>5 rows × 22 columns</p>\n",
       "</div>"
      ],
      "text/plain": [
       "   total_images  last_price  total_area first_day_exposition  rooms  \\\n",
       "0            20  13000000.0       108.0  2019-03-07T00:00:00      3   \n",
       "1             7   3350000.0        40.4  2018-12-04T00:00:00      1   \n",
       "2            10   5196000.0        56.0  2015-08-20T00:00:00      2   \n",
       "3             0  64900000.0       159.0  2015-07-24T00:00:00      3   \n",
       "4             2  10000000.0       100.0  2018-06-19T00:00:00      2   \n",
       "\n",
       "   ceiling_height  floors_total  living_area  floor is_apartment  ...  \\\n",
       "0            2.70          16.0         51.0      8          NaN  ...   \n",
       "1             NaN          11.0         18.6      1          NaN  ...   \n",
       "2             NaN           5.0         34.3      4          NaN  ...   \n",
       "3             NaN          14.0          NaN      9          NaN  ...   \n",
       "4            3.03          14.0         32.0     13          NaN  ...   \n",
       "\n",
       "   kitchen_area  balcony    locality_name  airports_nearest  \\\n",
       "0          25.0      NaN  Санкт-Петербург           18863.0   \n",
       "1          11.0      2.0   посёлок Шушары           12817.0   \n",
       "2           8.3      0.0  Санкт-Петербург           21741.0   \n",
       "3           NaN      0.0  Санкт-Петербург           28098.0   \n",
       "4          41.0      NaN  Санкт-Петербург           31856.0   \n",
       "\n",
       "  cityCenters_nearest  parks_around3000  parks_nearest  ponds_around3000  \\\n",
       "0             16028.0               1.0          482.0               2.0   \n",
       "1             18603.0               0.0            NaN               0.0   \n",
       "2             13933.0               1.0           90.0               2.0   \n",
       "3              6800.0               2.0           84.0               3.0   \n",
       "4              8098.0               2.0          112.0               1.0   \n",
       "\n",
       "   ponds_nearest  days_exposition  \n",
       "0          755.0              NaN  \n",
       "1            NaN             81.0  \n",
       "2          574.0            558.0  \n",
       "3          234.0            424.0  \n",
       "4           48.0            121.0  \n",
       "\n",
       "[5 rows x 22 columns]"
      ]
     },
     "metadata": {},
     "output_type": "display_data"
    },
    {
     "name": "stdout",
     "output_type": "stream",
     "text": [
      "<class 'pandas.core.frame.DataFrame'>\n",
      "RangeIndex: 23699 entries, 0 to 23698\n",
      "Data columns (total 22 columns):\n",
      " #   Column                Non-Null Count  Dtype  \n",
      "---  ------                --------------  -----  \n",
      " 0   total_images          23699 non-null  int64  \n",
      " 1   last_price            23699 non-null  float64\n",
      " 2   total_area            23699 non-null  float64\n",
      " 3   first_day_exposition  23699 non-null  object \n",
      " 4   rooms                 23699 non-null  int64  \n",
      " 5   ceiling_height        14504 non-null  float64\n",
      " 6   floors_total          23613 non-null  float64\n",
      " 7   living_area           21796 non-null  float64\n",
      " 8   floor                 23699 non-null  int64  \n",
      " 9   is_apartment          2775 non-null   object \n",
      " 10  studio                23699 non-null  bool   \n",
      " 11  open_plan             23699 non-null  bool   \n",
      " 12  kitchen_area          21421 non-null  float64\n",
      " 13  balcony               12180 non-null  float64\n",
      " 14  locality_name         23650 non-null  object \n",
      " 15  airports_nearest      18157 non-null  float64\n",
      " 16  cityCenters_nearest   18180 non-null  float64\n",
      " 17  parks_around3000      18181 non-null  float64\n",
      " 18  parks_nearest         8079 non-null   float64\n",
      " 19  ponds_around3000      18181 non-null  float64\n",
      " 20  ponds_nearest         9110 non-null   float64\n",
      " 21  days_exposition       20518 non-null  float64\n",
      "dtypes: bool(2), float64(14), int64(3), object(3)\n",
      "memory usage: 3.7+ MB\n"
     ]
    },
    {
     "data": {
      "text/plain": [
       "None"
      ]
     },
     "metadata": {},
     "output_type": "display_data"
    }
   ],
   "source": [
    "data = pd.read_csv('/datasets/real_estate_data.csv', sep = '\\t') #добавила разделители\n",
    "display(data.head())\n",
    "display(data.info())"
   ]
  },
  {
   "cell_type": "markdown",
   "metadata": {},
   "source": [
    "### Вывод"
   ]
  },
  {
   "cell_type": "markdown",
   "metadata": {},
   "source": [
    "После изучения данных таблицы и информации о таблице было обнаружено достаточное количество пустых значений в столбцах. Кажется логичным заменить пустые значения на нулевые в следующих столбцах:\n",
    "balcony, parks_around3000, ponds_around3000. Предполагаю, что пропущенные значения в этих столбцах означают, что в квартире нет балкона, нет парков и водоёмов в радиусе 3 км. В остальных же столбцах пропущенные значения заменять на нулевые считаю некорректным, иначе окажется, что часть квартир располагаются непосредственно в аэропорте, т.к. расстояние до него будет указано 0 км."
   ]
  },
  {
   "cell_type": "markdown",
   "metadata": {},
   "source": [
    "## Предобработка данных"
   ]
  },
  {
   "cell_type": "code",
   "execution_count": 3,
   "metadata": {
    "scrolled": false
   },
   "outputs": [
    {
     "data": {
      "text/html": [
       "<div>\n",
       "<style scoped>\n",
       "    .dataframe tbody tr th:only-of-type {\n",
       "        vertical-align: middle;\n",
       "    }\n",
       "\n",
       "    .dataframe tbody tr th {\n",
       "        vertical-align: top;\n",
       "    }\n",
       "\n",
       "    .dataframe thead th {\n",
       "        text-align: right;\n",
       "    }\n",
       "</style>\n",
       "<table border=\"1\" class=\"dataframe\">\n",
       "  <thead>\n",
       "    <tr style=\"text-align: right;\">\n",
       "      <th></th>\n",
       "      <th>total_images</th>\n",
       "      <th>last_price</th>\n",
       "      <th>total_area</th>\n",
       "      <th>first_day_exposition</th>\n",
       "      <th>rooms</th>\n",
       "      <th>ceiling_height</th>\n",
       "      <th>floors_total</th>\n",
       "      <th>living_area</th>\n",
       "      <th>floor</th>\n",
       "      <th>is_apartment</th>\n",
       "      <th>...</th>\n",
       "      <th>kitchen_area</th>\n",
       "      <th>balcony</th>\n",
       "      <th>locality_name</th>\n",
       "      <th>airports_nearest</th>\n",
       "      <th>cityCenters_nearest</th>\n",
       "      <th>parks_around3000</th>\n",
       "      <th>parks_nearest</th>\n",
       "      <th>ponds_around3000</th>\n",
       "      <th>ponds_nearest</th>\n",
       "      <th>days_exposition</th>\n",
       "    </tr>\n",
       "  </thead>\n",
       "  <tbody>\n",
       "    <tr>\n",
       "      <th>0</th>\n",
       "      <td>20</td>\n",
       "      <td>13000000.0</td>\n",
       "      <td>108.0</td>\n",
       "      <td>2019-03-07T00:00:00</td>\n",
       "      <td>3</td>\n",
       "      <td>2.70</td>\n",
       "      <td>16.0</td>\n",
       "      <td>51.0</td>\n",
       "      <td>8</td>\n",
       "      <td>NaN</td>\n",
       "      <td>...</td>\n",
       "      <td>25.0</td>\n",
       "      <td>0.0</td>\n",
       "      <td>Санкт-Петербург</td>\n",
       "      <td>18863.0</td>\n",
       "      <td>16028.0</td>\n",
       "      <td>1.0</td>\n",
       "      <td>482.0</td>\n",
       "      <td>2.0</td>\n",
       "      <td>755.0</td>\n",
       "      <td>NaN</td>\n",
       "    </tr>\n",
       "    <tr>\n",
       "      <th>1</th>\n",
       "      <td>7</td>\n",
       "      <td>3350000.0</td>\n",
       "      <td>40.4</td>\n",
       "      <td>2018-12-04T00:00:00</td>\n",
       "      <td>1</td>\n",
       "      <td>NaN</td>\n",
       "      <td>11.0</td>\n",
       "      <td>18.6</td>\n",
       "      <td>1</td>\n",
       "      <td>NaN</td>\n",
       "      <td>...</td>\n",
       "      <td>11.0</td>\n",
       "      <td>2.0</td>\n",
       "      <td>посёлок Шушары</td>\n",
       "      <td>12817.0</td>\n",
       "      <td>18603.0</td>\n",
       "      <td>0.0</td>\n",
       "      <td>NaN</td>\n",
       "      <td>0.0</td>\n",
       "      <td>NaN</td>\n",
       "      <td>81.0</td>\n",
       "    </tr>\n",
       "    <tr>\n",
       "      <th>2</th>\n",
       "      <td>10</td>\n",
       "      <td>5196000.0</td>\n",
       "      <td>56.0</td>\n",
       "      <td>2015-08-20T00:00:00</td>\n",
       "      <td>2</td>\n",
       "      <td>NaN</td>\n",
       "      <td>5.0</td>\n",
       "      <td>34.3</td>\n",
       "      <td>4</td>\n",
       "      <td>NaN</td>\n",
       "      <td>...</td>\n",
       "      <td>8.3</td>\n",
       "      <td>0.0</td>\n",
       "      <td>Санкт-Петербург</td>\n",
       "      <td>21741.0</td>\n",
       "      <td>13933.0</td>\n",
       "      <td>1.0</td>\n",
       "      <td>90.0</td>\n",
       "      <td>2.0</td>\n",
       "      <td>574.0</td>\n",
       "      <td>558.0</td>\n",
       "    </tr>\n",
       "    <tr>\n",
       "      <th>3</th>\n",
       "      <td>0</td>\n",
       "      <td>64900000.0</td>\n",
       "      <td>159.0</td>\n",
       "      <td>2015-07-24T00:00:00</td>\n",
       "      <td>3</td>\n",
       "      <td>NaN</td>\n",
       "      <td>14.0</td>\n",
       "      <td>NaN</td>\n",
       "      <td>9</td>\n",
       "      <td>NaN</td>\n",
       "      <td>...</td>\n",
       "      <td>NaN</td>\n",
       "      <td>0.0</td>\n",
       "      <td>Санкт-Петербург</td>\n",
       "      <td>28098.0</td>\n",
       "      <td>6800.0</td>\n",
       "      <td>2.0</td>\n",
       "      <td>84.0</td>\n",
       "      <td>3.0</td>\n",
       "      <td>234.0</td>\n",
       "      <td>424.0</td>\n",
       "    </tr>\n",
       "    <tr>\n",
       "      <th>4</th>\n",
       "      <td>2</td>\n",
       "      <td>10000000.0</td>\n",
       "      <td>100.0</td>\n",
       "      <td>2018-06-19T00:00:00</td>\n",
       "      <td>2</td>\n",
       "      <td>3.03</td>\n",
       "      <td>14.0</td>\n",
       "      <td>32.0</td>\n",
       "      <td>13</td>\n",
       "      <td>NaN</td>\n",
       "      <td>...</td>\n",
       "      <td>41.0</td>\n",
       "      <td>0.0</td>\n",
       "      <td>Санкт-Петербург</td>\n",
       "      <td>31856.0</td>\n",
       "      <td>8098.0</td>\n",
       "      <td>2.0</td>\n",
       "      <td>112.0</td>\n",
       "      <td>1.0</td>\n",
       "      <td>48.0</td>\n",
       "      <td>121.0</td>\n",
       "    </tr>\n",
       "  </tbody>\n",
       "</table>\n",
       "<p>5 rows × 22 columns</p>\n",
       "</div>"
      ],
      "text/plain": [
       "   total_images  last_price  total_area first_day_exposition  rooms  \\\n",
       "0            20  13000000.0       108.0  2019-03-07T00:00:00      3   \n",
       "1             7   3350000.0        40.4  2018-12-04T00:00:00      1   \n",
       "2            10   5196000.0        56.0  2015-08-20T00:00:00      2   \n",
       "3             0  64900000.0       159.0  2015-07-24T00:00:00      3   \n",
       "4             2  10000000.0       100.0  2018-06-19T00:00:00      2   \n",
       "\n",
       "   ceiling_height  floors_total  living_area  floor is_apartment  ...  \\\n",
       "0            2.70          16.0         51.0      8          NaN  ...   \n",
       "1             NaN          11.0         18.6      1          NaN  ...   \n",
       "2             NaN           5.0         34.3      4          NaN  ...   \n",
       "3             NaN          14.0          NaN      9          NaN  ...   \n",
       "4            3.03          14.0         32.0     13          NaN  ...   \n",
       "\n",
       "   kitchen_area  balcony    locality_name  airports_nearest  \\\n",
       "0          25.0      0.0  Санкт-Петербург           18863.0   \n",
       "1          11.0      2.0   посёлок Шушары           12817.0   \n",
       "2           8.3      0.0  Санкт-Петербург           21741.0   \n",
       "3           NaN      0.0  Санкт-Петербург           28098.0   \n",
       "4          41.0      0.0  Санкт-Петербург           31856.0   \n",
       "\n",
       "  cityCenters_nearest  parks_around3000  parks_nearest  ponds_around3000  \\\n",
       "0             16028.0               1.0          482.0               2.0   \n",
       "1             18603.0               0.0            NaN               0.0   \n",
       "2             13933.0               1.0           90.0               2.0   \n",
       "3              6800.0               2.0           84.0               3.0   \n",
       "4              8098.0               2.0          112.0               1.0   \n",
       "\n",
       "   ponds_nearest  days_exposition  \n",
       "0          755.0              NaN  \n",
       "1            NaN             81.0  \n",
       "2          574.0            558.0  \n",
       "3          234.0            424.0  \n",
       "4           48.0            121.0  \n",
       "\n",
       "[5 rows x 22 columns]"
      ]
     },
     "metadata": {},
     "output_type": "display_data"
    },
    {
     "name": "stdout",
     "output_type": "stream",
     "text": [
      "<class 'pandas.core.frame.DataFrame'>\n",
      "RangeIndex: 23699 entries, 0 to 23698\n",
      "Data columns (total 22 columns):\n",
      " #   Column                Non-Null Count  Dtype  \n",
      "---  ------                --------------  -----  \n",
      " 0   total_images          23699 non-null  int64  \n",
      " 1   last_price            23699 non-null  float64\n",
      " 2   total_area            23699 non-null  float64\n",
      " 3   first_day_exposition  23699 non-null  object \n",
      " 4   rooms                 23699 non-null  int64  \n",
      " 5   ceiling_height        14504 non-null  float64\n",
      " 6   floors_total          23613 non-null  float64\n",
      " 7   living_area           21796 non-null  float64\n",
      " 8   floor                 23699 non-null  int64  \n",
      " 9   is_apartment          2775 non-null   object \n",
      " 10  studio                23699 non-null  bool   \n",
      " 11  open_plan             23699 non-null  bool   \n",
      " 12  kitchen_area          21421 non-null  float64\n",
      " 13  balcony               23699 non-null  float64\n",
      " 14  locality_name         23650 non-null  object \n",
      " 15  airports_nearest      18157 non-null  float64\n",
      " 16  cityCenters_nearest   18180 non-null  float64\n",
      " 17  parks_around3000      23699 non-null  float64\n",
      " 18  parks_nearest         8079 non-null   float64\n",
      " 19  ponds_around3000      23699 non-null  float64\n",
      " 20  ponds_nearest         9110 non-null   float64\n",
      " 21  days_exposition       20518 non-null  float64\n",
      "dtypes: bool(2), float64(14), int64(3), object(3)\n",
      "memory usage: 3.7+ MB\n"
     ]
    },
    {
     "data": {
      "text/plain": [
       "None"
      ]
     },
     "metadata": {},
     "output_type": "display_data"
    }
   ],
   "source": [
    "data.fillna({'balcony': 0,'parks_around3000': 0,'ponds_around3000': 0},  inplace=True) #заменяю значения NaN в трех столбцах\n",
    "display(data.head())\n",
    "display(data.info())"
   ]
  },
  {
   "cell_type": "code",
   "execution_count": 4,
   "metadata": {},
   "outputs": [
    {
     "data": {
      "text/plain": [
       "False    23699\n",
       "dtype: int64"
      ]
     },
     "execution_count": 4,
     "metadata": {},
     "output_type": "execute_result"
    }
   ],
   "source": [
    "data.duplicated().value_counts() # проверяю, есть ли дубликаты в дф"
   ]
  },
  {
   "cell_type": "code",
   "execution_count": 5,
   "metadata": {},
   "outputs": [
    {
     "data": {
      "text/plain": [
       "False    2725\n",
       "True       50\n",
       "Name: is_apartment, dtype: int64"
      ]
     },
     "execution_count": 5,
     "metadata": {},
     "output_type": "execute_result"
    }
   ],
   "source": [
    "data['is_apartment'].value_counts() \n",
    "#по первым 5 строкам таблицы непонятно, какие значения содержатся в столбце is_apartment,но по аналогии со столбцами studio и open_plan я предположила, что там содержатся булевы значения. проверяю эту гипотезу"
   ]
  },
  {
   "cell_type": "code",
   "execution_count": 6,
   "metadata": {},
   "outputs": [],
   "source": [
    "data['is_apartment'] = data['is_apartment'].fillna(False) #заменяю пропуски на False"
   ]
  },
  {
   "cell_type": "code",
   "execution_count": 7,
   "metadata": {
    "scrolled": false
   },
   "outputs": [
    {
     "name": "stdout",
     "output_type": "stream",
     "text": [
      "<class 'pandas.core.frame.DataFrame'>\n",
      "RangeIndex: 23699 entries, 0 to 23698\n",
      "Data columns (total 22 columns):\n",
      " #   Column                Non-Null Count  Dtype  \n",
      "---  ------                --------------  -----  \n",
      " 0   total_images          23699 non-null  int64  \n",
      " 1   last_price            23699 non-null  float64\n",
      " 2   total_area            23699 non-null  float64\n",
      " 3   first_day_exposition  23699 non-null  object \n",
      " 4   rooms                 23699 non-null  int64  \n",
      " 5   ceiling_height        14504 non-null  float64\n",
      " 6   floors_total          23613 non-null  float64\n",
      " 7   living_area           21796 non-null  float64\n",
      " 8   floor                 23699 non-null  int64  \n",
      " 9   is_apartment          23699 non-null  bool   \n",
      " 10  studio                23699 non-null  bool   \n",
      " 11  open_plan             23699 non-null  bool   \n",
      " 12  kitchen_area          21421 non-null  float64\n",
      " 13  balcony               23699 non-null  float64\n",
      " 14  locality_name         23650 non-null  object \n",
      " 15  airports_nearest      18157 non-null  float64\n",
      " 16  cityCenters_nearest   18180 non-null  float64\n",
      " 17  parks_around3000      23699 non-null  float64\n",
      " 18  parks_nearest         8079 non-null   float64\n",
      " 19  ponds_around3000      23699 non-null  float64\n",
      " 20  ponds_nearest         9110 non-null   float64\n",
      " 21  days_exposition       20518 non-null  float64\n",
      "dtypes: bool(3), float64(14), int64(3), object(2)\n",
      "memory usage: 3.5+ MB\n"
     ]
    }
   ],
   "source": [
    "data['is_apartment'] = data['is_apartment'].astype('bool') #заменяю тип значений на булевы\n",
    "data.info()"
   ]
  },
  {
   "cell_type": "code",
   "execution_count": 8,
   "metadata": {},
   "outputs": [
    {
     "data": {
      "text/plain": [
       "False    23649\n",
       "True        50\n",
       "Name: is_apartment, dtype: int64"
      ]
     },
     "execution_count": 8,
     "metadata": {},
     "output_type": "execute_result"
    }
   ],
   "source": [
    "data['is_apartment'].value_counts() # проверяю"
   ]
  },
  {
   "cell_type": "code",
   "execution_count": 9,
   "metadata": {},
   "outputs": [],
   "source": [
    "data.rename(columns={'cityCenters_nearest':'city_centers_nearest', 'parks_around3000':'parks_around_3000', 'ponds_around3000':'ponds_around_3000'}, inplace=True)\n",
    "#заменяю названия столбцов на корректные"
   ]
  },
  {
   "cell_type": "markdown",
   "metadata": {},
   "source": [
    "## Расчёты и добавление результатов в таблицу"
   ]
  },
  {
   "cell_type": "code",
   "execution_count": 10,
   "metadata": {
    "scrolled": false
   },
   "outputs": [
    {
     "data": {
      "text/html": [
       "<div>\n",
       "<style scoped>\n",
       "    .dataframe tbody tr th:only-of-type {\n",
       "        vertical-align: middle;\n",
       "    }\n",
       "\n",
       "    .dataframe tbody tr th {\n",
       "        vertical-align: top;\n",
       "    }\n",
       "\n",
       "    .dataframe thead th {\n",
       "        text-align: right;\n",
       "    }\n",
       "</style>\n",
       "<table border=\"1\" class=\"dataframe\">\n",
       "  <thead>\n",
       "    <tr style=\"text-align: right;\">\n",
       "      <th></th>\n",
       "      <th>total_images</th>\n",
       "      <th>last_price</th>\n",
       "      <th>total_area</th>\n",
       "      <th>first_day_exposition</th>\n",
       "      <th>rooms</th>\n",
       "      <th>ceiling_height</th>\n",
       "      <th>floors_total</th>\n",
       "      <th>living_area</th>\n",
       "      <th>floor</th>\n",
       "      <th>is_apartment</th>\n",
       "      <th>...</th>\n",
       "      <th>balcony</th>\n",
       "      <th>locality_name</th>\n",
       "      <th>airports_nearest</th>\n",
       "      <th>city_centers_nearest</th>\n",
       "      <th>parks_around_3000</th>\n",
       "      <th>parks_nearest</th>\n",
       "      <th>ponds_around_3000</th>\n",
       "      <th>ponds_nearest</th>\n",
       "      <th>days_exposition</th>\n",
       "      <th>price_one_meter</th>\n",
       "    </tr>\n",
       "  </thead>\n",
       "  <tbody>\n",
       "    <tr>\n",
       "      <th>0</th>\n",
       "      <td>20</td>\n",
       "      <td>13000000.0</td>\n",
       "      <td>108.0</td>\n",
       "      <td>2019-03-07T00:00:00</td>\n",
       "      <td>3</td>\n",
       "      <td>2.70</td>\n",
       "      <td>16.0</td>\n",
       "      <td>51.0</td>\n",
       "      <td>8</td>\n",
       "      <td>False</td>\n",
       "      <td>...</td>\n",
       "      <td>0.0</td>\n",
       "      <td>Санкт-Петербург</td>\n",
       "      <td>18863.0</td>\n",
       "      <td>16028.0</td>\n",
       "      <td>1.0</td>\n",
       "      <td>482.0</td>\n",
       "      <td>2.0</td>\n",
       "      <td>755.0</td>\n",
       "      <td>NaN</td>\n",
       "      <td>120370.4</td>\n",
       "    </tr>\n",
       "    <tr>\n",
       "      <th>1</th>\n",
       "      <td>7</td>\n",
       "      <td>3350000.0</td>\n",
       "      <td>40.4</td>\n",
       "      <td>2018-12-04T00:00:00</td>\n",
       "      <td>1</td>\n",
       "      <td>NaN</td>\n",
       "      <td>11.0</td>\n",
       "      <td>18.6</td>\n",
       "      <td>1</td>\n",
       "      <td>False</td>\n",
       "      <td>...</td>\n",
       "      <td>2.0</td>\n",
       "      <td>посёлок Шушары</td>\n",
       "      <td>12817.0</td>\n",
       "      <td>18603.0</td>\n",
       "      <td>0.0</td>\n",
       "      <td>NaN</td>\n",
       "      <td>0.0</td>\n",
       "      <td>NaN</td>\n",
       "      <td>81.0</td>\n",
       "      <td>82920.8</td>\n",
       "    </tr>\n",
       "    <tr>\n",
       "      <th>2</th>\n",
       "      <td>10</td>\n",
       "      <td>5196000.0</td>\n",
       "      <td>56.0</td>\n",
       "      <td>2015-08-20T00:00:00</td>\n",
       "      <td>2</td>\n",
       "      <td>NaN</td>\n",
       "      <td>5.0</td>\n",
       "      <td>34.3</td>\n",
       "      <td>4</td>\n",
       "      <td>False</td>\n",
       "      <td>...</td>\n",
       "      <td>0.0</td>\n",
       "      <td>Санкт-Петербург</td>\n",
       "      <td>21741.0</td>\n",
       "      <td>13933.0</td>\n",
       "      <td>1.0</td>\n",
       "      <td>90.0</td>\n",
       "      <td>2.0</td>\n",
       "      <td>574.0</td>\n",
       "      <td>558.0</td>\n",
       "      <td>92785.7</td>\n",
       "    </tr>\n",
       "    <tr>\n",
       "      <th>3</th>\n",
       "      <td>0</td>\n",
       "      <td>64900000.0</td>\n",
       "      <td>159.0</td>\n",
       "      <td>2015-07-24T00:00:00</td>\n",
       "      <td>3</td>\n",
       "      <td>NaN</td>\n",
       "      <td>14.0</td>\n",
       "      <td>NaN</td>\n",
       "      <td>9</td>\n",
       "      <td>False</td>\n",
       "      <td>...</td>\n",
       "      <td>0.0</td>\n",
       "      <td>Санкт-Петербург</td>\n",
       "      <td>28098.0</td>\n",
       "      <td>6800.0</td>\n",
       "      <td>2.0</td>\n",
       "      <td>84.0</td>\n",
       "      <td>3.0</td>\n",
       "      <td>234.0</td>\n",
       "      <td>424.0</td>\n",
       "      <td>408176.1</td>\n",
       "    </tr>\n",
       "    <tr>\n",
       "      <th>4</th>\n",
       "      <td>2</td>\n",
       "      <td>10000000.0</td>\n",
       "      <td>100.0</td>\n",
       "      <td>2018-06-19T00:00:00</td>\n",
       "      <td>2</td>\n",
       "      <td>3.03</td>\n",
       "      <td>14.0</td>\n",
       "      <td>32.0</td>\n",
       "      <td>13</td>\n",
       "      <td>False</td>\n",
       "      <td>...</td>\n",
       "      <td>0.0</td>\n",
       "      <td>Санкт-Петербург</td>\n",
       "      <td>31856.0</td>\n",
       "      <td>8098.0</td>\n",
       "      <td>2.0</td>\n",
       "      <td>112.0</td>\n",
       "      <td>1.0</td>\n",
       "      <td>48.0</td>\n",
       "      <td>121.0</td>\n",
       "      <td>100000.0</td>\n",
       "    </tr>\n",
       "  </tbody>\n",
       "</table>\n",
       "<p>5 rows × 23 columns</p>\n",
       "</div>"
      ],
      "text/plain": [
       "   total_images  last_price  total_area first_day_exposition  rooms  \\\n",
       "0            20  13000000.0       108.0  2019-03-07T00:00:00      3   \n",
       "1             7   3350000.0        40.4  2018-12-04T00:00:00      1   \n",
       "2            10   5196000.0        56.0  2015-08-20T00:00:00      2   \n",
       "3             0  64900000.0       159.0  2015-07-24T00:00:00      3   \n",
       "4             2  10000000.0       100.0  2018-06-19T00:00:00      2   \n",
       "\n",
       "   ceiling_height  floors_total  living_area  floor  is_apartment  ...  \\\n",
       "0            2.70          16.0         51.0      8         False  ...   \n",
       "1             NaN          11.0         18.6      1         False  ...   \n",
       "2             NaN           5.0         34.3      4         False  ...   \n",
       "3             NaN          14.0          NaN      9         False  ...   \n",
       "4            3.03          14.0         32.0     13         False  ...   \n",
       "\n",
       "   balcony    locality_name  airports_nearest  city_centers_nearest  \\\n",
       "0      0.0  Санкт-Петербург           18863.0               16028.0   \n",
       "1      2.0   посёлок Шушары           12817.0               18603.0   \n",
       "2      0.0  Санкт-Петербург           21741.0               13933.0   \n",
       "3      0.0  Санкт-Петербург           28098.0                6800.0   \n",
       "4      0.0  Санкт-Петербург           31856.0                8098.0   \n",
       "\n",
       "  parks_around_3000  parks_nearest  ponds_around_3000  ponds_nearest  \\\n",
       "0               1.0          482.0                2.0          755.0   \n",
       "1               0.0            NaN                0.0            NaN   \n",
       "2               1.0           90.0                2.0          574.0   \n",
       "3               2.0           84.0                3.0          234.0   \n",
       "4               2.0          112.0                1.0           48.0   \n",
       "\n",
       "   days_exposition  price_one_meter  \n",
       "0              NaN         120370.4  \n",
       "1             81.0          82920.8  \n",
       "2            558.0          92785.7  \n",
       "3            424.0         408176.1  \n",
       "4            121.0         100000.0  \n",
       "\n",
       "[5 rows x 23 columns]"
      ]
     },
     "execution_count": 10,
     "metadata": {},
     "output_type": "execute_result"
    }
   ],
   "source": [
    "data['price_one_meter'] = data['last_price']/data['total_area'] #цена за 1 кв.м. \n",
    "data['price_one_meter'] = data['price_one_meter'].round(1) #округляю полученные значения до 1 знака после запятой для большей наглядности\n",
    "data.head()"
   ]
  },
  {
   "cell_type": "code",
   "execution_count": 11,
   "metadata": {},
   "outputs": [
    {
     "data": {
      "text/html": [
       "<div>\n",
       "<style scoped>\n",
       "    .dataframe tbody tr th:only-of-type {\n",
       "        vertical-align: middle;\n",
       "    }\n",
       "\n",
       "    .dataframe tbody tr th {\n",
       "        vertical-align: top;\n",
       "    }\n",
       "\n",
       "    .dataframe thead th {\n",
       "        text-align: right;\n",
       "    }\n",
       "</style>\n",
       "<table border=\"1\" class=\"dataframe\">\n",
       "  <thead>\n",
       "    <tr style=\"text-align: right;\">\n",
       "      <th></th>\n",
       "      <th>total_images</th>\n",
       "      <th>last_price</th>\n",
       "      <th>total_area</th>\n",
       "      <th>first_day_exposition</th>\n",
       "      <th>rooms</th>\n",
       "      <th>ceiling_height</th>\n",
       "      <th>floors_total</th>\n",
       "      <th>living_area</th>\n",
       "      <th>floor</th>\n",
       "      <th>is_apartment</th>\n",
       "      <th>...</th>\n",
       "      <th>city_centers_nearest</th>\n",
       "      <th>parks_around_3000</th>\n",
       "      <th>parks_nearest</th>\n",
       "      <th>ponds_around_3000</th>\n",
       "      <th>ponds_nearest</th>\n",
       "      <th>days_exposition</th>\n",
       "      <th>price_one_meter</th>\n",
       "      <th>day</th>\n",
       "      <th>month</th>\n",
       "      <th>year</th>\n",
       "    </tr>\n",
       "  </thead>\n",
       "  <tbody>\n",
       "    <tr>\n",
       "      <th>0</th>\n",
       "      <td>20</td>\n",
       "      <td>13000000.0</td>\n",
       "      <td>108.0</td>\n",
       "      <td>2019-03-07</td>\n",
       "      <td>3</td>\n",
       "      <td>2.70</td>\n",
       "      <td>16.0</td>\n",
       "      <td>51.0</td>\n",
       "      <td>8</td>\n",
       "      <td>False</td>\n",
       "      <td>...</td>\n",
       "      <td>16028.0</td>\n",
       "      <td>1.0</td>\n",
       "      <td>482.0</td>\n",
       "      <td>2.0</td>\n",
       "      <td>755.0</td>\n",
       "      <td>NaN</td>\n",
       "      <td>120370.4</td>\n",
       "      <td>3</td>\n",
       "      <td>3</td>\n",
       "      <td>2019</td>\n",
       "    </tr>\n",
       "    <tr>\n",
       "      <th>1</th>\n",
       "      <td>7</td>\n",
       "      <td>3350000.0</td>\n",
       "      <td>40.4</td>\n",
       "      <td>2018-12-04</td>\n",
       "      <td>1</td>\n",
       "      <td>NaN</td>\n",
       "      <td>11.0</td>\n",
       "      <td>18.6</td>\n",
       "      <td>1</td>\n",
       "      <td>False</td>\n",
       "      <td>...</td>\n",
       "      <td>18603.0</td>\n",
       "      <td>0.0</td>\n",
       "      <td>NaN</td>\n",
       "      <td>0.0</td>\n",
       "      <td>NaN</td>\n",
       "      <td>81.0</td>\n",
       "      <td>82920.8</td>\n",
       "      <td>1</td>\n",
       "      <td>12</td>\n",
       "      <td>2018</td>\n",
       "    </tr>\n",
       "    <tr>\n",
       "      <th>2</th>\n",
       "      <td>10</td>\n",
       "      <td>5196000.0</td>\n",
       "      <td>56.0</td>\n",
       "      <td>2015-08-20</td>\n",
       "      <td>2</td>\n",
       "      <td>NaN</td>\n",
       "      <td>5.0</td>\n",
       "      <td>34.3</td>\n",
       "      <td>4</td>\n",
       "      <td>False</td>\n",
       "      <td>...</td>\n",
       "      <td>13933.0</td>\n",
       "      <td>1.0</td>\n",
       "      <td>90.0</td>\n",
       "      <td>2.0</td>\n",
       "      <td>574.0</td>\n",
       "      <td>558.0</td>\n",
       "      <td>92785.7</td>\n",
       "      <td>3</td>\n",
       "      <td>8</td>\n",
       "      <td>2015</td>\n",
       "    </tr>\n",
       "    <tr>\n",
       "      <th>3</th>\n",
       "      <td>0</td>\n",
       "      <td>64900000.0</td>\n",
       "      <td>159.0</td>\n",
       "      <td>2015-07-24</td>\n",
       "      <td>3</td>\n",
       "      <td>NaN</td>\n",
       "      <td>14.0</td>\n",
       "      <td>NaN</td>\n",
       "      <td>9</td>\n",
       "      <td>False</td>\n",
       "      <td>...</td>\n",
       "      <td>6800.0</td>\n",
       "      <td>2.0</td>\n",
       "      <td>84.0</td>\n",
       "      <td>3.0</td>\n",
       "      <td>234.0</td>\n",
       "      <td>424.0</td>\n",
       "      <td>408176.1</td>\n",
       "      <td>4</td>\n",
       "      <td>7</td>\n",
       "      <td>2015</td>\n",
       "    </tr>\n",
       "    <tr>\n",
       "      <th>4</th>\n",
       "      <td>2</td>\n",
       "      <td>10000000.0</td>\n",
       "      <td>100.0</td>\n",
       "      <td>2018-06-19</td>\n",
       "      <td>2</td>\n",
       "      <td>3.03</td>\n",
       "      <td>14.0</td>\n",
       "      <td>32.0</td>\n",
       "      <td>13</td>\n",
       "      <td>False</td>\n",
       "      <td>...</td>\n",
       "      <td>8098.0</td>\n",
       "      <td>2.0</td>\n",
       "      <td>112.0</td>\n",
       "      <td>1.0</td>\n",
       "      <td>48.0</td>\n",
       "      <td>121.0</td>\n",
       "      <td>100000.0</td>\n",
       "      <td>1</td>\n",
       "      <td>6</td>\n",
       "      <td>2018</td>\n",
       "    </tr>\n",
       "  </tbody>\n",
       "</table>\n",
       "<p>5 rows × 26 columns</p>\n",
       "</div>"
      ],
      "text/plain": [
       "   total_images  last_price  total_area first_day_exposition  rooms  \\\n",
       "0            20  13000000.0       108.0           2019-03-07      3   \n",
       "1             7   3350000.0        40.4           2018-12-04      1   \n",
       "2            10   5196000.0        56.0           2015-08-20      2   \n",
       "3             0  64900000.0       159.0           2015-07-24      3   \n",
       "4             2  10000000.0       100.0           2018-06-19      2   \n",
       "\n",
       "   ceiling_height  floors_total  living_area  floor  is_apartment  ...  \\\n",
       "0            2.70          16.0         51.0      8         False  ...   \n",
       "1             NaN          11.0         18.6      1         False  ...   \n",
       "2             NaN           5.0         34.3      4         False  ...   \n",
       "3             NaN          14.0          NaN      9         False  ...   \n",
       "4            3.03          14.0         32.0     13         False  ...   \n",
       "\n",
       "   city_centers_nearest  parks_around_3000  parks_nearest  ponds_around_3000  \\\n",
       "0               16028.0                1.0          482.0                2.0   \n",
       "1               18603.0                0.0            NaN                0.0   \n",
       "2               13933.0                1.0           90.0                2.0   \n",
       "3                6800.0                2.0           84.0                3.0   \n",
       "4                8098.0                2.0          112.0                1.0   \n",
       "\n",
       "  ponds_nearest  days_exposition  price_one_meter  day  month  year  \n",
       "0         755.0              NaN         120370.4    3      3  2019  \n",
       "1           NaN             81.0          82920.8    1     12  2018  \n",
       "2         574.0            558.0          92785.7    3      8  2015  \n",
       "3         234.0            424.0         408176.1    4      7  2015  \n",
       "4          48.0            121.0         100000.0    1      6  2018  \n",
       "\n",
       "[5 rows x 26 columns]"
      ]
     },
     "execution_count": 11,
     "metadata": {},
     "output_type": "execute_result"
    }
   ],
   "source": [
    "data['first_day_exposition'] = pd.to_datetime(data['first_day_exposition'], format='%Y-%m-%dT%H:%M:%S')\n",
    "data['day'] = data['first_day_exposition'].dt.weekday #добавляю столбец с номером дня\n",
    "data['month'] = data['first_day_exposition'].dt.month #добавляю столбец с номером месяца\n",
    "data['year'] = data['first_day_exposition'].dt.year #добавляю столбец с годом\n",
    "data.head()"
   ]
  },
  {
   "cell_type": "code",
   "execution_count": 12,
   "metadata": {
    "scrolled": true
   },
   "outputs": [
    {
     "data": {
      "text/plain": [
       "другой       17446\n",
       "последний     3336\n",
       "первый        2917\n",
       "Name: apartment_floor, dtype: int64"
      ]
     },
     "execution_count": 12,
     "metadata": {},
     "output_type": "execute_result"
    }
   ],
   "source": [
    "def floor_number(row): #написала функцию для возможности категоризации этажей\n",
    "    if row['floor']==1:\n",
    "        return 'первый'\n",
    "    elif row['floor']==row['floors_total']:\n",
    "        return 'последний'\n",
    "    else:\n",
    "        return 'другой'\n",
    "data['apartment_floor'] = data.apply(floor_number, axis=1)\n",
    "data['apartment_floor'].value_counts()"
   ]
  },
  {
   "cell_type": "code",
   "execution_count": 13,
   "metadata": {},
   "outputs": [
    {
     "data": {
      "text/html": [
       "<div>\n",
       "<style scoped>\n",
       "    .dataframe tbody tr th:only-of-type {\n",
       "        vertical-align: middle;\n",
       "    }\n",
       "\n",
       "    .dataframe tbody tr th {\n",
       "        vertical-align: top;\n",
       "    }\n",
       "\n",
       "    .dataframe thead th {\n",
       "        text-align: right;\n",
       "    }\n",
       "</style>\n",
       "<table border=\"1\" class=\"dataframe\">\n",
       "  <thead>\n",
       "    <tr style=\"text-align: right;\">\n",
       "      <th></th>\n",
       "      <th>total_images</th>\n",
       "      <th>last_price</th>\n",
       "      <th>total_area</th>\n",
       "      <th>first_day_exposition</th>\n",
       "      <th>rooms</th>\n",
       "      <th>ceiling_height</th>\n",
       "      <th>floors_total</th>\n",
       "      <th>living_area</th>\n",
       "      <th>floor</th>\n",
       "      <th>is_apartment</th>\n",
       "      <th>...</th>\n",
       "      <th>ponds_around_3000</th>\n",
       "      <th>ponds_nearest</th>\n",
       "      <th>days_exposition</th>\n",
       "      <th>price_one_meter</th>\n",
       "      <th>day</th>\n",
       "      <th>month</th>\n",
       "      <th>year</th>\n",
       "      <th>apartment_floor</th>\n",
       "      <th>area_ratio_total</th>\n",
       "      <th>kitchen_area_ratio</th>\n",
       "    </tr>\n",
       "  </thead>\n",
       "  <tbody>\n",
       "    <tr>\n",
       "      <th>0</th>\n",
       "      <td>20</td>\n",
       "      <td>13000000.0</td>\n",
       "      <td>108.0</td>\n",
       "      <td>2019-03-07</td>\n",
       "      <td>3</td>\n",
       "      <td>2.70</td>\n",
       "      <td>16.0</td>\n",
       "      <td>51.0</td>\n",
       "      <td>8</td>\n",
       "      <td>False</td>\n",
       "      <td>...</td>\n",
       "      <td>2.0</td>\n",
       "      <td>755.0</td>\n",
       "      <td>NaN</td>\n",
       "      <td>120370.4</td>\n",
       "      <td>3</td>\n",
       "      <td>3</td>\n",
       "      <td>2019</td>\n",
       "      <td>другой</td>\n",
       "      <td>0.47</td>\n",
       "      <td>0.23</td>\n",
       "    </tr>\n",
       "    <tr>\n",
       "      <th>1</th>\n",
       "      <td>7</td>\n",
       "      <td>3350000.0</td>\n",
       "      <td>40.4</td>\n",
       "      <td>2018-12-04</td>\n",
       "      <td>1</td>\n",
       "      <td>NaN</td>\n",
       "      <td>11.0</td>\n",
       "      <td>18.6</td>\n",
       "      <td>1</td>\n",
       "      <td>False</td>\n",
       "      <td>...</td>\n",
       "      <td>0.0</td>\n",
       "      <td>NaN</td>\n",
       "      <td>81.0</td>\n",
       "      <td>82920.8</td>\n",
       "      <td>1</td>\n",
       "      <td>12</td>\n",
       "      <td>2018</td>\n",
       "      <td>первый</td>\n",
       "      <td>0.46</td>\n",
       "      <td>0.27</td>\n",
       "    </tr>\n",
       "    <tr>\n",
       "      <th>2</th>\n",
       "      <td>10</td>\n",
       "      <td>5196000.0</td>\n",
       "      <td>56.0</td>\n",
       "      <td>2015-08-20</td>\n",
       "      <td>2</td>\n",
       "      <td>NaN</td>\n",
       "      <td>5.0</td>\n",
       "      <td>34.3</td>\n",
       "      <td>4</td>\n",
       "      <td>False</td>\n",
       "      <td>...</td>\n",
       "      <td>2.0</td>\n",
       "      <td>574.0</td>\n",
       "      <td>558.0</td>\n",
       "      <td>92785.7</td>\n",
       "      <td>3</td>\n",
       "      <td>8</td>\n",
       "      <td>2015</td>\n",
       "      <td>другой</td>\n",
       "      <td>0.61</td>\n",
       "      <td>0.15</td>\n",
       "    </tr>\n",
       "    <tr>\n",
       "      <th>3</th>\n",
       "      <td>0</td>\n",
       "      <td>64900000.0</td>\n",
       "      <td>159.0</td>\n",
       "      <td>2015-07-24</td>\n",
       "      <td>3</td>\n",
       "      <td>NaN</td>\n",
       "      <td>14.0</td>\n",
       "      <td>NaN</td>\n",
       "      <td>9</td>\n",
       "      <td>False</td>\n",
       "      <td>...</td>\n",
       "      <td>3.0</td>\n",
       "      <td>234.0</td>\n",
       "      <td>424.0</td>\n",
       "      <td>408176.1</td>\n",
       "      <td>4</td>\n",
       "      <td>7</td>\n",
       "      <td>2015</td>\n",
       "      <td>другой</td>\n",
       "      <td>NaN</td>\n",
       "      <td>NaN</td>\n",
       "    </tr>\n",
       "    <tr>\n",
       "      <th>4</th>\n",
       "      <td>2</td>\n",
       "      <td>10000000.0</td>\n",
       "      <td>100.0</td>\n",
       "      <td>2018-06-19</td>\n",
       "      <td>2</td>\n",
       "      <td>3.03</td>\n",
       "      <td>14.0</td>\n",
       "      <td>32.0</td>\n",
       "      <td>13</td>\n",
       "      <td>False</td>\n",
       "      <td>...</td>\n",
       "      <td>1.0</td>\n",
       "      <td>48.0</td>\n",
       "      <td>121.0</td>\n",
       "      <td>100000.0</td>\n",
       "      <td>1</td>\n",
       "      <td>6</td>\n",
       "      <td>2018</td>\n",
       "      <td>другой</td>\n",
       "      <td>0.32</td>\n",
       "      <td>0.41</td>\n",
       "    </tr>\n",
       "  </tbody>\n",
       "</table>\n",
       "<p>5 rows × 29 columns</p>\n",
       "</div>"
      ],
      "text/plain": [
       "   total_images  last_price  total_area first_day_exposition  rooms  \\\n",
       "0            20  13000000.0       108.0           2019-03-07      3   \n",
       "1             7   3350000.0        40.4           2018-12-04      1   \n",
       "2            10   5196000.0        56.0           2015-08-20      2   \n",
       "3             0  64900000.0       159.0           2015-07-24      3   \n",
       "4             2  10000000.0       100.0           2018-06-19      2   \n",
       "\n",
       "   ceiling_height  floors_total  living_area  floor  is_apartment  ...  \\\n",
       "0            2.70          16.0         51.0      8         False  ...   \n",
       "1             NaN          11.0         18.6      1         False  ...   \n",
       "2             NaN           5.0         34.3      4         False  ...   \n",
       "3             NaN          14.0          NaN      9         False  ...   \n",
       "4            3.03          14.0         32.0     13         False  ...   \n",
       "\n",
       "   ponds_around_3000  ponds_nearest  days_exposition  price_one_meter day  \\\n",
       "0                2.0          755.0              NaN         120370.4   3   \n",
       "1                0.0            NaN             81.0          82920.8   1   \n",
       "2                2.0          574.0            558.0          92785.7   3   \n",
       "3                3.0          234.0            424.0         408176.1   4   \n",
       "4                1.0           48.0            121.0         100000.0   1   \n",
       "\n",
       "   month  year  apartment_floor  area_ratio_total  kitchen_area_ratio  \n",
       "0      3  2019           другой              0.47                0.23  \n",
       "1     12  2018           первый              0.46                0.27  \n",
       "2      8  2015           другой              0.61                0.15  \n",
       "3      7  2015           другой               NaN                 NaN  \n",
       "4      6  2018           другой              0.32                0.41  \n",
       "\n",
       "[5 rows x 29 columns]"
      ]
     },
     "execution_count": 13,
     "metadata": {},
     "output_type": "execute_result"
    }
   ],
   "source": [
    "data['area_ratio_total'] = data['living_area']/data['total_area'] # отношение жилой площади к общей площади\n",
    "data['area_ratio_total'] = data['area_ratio_total'].round(2) #округляю до двух знаков после запятой\n",
    "data['kitchen_area_ratio'] = data['kitchen_area']/data['total_area'] # отношение площади кухни к общей плоади квартиры\n",
    "data['kitchen_area_ratio'] = data['kitchen_area_ratio'].round(2) #округляю до двух знаков после запятой\n",
    "data.head()"
   ]
  },
  {
   "cell_type": "markdown",
   "metadata": {},
   "source": [
    "## Исследовательский анализ данных"
   ]
  },
  {
   "cell_type": "markdown",
   "metadata": {},
   "source": [
    "### Исследование площади, цены, числа комнат, высоты потолков"
   ]
  },
  {
   "cell_type": "code",
   "execution_count": 14,
   "metadata": {
    "scrolled": false
   },
   "outputs": [
    {
     "data": {
      "text/plain": [
       "count    2.369900e+04\n",
       "mean     6.541549e+06\n",
       "std      1.088701e+07\n",
       "min      1.219000e+04\n",
       "25%      3.400000e+06\n",
       "50%      4.650000e+06\n",
       "75%      6.800000e+06\n",
       "max      7.630000e+08\n",
       "Name: last_price, dtype: float64"
      ]
     },
     "execution_count": 14,
     "metadata": {},
     "output_type": "execute_result"
    },
    {
     "data": {
      "image/png": "[encoded data removed]",
      "text/plain": [
       "<Figure size 432x288 with 1 Axes>"
      ]
     },
     "metadata": {
      "needs_background": "light"
     },
     "output_type": "display_data"
    }
   ],
   "source": [
    "data['last_price'].hist(bins=100, range=(0,65000000)) #гистограмма цены\n",
    "data['last_price'].describe()"
   ]
  },
  {
   "cell_type": "code",
   "execution_count": 15,
   "metadata": {
    "scrolled": false
   },
   "outputs": [
    {
     "data": {
      "text/plain": [
       "count    23699.000000\n",
       "mean        60.348651\n",
       "std         35.654083\n",
       "min         12.000000\n",
       "25%         40.000000\n",
       "50%         52.000000\n",
       "75%         69.900000\n",
       "max        900.000000\n",
       "Name: total_area, dtype: float64"
      ]
     },
     "execution_count": 15,
     "metadata": {},
     "output_type": "execute_result"
    },
    {
     "data": {
      "image/png": "[encoded data removed]",
      "text/plain": [
       "<Figure size 432x288 with 1 Axes>"
      ]
     },
     "metadata": {
      "needs_background": "light"
     },
     "output_type": "display_data"
    }
   ],
   "source": [
    "data['total_area'].hist(bins=100,range=(0,400)) # гистограмма площади квартиры\n",
    "data['total_area'].describe()"
   ]
  },
  {
   "cell_type": "code",
   "execution_count": 16,
   "metadata": {
    "scrolled": false
   },
   "outputs": [
    {
     "data": {
      "text/plain": [
       "count    23699.000000\n",
       "mean         2.070636\n",
       "std          1.078405\n",
       "min          0.000000\n",
       "25%          1.000000\n",
       "50%          2.000000\n",
       "75%          3.000000\n",
       "max         19.000000\n",
       "Name: rooms, dtype: float64"
      ]
     },
     "execution_count": 16,
     "metadata": {},
     "output_type": "execute_result"
    },
    {
     "data": {
      "image/png": "[encoded data removed]",
      "text/plain": [
       "<Figure size 432x288 with 1 Axes>"
      ]
     },
     "metadata": {
      "needs_background": "light"
     },
     "output_type": "display_data"
    }
   ],
   "source": [
    "data['rooms'].hist(bins=20,range=(0,20)) # гистограмма числа комнат\n",
    "data['rooms'].describe()"
   ]
  },
  {
   "cell_type": "code",
   "execution_count": 17,
   "metadata": {
    "scrolled": false
   },
   "outputs": [
    {
     "data": {
      "text/plain": [
       "count    14504.000000\n",
       "mean         2.771499\n",
       "std          1.261056\n",
       "min          1.000000\n",
       "25%          2.520000\n",
       "50%          2.650000\n",
       "75%          2.800000\n",
       "max        100.000000\n",
       "Name: ceiling_height, dtype: float64"
      ]
     },
     "execution_count": 17,
     "metadata": {},
     "output_type": "execute_result"
    },
    {
     "data": {
      "image/png": "[encoded data removed]",
      "text/plain": [
       "<Figure size 432x288 with 1 Axes>"
      ]
     },
     "metadata": {
      "needs_background": "light"
     },
     "output_type": "display_data"
    }
   ],
   "source": [
    "data['ceiling_height'].hist(range=(1.5,5)) #высота потолков\n",
    "data['ceiling_height'].describe()"
   ]
  },
  {
   "cell_type": "markdown",
   "metadata": {},
   "source": [
    "#### Вывод"
   ]
  },
  {
   "cell_type": "markdown",
   "metadata": {},
   "source": [
    "На гистограмме цены видно два основных пика на уровне 5-6 млн., далее идет постепенный спад и после цены в 20 млн. количество продаж становится совсем незначительным. Также есть выбивающееся значение на цене в районе 65 млн.\n",
    "\n",
    "Гистограмма площади кв. похожа на гистограму цены: есть основные пики, далее идет плавное снижение. Выбивающиеся значения встречаются после отметки в 300 м и встречается площадь кв. 12 м. \n",
    "\n",
    "Гистограмма количества комнат показывает, что основные значения распределены на 1,2,3 комнатах, далее идет резкий спад. Встречаются квартиры с 19 комнатами и с 0 комнат, их можно отнести к выбросам. \n",
    "\n",
    "Гистограмма высоты потолков показывает пик на уровне 2,6-2,8 м. Квартиры с потолками более 3-х метров в высоту практически не встречаются. Квартиры с высотой потолков 100 м можно отнести к выбросам. "
   ]
  },
  {
   "cell_type": "markdown",
   "metadata": {},
   "source": [
    "### Исследование времени продажи квартиры"
   ]
  },
  {
   "cell_type": "code",
   "execution_count": 18,
   "metadata": {
    "scrolled": false
   },
   "outputs": [
    {
     "data": {
      "text/plain": [
       "<AxesSubplot:>"
      ]
     },
     "execution_count": 18,
     "metadata": {},
     "output_type": "execute_result"
    },
    {
     "data": {
      "image/png": "[encoded data removed]",
      "text/plain": [
       "<Figure size 432x288 with 1 Axes>"
      ]
     },
     "metadata": {
      "needs_background": "light"
     },
     "output_type": "display_data"
    }
   ],
   "source": [
    "data.boxplot(column=['days_exposition']) #строю диаграмму размаха"
   ]
  },
  {
   "cell_type": "code",
   "execution_count": 19,
   "metadata": {},
   "outputs": [
    {
     "data": {
      "text/plain": [
       "<AxesSubplot:>"
      ]
     },
     "execution_count": 19,
     "metadata": {},
     "output_type": "execute_result"
    },
    {
     "data": {
      "image/png": "[encoded data removed]",
      "text/plain": [
       "<Figure size 432x288 with 1 Axes>"
      ]
     },
     "metadata": {
      "needs_background": "light"
     },
     "output_type": "display_data"
    }
   ],
   "source": [
    "data['days_exposition'].hist(bins=100) #строю диаграмму"
   ]
  },
  {
   "cell_type": "code",
   "execution_count": 20,
   "metadata": {
    "scrolled": true
   },
   "outputs": [
    {
     "data": {
      "text/plain": [
       "count    20518.000000\n",
       "mean       180.888634\n",
       "std        219.727988\n",
       "min          1.000000\n",
       "25%         45.000000\n",
       "50%         95.000000\n",
       "75%        232.000000\n",
       "max       1580.000000\n",
       "Name: days_exposition, dtype: float64"
      ]
     },
     "execution_count": 20,
     "metadata": {},
     "output_type": "execute_result"
    }
   ],
   "source": [
    "data['days_exposition'].describe() # узнаю среднее и медиану "
   ]
  },
  {
   "cell_type": "markdown",
   "metadata": {},
   "source": [
    "#### Вывод"
   ]
  },
  {
   "cell_type": "markdown",
   "metadata": {},
   "source": [
    "Среднее время продажи квартиры составляет 180 дней. На гистограмме видно большое количество продаж за неправдоподобно короткий срок: от 1 дня. Есть и неправдоподобно длиные продажи, доходящие практически до 4-х лет. Если смотреть на диаграмму размаха, то все значения, превышающие 500 дней, можно считать выбросами."
   ]
  },
  {
   "cell_type": "markdown",
   "metadata": {},
   "source": [
    "### Анализ редких и выбивающихся значений"
   ]
  },
  {
   "cell_type": "markdown",
   "metadata": {},
   "source": [
    "Проанализировав п.4.1, а также п.4.2, было принято решение убрать редкие/выбивающиеся значения по всем пяти столбцам. Будет заменен исходный дф с помощью следующего среза:"
   ]
  },
  {
   "cell_type": "code",
   "execution_count": 21,
   "metadata": {},
   "outputs": [
    {
     "name": "stdout",
     "output_type": "stream",
     "text": [
      "<class 'pandas.core.frame.DataFrame'>\n",
      "Int64Index: 23316 entries, 0 to 23698\n",
      "Data columns (total 29 columns):\n",
      " #   Column                Non-Null Count  Dtype         \n",
      "---  ------                --------------  -----         \n",
      " 0   total_images          23316 non-null  int64         \n",
      " 1   last_price            23316 non-null  float64       \n",
      " 2   total_area            23316 non-null  float64       \n",
      " 3   first_day_exposition  23316 non-null  datetime64[ns]\n",
      " 4   rooms                 23316 non-null  int64         \n",
      " 5   ceiling_height        14223 non-null  float64       \n",
      " 6   floors_total          23232 non-null  float64       \n",
      " 7   living_area           21451 non-null  float64       \n",
      " 8   floor                 23316 non-null  int64         \n",
      " 9   is_apartment          23316 non-null  bool          \n",
      " 10  studio                23316 non-null  bool          \n",
      " 11  open_plan             23316 non-null  bool          \n",
      " 12  kitchen_area          21084 non-null  float64       \n",
      " 13  balcony               23316 non-null  float64       \n",
      " 14  locality_name         23267 non-null  object        \n",
      " 15  airports_nearest      17805 non-null  float64       \n",
      " 16  city_centers_nearest  17825 non-null  float64       \n",
      " 17  parks_around_3000     23316 non-null  float64       \n",
      " 18  parks_nearest         7840 non-null   float64       \n",
      " 19  ponds_around_3000     23316 non-null  float64       \n",
      " 20  ponds_nearest         8859 non-null   float64       \n",
      " 21  days_exposition       20203 non-null  float64       \n",
      " 22  price_one_meter       23316 non-null  float64       \n",
      " 23  day                   23316 non-null  int64         \n",
      " 24  month                 23316 non-null  int64         \n",
      " 25  year                  23316 non-null  int64         \n",
      " 26  apartment_floor       23316 non-null  object        \n",
      " 27  area_ratio_total      21451 non-null  float64       \n",
      " 28  kitchen_area_ratio    21084 non-null  float64       \n",
      "dtypes: bool(3), datetime64[ns](1), float64(17), int64(6), object(2)\n",
      "memory usage: 4.9+ MB\n"
     ]
    }
   ],
   "source": [
    "data = data[(data['days_exposition'].isna()) | (data['days_exposition'] <= 1200)]\n",
    "data = data[(data['ceiling_height'].isna()) | (data['ceiling_height'] <=4)]\n",
    "data = data[(data['last_price'] <= 54000000) & (data['total_area'] <= 250) & (data['rooms'] <= 6)]\n",
    "data.info()"
   ]
  },
  {
   "cell_type": "markdown",
   "metadata": {},
   "source": [
    "### Факторы, влияющие на стоимость квартиры"
   ]
  },
  {
   "cell_type": "code",
   "execution_count": 22,
   "metadata": {
    "scrolled": true
   },
   "outputs": [
    {
     "data": {
      "text/plain": [
       "0.7684758929841088"
      ]
     },
     "metadata": {},
     "output_type": "display_data"
    },
    {
     "data": {
      "image/png": "[encoded data removed]",
      "text/plain": [
       "<Figure size 432x288 with 1 Axes>"
      ]
     },
     "metadata": {
      "needs_background": "light"
     },
     "output_type": "display_data"
    }
   ],
   "source": [
    "data.plot(x='last_price', y='total_area', kind='scatter') \n",
    "# строю диаграмму рассеяния для выявления зависимости цены от площади квартиры\n",
    "display(data['last_price'].corr(data['total_area'])) # рассчитываю коэффициент корреляции Пирсона )"
   ]
  },
  {
   "cell_type": "markdown",
   "metadata": {},
   "source": [
    "Коэффициент Пирсона показывает умеренную положительную корреляцию. На диаграмме рассеяния видно, что цена зависит от площади квартиры: чем больше площадь, тем выше цена."
   ]
  },
  {
   "cell_type": "code",
   "execution_count": 23,
   "metadata": {
    "scrolled": true
   },
   "outputs": [
    {
     "data": {
      "text/plain": [
       "0.4728538375557981"
      ]
     },
     "metadata": {},
     "output_type": "display_data"
    },
    {
     "data": {
      "image/png": "[encoded data removed]",
      "text/plain": [
       "<Figure size 432x288 with 1 Axes>"
      ]
     },
     "metadata": {
      "needs_background": "light"
     },
     "output_type": "display_data"
    }
   ],
   "source": [
    "data.plot(x='rooms', y='last_price', kind='scatter') \n",
    "#строю диаграмму рассеяния для выявления зависимости цены от количества комнат\n",
    "display(data['last_price'].corr(data['rooms'])) #рассчитываю коэффициент корреляции Пирсона "
   ]
  },
  {
   "cell_type": "code",
   "execution_count": 24,
   "metadata": {},
   "outputs": [
    {
     "data": {
      "text/plain": [
       "<AxesSubplot:xlabel='rooms'>"
      ]
     },
     "execution_count": 24,
     "metadata": {},
     "output_type": "execute_result"
    },
    {
     "data": {
      "image/png": "[encoded data removed]",
      "text/plain": [
       "<Figure size 432x288 with 1 Axes>"
      ]
     },
     "metadata": {
      "needs_background": "light"
     },
     "output_type": "display_data"
    }
   ],
   "source": [
    "data.pivot_table(index='rooms', values='last_price').plot() #диаграмма средней цены и количества комнат"
   ]
  },
  {
   "cell_type": "markdown",
   "metadata": {},
   "source": [
    "Коэффициент Пиросна показывает слабую корреляцию. На диаграмме видно, что чем больше комнат, тем выше стоимость квартир."
   ]
  },
  {
   "cell_type": "code",
   "execution_count": 25,
   "metadata": {
    "scrolled": false
   },
   "outputs": [
    {
     "data": {
      "text/plain": [
       "-0.32792336817422163"
      ]
     },
     "metadata": {},
     "output_type": "display_data"
    },
    {
     "data": {
      "image/png": "[encoded data removed]",
      "text/plain": [
       "<Figure size 432x288 with 1 Axes>"
      ]
     },
     "metadata": {
      "needs_background": "light"
     },
     "output_type": "display_data"
    }
   ],
   "source": [
    "#data.plot(x='last_price', y='city_centers_nearest', kind='scatter')\n",
    "data.pivot_table(index='city_centers_nearest', values='last_price').plot()\n",
    "#строю диаграмму рассеяния для выявления зависимости цены от удаленности от центра\n",
    "display(data['last_price'].corr(data['city_centers_nearest'])) #рассчитываю коэффициент корреляции Пирсона "
   ]
  },
  {
   "cell_type": "markdown",
   "metadata": {},
   "source": [
    "Коэффициент Пирсона показывает слабую отрицательную корреляцию, но из диаграммы можно сделать вывод, что чем ближе квартира к центру, тем выше ее стоимость."
   ]
  },
  {
   "cell_type": "code",
   "execution_count": 26,
   "metadata": {
    "scrolled": false
   },
   "outputs": [
    {
     "data": {
      "text/plain": [
       "<AxesSubplot:xlabel='apartment_floor'>"
      ]
     },
     "execution_count": 26,
     "metadata": {},
     "output_type": "execute_result"
    },
    {
     "data": {
      "image/png": "[encoded data removed]",
      "text/plain": [
       "<Figure size 432x288 with 1 Axes>"
      ]
     },
     "metadata": {
      "needs_background": "light"
     },
     "output_type": "display_data"
    }
   ],
   "source": [
    "data.pivot_table(index='apartment_floor', values='last_price').plot()\n",
    "#строю диаграмму рассеяния для выявления зависимости цены от этажа"
   ]
  },
  {
   "cell_type": "markdown",
   "metadata": {},
   "source": [
    "На диаграмме видно, что квартиры на первом этаже стоят в среднем дешевле, чем квартиры на других этажах."
   ]
  },
  {
   "cell_type": "code",
   "execution_count": 27,
   "metadata": {
    "scrolled": true
   },
   "outputs": [
    {
     "data": {
      "text/plain": [
       "<AxesSubplot:xlabel='day'>"
      ]
     },
     "execution_count": 27,
     "metadata": {},
     "output_type": "execute_result"
    },
    {
     "data": {
      "image/png": "[encoded data removed]",
      "text/plain": [
       "<Figure size 432x288 with 1 Axes>"
      ]
     },
     "metadata": {
      "needs_background": "light"
     },
     "output_type": "display_data"
    }
   ],
   "source": [
    "data.pivot_table(index='day', values='last_price').plot(grid=True, kind='bar')\n",
    "#строю диаграмму для выявления зависимости цены от дня недели"
   ]
  },
  {
   "cell_type": "markdown",
   "metadata": {},
   "source": [
    "Можно сделать вывод об отсутствии зависимости цены от дня недели."
   ]
  },
  {
   "cell_type": "code",
   "execution_count": 28,
   "metadata": {
    "scrolled": false
   },
   "outputs": [
    {
     "data": {
      "text/plain": [
       "-0.03490036660643168"
      ]
     },
     "execution_count": 28,
     "metadata": {},
     "output_type": "execute_result"
    },
    {
     "data": {
      "image/png": "[encoded data removed]",
      "text/plain": [
       "<Figure size 432x288 with 1 Axes>"
      ]
     },
     "metadata": {
      "needs_background": "light"
     },
     "output_type": "display_data"
    }
   ],
   "source": [
    "data.pivot_table(index='year', values='price_one_meter').plot(kind='bar')\n",
    "#строю диаграмму рассеяния для выявления зависимости цены от года\n",
    "data['last_price'].corr(data['year'])\n",
    "#рассчитываю коэффициент корреляции Пирсона "
   ]
  },
  {
   "cell_type": "markdown",
   "metadata": {},
   "source": [
    "По диаграмме можно сделать вывод, что c 2014 по 2016 год было резкое падение цен, а после 2018 года они (цены) опять пошли вверх."
   ]
  },
  {
   "cell_type": "code",
   "execution_count": 29,
   "metadata": {
    "scrolled": false
   },
   "outputs": [
    {
     "data": {
      "text/plain": [
       "<AxesSubplot:xlabel='month'>"
      ]
     },
     "execution_count": 29,
     "metadata": {},
     "output_type": "execute_result"
    },
    {
     "data": {
      "image/png": "[encoded data removed]",
      "text/plain": [
       "<Figure size 432x288 with 1 Axes>"
      ]
     },
     "metadata": {
      "needs_background": "light"
     },
     "output_type": "display_data"
    }
   ],
   "source": [
    "data.pivot_table(index='month', values='last_price').plot()\n",
    "#строю диаграмму рассеяния для выявления зависимости цены от месяца"
   ]
  },
  {
   "cell_type": "code",
   "execution_count": 30,
   "metadata": {},
   "outputs": [
    {
     "data": {
      "text/plain": [
       "<AxesSubplot:xlabel='month'>"
      ]
     },
     "execution_count": 30,
     "metadata": {},
     "output_type": "execute_result"
    },
    {
     "data": {
      "image/png": "[encoded data removed]",
      "text/plain": [
       "<Figure size 432x288 with 1 Axes>"
      ]
     },
     "metadata": {
      "needs_background": "light"
     },
     "output_type": "display_data"
    }
   ],
   "source": [
    "data.pivot_table(index='month', values='price_one_meter').plot()\n",
    "#а вот это уже диаграмма зависимости месяца и цены за кв. метр. Мне интересно было посмотреть и сравнить."
   ]
  },
  {
   "cell_type": "markdown",
   "metadata": {},
   "source": [
    "Диаграмма показывает, что в 6 месяце обычно цены резко снижаются, как и под конец года идет тенденция на спад"
   ]
  },
  {
   "cell_type": "markdown",
   "metadata": {},
   "source": [
    "#### Вывод "
   ]
  },
  {
   "cell_type": "markdown",
   "metadata": {},
   "source": [
    "Проанализировав данные, можно сделать вывод, что больше на стоимость квартиры влияют следующие факторы:\n",
    "1. Площадь квартиры:чем больше площадь, тем выше цена\n",
    "2. Удаленность от центра: чем ближе квартира к центру, тем выше ее стоимость\n",
    "3. Квартиры на первом этаже стоят дешевле, чем квартиры на других этажах.\n",
    "4. Чем больше комнат в квартире, тем выше ее стоиомсть.\n",
    "5. В июне стоимость квартир самая низкая. Она(стоимость) также снижается в декабре, при этом возрастает в январе."
   ]
  },
  {
   "cell_type": "markdown",
   "metadata": {},
   "source": [
    "### Исследование средней цены квадратного метра квартиры"
   ]
  },
  {
   "cell_type": "code",
   "execution_count": 31,
   "metadata": {},
   "outputs": [
    {
     "data": {
      "text/html": [
       "<div>\n",
       "<style scoped>\n",
       "    .dataframe tbody tr th:only-of-type {\n",
       "        vertical-align: middle;\n",
       "    }\n",
       "\n",
       "    .dataframe tbody tr th {\n",
       "        vertical-align: top;\n",
       "    }\n",
       "\n",
       "    .dataframe thead th {\n",
       "        text-align: right;\n",
       "    }\n",
       "</style>\n",
       "<table border=\"1\" class=\"dataframe\">\n",
       "  <thead>\n",
       "    <tr style=\"text-align: right;\">\n",
       "      <th></th>\n",
       "      <th>mean_price_one_meter</th>\n",
       "      <th>count</th>\n",
       "    </tr>\n",
       "    <tr>\n",
       "      <th>locality_name</th>\n",
       "      <th></th>\n",
       "      <th></th>\n",
       "    </tr>\n",
       "  </thead>\n",
       "  <tbody>\n",
       "    <tr>\n",
       "      <th>Санкт-Петербург</th>\n",
       "      <td>112250.703433</td>\n",
       "      <td>15381</td>\n",
       "    </tr>\n",
       "    <tr>\n",
       "      <th>посёлок Мурино</th>\n",
       "      <td>85725.240769</td>\n",
       "      <td>520</td>\n",
       "    </tr>\n",
       "    <tr>\n",
       "      <th>посёлок Шушары</th>\n",
       "      <td>78677.363636</td>\n",
       "      <td>440</td>\n",
       "    </tr>\n",
       "    <tr>\n",
       "      <th>Всеволожск</th>\n",
       "      <td>68621.570707</td>\n",
       "      <td>396</td>\n",
       "    </tr>\n",
       "    <tr>\n",
       "      <th>Пушкин</th>\n",
       "      <td>103086.760606</td>\n",
       "      <td>363</td>\n",
       "    </tr>\n",
       "    <tr>\n",
       "      <th>Колпино</th>\n",
       "      <td>75333.298516</td>\n",
       "      <td>337</td>\n",
       "    </tr>\n",
       "    <tr>\n",
       "      <th>посёлок Парголово</th>\n",
       "      <td>90259.745231</td>\n",
       "      <td>325</td>\n",
       "    </tr>\n",
       "    <tr>\n",
       "      <th>Гатчина</th>\n",
       "      <td>68757.679085</td>\n",
       "      <td>306</td>\n",
       "    </tr>\n",
       "    <tr>\n",
       "      <th>деревня Кудрово</th>\n",
       "      <td>92473.546488</td>\n",
       "      <td>299</td>\n",
       "    </tr>\n",
       "    <tr>\n",
       "      <th>Выборг</th>\n",
       "      <td>58093.891102</td>\n",
       "      <td>236</td>\n",
       "    </tr>\n",
       "  </tbody>\n",
       "</table>\n",
       "</div>"
      ],
      "text/plain": [
       "                   mean_price_one_meter  count\n",
       "locality_name                                 \n",
       "Санкт-Петербург           112250.703433  15381\n",
       "посёлок Мурино             85725.240769    520\n",
       "посёлок Шушары             78677.363636    440\n",
       "Всеволожск                 68621.570707    396\n",
       "Пушкин                    103086.760606    363\n",
       "Колпино                    75333.298516    337\n",
       "посёлок Парголово          90259.745231    325\n",
       "Гатчина                    68757.679085    306\n",
       "деревня Кудрово            92473.546488    299\n",
       "Выборг                     58093.891102    236"
      ]
     },
     "execution_count": 31,
     "metadata": {},
     "output_type": "execute_result"
    }
   ],
   "source": [
    "number_of_ads = data.pivot_table(index='locality_name',values='price_one_meter', aggfunc=['mean', 'count']) #создаю переменную, в которой группирую данные по городам и цене за квадратный метр\n",
    "number_of_ads.columns=['mean_price_one_meter','count'] #меняю названия столбцов в сводной таблице\n",
    "number_of_ads.sort_values(by='count', ascending=False).head(10) # нахожу 10 городов с наибольшим количеством объявлений. в столбце mean_price_one_meter указана средняя цена за кв.метр"
   ]
  },
  {
   "cell_type": "markdown",
   "metadata": {},
   "source": [
    "#### Вывод"
   ]
  },
  {
   "cell_type": "markdown",
   "metadata": {},
   "source": [
    "Исследование 10 населенных пунктов с наибольшим количеством объявлений показало, что самое дорогое жилье в Сантк-Петербурге и Пушкине. Самое дешевое жилье в Выборге, Гатчине и Всеволожске."
   ]
  },
  {
   "cell_type": "markdown",
   "metadata": {},
   "source": [
    "### Исследование зависимости цены от удаленности от центра"
   ]
  },
  {
   "cell_type": "code",
   "execution_count": 45,
   "metadata": {},
   "outputs": [
    {
     "name": "stderr",
     "output_type": "stream",
     "text": [
      "/tmp/ipykernel_769/2931824916.py:2: SettingWithCopyWarning: \n",
      "A value is trying to be set on a copy of a slice from a DataFrame.\n",
      "Try using .loc[row_indexer,col_indexer] = value instead\n",
      "\n",
      "See the caveats in the documentation: https://pandas.pydata.org/pandas-docs/stable/user_guide/indexing.html#returning-a-view-versus-a-copy\n",
      "  ads_in_spb['city_centers_nearest_km'] = (ads_in_spb['city_centers_nearest']/1000).round() #добавляю столбцев, в котором м перевожу в км, округляю до целого\n"
     ]
    },
    {
     "data": {
      "text/plain": [
       "0        16.0\n",
       "2        14.0\n",
       "4         8.0\n",
       "7        12.0\n",
       "9        15.0\n",
       "         ... \n",
       "23689    16.0\n",
       "23690     6.0\n",
       "23691     4.0\n",
       "23694     4.0\n",
       "23697    10.0\n",
       "Name: city_centers_nearest_km, Length: 15381, dtype: float64"
      ]
     },
     "execution_count": 45,
     "metadata": {},
     "output_type": "execute_result"
    }
   ],
   "source": [
    "ads_in_spb = data.query('locality_name == \"Санкт-Петербург\"') #создаю переменную, в которую сохраняю срез с данными по Санкт-Петербургу\n",
    "ads_in_spb['city_centers_nearest_km'] = (ads_in_spb['city_centers_nearest']/1000).round() #добавляю столбцев, в котором м перевожу в км, округляю до целого\n",
    "ads_in_spb['city_centers_nearest_km']"
   ]
  },
  {
   "cell_type": "code",
   "execution_count": 33,
   "metadata": {
    "scrolled": true
   },
   "outputs": [
    {
     "data": {
      "image/png": "[encoded data removed]",
      "text/plain": [
       "<Figure size 576x360 with 1 Axes>"
      ]
     },
     "metadata": {
      "needs_background": "light"
     },
     "output_type": "display_data"
    }
   ],
   "source": [
    "average_price_spb = ads_in_spb.pivot_table(index='city_centers_nearest_km', values='last_price').plot(grid=True, figsize=(8,5), kind='bar')\n",
    "#с помощью pivot_table считаю среднюю цену для каждого км и строю график зависимости цены от удаленности от центра"
   ]
  },
  {
   "cell_type": "markdown",
   "metadata": {},
   "source": [
    "#### Вывод"
   ]
  },
  {
   "cell_type": "markdown",
   "metadata": {},
   "source": [
    "Анализ предложений квартир в Санкт-Петербурге показал рост цен, который начинается с 7 км от центра. Соответственно, эту зону можно определить как центральную."
   ]
  },
  {
   "cell_type": "markdown",
   "metadata": {},
   "source": [
    "### Анализ квартир в центре и общих выводов по всей базе"
   ]
  },
  {
   "cell_type": "code",
   "execution_count": 34,
   "metadata": {},
   "outputs": [],
   "source": [
    "ads_in_centre = ads_in_spb.query('city_centers_nearest_km<=7') \n",
    "#выделяю сегмент квартир в центре"
   ]
  },
  {
   "cell_type": "code",
   "execution_count": 35,
   "metadata": {
    "scrolled": false
   },
   "outputs": [
    {
     "data": {
      "text/plain": [
       "<AxesSubplot:>"
      ]
     },
     "execution_count": 35,
     "metadata": {},
     "output_type": "execute_result"
    },
    {
     "data": {
      "image/png": "[encoded data removed]",
      "text/plain": [
       "<Figure size 432x288 with 1 Axes>"
      ]
     },
     "metadata": {
      "needs_background": "light"
     },
     "output_type": "display_data"
    }
   ],
   "source": [
    "ads_in_centre['last_price'].hist(bins=100, range=(0,30000000)) #гистограмма цены"
   ]
  },
  {
   "cell_type": "markdown",
   "metadata": {},
   "source": [
    "На гистограмме видно два пика на отметках в 6 и 8 млн.р."
   ]
  },
  {
   "cell_type": "code",
   "execution_count": 36,
   "metadata": {
    "scrolled": true
   },
   "outputs": [
    {
     "data": {
      "text/plain": [
       "<AxesSubplot:>"
      ]
     },
     "execution_count": 36,
     "metadata": {},
     "output_type": "execute_result"
    },
    {
     "data": {
      "image/png": "[encoded data removed]",
      "text/plain": [
       "<Figure size 432x288 with 1 Axes>"
      ]
     },
     "metadata": {
      "needs_background": "light"
     },
     "output_type": "display_data"
    }
   ],
   "source": [
    "ads_in_centre['total_area'].hist(bins=100,range=(0,190)) # гистограмма площади квартиры"
   ]
  },
  {
   "cell_type": "markdown",
   "metadata": {},
   "source": [
    "Есть один главный пик на отметке в 70 кв.м."
   ]
  },
  {
   "cell_type": "code",
   "execution_count": 37,
   "metadata": {
    "scrolled": false
   },
   "outputs": [
    {
     "data": {
      "text/plain": [
       "<AxesSubplot:>"
      ]
     },
     "execution_count": 37,
     "metadata": {},
     "output_type": "execute_result"
    },
    {
     "data": {
      "image/png": "[encoded data removed]",
      "text/plain": [
       "<Figure size 432x288 with 1 Axes>"
      ]
     },
     "metadata": {
      "needs_background": "light"
     },
     "output_type": "display_data"
    }
   ],
   "source": [
    "ads_in_centre['rooms'].hist(bins=20,range=(0,6)) # гистограмма числа комнат"
   ]
  },
  {
   "cell_type": "markdown",
   "metadata": {},
   "source": [
    "Основное количество объявлений приходится на квартиры с двумя и тремя комнатами."
   ]
  },
  {
   "cell_type": "code",
   "execution_count": 38,
   "metadata": {
    "scrolled": true
   },
   "outputs": [
    {
     "data": {
      "text/plain": [
       "<AxesSubplot:>"
      ]
     },
     "execution_count": 38,
     "metadata": {},
     "output_type": "execute_result"
    },
    {
     "data": {
      "image/png": "[encoded data removed]",
      "text/plain": [
       "<Figure size 432x288 with 1 Axes>"
      ]
     },
     "metadata": {
      "needs_background": "light"
     },
     "output_type": "display_data"
    }
   ],
   "source": [
    "ads_in_centre['ceiling_height'].hist(range=(1.5,3.6)) #высота потолков"
   ]
  },
  {
   "cell_type": "markdown",
   "metadata": {},
   "source": [
    "Самая часто встречающаяся высота потолков - 3 м."
   ]
  },
  {
   "cell_type": "code",
   "execution_count": 39,
   "metadata": {
    "scrolled": false
   },
   "outputs": [
    {
     "data": {
      "text/plain": [
       "0.3917743245798052"
      ]
     },
     "metadata": {},
     "output_type": "display_data"
    },
    {
     "data": {
      "image/png": "[encoded data removed]",
      "text/plain": [
       "<Figure size 432x288 with 1 Axes>"
      ]
     },
     "metadata": {
      "needs_background": "light"
     },
     "output_type": "display_data"
    }
   ],
   "source": [
    " ads_in_centre.pivot_table(index='rooms', values='last_price').plot()\n",
    "#строю диаграмму рассеяния для выявления зависимости цены от количества комнат\n",
    "display(ads_in_centre['last_price'].corr(ads_in_centre['rooms'])) #рассчитываю коэффициент корреляции Пирсона "
   ]
  },
  {
   "cell_type": "markdown",
   "metadata": {},
   "source": [
    "На диаграмме видно увеличесние стоимости квартиры в зависимости от количества комнат."
   ]
  },
  {
   "cell_type": "code",
   "execution_count": 40,
   "metadata": {
    "scrolled": false
   },
   "outputs": [
    {
     "data": {
      "text/plain": [
       "<AxesSubplot:xlabel='apartment_floor'>"
      ]
     },
     "execution_count": 40,
     "metadata": {},
     "output_type": "execute_result"
    },
    {
     "data": {
      "image/png": "[encoded data removed]",
      "text/plain": [
       "<Figure size 432x288 with 1 Axes>"
      ]
     },
     "metadata": {
      "needs_background": "light"
     },
     "output_type": "display_data"
    }
   ],
   "source": [
    "ads_in_centre.pivot_table(index='apartment_floor', values='last_price').plot()"
   ]
  },
  {
   "cell_type": "markdown",
   "metadata": {},
   "source": [
    "На диаграмме видно, что цены квартир на первом этаже самые низкие."
   ]
  },
  {
   "cell_type": "code",
   "execution_count": 41,
   "metadata": {
    "scrolled": false
   },
   "outputs": [
    {
     "data": {
      "text/plain": [
       "-0.009839400460688461"
      ]
     },
     "metadata": {},
     "output_type": "display_data"
    },
    {
     "data": {
      "image/png": "[encoded data removed]",
      "text/plain": [
       "<Figure size 432x288 with 1 Axes>"
      ]
     },
     "metadata": {
      "needs_background": "light"
     },
     "output_type": "display_data"
    }
   ],
   "source": [
    "ads_in_centre.pivot_table(index='city_centers_nearest_km', values='last_price').plot()\n",
    "#строю диаграмму рассеяния для выявления зависимости цены от удаленности от центра\n",
    "display(ads_in_centre['last_price'].corr(ads_in_centre['city_centers_nearest_km'])) \n",
    "#рассчитываю коэффициент корреляции Пирсона "
   ]
  },
  {
   "cell_type": "markdown",
   "metadata": {},
   "source": [
    "Можно сделать вывод, что самая высокая стоимость у квартир, находящихся на расстоянии до 1 км от центра СПб."
   ]
  },
  {
   "cell_type": "code",
   "execution_count": 42,
   "metadata": {
    "scrolled": true
   },
   "outputs": [
    {
     "data": {
      "text/plain": [
       "<AxesSubplot:xlabel='day'>"
      ]
     },
     "execution_count": 42,
     "metadata": {},
     "output_type": "execute_result"
    },
    {
     "data": {
      "image/png": "[encoded data removed]",
      "text/plain": [
       "<Figure size 432x288 with 1 Axes>"
      ]
     },
     "metadata": {
      "needs_background": "light"
     },
     "output_type": "display_data"
    }
   ],
   "source": [
    "ads_in_centre.pivot_table(index='day', values='last_price').plot(kind='bar')\n",
    "#строю диаграмму рассеяния для выявления зависимости цены от дня недели "
   ]
  },
  {
   "cell_type": "code",
   "execution_count": 43,
   "metadata": {
    "scrolled": true
   },
   "outputs": [
    {
     "data": {
      "text/plain": [
       "<AxesSubplot:xlabel='year'>"
      ]
     },
     "execution_count": 43,
     "metadata": {},
     "output_type": "execute_result"
    },
    {
     "data": {
      "image/png": "[encoded data removed]",
      "text/plain": [
       "<Figure size 432x288 with 1 Axes>"
      ]
     },
     "metadata": {
      "needs_background": "light"
     },
     "output_type": "display_data"
    }
   ],
   "source": [
    "ads_in_centre.pivot_table(index='year', values='last_price').plot()\n",
    "#строю диаграмму рассеяния для выявления зависимости цены от года"
   ]
  },
  {
   "cell_type": "markdown",
   "metadata": {},
   "source": [
    "В 2014 году цены достигли своего максимума, после чего пошли на спад. С 2018 года стоимость жилья в Санкт-Петербурге снова начала расти."
   ]
  },
  {
   "cell_type": "code",
   "execution_count": 44,
   "metadata": {
    "scrolled": false
   },
   "outputs": [
    {
     "data": {
      "text/plain": [
       "<AxesSubplot:xlabel='month'>"
      ]
     },
     "execution_count": 44,
     "metadata": {},
     "output_type": "execute_result"
    },
    {
     "data": {
      "image/png": "[encoded data removed]",
      "text/plain": [
       "<Figure size 432x288 with 1 Axes>"
      ]
     },
     "metadata": {
      "needs_background": "light"
     },
     "output_type": "display_data"
    }
   ],
   "source": [
    "ads_in_centre.pivot_table(index='month', values='last_price').plot(kind='bar')\n",
    "#строю диаграмму рассеяния для выявления зависимости цены от месяца"
   ]
  },
  {
   "cell_type": "markdown",
   "metadata": {},
   "source": [
    "В начале года самые высокие стоимости квартир, но при этом к концу года цены падают"
   ]
  },
  {
   "cell_type": "markdown",
   "metadata": {},
   "source": [
    "#### Вывод"
   ]
  },
  {
   "cell_type": "markdown",
   "metadata": {},
   "source": [
    "Анализ стоимости квартир в центре показал, что:\n",
    "1. Больше всего объявлений со стоимостью в 6 и 8 млн.р., площадью 70 кв.м., с двумя и тремя конатами, с высотой потолков 3 м.\n",
    "2. Цена зависит от количества комнат: чем их больше, тем выше стоимость.\n",
    "3. В 2014 году цены достигли своего максимума, после чего пошли на спад. С 2018 года стоимость жилья в Санкт-Петербурге снова начала расти.\n",
    "4. Самые дорогие квартиры находятся на расстоянии до 1 км от центра. \n"
   ]
  },
  {
   "cell_type": "markdown",
   "metadata": {},
   "source": [
    "## Общий вывод"
   ]
  },
  {
   "cell_type": "markdown",
   "metadata": {},
   "source": [
    "Был проведен анализ данных, их предобработка, выявление выбивающихся значений и их удаление.\n",
    "Можно сделать следующие выводы:\n",
    "1. Среднее время продажи квартиры составляет 180 дней. \n",
    "2. Самое дорогое жилье в Сантк-Петербурге и Пушкине. В Выборге, Гатчине и Всеволожске жилье продается по самым низким ценам.\n",
    "3. Чем больше площадь квартиры, тем выше цена\n",
    "4. Цена зависит от количества комнат: чем их больше, тем она выше.\n",
    "5. Квартиры на первом этаже стоят в среднем дешевле, чем квартиры на других этажах.\n",
    "6. Чем ближе квартира к центру, тем выше ее стоимость. В Санкт-Петербруге пик цен приходится на расстояние до 1 км от центра города.\n",
    "7. В 2014 году стоимость достигла своего максимума, после чего пошла на спад и с 2018 года опять начала расти.\n",
    "8. Стоимость квартир падает в декабре и поднимается в январе. \n",
    "9. Между днем недели и стоимостью квартиры не выявлено явной зависимости.\n"
   ]
  }
 ],
 "metadata": {
  "ExecuteTimeLog": [
   {
    "duration": 669,
    "start_time": "2022-03-04T18:46:22.100Z"
   },
   {
    "duration": 93,
    "start_time": "2022-03-04T18:46:59.627Z"
   },
   {
    "duration": 62,
    "start_time": "2022-03-04T18:47:05.105Z"
   },
   {
    "duration": 81,
    "start_time": "2022-03-04T18:50:04.249Z"
   },
   {
    "duration": 581,
    "start_time": "2022-03-07T16:11:25.669Z"
   },
   {
    "duration": 54,
    "start_time": "2022-03-07T16:12:03.201Z"
   },
   {
    "duration": 65,
    "start_time": "2022-03-07T16:12:10.791Z"
   },
   {
    "duration": 85,
    "start_time": "2022-03-07T16:15:11.362Z"
   },
   {
    "duration": 75,
    "start_time": "2022-03-07T16:43:01.489Z"
   },
   {
    "duration": 62,
    "start_time": "2022-03-07T16:43:18.805Z"
   },
   {
    "duration": 81,
    "start_time": "2022-03-07T16:43:43.254Z"
   },
   {
    "duration": 83,
    "start_time": "2022-03-07T16:43:56.096Z"
   },
   {
    "duration": 64,
    "start_time": "2022-03-07T16:44:51.321Z"
   },
   {
    "duration": 82,
    "start_time": "2022-03-07T16:45:08.383Z"
   },
   {
    "duration": 4121,
    "start_time": "2022-03-07T19:14:12.390Z"
   },
   {
    "duration": 656,
    "start_time": "2022-03-07T19:14:29.460Z"
   },
   {
    "duration": 98,
    "start_time": "2022-03-07T19:14:33.925Z"
   },
   {
    "duration": 3679,
    "start_time": "2022-03-07T19:14:40.991Z"
   },
   {
    "duration": 3761,
    "start_time": "2022-03-07T19:15:25.058Z"
   },
   {
    "duration": 367,
    "start_time": "2022-03-07T19:18:12.255Z"
   },
   {
    "duration": 143,
    "start_time": "2022-03-07T19:18:28.266Z"
   },
   {
    "duration": 319,
    "start_time": "2022-03-07T19:19:02.800Z"
   },
   {
    "duration": 48,
    "start_time": "2022-03-07T19:19:16.142Z"
   },
   {
    "duration": 46,
    "start_time": "2022-03-07T19:25:14.990Z"
   },
   {
    "duration": 37,
    "start_time": "2022-03-07T19:25:34.252Z"
   },
   {
    "duration": 46,
    "start_time": "2022-03-07T19:25:40.710Z"
   },
   {
    "duration": 70,
    "start_time": "2022-03-07T19:25:54.049Z"
   },
   {
    "duration": 862,
    "start_time": "2022-03-07T19:26:08.320Z"
   },
   {
    "duration": 102,
    "start_time": "2022-03-07T19:26:11.946Z"
   },
   {
    "duration": 39,
    "start_time": "2022-03-07T19:26:16.623Z"
   },
   {
    "duration": 32,
    "start_time": "2022-03-07T19:26:35.432Z"
   },
   {
    "duration": 606,
    "start_time": "2022-03-07T19:26:54.878Z"
   },
   {
    "duration": 119,
    "start_time": "2022-03-07T19:27:00.082Z"
   },
   {
    "duration": 43,
    "start_time": "2022-03-07T19:27:04.582Z"
   },
   {
    "duration": 652,
    "start_time": "2022-03-07T19:28:15.020Z"
   },
   {
    "duration": 109,
    "start_time": "2022-03-07T19:28:17.613Z"
   },
   {
    "duration": 3178,
    "start_time": "2022-03-07T19:28:22.710Z"
   },
   {
    "duration": 34,
    "start_time": "2022-03-07T19:34:10.362Z"
   },
   {
    "duration": 31,
    "start_time": "2022-03-07T19:35:00.271Z"
   },
   {
    "duration": 643,
    "start_time": "2022-03-07T19:35:19.521Z"
   },
   {
    "duration": 112,
    "start_time": "2022-03-07T19:35:23.072Z"
   },
   {
    "duration": 45,
    "start_time": "2022-03-07T19:35:31.057Z"
   },
   {
    "duration": 54,
    "start_time": "2022-03-07T19:36:13.378Z"
   },
   {
    "duration": 5,
    "start_time": "2022-03-07T20:01:16.246Z"
   },
   {
    "duration": 11,
    "start_time": "2022-03-07T20:01:34.646Z"
   },
   {
    "duration": 23,
    "start_time": "2022-03-07T20:01:49.071Z"
   },
   {
    "duration": 6,
    "start_time": "2022-03-07T20:05:21.175Z"
   },
   {
    "duration": 633,
    "start_time": "2022-03-07T20:05:48.436Z"
   },
   {
    "duration": 101,
    "start_time": "2022-03-07T20:05:54.134Z"
   },
   {
    "duration": 35,
    "start_time": "2022-03-07T20:05:58.412Z"
   },
   {
    "duration": 8,
    "start_time": "2022-03-07T20:06:03.164Z"
   },
   {
    "duration": 3716,
    "start_time": "2022-03-07T20:08:44.853Z"
   },
   {
    "duration": 181,
    "start_time": "2022-03-07T20:09:10.603Z"
   },
   {
    "duration": 157,
    "start_time": "2022-03-07T20:09:39.477Z"
   },
   {
    "duration": 22,
    "start_time": "2022-03-07T20:10:27.598Z"
   },
   {
    "duration": 154,
    "start_time": "2022-03-07T20:11:48.123Z"
   },
   {
    "duration": 14,
    "start_time": "2022-03-07T20:11:55.721Z"
   },
   {
    "duration": 172,
    "start_time": "2022-03-07T20:25:28.629Z"
   },
   {
    "duration": 180,
    "start_time": "2022-03-07T20:25:48.294Z"
   },
   {
    "duration": 14,
    "start_time": "2022-03-07T20:26:43.557Z"
   },
   {
    "duration": 21,
    "start_time": "2022-03-07T20:27:03.284Z"
   },
   {
    "duration": 3818,
    "start_time": "2022-03-07T20:27:48.210Z"
   },
   {
    "duration": 163,
    "start_time": "2022-03-07T20:28:05.112Z"
   },
   {
    "duration": 22,
    "start_time": "2022-03-07T20:28:34.513Z"
   },
   {
    "duration": 18,
    "start_time": "2022-03-07T20:28:48.146Z"
   },
   {
    "duration": 41,
    "start_time": "2022-03-07T20:29:51.774Z"
   },
   {
    "duration": 119,
    "start_time": "2022-03-07T20:30:46.058Z"
   },
   {
    "duration": 641,
    "start_time": "2022-03-07T20:32:00.671Z"
   },
   {
    "duration": 109,
    "start_time": "2022-03-07T20:32:05.824Z"
   },
   {
    "duration": 32,
    "start_time": "2022-03-07T20:32:10.177Z"
   },
   {
    "duration": 13,
    "start_time": "2022-03-07T20:32:16.474Z"
   },
   {
    "duration": 133,
    "start_time": "2022-03-07T20:32:24.105Z"
   },
   {
    "duration": 72,
    "start_time": "2022-03-07T20:32:55.980Z"
   },
   {
    "duration": 370,
    "start_time": "2022-03-07T20:33:14.955Z"
   },
   {
    "duration": 108,
    "start_time": "2022-03-07T20:33:19.657Z"
   },
   {
    "duration": 22,
    "start_time": "2022-03-07T20:38:17.328Z"
   },
   {
    "duration": 20,
    "start_time": "2022-03-07T20:38:37.332Z"
   },
   {
    "duration": 6,
    "start_time": "2022-03-07T20:47:21.339Z"
   },
   {
    "duration": 23,
    "start_time": "2022-03-07T20:47:33.926Z"
   },
   {
    "duration": 8,
    "start_time": "2022-03-07T20:48:08.238Z"
   },
   {
    "duration": 15,
    "start_time": "2022-03-07T20:48:21.366Z"
   },
   {
    "duration": 23,
    "start_time": "2022-03-07T20:51:36.609Z"
   },
   {
    "duration": 448,
    "start_time": "2022-03-27T11:03:00.185Z"
   },
   {
    "duration": 106,
    "start_time": "2022-03-27T11:03:18.775Z"
   },
   {
    "duration": 45,
    "start_time": "2022-03-27T11:04:28.891Z"
   },
   {
    "duration": 20,
    "start_time": "2022-03-27T11:05:06.354Z"
   },
   {
    "duration": 5,
    "start_time": "2022-03-27T11:08:20.731Z"
   },
   {
    "duration": 19,
    "start_time": "2022-03-27T11:12:00.987Z"
   },
   {
    "duration": 27,
    "start_time": "2022-03-27T11:21:20.527Z"
   },
   {
    "duration": 9,
    "start_time": "2022-03-27T11:21:30.419Z"
   },
   {
    "duration": 64,
    "start_time": "2022-03-27T11:22:01.385Z"
   },
   {
    "duration": 8,
    "start_time": "2022-03-27T11:23:13.988Z"
   },
   {
    "duration": 15,
    "start_time": "2022-03-27T11:23:48.708Z"
   },
   {
    "duration": 22,
    "start_time": "2022-03-27T11:24:34.355Z"
   },
   {
    "duration": 14,
    "start_time": "2022-03-27T11:24:47.868Z"
   },
   {
    "duration": 8,
    "start_time": "2022-03-27T11:25:51.642Z"
   },
   {
    "duration": 4,
    "start_time": "2022-03-27T11:26:31.705Z"
   },
   {
    "duration": 23,
    "start_time": "2022-03-27T11:26:40.173Z"
   },
   {
    "duration": 24,
    "start_time": "2022-03-27T11:26:56.865Z"
   },
   {
    "duration": 23,
    "start_time": "2022-03-27T11:27:29.515Z"
   },
   {
    "duration": 29,
    "start_time": "2022-03-27T11:32:27.789Z"
   },
   {
    "duration": 24,
    "start_time": "2022-03-27T11:32:37.113Z"
   },
   {
    "duration": 542,
    "start_time": "2022-03-27T14:05:25.959Z"
   },
   {
    "duration": 171,
    "start_time": "2022-03-27T14:05:29.301Z"
   },
   {
    "duration": 59,
    "start_time": "2022-03-27T14:05:33.621Z"
   },
   {
    "duration": 9,
    "start_time": "2022-03-27T14:05:38.459Z"
   },
   {
    "duration": 22,
    "start_time": "2022-03-27T14:05:42.588Z"
   },
   {
    "duration": 16,
    "start_time": "2022-03-27T14:05:48.685Z"
   },
   {
    "duration": 33,
    "start_time": "2022-03-27T14:05:52.756Z"
   },
   {
    "duration": 77,
    "start_time": "2022-03-27T14:05:58.328Z"
   },
   {
    "duration": 881,
    "start_time": "2022-03-27T14:06:13.879Z"
   },
   {
    "duration": 8,
    "start_time": "2022-03-27T14:06:54.255Z"
   },
   {
    "duration": 111,
    "start_time": "2022-03-27T14:07:47.467Z"
   },
   {
    "duration": 13,
    "start_time": "2022-03-27T14:08:27.555Z"
   },
   {
    "duration": 77,
    "start_time": "2022-03-27T14:10:12.928Z"
   },
   {
    "duration": 63,
    "start_time": "2022-03-27T14:10:55.724Z"
   },
   {
    "duration": 168,
    "start_time": "2022-03-27T14:38:16.532Z"
   },
   {
    "duration": 447,
    "start_time": "2022-03-27T14:38:52.402Z"
   },
   {
    "duration": 121,
    "start_time": "2022-03-27T14:38:54.835Z"
   },
   {
    "duration": 51,
    "start_time": "2022-03-27T14:38:59.382Z"
   },
   {
    "duration": 6,
    "start_time": "2022-03-27T14:39:03.416Z"
   },
   {
    "duration": 16,
    "start_time": "2022-03-27T14:39:05.911Z"
   },
   {
    "duration": 14,
    "start_time": "2022-03-27T14:39:08.897Z"
   },
   {
    "duration": 24,
    "start_time": "2022-03-27T14:39:12.328Z"
   },
   {
    "duration": 33,
    "start_time": "2022-03-27T14:39:17.081Z"
   },
   {
    "duration": 154,
    "start_time": "2022-03-27T14:39:19.708Z"
   },
   {
    "duration": 159,
    "start_time": "2022-03-27T14:39:30.123Z"
   },
   {
    "duration": 163,
    "start_time": "2022-03-27T14:39:56.696Z"
   },
   {
    "duration": 239,
    "start_time": "2022-03-27T14:40:36.470Z"
   },
   {
    "duration": 162,
    "start_time": "2022-03-27T14:43:52.745Z"
   },
   {
    "duration": 160,
    "start_time": "2022-03-27T14:44:16.106Z"
   },
   {
    "duration": 159,
    "start_time": "2022-03-27T14:46:31.758Z"
   },
   {
    "duration": 442,
    "start_time": "2022-03-27T14:47:06.920Z"
   },
   {
    "duration": 112,
    "start_time": "2022-03-27T14:47:10.078Z"
   },
   {
    "duration": 32,
    "start_time": "2022-03-27T14:47:14.860Z"
   },
   {
    "duration": 7,
    "start_time": "2022-03-27T14:47:19.038Z"
   },
   {
    "duration": 15,
    "start_time": "2022-03-27T14:47:21.296Z"
   },
   {
    "duration": 14,
    "start_time": "2022-03-27T14:47:30.243Z"
   },
   {
    "duration": 25,
    "start_time": "2022-03-27T14:47:33.810Z"
   },
   {
    "duration": 34,
    "start_time": "2022-03-27T14:47:36.619Z"
   },
   {
    "duration": 158,
    "start_time": "2022-03-27T14:47:40.558Z"
   },
   {
    "duration": 172,
    "start_time": "2022-03-27T14:47:51.605Z"
   },
   {
    "duration": 174,
    "start_time": "2022-03-27T14:48:40.968Z"
   },
   {
    "duration": 169,
    "start_time": "2022-03-27T14:49:27.298Z"
   },
   {
    "duration": 174,
    "start_time": "2022-03-27T14:56:55.889Z"
   },
   {
    "duration": 152,
    "start_time": "2022-03-27T14:57:17.441Z"
   },
   {
    "duration": 4,
    "start_time": "2022-03-27T15:01:39.422Z"
   },
   {
    "duration": 90,
    "start_time": "2022-03-27T15:02:34.227Z"
   },
   {
    "duration": 464,
    "start_time": "2022-03-27T15:02:45.404Z"
   },
   {
    "duration": 418,
    "start_time": "2022-03-27T15:03:26.063Z"
   },
   {
    "duration": 4,
    "start_time": "2022-03-27T15:27:14.745Z"
   },
   {
    "duration": 4,
    "start_time": "2022-03-27T15:29:31.344Z"
   },
   {
    "duration": 29,
    "start_time": "2022-03-27T15:30:32.996Z"
   },
   {
    "duration": 52,
    "start_time": "2022-03-27T15:32:24.677Z"
   },
   {
    "duration": 41,
    "start_time": "2022-03-27T15:32:36.403Z"
   },
   {
    "duration": 449,
    "start_time": "2022-03-27T15:47:00.509Z"
   },
   {
    "duration": 104,
    "start_time": "2022-03-27T15:47:03.969Z"
   },
   {
    "duration": 34,
    "start_time": "2022-03-27T15:47:09.071Z"
   },
   {
    "duration": 7,
    "start_time": "2022-03-27T15:47:13.367Z"
   },
   {
    "duration": 13,
    "start_time": "2022-03-27T15:47:16.624Z"
   },
   {
    "duration": 13,
    "start_time": "2022-03-27T15:47:20.794Z"
   },
   {
    "duration": 28,
    "start_time": "2022-03-27T15:47:24.260Z"
   },
   {
    "duration": 32,
    "start_time": "2022-03-27T15:47:27.099Z"
   },
   {
    "duration": 288,
    "start_time": "2022-03-27T15:47:31.235Z"
   },
   {
    "duration": 31,
    "start_time": "2022-03-27T15:47:37.246Z"
   },
   {
    "duration": 512,
    "start_time": "2022-03-27T15:51:19.741Z"
   },
   {
    "duration": 247,
    "start_time": "2022-03-27T15:52:06.175Z"
   },
   {
    "duration": 297,
    "start_time": "2022-03-27T15:52:15.336Z"
   },
   {
    "duration": 122,
    "start_time": "2022-03-27T15:52:23.220Z"
   },
   {
    "duration": 114,
    "start_time": "2022-03-27T15:52:32.467Z"
   },
   {
    "duration": 210,
    "start_time": "2022-03-27T15:52:36.683Z"
   },
   {
    "duration": 212,
    "start_time": "2022-03-27T15:53:16.313Z"
   },
   {
    "duration": 159,
    "start_time": "2022-03-27T15:53:37.373Z"
   },
   {
    "duration": 121,
    "start_time": "2022-03-27T15:54:39.006Z"
   },
   {
    "duration": 135,
    "start_time": "2022-03-27T15:55:00.964Z"
   },
   {
    "duration": 108,
    "start_time": "2022-03-27T15:55:07.723Z"
   },
   {
    "duration": 136,
    "start_time": "2022-03-27T15:55:13.482Z"
   },
   {
    "duration": 118,
    "start_time": "2022-03-27T15:55:52.364Z"
   },
   {
    "duration": 729,
    "start_time": "2022-03-27T15:56:58.086Z"
   },
   {
    "duration": 244,
    "start_time": "2022-03-27T15:57:11.095Z"
   },
   {
    "duration": 112,
    "start_time": "2022-03-27T15:57:24.125Z"
   },
   {
    "duration": 115,
    "start_time": "2022-03-27T15:57:31.769Z"
   },
   {
    "duration": 114,
    "start_time": "2022-03-27T15:57:45.152Z"
   },
   {
    "duration": 238,
    "start_time": "2022-03-27T15:57:54.847Z"
   },
   {
    "duration": 114,
    "start_time": "2022-03-27T15:58:14.515Z"
   },
   {
    "duration": 192,
    "start_time": "2022-03-27T15:58:35.855Z"
   },
   {
    "duration": 113,
    "start_time": "2022-03-27T15:58:49.059Z"
   },
   {
    "duration": 121,
    "start_time": "2022-03-27T15:59:03.821Z"
   },
   {
    "duration": 109,
    "start_time": "2022-03-27T15:59:58.790Z"
   },
   {
    "duration": 44,
    "start_time": "2022-03-27T16:14:16.681Z"
   },
   {
    "duration": 459,
    "start_time": "2022-03-27T16:14:35.169Z"
   },
   {
    "duration": 103,
    "start_time": "2022-03-27T16:14:39.357Z"
   },
   {
    "duration": 45,
    "start_time": "2022-03-27T16:14:43.980Z"
   },
   {
    "duration": 9,
    "start_time": "2022-03-27T16:14:48.132Z"
   },
   {
    "duration": 15,
    "start_time": "2022-03-27T16:14:51.635Z"
   },
   {
    "duration": 14,
    "start_time": "2022-03-27T16:14:55.597Z"
   },
   {
    "duration": 31,
    "start_time": "2022-03-27T16:14:58.793Z"
   },
   {
    "duration": 40,
    "start_time": "2022-03-27T16:15:01.500Z"
   },
   {
    "duration": 476,
    "start_time": "2022-03-27T16:15:04.455Z"
   },
   {
    "duration": 35,
    "start_time": "2022-03-27T16:15:07.412Z"
   },
   {
    "duration": 678,
    "start_time": "2022-03-27T16:15:10.616Z"
   },
   {
    "duration": 186,
    "start_time": "2022-03-27T16:15:26.055Z"
   },
   {
    "duration": 114,
    "start_time": "2022-03-27T16:15:36.300Z"
   },
   {
    "duration": 121,
    "start_time": "2022-03-27T16:15:39.604Z"
   },
   {
    "duration": 115,
    "start_time": "2022-03-27T16:15:42.656Z"
   },
   {
    "duration": 138,
    "start_time": "2022-03-27T16:15:45.490Z"
   },
   {
    "duration": 196,
    "start_time": "2022-03-27T16:16:08.595Z"
   },
   {
    "duration": 192,
    "start_time": "2022-03-27T16:16:25.617Z"
   },
   {
    "duration": 116,
    "start_time": "2022-03-27T16:16:43.522Z"
   },
   {
    "duration": 275,
    "start_time": "2022-03-27T16:16:53.326Z"
   },
   {
    "duration": 212,
    "start_time": "2022-03-27T16:17:11.140Z"
   },
   {
    "duration": 209,
    "start_time": "2022-03-27T16:22:03.455Z"
   },
   {
    "duration": 192,
    "start_time": "2022-03-27T16:22:48.074Z"
   },
   {
    "duration": 123,
    "start_time": "2022-03-27T16:22:54.676Z"
   },
   {
    "duration": 123,
    "start_time": "2022-03-27T16:23:27.186Z"
   },
   {
    "duration": 124,
    "start_time": "2022-03-27T16:28:43.434Z"
   },
   {
    "duration": 1028,
    "start_time": "2022-03-27T17:19:48.222Z"
   },
   {
    "duration": 12,
    "start_time": "2022-03-27T17:20:34.549Z"
   },
   {
    "duration": 80,
    "start_time": "2022-03-27T17:21:47.384Z"
   },
   {
    "duration": 10,
    "start_time": "2022-03-27T17:21:56.971Z"
   },
   {
    "duration": 130,
    "start_time": "2022-03-27T17:22:59.993Z"
   },
   {
    "duration": 6,
    "start_time": "2022-03-27T17:23:56.842Z"
   },
   {
    "duration": 216,
    "start_time": "2022-03-27T17:24:34.132Z"
   },
   {
    "duration": 199,
    "start_time": "2022-03-27T17:27:03.930Z"
   },
   {
    "duration": 10,
    "start_time": "2022-03-27T17:27:08.076Z"
   },
   {
    "duration": 76,
    "start_time": "2022-03-27T19:33:47.161Z"
   },
   {
    "duration": 686,
    "start_time": "2022-03-27T19:34:24.825Z"
   },
   {
    "duration": 163,
    "start_time": "2022-03-27T19:34:27.438Z"
   },
   {
    "duration": 67,
    "start_time": "2022-03-27T19:34:31.943Z"
   },
   {
    "duration": 10,
    "start_time": "2022-03-27T19:34:35.794Z"
   },
   {
    "duration": 25,
    "start_time": "2022-03-27T19:34:37.956Z"
   },
   {
    "duration": 21,
    "start_time": "2022-03-27T19:34:40.712Z"
   },
   {
    "duration": 41,
    "start_time": "2022-03-27T19:34:44.009Z"
   },
   {
    "duration": 56,
    "start_time": "2022-03-27T19:34:46.698Z"
   },
   {
    "duration": 518,
    "start_time": "2022-03-27T19:34:49.412Z"
   },
   {
    "duration": 39,
    "start_time": "2022-03-27T19:34:52.691Z"
   },
   {
    "duration": 1066,
    "start_time": "2022-03-27T19:34:55.958Z"
   },
   {
    "duration": 395,
    "start_time": "2022-03-27T19:34:59.992Z"
   },
   {
    "duration": 240,
    "start_time": "2022-03-27T19:35:02.806Z"
   },
   {
    "duration": 255,
    "start_time": "2022-03-27T19:35:05.470Z"
   },
   {
    "duration": 229,
    "start_time": "2022-03-27T19:35:08.458Z"
   },
   {
    "duration": 14,
    "start_time": "2022-03-27T19:39:29.501Z"
   },
   {
    "duration": 367,
    "start_time": "2022-03-27T19:42:55.365Z"
   },
   {
    "duration": 199,
    "start_time": "2022-03-27T19:43:12.907Z"
   },
   {
    "duration": 670,
    "start_time": "2022-03-27T19:43:15.325Z"
   },
   {
    "duration": 187,
    "start_time": "2022-03-27T19:51:48.267Z"
   },
   {
    "duration": 11,
    "start_time": "2022-03-27T19:52:13.967Z"
   },
   {
    "duration": 17,
    "start_time": "2022-03-27T19:54:00.172Z"
   },
   {
    "duration": 11,
    "start_time": "2022-03-27T19:54:02.957Z"
   },
   {
    "duration": 621,
    "start_time": "2022-03-27T19:54:27.520Z"
   },
   {
    "duration": 166,
    "start_time": "2022-03-27T19:54:30.797Z"
   },
   {
    "duration": 101,
    "start_time": "2022-03-27T19:54:36.057Z"
   },
   {
    "duration": 15,
    "start_time": "2022-03-27T19:54:39.946Z"
   },
   {
    "duration": 21,
    "start_time": "2022-03-27T19:54:42.603Z"
   },
   {
    "duration": 26,
    "start_time": "2022-03-27T19:54:47.501Z"
   },
   {
    "duration": 56,
    "start_time": "2022-03-27T19:54:50.783Z"
   },
   {
    "duration": 72,
    "start_time": "2022-03-27T19:54:53.447Z"
   },
   {
    "duration": 525,
    "start_time": "2022-03-27T19:54:56.696Z"
   },
   {
    "duration": 41,
    "start_time": "2022-03-27T19:55:00.311Z"
   },
   {
    "duration": 745,
    "start_time": "2022-03-27T19:55:03.390Z"
   },
   {
    "duration": 457,
    "start_time": "2022-03-27T19:55:07.096Z"
   },
   {
    "duration": 251,
    "start_time": "2022-03-27T19:55:10.543Z"
   },
   {
    "duration": 455,
    "start_time": "2022-03-27T19:55:13.161Z"
   },
   {
    "duration": 261,
    "start_time": "2022-03-27T19:55:16.551Z"
   },
   {
    "duration": 400,
    "start_time": "2022-03-27T19:55:21.580Z"
   },
   {
    "duration": 14,
    "start_time": "2022-03-27T19:55:24.479Z"
   },
   {
    "duration": 117,
    "start_time": "2022-03-27T19:55:27.634Z"
   },
   {
    "duration": 25,
    "start_time": "2022-03-27T19:56:31.650Z"
   },
   {
    "duration": 13,
    "start_time": "2022-03-27T19:57:27.226Z"
   },
   {
    "duration": 9,
    "start_time": "2022-03-27T20:24:21.711Z"
   },
   {
    "duration": 66,
    "start_time": "2022-03-27T20:26:09.395Z"
   },
   {
    "duration": 35,
    "start_time": "2022-03-27T20:26:18.447Z"
   },
   {
    "duration": 43,
    "start_time": "2022-03-27T20:27:23.152Z"
   },
   {
    "duration": 28,
    "start_time": "2022-03-27T20:27:51.988Z"
   },
   {
    "duration": 49,
    "start_time": "2022-03-27T20:30:19.243Z"
   },
   {
    "duration": 30,
    "start_time": "2022-03-27T20:30:22.850Z"
   },
   {
    "duration": 28,
    "start_time": "2022-03-27T20:31:06.999Z"
   },
   {
    "duration": 222,
    "start_time": "2022-03-27T20:31:28.341Z"
   },
   {
    "duration": 22,
    "start_time": "2022-03-27T20:37:00.266Z"
   },
   {
    "duration": 186,
    "start_time": "2022-03-27T20:37:07.769Z"
   },
   {
    "duration": 399,
    "start_time": "2022-03-27T20:37:17.746Z"
   },
   {
    "duration": 12,
    "start_time": "2022-03-27T20:37:29.405Z"
   },
   {
    "duration": 54,
    "start_time": "2022-03-27T20:38:22.185Z"
   },
   {
    "duration": 36,
    "start_time": "2022-03-27T20:38:54.085Z"
   },
   {
    "duration": 419,
    "start_time": "2022-03-27T20:39:08.484Z"
   },
   {
    "duration": 412,
    "start_time": "2022-03-27T20:39:16.189Z"
   },
   {
    "duration": 13,
    "start_time": "2022-03-27T20:39:21.728Z"
   },
   {
    "duration": 357,
    "start_time": "2022-03-27T20:41:53.869Z"
   },
   {
    "duration": 275,
    "start_time": "2022-03-27T20:42:18.299Z"
   },
   {
    "duration": 242,
    "start_time": "2022-03-27T20:42:29.433Z"
   },
   {
    "duration": 342,
    "start_time": "2022-03-27T20:42:52.088Z"
   },
   {
    "duration": 204,
    "start_time": "2022-03-27T20:43:00.582Z"
   },
   {
    "duration": 202,
    "start_time": "2022-03-27T20:43:08.097Z"
   },
   {
    "duration": 214,
    "start_time": "2022-03-27T20:43:14.388Z"
   },
   {
    "duration": 676,
    "start_time": "2022-03-27T20:43:22.111Z"
   },
   {
    "duration": 24,
    "start_time": "2022-03-27T20:44:48.341Z"
   },
   {
    "duration": 217,
    "start_time": "2022-03-27T21:04:31.724Z"
   },
   {
    "duration": 20,
    "start_time": "2022-03-27T21:04:37.155Z"
   },
   {
    "duration": 299,
    "start_time": "2022-03-27T21:04:50.315Z"
   },
   {
    "duration": 11,
    "start_time": "2022-03-27T21:07:53.539Z"
   },
   {
    "duration": 13,
    "start_time": "2022-03-27T21:43:26.381Z"
   },
   {
    "duration": 103,
    "start_time": "2022-03-27T21:43:46.823Z"
   },
   {
    "duration": 66,
    "start_time": "2022-03-27T21:46:56.317Z"
   },
   {
    "duration": 27,
    "start_time": "2022-03-27T21:48:04.108Z"
   },
   {
    "duration": 65,
    "start_time": "2022-03-27T21:48:20.211Z"
   },
   {
    "duration": 11,
    "start_time": "2022-03-27T21:49:14.100Z"
   },
   {
    "duration": 31,
    "start_time": "2022-03-27T21:49:22.995Z"
   },
   {
    "duration": 214,
    "start_time": "2022-03-27T21:50:02.258Z"
   },
   {
    "duration": 398,
    "start_time": "2022-03-27T21:50:06.587Z"
   },
   {
    "duration": 13,
    "start_time": "2022-03-27T21:50:13.295Z"
   },
   {
    "duration": 45,
    "start_time": "2022-03-28T18:13:17.827Z"
   },
   {
    "duration": 474,
    "start_time": "2022-03-28T18:14:09.048Z"
   },
   {
    "duration": 98,
    "start_time": "2022-03-28T18:14:11.878Z"
   },
   {
    "duration": 35,
    "start_time": "2022-03-28T18:14:16.805Z"
   },
   {
    "duration": 7,
    "start_time": "2022-03-28T18:14:20.972Z"
   },
   {
    "duration": 71,
    "start_time": "2022-03-28T18:14:23.979Z"
   },
   {
    "duration": 15,
    "start_time": "2022-03-28T18:14:30.663Z"
   },
   {
    "duration": 27,
    "start_time": "2022-03-28T18:14:34.923Z"
   },
   {
    "duration": 34,
    "start_time": "2022-03-28T18:14:37.629Z"
   },
   {
    "duration": 289,
    "start_time": "2022-03-28T18:14:40.421Z"
   },
   {
    "duration": 24,
    "start_time": "2022-03-28T18:14:43.725Z"
   },
   {
    "duration": 600,
    "start_time": "2022-03-28T18:14:46.733Z"
   },
   {
    "duration": 194,
    "start_time": "2022-03-28T18:14:50.207Z"
   },
   {
    "duration": 134,
    "start_time": "2022-03-28T18:14:52.958Z"
   },
   {
    "duration": 126,
    "start_time": "2022-03-28T18:14:55.547Z"
   },
   {
    "duration": 13,
    "start_time": "2022-03-28T18:14:58.327Z"
   },
   {
    "duration": 117,
    "start_time": "2022-03-28T18:15:07.964Z"
   },
   {
    "duration": 195,
    "start_time": "2022-03-28T18:15:11.641Z"
   },
   {
    "duration": 9,
    "start_time": "2022-03-28T18:15:14.767Z"
   },
   {
    "duration": 4,
    "start_time": "2022-03-28T18:15:17.936Z"
   },
   {
    "duration": 44,
    "start_time": "2022-03-28T18:15:41.569Z"
   },
   {
    "duration": 43,
    "start_time": "2022-03-28T18:27:38.056Z"
   },
   {
    "duration": 1679,
    "start_time": "2022-03-28T18:27:47.960Z"
   },
   {
    "duration": 304,
    "start_time": "2022-03-28T18:31:40.640Z"
   },
   {
    "duration": 423,
    "start_time": "2022-03-28T18:32:51.864Z"
   },
   {
    "duration": 134,
    "start_time": "2022-03-28T18:33:34.927Z"
   },
   {
    "duration": 634,
    "start_time": "2022-03-28T18:33:46.922Z"
   },
   {
    "duration": 277,
    "start_time": "2022-03-28T18:34:06.588Z"
   },
   {
    "duration": 388,
    "start_time": "2022-03-28T18:34:18.643Z"
   },
   {
    "duration": 190,
    "start_time": "2022-03-28T18:34:47.409Z"
   },
   {
    "duration": 436,
    "start_time": "2022-03-28T18:35:41.695Z"
   },
   {
    "duration": 107,
    "start_time": "2022-03-28T18:36:34.341Z"
   },
   {
    "duration": 348,
    "start_time": "2022-03-28T18:36:51.547Z"
   },
   {
    "duration": 289,
    "start_time": "2022-03-28T18:37:06.985Z"
   },
   {
    "duration": 68,
    "start_time": "2022-03-28T18:49:54.045Z"
   },
   {
    "duration": 673,
    "start_time": "2022-03-28T18:50:11.180Z"
   },
   {
    "duration": 174,
    "start_time": "2022-03-28T18:50:13.837Z"
   },
   {
    "duration": 53,
    "start_time": "2022-03-28T18:50:18.285Z"
   },
   {
    "duration": 10,
    "start_time": "2022-03-28T18:50:23.699Z"
   },
   {
    "duration": 121,
    "start_time": "2022-03-28T18:50:26.048Z"
   },
   {
    "duration": 21,
    "start_time": "2022-03-28T18:50:28.928Z"
   },
   {
    "duration": 67,
    "start_time": "2022-03-28T18:50:32.990Z"
   },
   {
    "duration": 54,
    "start_time": "2022-03-28T18:50:36.791Z"
   },
   {
    "duration": 487,
    "start_time": "2022-03-28T18:50:40.678Z"
   },
   {
    "duration": 38,
    "start_time": "2022-03-28T18:50:44.875Z"
   },
   {
    "duration": 1191,
    "start_time": "2022-03-28T18:50:48.396Z"
   },
   {
    "duration": 385,
    "start_time": "2022-03-28T18:50:52.171Z"
   },
   {
    "duration": 239,
    "start_time": "2022-03-28T18:50:55.072Z"
   },
   {
    "duration": 227,
    "start_time": "2022-03-28T18:50:57.711Z"
   },
   {
    "duration": 20,
    "start_time": "2022-03-28T18:51:02.478Z"
   },
   {
    "duration": 280,
    "start_time": "2022-03-28T18:51:05.936Z"
   },
   {
    "duration": 423,
    "start_time": "2022-03-28T18:51:08.979Z"
   },
   {
    "duration": 13,
    "start_time": "2022-03-28T18:51:11.907Z"
   },
   {
    "duration": 412,
    "start_time": "2022-03-28T18:51:14.986Z"
   },
   {
    "duration": 106,
    "start_time": "2022-03-28T18:59:42.048Z"
   },
   {
    "duration": 18,
    "start_time": "2022-03-28T19:00:35.724Z"
   },
   {
    "duration": 19,
    "start_time": "2022-03-28T19:00:41.981Z"
   },
   {
    "duration": 52,
    "start_time": "2022-03-28T19:00:50.177Z"
   },
   {
    "duration": 406,
    "start_time": "2022-03-28T19:17:33.176Z"
   },
   {
    "duration": 329,
    "start_time": "2022-03-28T19:17:57.014Z"
   },
   {
    "duration": 346,
    "start_time": "2022-03-28T19:18:20.338Z"
   },
   {
    "duration": 336,
    "start_time": "2022-03-28T19:18:28.246Z"
   },
   {
    "duration": 363,
    "start_time": "2022-03-28T19:18:34.034Z"
   },
   {
    "duration": 345,
    "start_time": "2022-03-28T19:18:40.407Z"
   },
   {
    "duration": 409,
    "start_time": "2022-03-28T19:18:47.778Z"
   },
   {
    "duration": 335,
    "start_time": "2022-03-28T19:18:54.524Z"
   },
   {
    "duration": 368,
    "start_time": "2022-03-28T19:19:09.645Z"
   },
   {
    "duration": 30,
    "start_time": "2022-03-28T19:43:33.272Z"
   },
   {
    "duration": 5,
    "start_time": "2022-03-28T19:45:47.124Z"
   },
   {
    "duration": 214,
    "start_time": "2022-03-28T19:45:51.253Z"
   },
   {
    "duration": 362,
    "start_time": "2022-03-28T19:45:56.298Z"
   },
   {
    "duration": 15,
    "start_time": "2022-03-28T19:46:02.087Z"
   },
   {
    "duration": 468,
    "start_time": "2022-03-29T18:35:09.490Z"
   },
   {
    "duration": 117,
    "start_time": "2022-03-29T18:35:13.280Z"
   },
   {
    "duration": 40,
    "start_time": "2022-03-29T18:35:18.133Z"
   },
   {
    "duration": 8,
    "start_time": "2022-03-29T18:35:22.647Z"
   },
   {
    "duration": 73,
    "start_time": "2022-03-29T18:35:24.981Z"
   },
   {
    "duration": 16,
    "start_time": "2022-03-29T18:35:27.970Z"
   },
   {
    "duration": 31,
    "start_time": "2022-03-29T18:35:32.687Z"
   },
   {
    "duration": 39,
    "start_time": "2022-03-29T18:35:36.104Z"
   },
   {
    "duration": 330,
    "start_time": "2022-03-29T18:35:40.249Z"
   },
   {
    "duration": 30,
    "start_time": "2022-03-29T18:35:43.512Z"
   },
   {
    "duration": 717,
    "start_time": "2022-03-29T18:35:47.286Z"
   },
   {
    "duration": 247,
    "start_time": "2022-03-29T18:35:50.998Z"
   },
   {
    "duration": 153,
    "start_time": "2022-03-29T18:35:56.355Z"
   },
   {
    "duration": 155,
    "start_time": "2022-03-29T18:36:00.157Z"
   },
   {
    "duration": 133,
    "start_time": "2022-03-29T18:36:10.893Z"
   },
   {
    "duration": 243,
    "start_time": "2022-03-29T18:36:14.111Z"
   },
   {
    "duration": 10,
    "start_time": "2022-03-29T18:36:17.452Z"
   },
   {
    "duration": 162,
    "start_time": "2022-03-29T18:49:40.757Z"
   },
   {
    "duration": 157,
    "start_time": "2022-03-29T18:49:48.145Z"
   },
   {
    "duration": 201,
    "start_time": "2022-03-29T18:50:35.108Z"
   },
   {
    "duration": 160,
    "start_time": "2022-03-29T18:52:58.751Z"
   },
   {
    "duration": 187,
    "start_time": "2022-03-29T18:53:21.681Z"
   },
   {
    "duration": 87,
    "start_time": "2022-03-29T18:54:35.621Z"
   },
   {
    "duration": 182,
    "start_time": "2022-03-29T18:55:03.557Z"
   },
   {
    "duration": 115,
    "start_time": "2022-03-29T18:55:27.542Z"
   },
   {
    "duration": 112,
    "start_time": "2022-03-29T18:56:56.261Z"
   },
   {
    "duration": 748,
    "start_time": "2022-03-29T18:57:36.456Z"
   },
   {
    "duration": 119,
    "start_time": "2022-03-29T18:57:39.535Z"
   },
   {
    "duration": 40,
    "start_time": "2022-03-29T18:57:44.183Z"
   },
   {
    "duration": 8,
    "start_time": "2022-03-29T18:57:48.307Z"
   },
   {
    "duration": 73,
    "start_time": "2022-03-29T18:57:51.260Z"
   },
   {
    "duration": 17,
    "start_time": "2022-03-29T18:57:54.106Z"
   },
   {
    "duration": 30,
    "start_time": "2022-03-29T18:57:57.421Z"
   },
   {
    "duration": 41,
    "start_time": "2022-03-29T18:58:00.619Z"
   },
   {
    "duration": 300,
    "start_time": "2022-03-29T18:58:03.400Z"
   },
   {
    "duration": 29,
    "start_time": "2022-03-29T18:58:06.379Z"
   },
   {
    "duration": 316,
    "start_time": "2022-03-29T18:58:09.413Z"
   },
   {
    "duration": 253,
    "start_time": "2022-03-29T18:58:12.245Z"
   },
   {
    "duration": 170,
    "start_time": "2022-03-29T18:58:14.884Z"
   },
   {
    "duration": 159,
    "start_time": "2022-03-29T18:58:18.017Z"
   },
   {
    "duration": 149,
    "start_time": "2022-03-29T18:58:22.392Z"
   },
   {
    "duration": 253,
    "start_time": "2022-03-29T18:58:25.092Z"
   },
   {
    "duration": 10,
    "start_time": "2022-03-29T18:58:27.688Z"
   },
   {
    "duration": 127,
    "start_time": "2022-03-29T18:58:31.216Z"
   },
   {
    "duration": 132,
    "start_time": "2022-03-29T18:58:55.716Z"
   },
   {
    "duration": 125,
    "start_time": "2022-03-29T18:59:17.096Z"
   },
   {
    "duration": 179,
    "start_time": "2022-03-29T19:00:56.739Z"
   },
   {
    "duration": 88,
    "start_time": "2022-03-29T19:36:46.679Z"
   },
   {
    "duration": 18,
    "start_time": "2022-03-29T19:38:56.530Z"
   },
   {
    "duration": 16,
    "start_time": "2022-03-29T19:39:28.380Z"
   },
   {
    "duration": 15,
    "start_time": "2022-03-29T19:40:35.115Z"
   },
   {
    "duration": 16,
    "start_time": "2022-03-29T19:41:21.956Z"
   },
   {
    "duration": 17,
    "start_time": "2022-03-29T19:41:30.012Z"
   },
   {
    "duration": 15,
    "start_time": "2022-03-29T19:42:22.287Z"
   },
   {
    "duration": 829,
    "start_time": "2022-03-29T19:42:39.763Z"
   },
   {
    "duration": 120,
    "start_time": "2022-03-29T19:42:42.624Z"
   },
   {
    "duration": 41,
    "start_time": "2022-03-29T19:42:47.192Z"
   },
   {
    "duration": 7,
    "start_time": "2022-03-29T19:42:50.840Z"
   },
   {
    "duration": 69,
    "start_time": "2022-03-29T19:42:53.633Z"
   },
   {
    "duration": 17,
    "start_time": "2022-03-29T19:42:56.502Z"
   },
   {
    "duration": 29,
    "start_time": "2022-03-29T19:42:59.895Z"
   },
   {
    "duration": 43,
    "start_time": "2022-03-29T19:43:02.834Z"
   },
   {
    "duration": 279,
    "start_time": "2022-03-29T19:43:05.508Z"
   },
   {
    "duration": 29,
    "start_time": "2022-03-29T19:43:08.247Z"
   },
   {
    "duration": 302,
    "start_time": "2022-03-29T19:43:11.198Z"
   },
   {
    "duration": 255,
    "start_time": "2022-03-29T19:43:15.765Z"
   },
   {
    "duration": 162,
    "start_time": "2022-03-29T19:43:20.126Z"
   },
   {
    "duration": 159,
    "start_time": "2022-03-29T19:43:22.565Z"
   },
   {
    "duration": 136,
    "start_time": "2022-03-29T19:43:25.720Z"
   },
   {
    "duration": 254,
    "start_time": "2022-03-29T19:43:28.537Z"
   },
   {
    "duration": 10,
    "start_time": "2022-03-29T19:43:31.202Z"
   },
   {
    "duration": 84,
    "start_time": "2022-03-29T19:43:34.121Z"
   },
   {
    "duration": 15,
    "start_time": "2022-03-29T19:43:54.137Z"
   },
   {
    "duration": 15,
    "start_time": "2022-03-29T19:45:03.811Z"
   },
   {
    "duration": 15,
    "start_time": "2022-03-29T19:45:46.010Z"
   },
   {
    "duration": 16,
    "start_time": "2022-03-29T19:47:26.334Z"
   },
   {
    "duration": 16,
    "start_time": "2022-03-29T19:47:41.724Z"
   },
   {
    "duration": 16,
    "start_time": "2022-03-29T19:47:45.698Z"
   },
   {
    "duration": 17,
    "start_time": "2022-03-29T19:49:19.724Z"
   },
   {
    "duration": 17,
    "start_time": "2022-03-29T19:49:24.106Z"
   },
   {
    "duration": 14,
    "start_time": "2022-03-29T19:50:04.826Z"
   },
   {
    "duration": 10,
    "start_time": "2022-03-29T19:50:14.494Z"
   },
   {
    "duration": 49,
    "start_time": "2022-03-29T20:00:35.026Z"
   },
   {
    "duration": 816,
    "start_time": "2022-03-29T20:06:44.183Z"
   },
   {
    "duration": 110,
    "start_time": "2022-03-29T20:06:47.937Z"
   },
   {
    "duration": 38,
    "start_time": "2022-03-29T20:06:53.292Z"
   },
   {
    "duration": 10,
    "start_time": "2022-03-29T20:06:57.142Z"
   },
   {
    "duration": 73,
    "start_time": "2022-03-29T20:07:00.599Z"
   },
   {
    "duration": 17,
    "start_time": "2022-03-29T20:07:04.110Z"
   },
   {
    "duration": 27,
    "start_time": "2022-03-29T20:07:07.695Z"
   },
   {
    "duration": 36,
    "start_time": "2022-03-29T20:07:10.701Z"
   },
   {
    "duration": 266,
    "start_time": "2022-03-29T20:07:13.818Z"
   },
   {
    "duration": 31,
    "start_time": "2022-03-29T20:07:17.489Z"
   },
   {
    "duration": 297,
    "start_time": "2022-03-29T20:07:20.835Z"
   },
   {
    "duration": 222,
    "start_time": "2022-03-29T20:07:23.398Z"
   },
   {
    "duration": 139,
    "start_time": "2022-03-29T20:07:26.059Z"
   },
   {
    "duration": 133,
    "start_time": "2022-03-29T20:07:28.823Z"
   },
   {
    "duration": 126,
    "start_time": "2022-03-29T20:07:31.865Z"
   },
   {
    "duration": 226,
    "start_time": "2022-03-29T20:07:34.970Z"
   },
   {
    "duration": 9,
    "start_time": "2022-03-29T20:07:37.737Z"
   },
   {
    "duration": 11,
    "start_time": "2022-03-29T20:07:41.786Z"
   },
   {
    "duration": 78,
    "start_time": "2022-03-29T20:07:43.644Z"
   },
   {
    "duration": 13,
    "start_time": "2022-03-29T20:08:06.395Z"
   },
   {
    "duration": 131,
    "start_time": "2022-03-29T20:33:26.086Z"
   },
   {
    "duration": 27,
    "start_time": "2022-03-29T20:38:52.635Z"
   },
   {
    "duration": 1207,
    "start_time": "2022-03-30T18:59:11.368Z"
   },
   {
    "duration": 155,
    "start_time": "2022-03-30T18:59:15.929Z"
   },
   {
    "duration": 56,
    "start_time": "2022-03-30T18:59:23.371Z"
   },
   {
    "duration": 11,
    "start_time": "2022-03-30T18:59:26.695Z"
   },
   {
    "duration": 146,
    "start_time": "2022-03-30T18:59:29.355Z"
   },
   {
    "duration": 22,
    "start_time": "2022-03-30T18:59:32.594Z"
   },
   {
    "duration": 42,
    "start_time": "2022-03-30T18:59:35.620Z"
   },
   {
    "duration": 54,
    "start_time": "2022-03-30T18:59:38.223Z"
   },
   {
    "duration": 463,
    "start_time": "2022-03-30T18:59:43.019Z"
   },
   {
    "duration": 38,
    "start_time": "2022-03-30T18:59:46.270Z"
   },
   {
    "duration": 457,
    "start_time": "2022-03-30T18:59:49.814Z"
   },
   {
    "duration": 430,
    "start_time": "2022-03-30T18:59:53.728Z"
   },
   {
    "duration": 268,
    "start_time": "2022-03-30T18:59:56.416Z"
   },
   {
    "duration": 228,
    "start_time": "2022-03-30T18:59:59.088Z"
   },
   {
    "duration": 129,
    "start_time": "2022-03-30T19:00:02.597Z"
   },
   {
    "duration": 195,
    "start_time": "2022-03-30T19:00:12.238Z"
   },
   {
    "duration": 369,
    "start_time": "2022-03-30T19:00:15.047Z"
   },
   {
    "duration": 13,
    "start_time": "2022-03-30T19:00:17.446Z"
   },
   {
    "duration": 16,
    "start_time": "2022-03-30T19:00:22.193Z"
   },
   {
    "duration": 37,
    "start_time": "2022-03-30T19:00:25.772Z"
   },
   {
    "duration": 243,
    "start_time": "2022-03-30T19:01:36.640Z"
   },
   {
    "duration": 239,
    "start_time": "2022-03-30T19:02:56.650Z"
   },
   {
    "duration": 355,
    "start_time": "2022-03-30T19:05:15.621Z"
   },
   {
    "duration": 401,
    "start_time": "2022-03-30T19:05:36.883Z"
   },
   {
    "duration": 239,
    "start_time": "2022-03-30T19:06:05.936Z"
   },
   {
    "duration": 8,
    "start_time": "2022-03-30T19:07:54.017Z"
   },
   {
    "duration": 111,
    "start_time": "2022-03-30T19:10:35.697Z"
   },
   {
    "duration": 249,
    "start_time": "2022-03-30T19:10:42.499Z"
   },
   {
    "duration": 241,
    "start_time": "2022-03-30T19:14:37.693Z"
   },
   {
    "duration": 245,
    "start_time": "2022-03-30T19:15:12.149Z"
   },
   {
    "duration": 244,
    "start_time": "2022-03-30T19:16:39.344Z"
   },
   {
    "duration": 248,
    "start_time": "2022-03-30T19:17:05.118Z"
   },
   {
    "duration": 20,
    "start_time": "2022-03-30T19:17:24.075Z"
   },
   {
    "duration": 36,
    "start_time": "2022-03-30T19:17:36.065Z"
   },
   {
    "duration": 247,
    "start_time": "2022-03-30T19:18:01.448Z"
   },
   {
    "duration": 2410,
    "start_time": "2022-03-30T19:20:16.330Z"
   },
   {
    "duration": 20,
    "start_time": "2022-03-30T19:20:42.563Z"
   },
   {
    "duration": 248,
    "start_time": "2022-03-30T19:21:09.904Z"
   },
   {
    "duration": 240,
    "start_time": "2022-03-30T19:21:29.112Z"
   },
   {
    "duration": 253,
    "start_time": "2022-03-30T19:22:29.025Z"
   },
   {
    "duration": 37,
    "start_time": "2022-03-30T19:25:38.626Z"
   },
   {
    "duration": 206,
    "start_time": "2022-03-30T19:26:18.440Z"
   },
   {
    "duration": 252,
    "start_time": "2022-03-30T19:27:58.567Z"
   },
   {
    "duration": 337,
    "start_time": "2022-03-30T19:29:00.770Z"
   },
   {
    "duration": 678,
    "start_time": "2022-03-30T19:29:37.547Z"
   },
   {
    "duration": 819,
    "start_time": "2022-03-30T19:29:42.163Z"
   },
   {
    "duration": 726,
    "start_time": "2022-03-30T19:29:54.050Z"
   },
   {
    "duration": 664,
    "start_time": "2022-03-30T19:31:16.876Z"
   },
   {
    "duration": 978,
    "start_time": "2022-03-30T19:33:32.556Z"
   },
   {
    "duration": 240,
    "start_time": "2022-03-30T19:37:41.552Z"
   },
   {
    "duration": 278,
    "start_time": "2022-03-30T19:40:21.575Z"
   },
   {
    "duration": 274,
    "start_time": "2022-03-30T19:41:20.460Z"
   },
   {
    "duration": 274,
    "start_time": "2022-03-30T19:42:02.497Z"
   },
   {
    "duration": 1462,
    "start_time": "2022-03-30T19:48:58.551Z"
   },
   {
    "duration": 1406,
    "start_time": "2022-03-30T19:49:19.046Z"
   },
   {
    "duration": 344,
    "start_time": "2022-03-30T19:49:40.090Z"
   },
   {
    "duration": 315,
    "start_time": "2022-03-30T19:53:20.575Z"
   },
   {
    "duration": 310,
    "start_time": "2022-03-30T19:53:42.840Z"
   },
   {
    "duration": 219,
    "start_time": "2022-03-30T19:54:14.924Z"
   },
   {
    "duration": 212,
    "start_time": "2022-03-30T19:54:39.415Z"
   },
   {
    "duration": 209,
    "start_time": "2022-03-30T19:55:55.004Z"
   },
   {
    "duration": 112,
    "start_time": "2022-03-30T19:55:59.247Z"
   },
   {
    "duration": 111,
    "start_time": "2022-03-30T19:56:13.059Z"
   },
   {
    "duration": 224,
    "start_time": "2022-03-30T19:59:01.379Z"
   },
   {
    "duration": 938,
    "start_time": "2022-03-30T20:02:25.494Z"
   },
   {
    "duration": 170,
    "start_time": "2022-03-30T20:02:29.089Z"
   },
   {
    "duration": 84,
    "start_time": "2022-03-30T20:02:41.340Z"
   },
   {
    "duration": 14,
    "start_time": "2022-03-30T20:02:48.812Z"
   },
   {
    "duration": 149,
    "start_time": "2022-03-30T20:02:51.667Z"
   },
   {
    "duration": 34,
    "start_time": "2022-03-30T20:02:55.715Z"
   },
   {
    "duration": 61,
    "start_time": "2022-03-30T20:03:07.760Z"
   },
   {
    "duration": 86,
    "start_time": "2022-03-30T20:03:27.109Z"
   },
   {
    "duration": 907,
    "start_time": "2022-03-30T20:03:32.196Z"
   },
   {
    "duration": 56,
    "start_time": "2022-03-30T20:03:35.130Z"
   },
   {
    "duration": 25,
    "start_time": "2022-03-30T20:03:40.609Z"
   },
   {
    "duration": 59,
    "start_time": "2022-03-30T20:03:57.869Z"
   },
   {
    "duration": 37,
    "start_time": "2022-03-30T20:04:17.500Z"
   },
   {
    "duration": 109,
    "start_time": "2022-03-30T20:04:37.525Z"
   },
   {
    "duration": 11,
    "start_time": "2022-03-30T20:04:48.242Z"
   },
   {
    "duration": 11,
    "start_time": "2022-03-30T20:04:56.353Z"
   },
   {
    "duration": 1165,
    "start_time": "2022-03-30T20:09:41.484Z"
   },
   {
    "duration": 216,
    "start_time": "2022-03-30T20:09:46.335Z"
   },
   {
    "duration": 56,
    "start_time": "2022-03-30T20:09:52.658Z"
   },
   {
    "duration": 10,
    "start_time": "2022-03-30T20:10:02.069Z"
   },
   {
    "duration": 104,
    "start_time": "2022-03-30T20:10:10.071Z"
   },
   {
    "duration": 22,
    "start_time": "2022-03-30T20:10:13.608Z"
   },
   {
    "duration": 5,
    "start_time": "2022-03-30T20:10:28.448Z"
   },
   {
    "duration": 43,
    "start_time": "2022-03-30T20:10:34.572Z"
   },
   {
    "duration": 61,
    "start_time": "2022-03-30T20:10:47.958Z"
   },
   {
    "duration": 569,
    "start_time": "2022-03-30T20:10:52.596Z"
   },
   {
    "duration": 40,
    "start_time": "2022-03-30T20:10:56.123Z"
   },
   {
    "duration": 439,
    "start_time": "2022-03-30T20:11:07.822Z"
   },
   {
    "duration": 373,
    "start_time": "2022-03-30T20:11:11.233Z"
   },
   {
    "duration": 247,
    "start_time": "2022-03-30T20:11:14.317Z"
   },
   {
    "duration": 243,
    "start_time": "2022-03-30T20:11:17.151Z"
   },
   {
    "duration": 251,
    "start_time": "2022-03-30T20:11:21.181Z"
   },
   {
    "duration": 378,
    "start_time": "2022-03-30T20:11:24.198Z"
   },
   {
    "duration": 13,
    "start_time": "2022-03-30T20:11:27.176Z"
   },
   {
    "duration": 17,
    "start_time": "2022-03-30T20:11:30.615Z"
   },
   {
    "duration": 279,
    "start_time": "2022-03-30T20:11:36.365Z"
   },
   {
    "duration": 257,
    "start_time": "2022-03-30T20:11:40.156Z"
   },
   {
    "duration": 2249,
    "start_time": "2022-03-30T20:11:43.961Z"
   },
   {
    "duration": 458,
    "start_time": "2022-03-30T20:11:57.536Z"
   },
   {
    "duration": 221,
    "start_time": "2022-03-30T20:12:02.450Z"
   },
   {
    "duration": 2120,
    "start_time": "2022-03-30T20:34:03.222Z"
   },
   {
    "duration": 4,
    "start_time": "2022-03-30T20:34:22.634Z"
   },
   {
    "duration": 4,
    "start_time": "2022-03-30T20:34:50.743Z"
   },
   {
    "duration": 4,
    "start_time": "2022-03-30T20:35:02.544Z"
   },
   {
    "duration": 11,
    "start_time": "2022-03-30T20:35:10.069Z"
   },
   {
    "duration": 10,
    "start_time": "2022-03-30T20:35:22.133Z"
   },
   {
    "duration": 32,
    "start_time": "2022-03-30T20:36:44.276Z"
   },
   {
    "duration": 13,
    "start_time": "2022-03-30T20:41:21.983Z"
   },
   {
    "duration": 12,
    "start_time": "2022-03-30T20:41:38.716Z"
   },
   {
    "duration": 242,
    "start_time": "2022-03-30T20:43:21.781Z"
   },
   {
    "duration": 237,
    "start_time": "2022-03-30T20:43:47.918Z"
   },
   {
    "duration": 235,
    "start_time": "2022-03-30T20:44:14.151Z"
   },
   {
    "duration": 264,
    "start_time": "2022-03-30T20:44:41.776Z"
   },
   {
    "duration": 248,
    "start_time": "2022-03-30T20:45:24.032Z"
   },
   {
    "duration": 991,
    "start_time": "2022-03-31T18:37:10.814Z"
   },
   {
    "duration": 108,
    "start_time": "2022-03-31T18:37:55.371Z"
   },
   {
    "duration": 39,
    "start_time": "2022-03-31T18:38:00.373Z"
   },
   {
    "duration": 9,
    "start_time": "2022-03-31T18:38:04.947Z"
   },
   {
    "duration": 105,
    "start_time": "2022-03-31T18:38:08.017Z"
   },
   {
    "duration": 14,
    "start_time": "2022-03-31T18:38:10.744Z"
   },
   {
    "duration": 3,
    "start_time": "2022-03-31T18:38:15.099Z"
   },
   {
    "duration": 27,
    "start_time": "2022-03-31T18:38:17.578Z"
   },
   {
    "duration": 34,
    "start_time": "2022-03-31T18:38:20.402Z"
   },
   {
    "duration": 340,
    "start_time": "2022-03-31T18:38:24.558Z"
   },
   {
    "duration": 28,
    "start_time": "2022-03-31T18:38:27.677Z"
   },
   {
    "duration": 291,
    "start_time": "2022-03-31T18:38:31.109Z"
   },
   {
    "duration": 243,
    "start_time": "2022-03-31T18:38:34.339Z"
   },
   {
    "duration": 153,
    "start_time": "2022-03-31T18:38:37.072Z"
   },
   {
    "duration": 145,
    "start_time": "2022-03-31T18:38:39.483Z"
   },
   {
    "duration": 123,
    "start_time": "2022-03-31T18:38:42.830Z"
   },
   {
    "duration": 240,
    "start_time": "2022-03-31T18:38:45.873Z"
   },
   {
    "duration": 10,
    "start_time": "2022-03-31T18:38:48.564Z"
   },
   {
    "duration": 11,
    "start_time": "2022-03-31T18:38:53.036Z"
   },
   {
    "duration": 23,
    "start_time": "2022-03-31T18:39:04.349Z"
   },
   {
    "duration": 170,
    "start_time": "2022-03-31T18:39:08.925Z"
   },
   {
    "duration": 182,
    "start_time": "2022-03-31T18:39:13.696Z"
   },
   {
    "duration": 169,
    "start_time": "2022-03-31T18:39:17.166Z"
   },
   {
    "duration": 203,
    "start_time": "2022-03-31T18:39:20.336Z"
   },
   {
    "duration": 176,
    "start_time": "2022-03-31T18:39:23.207Z"
   },
   {
    "duration": 150,
    "start_time": "2022-03-31T18:39:25.840Z"
   },
   {
    "duration": 145,
    "start_time": "2022-03-31T18:39:28.505Z"
   },
   {
    "duration": 10,
    "start_time": "2022-03-31T18:43:05.613Z"
   },
   {
    "duration": 81,
    "start_time": "2022-03-31T18:44:51.340Z"
   },
   {
    "duration": 8,
    "start_time": "2022-03-31T18:45:13.508Z"
   },
   {
    "duration": 42,
    "start_time": "2022-03-31T18:45:27.595Z"
   },
   {
    "duration": 69,
    "start_time": "2022-03-31T18:45:38.211Z"
   },
   {
    "duration": 24,
    "start_time": "2022-03-31T18:46:52.625Z"
   },
   {
    "duration": 6,
    "start_time": "2022-03-31T18:48:36.735Z"
   },
   {
    "duration": 24,
    "start_time": "2022-03-31T18:49:36.682Z"
   },
   {
    "duration": 13,
    "start_time": "2022-03-31T18:50:52.417Z"
   },
   {
    "duration": 3,
    "start_time": "2022-03-31T18:51:30.427Z"
   },
   {
    "duration": 23,
    "start_time": "2022-03-31T18:51:37.996Z"
   },
   {
    "duration": 8,
    "start_time": "2022-03-31T18:51:55.863Z"
   },
   {
    "duration": 23,
    "start_time": "2022-03-31T19:05:48.344Z"
   },
   {
    "duration": 26,
    "start_time": "2022-03-31T19:05:57.801Z"
   },
   {
    "duration": 19,
    "start_time": "2022-03-31T19:06:45.060Z"
   },
   {
    "duration": 25,
    "start_time": "2022-03-31T19:07:00.548Z"
   },
   {
    "duration": 81,
    "start_time": "2022-03-31T19:07:38.302Z"
   },
   {
    "duration": 20,
    "start_time": "2022-03-31T19:07:52.736Z"
   },
   {
    "duration": 6,
    "start_time": "2022-03-31T19:08:37.870Z"
   },
   {
    "duration": 7,
    "start_time": "2022-03-31T19:08:46.837Z"
   },
   {
    "duration": 8,
    "start_time": "2022-03-31T19:08:59.738Z"
   },
   {
    "duration": 131,
    "start_time": "2022-03-31T19:15:28.282Z"
   },
   {
    "duration": 19,
    "start_time": "2022-03-31T19:15:48.754Z"
   },
   {
    "duration": 14,
    "start_time": "2022-03-31T19:18:14.428Z"
   },
   {
    "duration": 14,
    "start_time": "2022-03-31T19:20:35.945Z"
   },
   {
    "duration": 15,
    "start_time": "2022-03-31T19:21:11.010Z"
   },
   {
    "duration": 28,
    "start_time": "2022-03-31T19:24:12.592Z"
   },
   {
    "duration": 26,
    "start_time": "2022-03-31T19:27:17.217Z"
   },
   {
    "duration": 24,
    "start_time": "2022-03-31T19:28:23.543Z"
   },
   {
    "duration": 16,
    "start_time": "2022-03-31T19:28:36.882Z"
   },
   {
    "duration": 39,
    "start_time": "2022-03-31T19:29:53.216Z"
   },
   {
    "duration": 26,
    "start_time": "2022-03-31T19:30:10.894Z"
   },
   {
    "duration": 24,
    "start_time": "2022-03-31T19:30:44.104Z"
   },
   {
    "duration": 15,
    "start_time": "2022-03-31T19:33:26.712Z"
   },
   {
    "duration": 23,
    "start_time": "2022-03-31T19:34:08.620Z"
   },
   {
    "duration": 22,
    "start_time": "2022-03-31T19:34:22.190Z"
   },
   {
    "duration": 23,
    "start_time": "2022-03-31T19:34:31.273Z"
   },
   {
    "duration": 20,
    "start_time": "2022-03-31T19:34:48.214Z"
   },
   {
    "duration": 30,
    "start_time": "2022-03-31T20:05:19.012Z"
   },
   {
    "duration": 7,
    "start_time": "2022-03-31T20:05:56.922Z"
   },
   {
    "duration": 39,
    "start_time": "2022-03-31T20:06:08.065Z"
   },
   {
    "duration": 12,
    "start_time": "2022-03-31T20:08:09.801Z"
   },
   {
    "duration": 10,
    "start_time": "2022-03-31T20:08:18.257Z"
   },
   {
    "duration": 9,
    "start_time": "2022-03-31T20:10:08.538Z"
   },
   {
    "duration": 11,
    "start_time": "2022-03-31T20:10:30.492Z"
   },
   {
    "duration": 106,
    "start_time": "2022-03-31T20:11:00.144Z"
   },
   {
    "duration": 12,
    "start_time": "2022-03-31T20:11:14.730Z"
   },
   {
    "duration": 12,
    "start_time": "2022-03-31T20:11:41.965Z"
   },
   {
    "duration": 11,
    "start_time": "2022-03-31T20:11:47.854Z"
   },
   {
    "duration": 51,
    "start_time": "2022-04-01T17:47:09.597Z"
   },
   {
    "duration": 979,
    "start_time": "2022-04-01T17:47:24.319Z"
   },
   {
    "duration": 132,
    "start_time": "2022-04-01T17:47:28.069Z"
   },
   {
    "duration": 44,
    "start_time": "2022-04-01T17:47:32.556Z"
   },
   {
    "duration": 8,
    "start_time": "2022-04-01T17:47:36.885Z"
   },
   {
    "duration": 73,
    "start_time": "2022-04-01T17:47:39.509Z"
   },
   {
    "duration": 16,
    "start_time": "2022-04-01T17:47:42.391Z"
   },
   {
    "duration": 4,
    "start_time": "2022-04-01T17:47:46.304Z"
   },
   {
    "duration": 31,
    "start_time": "2022-04-01T17:47:49.016Z"
   },
   {
    "duration": 42,
    "start_time": "2022-04-01T17:47:52.120Z"
   },
   {
    "duration": 350,
    "start_time": "2022-04-01T17:47:55.825Z"
   },
   {
    "duration": 29,
    "start_time": "2022-04-01T17:47:58.997Z"
   },
   {
    "duration": 337,
    "start_time": "2022-04-01T17:48:03.105Z"
   },
   {
    "duration": 267,
    "start_time": "2022-04-01T17:48:06.600Z"
   },
   {
    "duration": 176,
    "start_time": "2022-04-01T17:48:09.644Z"
   },
   {
    "duration": 170,
    "start_time": "2022-04-01T17:48:12.528Z"
   },
   {
    "duration": 189,
    "start_time": "2022-04-01T17:48:16.934Z"
   },
   {
    "duration": 251,
    "start_time": "2022-04-01T17:48:19.481Z"
   },
   {
    "duration": 10,
    "start_time": "2022-04-01T17:48:23.754Z"
   },
   {
    "duration": 12,
    "start_time": "2022-04-01T17:48:27.500Z"
   },
   {
    "duration": 26,
    "start_time": "2022-04-01T17:48:30.927Z"
   },
   {
    "duration": 171,
    "start_time": "2022-04-01T17:48:33.905Z"
   },
   {
    "duration": 162,
    "start_time": "2022-04-01T17:48:36.610Z"
   },
   {
    "duration": 180,
    "start_time": "2022-04-01T17:48:39.438Z"
   },
   {
    "duration": 237,
    "start_time": "2022-04-01T17:48:42.661Z"
   },
   {
    "duration": 179,
    "start_time": "2022-04-01T17:48:45.413Z"
   },
   {
    "duration": 187,
    "start_time": "2022-04-01T17:48:48.429Z"
   },
   {
    "duration": 175,
    "start_time": "2022-04-01T17:48:51.382Z"
   },
   {
    "duration": 23,
    "start_time": "2022-04-01T17:48:55.608Z"
   },
   {
    "duration": 15,
    "start_time": "2022-04-01T17:48:59.481Z"
   },
   {
    "duration": 11,
    "start_time": "2022-04-01T17:49:03.420Z"
   },
   {
    "duration": 228,
    "start_time": "2022-04-01T17:56:24.693Z"
   },
   {
    "duration": 212,
    "start_time": "2022-04-01T17:56:44.733Z"
   },
   {
    "duration": 194,
    "start_time": "2022-04-01T17:56:56.529Z"
   },
   {
    "duration": 172,
    "start_time": "2022-04-01T17:57:32.759Z"
   },
   {
    "duration": 172,
    "start_time": "2022-04-01T17:58:26.379Z"
   },
   {
    "duration": 175,
    "start_time": "2022-04-01T17:59:26.341Z"
   },
   {
    "duration": 162,
    "start_time": "2022-04-01T17:59:35.603Z"
   },
   {
    "duration": 7,
    "start_time": "2022-04-01T18:40:36.696Z"
   },
   {
    "duration": 39,
    "start_time": "2022-04-01T18:40:49.123Z"
   },
   {
    "duration": 7,
    "start_time": "2022-04-01T18:41:03.434Z"
   },
   {
    "duration": 337,
    "start_time": "2022-04-01T18:46:12.786Z"
   },
   {
    "duration": 178,
    "start_time": "2022-04-01T18:46:25.582Z"
   },
   {
    "duration": 249,
    "start_time": "2022-04-01T18:49:11.346Z"
   },
   {
    "duration": 261,
    "start_time": "2022-04-01T18:50:24.395Z"
   },
   {
    "duration": 168,
    "start_time": "2022-04-01T18:51:24.677Z"
   },
   {
    "duration": 167,
    "start_time": "2022-04-01T18:51:57.186Z"
   },
   {
    "duration": 270,
    "start_time": "2022-04-01T18:53:23.671Z"
   },
   {
    "duration": 352,
    "start_time": "2022-04-01T18:53:31.722Z"
   },
   {
    "duration": 165,
    "start_time": "2022-04-01T18:53:46.356Z"
   },
   {
    "duration": 144,
    "start_time": "2022-04-01T18:54:14.934Z"
   },
   {
    "duration": 141,
    "start_time": "2022-04-01T18:57:54.870Z"
   },
   {
    "duration": 152,
    "start_time": "2022-04-01T18:59:10.136Z"
   },
   {
    "duration": 136,
    "start_time": "2022-04-01T19:00:19.563Z"
   },
   {
    "duration": 151,
    "start_time": "2022-04-01T19:00:35.720Z"
   },
   {
    "duration": 145,
    "start_time": "2022-04-01T19:03:28.737Z"
   },
   {
    "duration": 159,
    "start_time": "2022-04-01T19:04:27.392Z"
   },
   {
    "duration": 137,
    "start_time": "2022-04-01T19:04:40.759Z"
   },
   {
    "duration": 719,
    "start_time": "2022-04-12T12:04:01.668Z"
   },
   {
    "duration": 98,
    "start_time": "2022-04-12T12:04:02.389Z"
   },
   {
    "duration": 50,
    "start_time": "2022-04-12T12:04:02.490Z"
   },
   {
    "duration": 7,
    "start_time": "2022-04-12T12:04:02.541Z"
   },
   {
    "duration": 77,
    "start_time": "2022-04-12T12:04:02.549Z"
   },
   {
    "duration": 14,
    "start_time": "2022-04-12T12:04:02.627Z"
   },
   {
    "duration": 3,
    "start_time": "2022-04-12T12:04:02.642Z"
   },
   {
    "duration": 33,
    "start_time": "2022-04-12T12:04:02.647Z"
   },
   {
    "duration": 61,
    "start_time": "2022-04-12T12:04:02.683Z"
   },
   {
    "duration": 329,
    "start_time": "2022-04-12T12:04:02.746Z"
   },
   {
    "duration": 25,
    "start_time": "2022-04-12T12:04:03.076Z"
   },
   {
    "duration": 300,
    "start_time": "2022-04-12T12:04:03.102Z"
   },
   {
    "duration": 217,
    "start_time": "2022-04-12T12:04:03.403Z"
   },
   {
    "duration": 159,
    "start_time": "2022-04-12T12:04:03.623Z"
   },
   {
    "duration": 145,
    "start_time": "2022-04-12T12:04:03.783Z"
   },
   {
    "duration": 125,
    "start_time": "2022-04-12T12:04:03.929Z"
   },
   {
    "duration": 221,
    "start_time": "2022-04-12T12:04:04.056Z"
   },
   {
    "duration": 8,
    "start_time": "2022-04-12T12:04:04.279Z"
   },
   {
    "duration": 10,
    "start_time": "2022-04-12T12:04:04.289Z"
   },
   {
    "duration": 170,
    "start_time": "2022-04-12T12:04:04.300Z"
   },
   {
    "duration": 140,
    "start_time": "2022-04-12T12:04:04.471Z"
   },
   {
    "duration": 153,
    "start_time": "2022-04-12T12:04:04.612Z"
   },
   {
    "duration": 187,
    "start_time": "2022-04-12T12:04:04.766Z"
   },
   {
    "duration": 152,
    "start_time": "2022-04-12T12:04:04.955Z"
   },
   {
    "duration": 148,
    "start_time": "2022-04-12T12:04:05.109Z"
   },
   {
    "duration": 143,
    "start_time": "2022-04-12T12:04:05.259Z"
   },
   {
    "duration": 31,
    "start_time": "2022-04-12T12:04:05.406Z"
   },
   {
    "duration": 14,
    "start_time": "2022-04-12T12:04:05.439Z"
   },
   {
    "duration": 160,
    "start_time": "2022-04-12T12:04:05.455Z"
   },
   {
    "duration": 11,
    "start_time": "2022-04-12T12:04:05.617Z"
   },
   {
    "duration": 222,
    "start_time": "2022-04-12T12:04:05.630Z"
   },
   {
    "duration": 223,
    "start_time": "2022-04-12T12:04:05.853Z"
   },
   {
    "duration": 146,
    "start_time": "2022-04-12T12:04:06.078Z"
   },
   {
    "duration": 124,
    "start_time": "2022-04-12T12:04:06.226Z"
   },
   {
    "duration": 206,
    "start_time": "2022-04-12T12:04:06.352Z"
   },
   {
    "duration": 108,
    "start_time": "2022-04-12T12:04:06.560Z"
   },
   {
    "duration": 132,
    "start_time": "2022-04-12T12:04:06.669Z"
   },
   {
    "duration": 129,
    "start_time": "2022-04-12T12:04:06.803Z"
   },
   {
    "duration": 141,
    "start_time": "2022-04-12T12:04:06.934Z"
   },
   {
    "duration": 122,
    "start_time": "2022-04-12T12:04:07.076Z"
   },
   {
    "duration": 32,
    "start_time": "2022-04-12T12:08:41.193Z"
   },
   {
    "duration": 6,
    "start_time": "2022-04-12T12:08:52.074Z"
   },
   {
    "duration": 45,
    "start_time": "2022-04-12T12:08:58.501Z"
   },
   {
    "duration": 13,
    "start_time": "2022-04-12T12:09:19.482Z"
   },
   {
    "duration": 6,
    "start_time": "2022-04-12T12:09:47.578Z"
   },
   {
    "duration": 101,
    "start_time": "2022-04-12T12:13:10.116Z"
   },
   {
    "duration": 23,
    "start_time": "2022-04-12T12:13:23.074Z"
   },
   {
    "duration": 4,
    "start_time": "2022-04-12T12:13:26.907Z"
   },
   {
    "duration": 33,
    "start_time": "2022-04-12T12:13:42.467Z"
   },
   {
    "duration": 4,
    "start_time": "2022-04-12T12:13:55.291Z"
   },
   {
    "duration": 6,
    "start_time": "2022-04-12T12:14:01.070Z"
   },
   {
    "duration": 51,
    "start_time": "2022-04-12T12:14:19.192Z"
   },
   {
    "duration": 3,
    "start_time": "2022-04-12T12:14:52.507Z"
   },
   {
    "duration": 13,
    "start_time": "2022-04-12T12:16:38.524Z"
   },
   {
    "duration": 5,
    "start_time": "2022-04-12T12:16:55.622Z"
   },
   {
    "duration": 4,
    "start_time": "2022-04-12T12:17:53.425Z"
   },
   {
    "duration": 59,
    "start_time": "2022-04-12T12:25:59.517Z"
   },
   {
    "duration": 95,
    "start_time": "2022-04-12T12:25:59.578Z"
   },
   {
    "duration": 32,
    "start_time": "2022-04-12T12:25:59.674Z"
   },
   {
    "duration": 7,
    "start_time": "2022-04-12T12:25:59.724Z"
   },
   {
    "duration": 53,
    "start_time": "2022-04-12T12:25:59.732Z"
   },
   {
    "duration": 14,
    "start_time": "2022-04-12T12:25:59.786Z"
   },
   {
    "duration": 3,
    "start_time": "2022-04-12T12:25:59.824Z"
   },
   {
    "duration": 26,
    "start_time": "2022-04-12T12:26:07.216Z"
   },
   {
    "duration": 61,
    "start_time": "2022-04-12T12:26:58.904Z"
   },
   {
    "duration": 102,
    "start_time": "2022-04-12T12:26:58.967Z"
   },
   {
    "duration": 32,
    "start_time": "2022-04-12T12:26:59.071Z"
   },
   {
    "duration": 6,
    "start_time": "2022-04-12T12:26:59.124Z"
   },
   {
    "duration": 53,
    "start_time": "2022-04-12T12:26:59.133Z"
   },
   {
    "duration": 40,
    "start_time": "2022-04-12T12:26:59.188Z"
   },
   {
    "duration": 4,
    "start_time": "2022-04-12T12:26:59.229Z"
   },
   {
    "duration": 24,
    "start_time": "2022-04-12T12:26:59.235Z"
   },
   {
    "duration": 64,
    "start_time": "2022-04-12T12:26:59.261Z"
   },
   {
    "duration": 302,
    "start_time": "2022-04-12T12:26:59.326Z"
   },
   {
    "duration": 24,
    "start_time": "2022-04-12T12:27:26.362Z"
   },
   {
    "duration": 259,
    "start_time": "2022-04-12T12:31:26.197Z"
   },
   {
    "duration": 300,
    "start_time": "2022-04-12T12:31:31.059Z"
   },
   {
    "duration": 195,
    "start_time": "2022-04-12T12:31:42.548Z"
   },
   {
    "duration": 167,
    "start_time": "2022-04-12T12:31:47.281Z"
   },
   {
    "duration": 11,
    "start_time": "2022-04-12T12:33:18.125Z"
   },
   {
    "duration": 5,
    "start_time": "2022-04-12T12:33:52.295Z"
   },
   {
    "duration": 145,
    "start_time": "2022-04-12T12:42:47.893Z"
   },
   {
    "duration": 298,
    "start_time": "2022-04-12T12:42:52.088Z"
   },
   {
    "duration": 12,
    "start_time": "2022-04-12T12:42:53.228Z"
   },
   {
    "duration": 95,
    "start_time": "2022-04-12T12:44:09.065Z"
   },
   {
    "duration": 137,
    "start_time": "2022-04-12T12:44:09.162Z"
   },
   {
    "duration": 52,
    "start_time": "2022-04-12T12:44:09.301Z"
   },
   {
    "duration": 7,
    "start_time": "2022-04-12T12:44:09.356Z"
   },
   {
    "duration": 69,
    "start_time": "2022-04-12T12:44:09.365Z"
   },
   {
    "duration": 13,
    "start_time": "2022-04-12T12:44:09.435Z"
   },
   {
    "duration": 4,
    "start_time": "2022-04-12T12:44:09.450Z"
   },
   {
    "duration": 24,
    "start_time": "2022-04-12T12:44:09.455Z"
   },
   {
    "duration": 56,
    "start_time": "2022-04-12T12:44:09.481Z"
   },
   {
    "duration": 328,
    "start_time": "2022-04-12T12:44:09.539Z"
   },
   {
    "duration": 23,
    "start_time": "2022-04-12T12:44:09.869Z"
   },
   {
    "duration": 306,
    "start_time": "2022-04-12T12:44:09.894Z"
   },
   {
    "duration": 217,
    "start_time": "2022-04-12T12:44:10.201Z"
   },
   {
    "duration": 146,
    "start_time": "2022-04-12T12:44:10.419Z"
   },
   {
    "duration": 134,
    "start_time": "2022-04-12T12:44:10.566Z"
   },
   {
    "duration": 122,
    "start_time": "2022-04-12T12:44:10.701Z"
   },
   {
    "duration": 204,
    "start_time": "2022-04-12T12:44:10.825Z"
   },
   {
    "duration": 10,
    "start_time": "2022-04-12T12:44:11.032Z"
   },
   {
    "duration": 4,
    "start_time": "2022-04-12T12:44:27.913Z"
   },
   {
    "duration": 13,
    "start_time": "2022-04-12T12:44:30.930Z"
   },
   {
    "duration": 4,
    "start_time": "2022-04-12T12:44:37.376Z"
   },
   {
    "duration": 4,
    "start_time": "2022-04-12T12:44:50.161Z"
   },
   {
    "duration": 7,
    "start_time": "2022-04-12T12:51:04.399Z"
   },
   {
    "duration": 119,
    "start_time": "2022-04-12T12:51:14.623Z"
   },
   {
    "duration": 67,
    "start_time": "2022-04-12T12:51:20.248Z"
   },
   {
    "duration": 135,
    "start_time": "2022-04-12T12:51:28.154Z"
   },
   {
    "duration": 126,
    "start_time": "2022-04-12T12:54:15.643Z"
   },
   {
    "duration": 143,
    "start_time": "2022-04-12T12:56:47.747Z"
   },
   {
    "duration": 2014,
    "start_time": "2022-04-12T12:58:22.498Z"
   },
   {
    "duration": 7,
    "start_time": "2022-04-12T12:58:36.821Z"
   },
   {
    "duration": 139,
    "start_time": "2022-04-12T12:59:04.395Z"
   },
   {
    "duration": 177,
    "start_time": "2022-04-12T12:59:54.174Z"
   },
   {
    "duration": 142,
    "start_time": "2022-04-12T13:02:00.593Z"
   },
   {
    "duration": 20,
    "start_time": "2022-04-12T13:05:16.679Z"
   },
   {
    "duration": 66,
    "start_time": "2022-04-12T13:10:47.951Z"
   },
   {
    "duration": 208,
    "start_time": "2022-04-12T13:10:48.019Z"
   },
   {
    "duration": 36,
    "start_time": "2022-04-12T13:10:48.229Z"
   },
   {
    "duration": 6,
    "start_time": "2022-04-12T13:10:48.267Z"
   },
   {
    "duration": 85,
    "start_time": "2022-04-12T13:10:48.275Z"
   },
   {
    "duration": 15,
    "start_time": "2022-04-12T13:10:48.362Z"
   },
   {
    "duration": 9,
    "start_time": "2022-04-12T13:10:48.379Z"
   },
   {
    "duration": 41,
    "start_time": "2022-04-12T13:10:48.389Z"
   },
   {
    "duration": 33,
    "start_time": "2022-04-12T13:10:48.431Z"
   },
   {
    "duration": 312,
    "start_time": "2022-04-12T13:10:48.466Z"
   },
   {
    "duration": 24,
    "start_time": "2022-04-12T13:10:48.779Z"
   },
   {
    "duration": 217,
    "start_time": "2022-04-12T13:10:48.805Z"
   },
   {
    "duration": 201,
    "start_time": "2022-04-12T13:10:49.024Z"
   },
   {
    "duration": 145,
    "start_time": "2022-04-12T13:10:49.227Z"
   },
   {
    "duration": 124,
    "start_time": "2022-04-12T13:10:49.374Z"
   },
   {
    "duration": 115,
    "start_time": "2022-04-12T13:10:49.499Z"
   },
   {
    "duration": 196,
    "start_time": "2022-04-12T13:10:49.623Z"
   },
   {
    "duration": 9,
    "start_time": "2022-04-12T13:10:49.823Z"
   },
   {
    "duration": 9,
    "start_time": "2022-04-12T13:10:49.833Z"
   },
   {
    "duration": 157,
    "start_time": "2022-04-12T13:10:49.844Z"
   },
   {
    "duration": 143,
    "start_time": "2022-04-12T13:10:50.002Z"
   },
   {
    "duration": 265,
    "start_time": "2022-04-12T13:10:50.147Z"
   },
   {
    "duration": 139,
    "start_time": "2022-04-12T13:10:50.413Z"
   },
   {
    "duration": 138,
    "start_time": "2022-04-12T13:10:50.553Z"
   },
   {
    "duration": 146,
    "start_time": "2022-04-12T13:10:50.692Z"
   },
   {
    "duration": 146,
    "start_time": "2022-04-12T13:10:50.839Z"
   },
   {
    "duration": 7,
    "start_time": "2022-04-12T13:11:40.581Z"
   },
   {
    "duration": 8,
    "start_time": "2022-04-12T13:11:52.927Z"
   },
   {
    "duration": 7,
    "start_time": "2022-04-12T13:12:05.647Z"
   },
   {
    "duration": 8,
    "start_time": "2022-04-12T13:12:23.176Z"
   },
   {
    "duration": 7,
    "start_time": "2022-04-12T13:12:29.305Z"
   },
   {
    "duration": 65,
    "start_time": "2022-04-12T13:14:16.829Z"
   },
   {
    "duration": 97,
    "start_time": "2022-04-12T13:14:16.896Z"
   },
   {
    "duration": 50,
    "start_time": "2022-04-12T13:14:16.994Z"
   },
   {
    "duration": 6,
    "start_time": "2022-04-12T13:14:17.046Z"
   },
   {
    "duration": 57,
    "start_time": "2022-04-12T13:14:17.053Z"
   },
   {
    "duration": 14,
    "start_time": "2022-04-12T13:14:17.124Z"
   },
   {
    "duration": 3,
    "start_time": "2022-04-12T13:14:17.140Z"
   },
   {
    "duration": 39,
    "start_time": "2022-04-12T13:14:17.145Z"
   },
   {
    "duration": 50,
    "start_time": "2022-04-12T13:14:17.186Z"
   },
   {
    "duration": 306,
    "start_time": "2022-04-12T13:14:17.239Z"
   },
   {
    "duration": 25,
    "start_time": "2022-04-12T13:14:17.546Z"
   },
   {
    "duration": 210,
    "start_time": "2022-04-12T13:14:17.572Z"
   },
   {
    "duration": 211,
    "start_time": "2022-04-12T13:14:17.784Z"
   },
   {
    "duration": 145,
    "start_time": "2022-04-12T13:14:17.996Z"
   },
   {
    "duration": 129,
    "start_time": "2022-04-12T13:14:18.143Z"
   },
   {
    "duration": 112,
    "start_time": "2022-04-12T13:14:18.273Z"
   },
   {
    "duration": 203,
    "start_time": "2022-04-12T13:14:18.386Z"
   },
   {
    "duration": 8,
    "start_time": "2022-04-12T13:14:18.591Z"
   },
   {
    "duration": 21,
    "start_time": "2022-04-12T13:14:29.334Z"
   },
   {
    "duration": 9,
    "start_time": "2022-04-12T13:16:39.088Z"
   },
   {
    "duration": 28,
    "start_time": "2022-04-12T13:16:58.012Z"
   },
   {
    "duration": 673,
    "start_time": "2022-04-12T13:17:45.236Z"
   },
   {
    "duration": 12,
    "start_time": "2022-04-12T13:19:02.198Z"
   },
   {
    "duration": 72,
    "start_time": "2022-04-12T13:19:36.464Z"
   },
   {
    "duration": 107,
    "start_time": "2022-04-12T13:19:36.538Z"
   },
   {
    "duration": 49,
    "start_time": "2022-04-12T13:19:36.647Z"
   },
   {
    "duration": 27,
    "start_time": "2022-04-12T13:19:36.698Z"
   },
   {
    "duration": 97,
    "start_time": "2022-04-12T13:19:36.728Z"
   },
   {
    "duration": 18,
    "start_time": "2022-04-12T13:19:36.827Z"
   },
   {
    "duration": 4,
    "start_time": "2022-04-12T13:19:36.847Z"
   },
   {
    "duration": 31,
    "start_time": "2022-04-12T13:19:36.852Z"
   },
   {
    "duration": 63,
    "start_time": "2022-04-12T13:19:36.885Z"
   },
   {
    "duration": 486,
    "start_time": "2022-04-12T13:19:36.951Z"
   },
   {
    "duration": 39,
    "start_time": "2022-04-12T13:19:37.439Z"
   },
   {
    "duration": 354,
    "start_time": "2022-04-12T13:19:37.479Z"
   },
   {
    "duration": 346,
    "start_time": "2022-04-12T13:19:37.836Z"
   },
   {
    "duration": 265,
    "start_time": "2022-04-12T13:19:38.184Z"
   },
   {
    "duration": 147,
    "start_time": "2022-04-12T13:19:38.450Z"
   },
   {
    "duration": 127,
    "start_time": "2022-04-12T13:19:38.599Z"
   },
   {
    "duration": 216,
    "start_time": "2022-04-12T13:19:38.728Z"
   },
   {
    "duration": 9,
    "start_time": "2022-04-12T13:19:38.946Z"
   },
   {
    "duration": 16,
    "start_time": "2022-04-12T13:19:45.114Z"
   },
   {
    "duration": 15,
    "start_time": "2022-04-12T13:19:47.250Z"
   },
   {
    "duration": 4,
    "start_time": "2022-04-12T13:19:59.141Z"
   },
   {
    "duration": 5,
    "start_time": "2022-04-12T13:20:07.095Z"
   },
   {
    "duration": 70,
    "start_time": "2022-04-12T13:20:30.197Z"
   },
   {
    "duration": 113,
    "start_time": "2022-04-12T13:20:30.269Z"
   },
   {
    "duration": 48,
    "start_time": "2022-04-12T13:20:30.384Z"
   },
   {
    "duration": 6,
    "start_time": "2022-04-12T13:20:30.434Z"
   },
   {
    "duration": 61,
    "start_time": "2022-04-12T13:20:30.442Z"
   },
   {
    "duration": 26,
    "start_time": "2022-04-12T13:20:30.504Z"
   },
   {
    "duration": 3,
    "start_time": "2022-04-12T13:20:30.532Z"
   },
   {
    "duration": 27,
    "start_time": "2022-04-12T13:20:30.537Z"
   },
   {
    "duration": 34,
    "start_time": "2022-04-12T13:20:30.566Z"
   },
   {
    "duration": 349,
    "start_time": "2022-04-12T13:20:30.602Z"
   },
   {
    "duration": 25,
    "start_time": "2022-04-12T13:20:30.953Z"
   },
   {
    "duration": 226,
    "start_time": "2022-04-12T13:20:30.980Z"
   },
   {
    "duration": 230,
    "start_time": "2022-04-12T13:20:31.208Z"
   },
   {
    "duration": 337,
    "start_time": "2022-04-12T13:20:31.440Z"
   },
   {
    "duration": 135,
    "start_time": "2022-04-12T13:20:31.779Z"
   },
   {
    "duration": 124,
    "start_time": "2022-04-12T13:20:31.923Z"
   },
   {
    "duration": 211,
    "start_time": "2022-04-12T13:20:32.049Z"
   },
   {
    "duration": 9,
    "start_time": "2022-04-12T13:20:32.262Z"
   },
   {
    "duration": 4,
    "start_time": "2022-04-12T13:20:46.090Z"
   },
   {
    "duration": 13,
    "start_time": "2022-04-12T13:20:56.444Z"
   },
   {
    "duration": 10,
    "start_time": "2022-04-12T13:21:10.582Z"
   },
   {
    "duration": 9,
    "start_time": "2022-04-12T13:21:17.224Z"
   },
   {
    "duration": 19,
    "start_time": "2022-04-12T13:22:33.905Z"
   },
   {
    "duration": 4,
    "start_time": "2022-04-12T13:23:32.258Z"
   },
   {
    "duration": 3,
    "start_time": "2022-04-12T13:23:45.157Z"
   },
   {
    "duration": 18,
    "start_time": "2022-04-12T13:23:50.298Z"
   },
   {
    "duration": 5,
    "start_time": "2022-04-12T13:24:07.989Z"
   },
   {
    "duration": 4,
    "start_time": "2022-04-12T13:24:15.265Z"
   },
   {
    "duration": 22,
    "start_time": "2022-04-12T13:26:04.788Z"
   },
   {
    "duration": 23,
    "start_time": "2022-04-12T13:26:21.311Z"
   },
   {
    "duration": 22,
    "start_time": "2022-04-12T13:27:05.530Z"
   },
   {
    "duration": 67,
    "start_time": "2022-04-12T13:27:16.526Z"
   },
   {
    "duration": 96,
    "start_time": "2022-04-12T13:27:16.595Z"
   },
   {
    "duration": 41,
    "start_time": "2022-04-12T13:27:16.693Z"
   },
   {
    "duration": 6,
    "start_time": "2022-04-12T13:27:16.735Z"
   },
   {
    "duration": 51,
    "start_time": "2022-04-12T13:27:16.743Z"
   },
   {
    "duration": 33,
    "start_time": "2022-04-12T13:27:16.795Z"
   },
   {
    "duration": 3,
    "start_time": "2022-04-12T13:27:16.829Z"
   },
   {
    "duration": 29,
    "start_time": "2022-04-12T13:27:16.834Z"
   },
   {
    "duration": 31,
    "start_time": "2022-04-12T13:27:16.865Z"
   },
   {
    "duration": 307,
    "start_time": "2022-04-12T13:27:16.898Z"
   },
   {
    "duration": 27,
    "start_time": "2022-04-12T13:27:17.207Z"
   },
   {
    "duration": 203,
    "start_time": "2022-04-12T13:27:17.236Z"
   },
   {
    "duration": 203,
    "start_time": "2022-04-12T13:27:17.441Z"
   },
   {
    "duration": 148,
    "start_time": "2022-04-12T13:27:17.645Z"
   },
   {
    "duration": 135,
    "start_time": "2022-04-12T13:27:17.794Z"
   },
   {
    "duration": 120,
    "start_time": "2022-04-12T13:27:17.931Z"
   },
   {
    "duration": 204,
    "start_time": "2022-04-12T13:27:18.052Z"
   },
   {
    "duration": 8,
    "start_time": "2022-04-12T13:27:18.257Z"
   },
   {
    "duration": 9,
    "start_time": "2022-04-12T13:27:18.267Z"
   },
   {
    "duration": 155,
    "start_time": "2022-04-12T13:27:18.277Z"
   },
   {
    "duration": 145,
    "start_time": "2022-04-12T13:27:18.433Z"
   },
   {
    "duration": 145,
    "start_time": "2022-04-12T13:27:18.580Z"
   },
   {
    "duration": 126,
    "start_time": "2022-04-12T13:27:18.727Z"
   },
   {
    "duration": 140,
    "start_time": "2022-04-12T13:27:18.855Z"
   },
   {
    "duration": 317,
    "start_time": "2022-04-12T13:27:18.996Z"
   },
   {
    "duration": 141,
    "start_time": "2022-04-12T13:27:19.315Z"
   },
   {
    "duration": 19,
    "start_time": "2022-04-12T13:27:22.072Z"
   },
   {
    "duration": 13,
    "start_time": "2022-04-12T13:30:50.593Z"
   },
   {
    "duration": 60,
    "start_time": "2022-04-12T13:38:10.107Z"
   },
   {
    "duration": 102,
    "start_time": "2022-04-12T13:38:10.169Z"
   },
   {
    "duration": 31,
    "start_time": "2022-04-12T13:38:10.273Z"
   },
   {
    "duration": 23,
    "start_time": "2022-04-12T13:38:10.305Z"
   },
   {
    "duration": 53,
    "start_time": "2022-04-12T13:38:10.330Z"
   },
   {
    "duration": 13,
    "start_time": "2022-04-12T13:38:10.385Z"
   },
   {
    "duration": 25,
    "start_time": "2022-04-12T13:38:10.399Z"
   },
   {
    "duration": 23,
    "start_time": "2022-04-12T13:38:10.425Z"
   },
   {
    "duration": 31,
    "start_time": "2022-04-12T13:38:10.450Z"
   },
   {
    "duration": 316,
    "start_time": "2022-04-12T13:38:10.484Z"
   },
   {
    "duration": 34,
    "start_time": "2022-04-12T13:38:10.801Z"
   },
   {
    "duration": 203,
    "start_time": "2022-04-12T13:38:10.836Z"
   },
   {
    "duration": 210,
    "start_time": "2022-04-12T13:38:11.041Z"
   },
   {
    "duration": 146,
    "start_time": "2022-04-12T13:38:11.252Z"
   },
   {
    "duration": 137,
    "start_time": "2022-04-12T13:38:11.400Z"
   },
   {
    "duration": 117,
    "start_time": "2022-04-12T13:38:11.539Z"
   },
   {
    "duration": 195,
    "start_time": "2022-04-12T13:38:11.658Z"
   },
   {
    "duration": 9,
    "start_time": "2022-04-12T13:38:11.855Z"
   },
   {
    "duration": 11,
    "start_time": "2022-04-12T13:38:11.866Z"
   },
   {
    "duration": 156,
    "start_time": "2022-04-12T13:38:11.878Z"
   },
   {
    "duration": 153,
    "start_time": "2022-04-12T13:38:12.036Z"
   },
   {
    "duration": 154,
    "start_time": "2022-04-12T13:38:12.191Z"
   },
   {
    "duration": 134,
    "start_time": "2022-04-12T13:38:12.347Z"
   },
   {
    "duration": 154,
    "start_time": "2022-04-12T13:38:12.484Z"
   },
   {
    "duration": 141,
    "start_time": "2022-04-12T13:38:12.639Z"
   },
   {
    "duration": 143,
    "start_time": "2022-04-12T13:38:12.782Z"
   },
   {
    "duration": 19,
    "start_time": "2022-04-12T13:38:12.927Z"
   },
   {
    "duration": 11,
    "start_time": "2022-04-12T13:38:12.949Z"
   },
   {
    "duration": 157,
    "start_time": "2022-04-12T13:38:12.961Z"
   },
   {
    "duration": 6,
    "start_time": "2022-04-12T13:38:13.120Z"
   },
   {
    "duration": 221,
    "start_time": "2022-04-12T13:38:13.128Z"
   },
   {
    "duration": 214,
    "start_time": "2022-04-12T13:38:13.351Z"
   },
   {
    "duration": 145,
    "start_time": "2022-04-12T13:38:13.567Z"
   },
   {
    "duration": 359,
    "start_time": "2022-04-12T13:38:13.714Z"
   },
   {
    "duration": 127,
    "start_time": "2022-04-12T13:38:14.074Z"
   },
   {
    "duration": 69,
    "start_time": "2022-04-12T13:43:28.796Z"
   },
   {
    "duration": 108,
    "start_time": "2022-04-12T13:43:28.867Z"
   },
   {
    "duration": 52,
    "start_time": "2022-04-12T13:43:28.977Z"
   },
   {
    "duration": 8,
    "start_time": "2022-04-12T13:43:29.031Z"
   },
   {
    "duration": 54,
    "start_time": "2022-04-12T13:43:29.040Z"
   },
   {
    "duration": 33,
    "start_time": "2022-04-12T13:43:29.096Z"
   },
   {
    "duration": 4,
    "start_time": "2022-04-12T13:43:29.130Z"
   },
   {
    "duration": 27,
    "start_time": "2022-04-12T13:43:29.135Z"
   },
   {
    "duration": 31,
    "start_time": "2022-04-12T13:43:29.164Z"
   },
   {
    "duration": 329,
    "start_time": "2022-04-12T13:43:29.197Z"
   },
   {
    "duration": 26,
    "start_time": "2022-04-12T13:43:29.528Z"
   },
   {
    "duration": 225,
    "start_time": "2022-04-12T13:43:29.556Z"
   },
   {
    "duration": 215,
    "start_time": "2022-04-12T13:43:29.784Z"
   },
   {
    "duration": 157,
    "start_time": "2022-04-12T13:43:30.001Z"
   },
   {
    "duration": 145,
    "start_time": "2022-04-12T13:43:30.160Z"
   },
   {
    "duration": 118,
    "start_time": "2022-04-12T13:43:30.307Z"
   },
   {
    "duration": 219,
    "start_time": "2022-04-12T13:43:30.427Z"
   },
   {
    "duration": 8,
    "start_time": "2022-04-12T13:43:30.648Z"
   },
   {
    "duration": 20,
    "start_time": "2022-04-12T13:43:30.658Z"
   },
   {
    "duration": 155,
    "start_time": "2022-04-12T13:43:30.680Z"
   },
   {
    "duration": 148,
    "start_time": "2022-04-12T13:43:30.836Z"
   },
   {
    "duration": 157,
    "start_time": "2022-04-12T13:43:30.985Z"
   },
   {
    "duration": 132,
    "start_time": "2022-04-12T13:43:31.144Z"
   },
   {
    "duration": 147,
    "start_time": "2022-04-12T13:43:31.278Z"
   },
   {
    "duration": 147,
    "start_time": "2022-04-12T13:43:31.427Z"
   },
   {
    "duration": 136,
    "start_time": "2022-04-12T13:43:31.576Z"
   },
   {
    "duration": 19,
    "start_time": "2022-04-12T13:43:31.723Z"
   },
   {
    "duration": 12,
    "start_time": "2022-04-12T13:43:31.745Z"
   },
   {
    "duration": 147,
    "start_time": "2022-04-12T13:43:31.758Z"
   },
   {
    "duration": 6,
    "start_time": "2022-04-12T13:43:31.907Z"
   },
   {
    "duration": 211,
    "start_time": "2022-04-12T13:43:31.915Z"
   },
   {
    "duration": 209,
    "start_time": "2022-04-12T13:43:32.127Z"
   },
   {
    "duration": 138,
    "start_time": "2022-04-12T13:43:32.337Z"
   },
   {
    "duration": 110,
    "start_time": "2022-04-12T13:43:32.476Z"
   },
   {
    "duration": 7,
    "start_time": "2022-04-12T13:44:13.370Z"
   },
   {
    "duration": 106,
    "start_time": "2022-04-12T13:44:27.704Z"
   },
   {
    "duration": 835,
    "start_time": "2022-04-13T18:25:46.446Z"
   },
   {
    "duration": 106,
    "start_time": "2022-04-13T18:25:50.502Z"
   },
   {
    "duration": 34,
    "start_time": "2022-04-13T18:25:55.222Z"
   },
   {
    "duration": 7,
    "start_time": "2022-04-13T18:26:00.012Z"
   },
   {
    "duration": 23,
    "start_time": "2022-04-13T18:26:11.642Z"
   },
   {
    "duration": 26,
    "start_time": "2022-04-13T18:26:25.264Z"
   },
   {
    "duration": 23,
    "start_time": "2022-04-13T18:34:08.311Z"
   },
   {
    "duration": 21,
    "start_time": "2022-04-13T18:36:23.262Z"
   },
   {
    "duration": 15,
    "start_time": "2022-04-13T18:38:25.694Z"
   },
   {
    "duration": 13,
    "start_time": "2022-04-13T19:12:30.825Z"
   },
   {
    "duration": 12,
    "start_time": "2022-04-13T19:12:50.168Z"
   },
   {
    "duration": 83,
    "start_time": "2022-04-13T19:25:15.761Z"
   },
   {
    "duration": 5,
    "start_time": "2022-04-13T19:25:20.873Z"
   },
   {
    "duration": 3,
    "start_time": "2022-04-13T19:27:32.359Z"
   },
   {
    "duration": 13,
    "start_time": "2022-04-13T19:27:40.783Z"
   },
   {
    "duration": 64,
    "start_time": "2022-04-13T19:28:06.649Z"
   },
   {
    "duration": 7,
    "start_time": "2022-04-13T19:28:21.143Z"
   },
   {
    "duration": 5,
    "start_time": "2022-04-13T19:28:29.459Z"
   },
   {
    "duration": 3,
    "start_time": "2022-04-13T19:28:54.420Z"
   },
   {
    "duration": 13,
    "start_time": "2022-04-13T19:28:59.532Z"
   },
   {
    "duration": 5,
    "start_time": "2022-04-13T19:29:16.679Z"
   },
   {
    "duration": 6,
    "start_time": "2022-04-13T19:29:33.516Z"
   },
   {
    "duration": 691,
    "start_time": "2022-04-13T19:29:53.575Z"
   },
   {
    "duration": 102,
    "start_time": "2022-04-13T19:29:56.712Z"
   },
   {
    "duration": 34,
    "start_time": "2022-04-13T19:30:01.341Z"
   },
   {
    "duration": 24,
    "start_time": "2022-04-13T19:30:05.596Z"
   },
   {
    "duration": 23,
    "start_time": "2022-04-13T19:30:10.339Z"
   },
   {
    "duration": 7,
    "start_time": "2022-04-13T19:30:13.626Z"
   },
   {
    "duration": 9,
    "start_time": "2022-04-13T19:30:17.781Z"
   },
   {
    "duration": 8,
    "start_time": "2022-04-13T19:30:25.358Z"
   },
   {
    "duration": 8,
    "start_time": "2022-04-13T19:30:37.177Z"
   },
   {
    "duration": 14,
    "start_time": "2022-04-13T19:30:45.343Z"
   },
   {
    "duration": 6,
    "start_time": "2022-04-13T19:30:49.047Z"
   },
   {
    "duration": 3,
    "start_time": "2022-04-13T19:32:28.768Z"
   },
   {
    "duration": 13,
    "start_time": "2022-04-13T19:32:39.627Z"
   },
   {
    "duration": 7,
    "start_time": "2022-04-13T19:32:54.575Z"
   },
   {
    "duration": 668,
    "start_time": "2022-04-13T19:33:16.555Z"
   },
   {
    "duration": 104,
    "start_time": "2022-04-13T19:33:19.959Z"
   },
   {
    "duration": 35,
    "start_time": "2022-04-13T19:33:24.461Z"
   },
   {
    "duration": 24,
    "start_time": "2022-04-13T19:33:28.757Z"
   },
   {
    "duration": 23,
    "start_time": "2022-04-13T19:33:35.497Z"
   },
   {
    "duration": 7,
    "start_time": "2022-04-13T19:33:41.163Z"
   },
   {
    "duration": 5,
    "start_time": "2022-04-13T19:33:44.422Z"
   },
   {
    "duration": 13,
    "start_time": "2022-04-13T19:33:49.075Z"
   },
   {
    "duration": 6,
    "start_time": "2022-04-13T19:34:17.695Z"
   },
   {
    "duration": 3,
    "start_time": "2022-04-13T19:38:34.433Z"
   },
   {
    "duration": 71,
    "start_time": "2022-04-13T19:39:23.945Z"
   },
   {
    "duration": 3,
    "start_time": "2022-04-13T19:43:03.775Z"
   },
   {
    "duration": 25,
    "start_time": "2022-04-13T19:43:07.000Z"
   },
   {
    "duration": 37,
    "start_time": "2022-04-13T19:43:10.107Z"
   },
   {
    "duration": 307,
    "start_time": "2022-04-13T19:43:13.089Z"
   },
   {
    "duration": 24,
    "start_time": "2022-04-13T19:43:15.885Z"
   },
   {
    "duration": 251,
    "start_time": "2022-04-13T19:43:20.342Z"
   },
   {
    "duration": 206,
    "start_time": "2022-04-13T19:43:23.201Z"
   },
   {
    "duration": 138,
    "start_time": "2022-04-13T19:43:25.973Z"
   },
   {
    "duration": 123,
    "start_time": "2022-04-13T19:43:28.783Z"
   },
   {
    "duration": 213,
    "start_time": "2022-04-13T19:45:27.869Z"
   },
   {
    "duration": 202,
    "start_time": "2022-04-13T19:45:58.705Z"
   },
   {
    "duration": 142,
    "start_time": "2022-04-13T19:46:27.154Z"
   },
   {
    "duration": 137,
    "start_time": "2022-04-13T19:47:05.422Z"
   },
   {
    "duration": 23,
    "start_time": "2022-04-13T19:57:08.957Z"
   },
   {
    "duration": 74,
    "start_time": "2022-04-13T20:17:53.093Z"
   },
   {
    "duration": 79,
    "start_time": "2022-04-13T20:18:05.448Z"
   },
   {
    "duration": 17,
    "start_time": "2022-04-13T20:18:12.235Z"
   },
   {
    "duration": 8,
    "start_time": "2022-04-13T20:29:11.639Z"
   },
   {
    "duration": 799,
    "start_time": "2022-04-14T19:00:25.480Z"
   },
   {
    "duration": 103,
    "start_time": "2022-04-14T19:00:28.506Z"
   },
   {
    "duration": 33,
    "start_time": "2022-04-14T19:00:33.559Z"
   },
   {
    "duration": 23,
    "start_time": "2022-04-14T19:00:37.828Z"
   },
   {
    "duration": 21,
    "start_time": "2022-04-14T19:00:40.607Z"
   },
   {
    "duration": 7,
    "start_time": "2022-04-14T19:00:43.799Z"
   },
   {
    "duration": 6,
    "start_time": "2022-04-14T19:00:47.016Z"
   },
   {
    "duration": 13,
    "start_time": "2022-04-14T19:00:50.674Z"
   },
   {
    "duration": 5,
    "start_time": "2022-04-14T19:00:54.832Z"
   },
   {
    "duration": 3,
    "start_time": "2022-04-14T19:01:26.612Z"
   },
   {
    "duration": 25,
    "start_time": "2022-04-14T19:01:29.824Z"
   },
   {
    "duration": 42,
    "start_time": "2022-04-14T19:01:32.730Z"
   },
   {
    "duration": 327,
    "start_time": "2022-04-14T19:01:35.997Z"
   },
   {
    "duration": 25,
    "start_time": "2022-04-14T19:01:39.167Z"
   },
   {
    "duration": 270,
    "start_time": "2022-04-14T19:01:43.854Z"
   },
   {
    "duration": 212,
    "start_time": "2022-04-14T19:01:47.428Z"
   },
   {
    "duration": 158,
    "start_time": "2022-04-14T19:01:51.901Z"
   },
   {
    "duration": 168,
    "start_time": "2022-04-14T19:01:54.827Z"
   },
   {
    "duration": 129,
    "start_time": "2022-04-14T19:02:05.463Z"
   },
   {
    "duration": 197,
    "start_time": "2022-04-14T19:02:08.821Z"
   },
   {
    "duration": 9,
    "start_time": "2022-04-14T19:02:12.959Z"
   },
   {
    "duration": 11,
    "start_time": "2022-04-14T19:06:56.969Z"
   },
   {
    "duration": 18,
    "start_time": "2022-04-14T19:07:10.072Z"
   },
   {
    "duration": 17,
    "start_time": "2022-04-14T19:07:59.711Z"
   },
   {
    "duration": 18,
    "start_time": "2022-04-14T19:08:56.430Z"
   },
   {
    "duration": 18,
    "start_time": "2022-04-14T19:11:38.080Z"
   },
   {
    "duration": 89,
    "start_time": "2022-04-14T19:13:40.052Z"
   },
   {
    "duration": 317,
    "start_time": "2022-04-14T19:13:46.024Z"
   },
   {
    "duration": 74,
    "start_time": "2022-04-14T19:13:49.491Z"
   },
   {
    "duration": 113,
    "start_time": "2022-04-14T19:13:58.648Z"
   },
   {
    "duration": 10,
    "start_time": "2022-04-14T19:14:23.317Z"
   },
   {
    "duration": 10,
    "start_time": "2022-04-14T19:14:37.825Z"
   },
   {
    "duration": 4,
    "start_time": "2022-04-14T19:14:56.314Z"
   },
   {
    "duration": 5,
    "start_time": "2022-04-14T19:15:00.981Z"
   },
   {
    "duration": 10,
    "start_time": "2022-04-14T19:15:40.260Z"
   },
   {
    "duration": 10,
    "start_time": "2022-04-14T19:15:44.839Z"
   },
   {
    "duration": 10,
    "start_time": "2022-04-14T19:15:48.173Z"
   },
   {
    "duration": 9,
    "start_time": "2022-04-14T19:15:54.259Z"
   },
   {
    "duration": 9,
    "start_time": "2022-04-14T19:16:16.370Z"
   },
   {
    "duration": 10,
    "start_time": "2022-04-14T19:16:22.072Z"
   },
   {
    "duration": 9,
    "start_time": "2022-04-14T19:16:27.630Z"
   },
   {
    "duration": 9,
    "start_time": "2022-04-14T19:16:40.988Z"
   },
   {
    "duration": 9,
    "start_time": "2022-04-14T19:16:47.455Z"
   },
   {
    "duration": 9,
    "start_time": "2022-04-14T19:17:36.718Z"
   },
   {
    "duration": 9,
    "start_time": "2022-04-14T19:17:40.869Z"
   },
   {
    "duration": 11,
    "start_time": "2022-04-14T19:17:53.839Z"
   },
   {
    "duration": 4,
    "start_time": "2022-04-14T19:22:43.088Z"
   },
   {
    "duration": 4,
    "start_time": "2022-04-14T19:23:14.683Z"
   },
   {
    "duration": 1443,
    "start_time": "2022-04-14T19:23:35.163Z"
   },
   {
    "duration": 1316,
    "start_time": "2022-04-14T19:23:53.139Z"
   },
   {
    "duration": 17,
    "start_time": "2022-04-14T19:24:03.404Z"
   },
   {
    "duration": 20,
    "start_time": "2022-04-14T19:24:36.260Z"
   },
   {
    "duration": 19,
    "start_time": "2022-04-14T19:24:46.738Z"
   },
   {
    "duration": 17,
    "start_time": "2022-04-14T19:25:10.511Z"
   },
   {
    "duration": 147,
    "start_time": "2022-04-14T19:25:38.801Z"
   },
   {
    "duration": 132,
    "start_time": "2022-04-14T19:25:56.507Z"
   },
   {
    "duration": 5,
    "start_time": "2022-04-14T19:30:58.283Z"
   },
   {
    "duration": 3,
    "start_time": "2022-04-14T19:33:34.143Z"
   },
   {
    "duration": 9,
    "start_time": "2022-04-14T19:35:38.595Z"
   },
   {
    "duration": 26,
    "start_time": "2022-04-14T19:35:43.811Z"
   },
   {
    "duration": 1415,
    "start_time": "2022-04-14T19:36:44.405Z"
   },
   {
    "duration": 407,
    "start_time": "2022-04-14T19:38:04.025Z"
   },
   {
    "duration": 1642,
    "start_time": "2022-04-14T19:38:28.562Z"
   },
   {
    "duration": 1189,
    "start_time": "2022-04-14T19:39:12.692Z"
   },
   {
    "duration": 109,
    "start_time": "2022-04-14T19:39:34.014Z"
   },
   {
    "duration": 133,
    "start_time": "2022-04-14T19:43:13.532Z"
   },
   {
    "duration": 231,
    "start_time": "2022-04-14T19:43:22.523Z"
   },
   {
    "duration": 168,
    "start_time": "2022-04-14T19:43:48.860Z"
   },
   {
    "duration": 135,
    "start_time": "2022-04-14T19:45:07.208Z"
   },
   {
    "duration": 132,
    "start_time": "2022-04-14T19:45:31.507Z"
   },
   {
    "duration": 126,
    "start_time": "2022-04-14T19:46:12.326Z"
   },
   {
    "duration": 140,
    "start_time": "2022-04-14T19:51:48.115Z"
   },
   {
    "duration": 128,
    "start_time": "2022-04-14T19:51:56.420Z"
   },
   {
    "duration": 250,
    "start_time": "2022-04-14T19:52:01.934Z"
   },
   {
    "duration": 140,
    "start_time": "2022-04-14T19:52:08.640Z"
   },
   {
    "duration": 140,
    "start_time": "2022-04-14T19:52:13.122Z"
   },
   {
    "duration": 131,
    "start_time": "2022-04-14T19:54:07.091Z"
   },
   {
    "duration": 20,
    "start_time": "2022-04-14T19:54:23.056Z"
   },
   {
    "duration": 128,
    "start_time": "2022-04-14T19:54:44.156Z"
   },
   {
    "duration": 128,
    "start_time": "2022-04-14T19:55:54.139Z"
   },
   {
    "duration": 1369,
    "start_time": "2022-04-14T19:57:20.207Z"
   },
   {
    "duration": 124,
    "start_time": "2022-04-14T19:58:09.097Z"
   },
   {
    "duration": 125,
    "start_time": "2022-04-14T19:59:05.352Z"
   },
   {
    "duration": 109,
    "start_time": "2022-04-14T19:59:13.600Z"
   },
   {
    "duration": 122,
    "start_time": "2022-04-14T19:59:26.102Z"
   },
   {
    "duration": 118,
    "start_time": "2022-04-14T20:02:59.809Z"
   },
   {
    "duration": 123,
    "start_time": "2022-04-14T20:04:45.191Z"
   },
   {
    "duration": 28,
    "start_time": "2022-04-14T20:07:36.110Z"
   },
   {
    "duration": 13,
    "start_time": "2022-04-14T20:11:01.376Z"
   },
   {
    "duration": 157,
    "start_time": "2022-04-14T20:11:14.015Z"
   },
   {
    "duration": 7,
    "start_time": "2022-04-14T20:14:37.500Z"
   },
   {
    "duration": 293,
    "start_time": "2022-04-14T20:15:14.672Z"
   },
   {
    "duration": 209,
    "start_time": "2022-04-14T20:15:22.983Z"
   },
   {
    "duration": 127,
    "start_time": "2022-04-14T20:15:29.356Z"
   },
   {
    "duration": 121,
    "start_time": "2022-04-14T20:15:35.943Z"
   },
   {
    "duration": 112,
    "start_time": "2022-04-14T20:15:46.010Z"
   },
   {
    "duration": 123,
    "start_time": "2022-04-14T20:16:25.844Z"
   },
   {
    "duration": 132,
    "start_time": "2022-04-14T20:18:00.524Z"
   },
   {
    "duration": 138,
    "start_time": "2022-04-14T20:19:20.340Z"
   },
   {
    "duration": 117,
    "start_time": "2022-04-14T20:22:30.303Z"
   },
   {
    "duration": 220,
    "start_time": "2022-04-14T20:24:40.706Z"
   },
   {
    "duration": 125,
    "start_time": "2022-04-14T20:26:58.001Z"
   },
   {
    "duration": 1073,
    "start_time": "2022-04-15T05:12:13.714Z"
   },
   {
    "duration": 191,
    "start_time": "2022-04-15T05:12:14.790Z"
   },
   {
    "duration": 75,
    "start_time": "2022-04-15T05:12:14.983Z"
   },
   {
    "duration": 38,
    "start_time": "2022-04-15T05:12:15.061Z"
   },
   {
    "duration": 35,
    "start_time": "2022-04-15T05:12:18.158Z"
   },
   {
    "duration": 38,
    "start_time": "2022-04-15T05:12:21.730Z"
   },
   {
    "duration": 41,
    "start_time": "2022-04-15T05:12:27.448Z"
   },
   {
    "duration": 111,
    "start_time": "2022-04-15T05:15:08.490Z"
   },
   {
    "duration": 177,
    "start_time": "2022-04-15T05:15:08.604Z"
   },
   {
    "duration": 82,
    "start_time": "2022-04-15T05:15:08.783Z"
   },
   {
    "duration": 28,
    "start_time": "2022-04-15T05:15:08.867Z"
   },
   {
    "duration": 25,
    "start_time": "2022-04-15T05:15:08.918Z"
   },
   {
    "duration": 10,
    "start_time": "2022-04-15T05:15:08.945Z"
   },
   {
    "duration": 12,
    "start_time": "2022-04-15T05:15:08.957Z"
   },
   {
    "duration": 16,
    "start_time": "2022-04-15T05:15:11.264Z"
   },
   {
    "duration": 7,
    "start_time": "2022-04-15T05:15:19.250Z"
   },
   {
    "duration": 3,
    "start_time": "2022-04-15T05:18:09.901Z"
   },
   {
    "duration": 85,
    "start_time": "2022-04-15T05:33:23.559Z"
   },
   {
    "duration": 118,
    "start_time": "2022-04-15T05:33:23.646Z"
   },
   {
    "duration": 54,
    "start_time": "2022-04-15T05:33:23.766Z"
   },
   {
    "duration": 26,
    "start_time": "2022-04-15T05:33:23.822Z"
   },
   {
    "duration": 24,
    "start_time": "2022-04-15T05:33:23.849Z"
   },
   {
    "duration": 9,
    "start_time": "2022-04-15T05:33:23.874Z"
   },
   {
    "duration": 40,
    "start_time": "2022-04-15T05:33:23.885Z"
   },
   {
    "duration": 21,
    "start_time": "2022-04-15T05:33:23.928Z"
   },
   {
    "duration": 5,
    "start_time": "2022-04-15T05:33:23.951Z"
   },
   {
    "duration": 10,
    "start_time": "2022-04-15T05:33:23.959Z"
   },
   {
    "duration": 49,
    "start_time": "2022-04-15T05:33:23.971Z"
   },
   {
    "duration": 41,
    "start_time": "2022-04-15T05:33:24.021Z"
   },
   {
    "duration": 366,
    "start_time": "2022-04-15T05:33:24.064Z"
   },
   {
    "duration": 30,
    "start_time": "2022-04-15T05:33:24.432Z"
   },
   {
    "duration": 319,
    "start_time": "2022-04-15T05:33:24.464Z"
   },
   {
    "duration": 249,
    "start_time": "2022-04-15T05:33:24.785Z"
   },
   {
    "duration": 183,
    "start_time": "2022-04-15T05:33:25.037Z"
   },
   {
    "duration": 168,
    "start_time": "2022-04-15T05:33:25.222Z"
   },
   {
    "duration": 147,
    "start_time": "2022-04-15T05:33:25.392Z"
   },
   {
    "duration": 251,
    "start_time": "2022-04-15T05:33:25.541Z"
   },
   {
    "duration": 24,
    "start_time": "2022-04-15T05:33:25.795Z"
   },
   {
    "duration": 5,
    "start_time": "2022-04-15T05:33:33.755Z"
   },
   {
    "duration": 16,
    "start_time": "2022-04-15T05:33:58.795Z"
   },
   {
    "duration": 14,
    "start_time": "2022-04-15T05:34:22.117Z"
   },
   {
    "duration": 12,
    "start_time": "2022-04-15T05:35:34.385Z"
   },
   {
    "duration": 13,
    "start_time": "2022-04-15T05:36:06.714Z"
   },
   {
    "duration": 5,
    "start_time": "2022-04-15T05:36:30.121Z"
   },
   {
    "duration": 18,
    "start_time": "2022-04-15T05:45:47.522Z"
   },
   {
    "duration": 15,
    "start_time": "2022-04-15T05:50:50.740Z"
   },
   {
    "duration": 250,
    "start_time": "2022-04-15T11:11:07.851Z"
   },
   {
    "duration": 78,
    "start_time": "2022-04-15T11:11:34.291Z"
   },
   {
    "duration": 146,
    "start_time": "2022-04-15T11:11:34.372Z"
   },
   {
    "duration": 42,
    "start_time": "2022-04-15T11:11:34.520Z"
   },
   {
    "duration": 55,
    "start_time": "2022-04-15T11:11:34.564Z"
   },
   {
    "duration": 28,
    "start_time": "2022-04-15T11:11:34.622Z"
   },
   {
    "duration": 8,
    "start_time": "2022-04-15T11:11:34.652Z"
   },
   {
    "duration": 14,
    "start_time": "2022-04-15T11:11:34.662Z"
   },
   {
    "duration": 44,
    "start_time": "2022-04-15T11:11:34.678Z"
   },
   {
    "duration": 7,
    "start_time": "2022-04-15T11:11:34.724Z"
   },
   {
    "duration": 10,
    "start_time": "2022-04-15T11:11:34.733Z"
   },
   {
    "duration": 50,
    "start_time": "2022-04-15T11:11:34.745Z"
   },
   {
    "duration": 65,
    "start_time": "2022-04-15T11:11:34.798Z"
   },
   {
    "duration": 439,
    "start_time": "2022-04-15T11:11:34.865Z"
   },
   {
    "duration": 35,
    "start_time": "2022-04-15T11:11:35.309Z"
   },
   {
    "duration": 264,
    "start_time": "2022-04-15T11:11:35.347Z"
   },
   {
    "duration": 253,
    "start_time": "2022-04-15T11:11:35.618Z"
   },
   {
    "duration": 184,
    "start_time": "2022-04-15T11:11:35.873Z"
   },
   {
    "duration": 168,
    "start_time": "2022-04-15T11:11:36.059Z"
   },
   {
    "duration": 146,
    "start_time": "2022-04-15T11:11:36.229Z"
   },
   {
    "duration": 243,
    "start_time": "2022-04-15T11:11:36.377Z"
   },
   {
    "duration": 10,
    "start_time": "2022-04-15T11:11:36.622Z"
   },
   {
    "duration": 24,
    "start_time": "2022-04-15T11:11:36.634Z"
   },
   {
    "duration": 195,
    "start_time": "2022-04-15T11:11:36.661Z"
   },
   {
    "duration": 266,
    "start_time": "2022-04-15T11:11:36.858Z"
   },
   {
    "duration": 159,
    "start_time": "2022-04-15T11:11:37.126Z"
   },
   {
    "duration": 175,
    "start_time": "2022-04-15T11:11:37.288Z"
   },
   {
    "duration": 160,
    "start_time": "2022-04-15T11:11:37.465Z"
   },
   {
    "duration": 168,
    "start_time": "2022-04-15T11:11:37.627Z"
   },
   {
    "duration": 145,
    "start_time": "2022-04-15T11:11:53.676Z"
   },
   {
    "duration": 8,
    "start_time": "2022-04-15T11:12:45.338Z"
   },
   {
    "duration": 137,
    "start_time": "2022-04-15T11:12:57.319Z"
   },
   {
    "duration": 206,
    "start_time": "2022-04-15T11:13:23.834Z"
   },
   {
    "duration": 19,
    "start_time": "2022-04-15T11:13:47.293Z"
   },
   {
    "duration": 15,
    "start_time": "2022-04-15T11:13:59.567Z"
   },
   {
    "duration": 15,
    "start_time": "2022-04-15T11:14:13.481Z"
   },
   {
    "duration": 149,
    "start_time": "2022-04-15T11:15:11.285Z"
   },
   {
    "duration": 144,
    "start_time": "2022-04-15T11:15:21.003Z"
   },
   {
    "duration": 151,
    "start_time": "2022-04-15T11:15:22.312Z"
   },
   {
    "duration": 5,
    "start_time": "2022-04-15T11:25:34.726Z"
   },
   {
    "duration": 239,
    "start_time": "2022-04-15T11:26:18.115Z"
   },
   {
    "duration": 80,
    "start_time": "2022-04-15T11:45:51.303Z"
   },
   {
    "duration": 119,
    "start_time": "2022-04-15T11:46:00.866Z"
   },
   {
    "duration": 103,
    "start_time": "2022-04-15T11:46:09.679Z"
   },
   {
    "duration": 130,
    "start_time": "2022-04-15T11:46:15.864Z"
   },
   {
    "duration": 7,
    "start_time": "2022-04-15T11:47:25.568Z"
   },
   {
    "duration": 5,
    "start_time": "2022-04-15T11:47:39.963Z"
   },
   {
    "duration": 109,
    "start_time": "2022-04-15T11:47:45.682Z"
   },
   {
    "duration": 8,
    "start_time": "2022-04-15T11:47:47.232Z"
   },
   {
    "duration": 5,
    "start_time": "2022-04-15T11:48:18.814Z"
   },
   {
    "duration": 9,
    "start_time": "2022-04-15T11:48:33.015Z"
   },
   {
    "duration": 8,
    "start_time": "2022-04-15T11:48:49.032Z"
   },
   {
    "duration": 13,
    "start_time": "2022-04-15T11:48:52.729Z"
   },
   {
    "duration": 113,
    "start_time": "2022-04-15T11:48:57.258Z"
   },
   {
    "duration": 13,
    "start_time": "2022-04-15T11:48:58.071Z"
   },
   {
    "duration": 11,
    "start_time": "2022-04-15T11:49:09.584Z"
   },
   {
    "duration": 8,
    "start_time": "2022-04-15T11:49:12.701Z"
   },
   {
    "duration": 133,
    "start_time": "2022-04-15T11:50:10.876Z"
   },
   {
    "duration": 3,
    "start_time": "2022-04-15T11:50:11.807Z"
   },
   {
    "duration": 12,
    "start_time": "2022-04-15T11:50:19.223Z"
   },
   {
    "duration": 12,
    "start_time": "2022-04-15T11:53:39.431Z"
   },
   {
    "duration": 8,
    "start_time": "2022-04-15T11:53:42.060Z"
   },
   {
    "duration": 81,
    "start_time": "2022-04-15T11:53:49.429Z"
   },
   {
    "duration": 219,
    "start_time": "2022-04-15T11:53:49.523Z"
   },
   {
    "duration": 40,
    "start_time": "2022-04-15T11:53:49.744Z"
   },
   {
    "duration": 44,
    "start_time": "2022-04-15T11:53:49.786Z"
   },
   {
    "duration": 27,
    "start_time": "2022-04-15T11:53:49.833Z"
   },
   {
    "duration": 8,
    "start_time": "2022-04-15T11:53:49.862Z"
   },
   {
    "duration": 16,
    "start_time": "2022-04-15T11:53:49.872Z"
   },
   {
    "duration": 47,
    "start_time": "2022-04-15T11:53:49.890Z"
   },
   {
    "duration": 18,
    "start_time": "2022-04-15T11:53:49.939Z"
   },
   {
    "duration": 11,
    "start_time": "2022-04-15T11:53:49.959Z"
   },
   {
    "duration": 40,
    "start_time": "2022-04-15T11:53:49.972Z"
   },
   {
    "duration": 64,
    "start_time": "2022-04-15T11:53:50.015Z"
   },
   {
    "duration": 588,
    "start_time": "2022-04-15T11:53:50.081Z"
   },
   {
    "duration": 59,
    "start_time": "2022-04-15T11:53:50.673Z"
   },
   {
    "duration": 364,
    "start_time": "2022-04-15T11:53:50.734Z"
   },
   {
    "duration": 402,
    "start_time": "2022-04-15T11:53:51.100Z"
   },
   {
    "duration": 204,
    "start_time": "2022-04-15T11:53:51.504Z"
   },
   {
    "duration": 181,
    "start_time": "2022-04-15T11:53:51.711Z"
   },
   {
    "duration": 156,
    "start_time": "2022-04-15T11:53:51.894Z"
   },
   {
    "duration": 268,
    "start_time": "2022-04-15T11:53:52.052Z"
   },
   {
    "duration": 14,
    "start_time": "2022-04-15T11:53:52.322Z"
   },
   {
    "duration": 30,
    "start_time": "2022-04-15T11:53:52.337Z"
   },
   {
    "duration": 209,
    "start_time": "2022-04-15T11:53:52.369Z"
   },
   {
    "duration": 197,
    "start_time": "2022-04-15T11:53:52.580Z"
   },
   {
    "duration": 184,
    "start_time": "2022-04-15T11:53:52.779Z"
   },
   {
    "duration": 423,
    "start_time": "2022-04-15T11:53:52.966Z"
   },
   {
    "duration": 191,
    "start_time": "2022-04-15T11:53:53.392Z"
   },
   {
    "duration": 259,
    "start_time": "2022-04-15T11:53:53.586Z"
   },
   {
    "duration": 253,
    "start_time": "2022-04-15T11:53:53.848Z"
   },
   {
    "duration": 242,
    "start_time": "2022-04-15T11:53:54.103Z"
   },
   {
    "duration": 260,
    "start_time": "2022-04-15T11:53:54.348Z"
   },
   {
    "duration": 38,
    "start_time": "2022-04-15T11:53:54.620Z"
   },
   {
    "duration": 21,
    "start_time": "2022-04-15T11:53:54.661Z"
   },
   {
    "duration": 292,
    "start_time": "2022-04-15T11:53:54.685Z"
   },
   {
    "duration": 9,
    "start_time": "2022-04-15T11:53:54.979Z"
   },
   {
    "duration": 275,
    "start_time": "2022-04-15T11:53:54.991Z"
   },
   {
    "duration": 264,
    "start_time": "2022-04-15T11:53:55.268Z"
   },
   {
    "duration": 206,
    "start_time": "2022-04-15T11:53:55.534Z"
   },
   {
    "duration": 295,
    "start_time": "2022-04-15T11:53:55.743Z"
   },
   {
    "duration": 156,
    "start_time": "2022-04-15T11:53:56.041Z"
   },
   {
    "duration": 176,
    "start_time": "2022-04-15T11:53:56.202Z"
   },
   {
    "duration": 182,
    "start_time": "2022-04-15T11:53:56.381Z"
   },
   {
    "duration": 7,
    "start_time": "2022-04-15T11:53:56.565Z"
   },
   {
    "duration": 13,
    "start_time": "2022-04-15T11:54:28.128Z"
   },
   {
    "duration": 30,
    "start_time": "2022-04-15T11:55:05.975Z"
   },
   {
    "duration": 48,
    "start_time": "2022-04-15T11:55:15.697Z"
   },
   {
    "duration": 6,
    "start_time": "2022-04-15T11:55:42.900Z"
   },
   {
    "duration": 26,
    "start_time": "2022-04-15T11:56:08.961Z"
   },
   {
    "duration": 36,
    "start_time": "2022-04-15T11:56:17.277Z"
   },
   {
    "duration": 177,
    "start_time": "2022-04-15T11:57:47.119Z"
   },
   {
    "duration": 9,
    "start_time": "2022-04-15T11:57:50.578Z"
   },
   {
    "duration": 74,
    "start_time": "2022-04-15T19:52:13.017Z"
   },
   {
    "duration": 1837,
    "start_time": "2022-04-15T19:52:37.292Z"
   },
   {
    "duration": 242,
    "start_time": "2022-04-15T19:52:42.531Z"
   },
   {
    "duration": 86,
    "start_time": "2022-04-15T19:52:50.602Z"
   },
   {
    "duration": 42,
    "start_time": "2022-04-15T19:52:55.358Z"
   },
   {
    "duration": 10,
    "start_time": "2022-04-15T19:52:58.224Z"
   },
   {
    "duration": 9,
    "start_time": "2022-04-15T19:53:01.498Z"
   },
   {
    "duration": 25,
    "start_time": "2022-04-15T19:53:05.068Z"
   },
   {
    "duration": 8,
    "start_time": "2022-04-15T19:53:08.683Z"
   },
   {
    "duration": 6,
    "start_time": "2022-04-15T19:53:12.949Z"
   },
   {
    "duration": 45,
    "start_time": "2022-04-15T19:53:16.366Z"
   },
   {
    "duration": 57,
    "start_time": "2022-04-15T19:53:20.246Z"
   },
   {
    "duration": 554,
    "start_time": "2022-04-15T19:53:24.235Z"
   },
   {
    "duration": 40,
    "start_time": "2022-04-15T19:53:27.608Z"
   },
   {
    "duration": 772,
    "start_time": "2022-04-15T19:53:31.314Z"
   },
   {
    "duration": 633,
    "start_time": "2022-04-15T19:53:35.155Z"
   },
   {
    "duration": 276,
    "start_time": "2022-04-15T19:53:39.902Z"
   },
   {
    "duration": 229,
    "start_time": "2022-04-15T19:53:42.771Z"
   },
   {
    "duration": 194,
    "start_time": "2022-04-15T19:53:47.571Z"
   },
   {
    "duration": 473,
    "start_time": "2022-04-15T19:53:50.376Z"
   },
   {
    "duration": 13,
    "start_time": "2022-04-15T19:53:53.508Z"
   },
   {
    "duration": 50,
    "start_time": "2022-04-15T19:53:57.428Z"
   },
   {
    "duration": 55,
    "start_time": "2022-04-15T19:54:14.527Z"
   },
   {
    "duration": 36,
    "start_time": "2022-04-15T19:56:47.814Z"
   },
   {
    "duration": 29,
    "start_time": "2022-04-15T20:00:40.319Z"
   },
   {
    "duration": 41,
    "start_time": "2022-04-15T20:01:21.232Z"
   },
   {
    "duration": 25,
    "start_time": "2022-04-15T20:28:35.091Z"
   },
   {
    "duration": 124,
    "start_time": "2022-04-15T20:31:06.814Z"
   },
   {
    "duration": 14,
    "start_time": "2022-04-15T20:31:20.977Z"
   },
   {
    "duration": 33,
    "start_time": "2022-04-15T20:31:39.385Z"
   },
   {
    "duration": 1117,
    "start_time": "2022-04-15T20:32:48.638Z"
   },
   {
    "duration": 155,
    "start_time": "2022-04-15T20:32:52.227Z"
   },
   {
    "duration": 56,
    "start_time": "2022-04-15T20:32:57.314Z"
   },
   {
    "duration": 37,
    "start_time": "2022-04-15T20:33:01.978Z"
   },
   {
    "duration": 9,
    "start_time": "2022-04-15T20:33:05.602Z"
   },
   {
    "duration": 7,
    "start_time": "2022-04-15T20:33:08.970Z"
   },
   {
    "duration": 20,
    "start_time": "2022-04-15T20:33:18.292Z"
   },
   {
    "duration": 8,
    "start_time": "2022-04-15T20:33:26.631Z"
   },
   {
    "duration": 5,
    "start_time": "2022-04-15T20:33:32.048Z"
   },
   {
    "duration": 46,
    "start_time": "2022-04-15T20:33:35.196Z"
   },
   {
    "duration": 60,
    "start_time": "2022-04-15T20:33:38.577Z"
   },
   {
    "duration": 564,
    "start_time": "2022-04-15T20:33:42.638Z"
   },
   {
    "duration": 41,
    "start_time": "2022-04-15T20:33:45.341Z"
   },
   {
    "duration": 460,
    "start_time": "2022-04-15T20:33:49.441Z"
   },
   {
    "duration": 392,
    "start_time": "2022-04-15T20:33:53.214Z"
   },
   {
    "duration": 264,
    "start_time": "2022-04-15T20:33:55.716Z"
   },
   {
    "duration": 227,
    "start_time": "2022-04-15T20:34:01.313Z"
   },
   {
    "duration": 382,
    "start_time": "2022-04-15T20:34:04.355Z"
   },
   {
    "duration": 13,
    "start_time": "2022-04-15T20:34:07.667Z"
   },
   {
    "duration": 33,
    "start_time": "2022-04-15T20:34:12.089Z"
   },
   {
    "duration": 43,
    "start_time": "2022-04-15T20:34:32.694Z"
   },
   {
    "duration": 55,
    "start_time": "2022-04-15T20:35:57.268Z"
   },
   {
    "duration": 290,
    "start_time": "2022-04-15T20:38:37.495Z"
   },
   {
    "duration": 264,
    "start_time": "2022-04-15T20:39:08.220Z"
   },
   {
    "duration": 343,
    "start_time": "2022-04-15T20:39:12.315Z"
   },
   {
    "duration": 279,
    "start_time": "2022-04-15T20:40:49.848Z"
   },
   {
    "duration": 512,
    "start_time": "2022-04-15T20:41:38.883Z"
   },
   {
    "duration": 412,
    "start_time": "2022-04-15T20:41:47.170Z"
   },
   {
    "duration": 239,
    "start_time": "2022-04-15T20:42:41.883Z"
   },
   {
    "duration": 372,
    "start_time": "2022-04-15T20:44:42.808Z"
   },
   {
    "duration": 249,
    "start_time": "2022-04-15T20:46:51.234Z"
   },
   {
    "duration": 213,
    "start_time": "2022-04-15T20:47:22.163Z"
   },
   {
    "duration": 234,
    "start_time": "2022-04-15T20:47:44.326Z"
   },
   {
    "duration": 224,
    "start_time": "2022-04-15T20:50:41.922Z"
   },
   {
    "duration": 205,
    "start_time": "2022-04-15T20:51:21.887Z"
   },
   {
    "duration": 223,
    "start_time": "2022-04-15T20:52:25.855Z"
   },
   {
    "duration": 225,
    "start_time": "2022-04-15T20:53:11.412Z"
   },
   {
    "duration": 324,
    "start_time": "2022-04-15T20:55:51.065Z"
   },
   {
    "duration": 266,
    "start_time": "2022-04-15T20:56:37.522Z"
   },
   {
    "duration": 253,
    "start_time": "2022-04-15T20:57:06.096Z"
   },
   {
    "duration": 226,
    "start_time": "2022-04-15T20:57:13.211Z"
   },
   {
    "duration": 214,
    "start_time": "2022-04-15T20:58:27.080Z"
   },
   {
    "duration": 224,
    "start_time": "2022-04-15T20:59:33.705Z"
   },
   {
    "duration": 35,
    "start_time": "2022-04-15T21:06:25.468Z"
   },
   {
    "duration": 22,
    "start_time": "2022-04-15T21:08:44.353Z"
   },
   {
    "duration": 248,
    "start_time": "2022-04-15T21:09:27.439Z"
   },
   {
    "duration": 465,
    "start_time": "2022-04-15T21:10:24.306Z"
   },
   {
    "duration": 11,
    "start_time": "2022-04-15T21:13:36.277Z"
   },
   {
    "duration": 371,
    "start_time": "2022-04-15T21:13:40.994Z"
   },
   {
    "duration": 484,
    "start_time": "2022-04-15T21:14:02.345Z"
   },
   {
    "duration": 219,
    "start_time": "2022-04-15T21:14:15.093Z"
   },
   {
    "duration": 200,
    "start_time": "2022-04-15T21:14:20.876Z"
   },
   {
    "duration": 221,
    "start_time": "2022-04-15T21:14:28.339Z"
   },
   {
    "duration": 377,
    "start_time": "2022-04-15T21:15:13.851Z"
   },
   {
    "duration": 347,
    "start_time": "2022-04-15T21:15:28.077Z"
   },
   {
    "duration": 248,
    "start_time": "2022-04-15T21:15:38.342Z"
   },
   {
    "duration": 323,
    "start_time": "2022-04-15T21:16:17.714Z"
   },
   {
    "duration": 263,
    "start_time": "2022-04-15T21:16:24.402Z"
   },
   {
    "duration": 38569,
    "start_time": "2022-04-15T21:20:09.866Z"
   },
   {
    "duration": 21,
    "start_time": "2022-04-15T21:21:02.449Z"
   },
   {
    "duration": 26,
    "start_time": "2022-04-15T21:21:05.931Z"
   },
   {
    "duration": 255,
    "start_time": "2022-04-15T21:21:12.369Z"
   },
   {
    "duration": 234,
    "start_time": "2022-04-15T21:23:13.171Z"
   },
   {
    "duration": 235,
    "start_time": "2022-04-15T21:23:22.612Z"
   },
   {
    "duration": 222,
    "start_time": "2022-04-15T21:23:45.751Z"
   },
   {
    "duration": 230,
    "start_time": "2022-04-15T21:23:59.405Z"
   },
   {
    "duration": 234,
    "start_time": "2022-04-15T21:36:04.846Z"
   },
   {
    "duration": 235,
    "start_time": "2022-04-15T21:36:24.470Z"
   },
   {
    "duration": 235,
    "start_time": "2022-04-15T21:36:40.022Z"
   },
   {
    "duration": 265,
    "start_time": "2022-04-15T21:37:06.306Z"
   },
   {
    "duration": 229,
    "start_time": "2022-04-15T21:37:21.937Z"
   },
   {
    "duration": 27,
    "start_time": "2022-04-15T21:42:41.432Z"
   },
   {
    "duration": 250,
    "start_time": "2022-04-15T21:42:56.225Z"
   },
   {
    "duration": 50,
    "start_time": "2022-04-16T03:27:28.445Z"
   },
   {
    "duration": 922,
    "start_time": "2022-04-16T03:27:34.272Z"
   },
   {
    "duration": 114,
    "start_time": "2022-04-16T03:27:35.196Z"
   },
   {
    "duration": 52,
    "start_time": "2022-04-16T03:27:35.311Z"
   },
   {
    "duration": 25,
    "start_time": "2022-04-16T03:27:35.365Z"
   },
   {
    "duration": 7,
    "start_time": "2022-04-16T03:27:35.393Z"
   },
   {
    "duration": 8,
    "start_time": "2022-04-16T03:27:35.401Z"
   },
   {
    "duration": 38,
    "start_time": "2022-04-16T03:27:35.410Z"
   },
   {
    "duration": 5,
    "start_time": "2022-04-16T03:27:35.449Z"
   },
   {
    "duration": 4,
    "start_time": "2022-04-16T03:27:35.456Z"
   },
   {
    "duration": 33,
    "start_time": "2022-04-16T03:27:35.461Z"
   },
   {
    "duration": 65,
    "start_time": "2022-04-16T03:27:35.496Z"
   },
   {
    "duration": 337,
    "start_time": "2022-04-16T03:27:35.563Z"
   },
   {
    "duration": 32,
    "start_time": "2022-04-16T03:27:35.902Z"
   },
   {
    "duration": 325,
    "start_time": "2022-04-16T03:27:35.937Z"
   },
   {
    "duration": 266,
    "start_time": "2022-04-16T03:27:36.263Z"
   },
   {
    "duration": 183,
    "start_time": "2022-04-16T03:27:36.534Z"
   },
   {
    "duration": 171,
    "start_time": "2022-04-16T03:27:36.718Z"
   },
   {
    "duration": 151,
    "start_time": "2022-04-16T03:27:36.891Z"
   },
   {
    "duration": 261,
    "start_time": "2022-04-16T03:27:37.044Z"
   },
   {
    "duration": 10,
    "start_time": "2022-04-16T03:27:37.307Z"
   },
   {
    "duration": 42,
    "start_time": "2022-04-16T03:27:37.319Z"
   },
   {
    "duration": 189,
    "start_time": "2022-04-16T03:27:37.363Z"
   },
   {
    "duration": 193,
    "start_time": "2022-04-16T03:27:37.553Z"
   },
   {
    "duration": 162,
    "start_time": "2022-04-16T03:27:37.747Z"
   },
   {
    "duration": 245,
    "start_time": "2022-04-16T03:27:37.910Z"
   },
   {
    "duration": 160,
    "start_time": "2022-04-16T03:27:38.157Z"
   },
   {
    "duration": 161,
    "start_time": "2022-04-16T03:27:38.319Z"
   },
   {
    "duration": 152,
    "start_time": "2022-04-16T03:27:38.481Z"
   },
   {
    "duration": 141,
    "start_time": "2022-04-16T03:27:40.486Z"
   },
   {
    "duration": 5,
    "start_time": "2022-04-16T03:27:56.603Z"
   },
   {
    "duration": 41,
    "start_time": "2022-04-16T03:34:24.725Z"
   },
   {
    "duration": 9,
    "start_time": "2022-04-16T03:35:04.729Z"
   },
   {
    "duration": 9,
    "start_time": "2022-04-16T03:35:13.796Z"
   },
   {
    "duration": 11,
    "start_time": "2022-04-16T03:35:28.370Z"
   },
   {
    "duration": 9,
    "start_time": "2022-04-16T03:35:30.648Z"
   },
   {
    "duration": 86,
    "start_time": "2022-04-16T03:44:35.611Z"
   },
   {
    "duration": 141,
    "start_time": "2022-04-16T03:44:35.700Z"
   },
   {
    "duration": 38,
    "start_time": "2022-04-16T03:44:35.843Z"
   },
   {
    "duration": 22,
    "start_time": "2022-04-16T03:44:35.883Z"
   },
   {
    "duration": 7,
    "start_time": "2022-04-16T03:44:35.933Z"
   },
   {
    "duration": 8,
    "start_time": "2022-04-16T03:44:35.941Z"
   },
   {
    "duration": 26,
    "start_time": "2022-04-16T03:44:35.950Z"
   },
   {
    "duration": 6,
    "start_time": "2022-04-16T03:44:35.977Z"
   },
   {
    "duration": 5,
    "start_time": "2022-04-16T03:44:35.985Z"
   },
   {
    "duration": 48,
    "start_time": "2022-04-16T03:44:35.992Z"
   },
   {
    "duration": 39,
    "start_time": "2022-04-16T03:44:36.042Z"
   },
   {
    "duration": 341,
    "start_time": "2022-04-16T03:44:36.083Z"
   },
   {
    "duration": 33,
    "start_time": "2022-04-16T03:44:36.425Z"
   },
   {
    "duration": 255,
    "start_time": "2022-04-16T03:44:36.461Z"
   },
   {
    "duration": 331,
    "start_time": "2022-04-16T03:44:36.718Z"
   },
   {
    "duration": 184,
    "start_time": "2022-04-16T03:44:37.051Z"
   },
   {
    "duration": 169,
    "start_time": "2022-04-16T03:44:37.237Z"
   },
   {
    "duration": 135,
    "start_time": "2022-04-16T03:44:37.407Z"
   },
   {
    "duration": 249,
    "start_time": "2022-04-16T03:44:37.544Z"
   },
   {
    "duration": 10,
    "start_time": "2022-04-16T03:44:37.795Z"
   },
   {
    "duration": 48,
    "start_time": "2022-04-16T03:44:37.806Z"
   },
   {
    "duration": 182,
    "start_time": "2022-04-16T03:44:37.856Z"
   },
   {
    "duration": 194,
    "start_time": "2022-04-16T03:44:38.040Z"
   },
   {
    "duration": 161,
    "start_time": "2022-04-16T03:44:38.236Z"
   },
   {
    "duration": 175,
    "start_time": "2022-04-16T03:44:38.398Z"
   },
   {
    "duration": 161,
    "start_time": "2022-04-16T03:44:38.574Z"
   },
   {
    "duration": 241,
    "start_time": "2022-04-16T03:44:38.737Z"
   },
   {
    "duration": 155,
    "start_time": "2022-04-16T03:44:38.980Z"
   },
   {
    "duration": 146,
    "start_time": "2022-04-16T03:44:39.137Z"
   },
   {
    "duration": 162,
    "start_time": "2022-04-16T03:44:39.284Z"
   },
   {
    "duration": 8,
    "start_time": "2022-04-16T03:46:48.965Z"
   },
   {
    "duration": 9,
    "start_time": "2022-04-16T03:47:05.191Z"
   },
   {
    "duration": 10,
    "start_time": "2022-04-16T03:47:11.065Z"
   },
   {
    "duration": 10,
    "start_time": "2022-04-16T03:51:00.617Z"
   },
   {
    "duration": 37,
    "start_time": "2022-04-16T03:58:16.895Z"
   },
   {
    "duration": 86,
    "start_time": "2022-04-16T03:58:22.651Z"
   },
   {
    "duration": 128,
    "start_time": "2022-04-16T03:58:22.739Z"
   },
   {
    "duration": 42,
    "start_time": "2022-04-16T03:58:22.868Z"
   },
   {
    "duration": 42,
    "start_time": "2022-04-16T03:58:22.912Z"
   },
   {
    "duration": 6,
    "start_time": "2022-04-16T03:58:22.956Z"
   },
   {
    "duration": 8,
    "start_time": "2022-04-16T03:58:22.964Z"
   },
   {
    "duration": 17,
    "start_time": "2022-04-16T03:58:22.973Z"
   },
   {
    "duration": 6,
    "start_time": "2022-04-16T03:58:22.991Z"
   },
   {
    "duration": 36,
    "start_time": "2022-04-16T03:58:22.998Z"
   },
   {
    "duration": 28,
    "start_time": "2022-04-16T03:58:23.037Z"
   },
   {
    "duration": 39,
    "start_time": "2022-04-16T03:58:23.067Z"
   },
   {
    "duration": 358,
    "start_time": "2022-04-16T03:58:23.107Z"
   },
   {
    "duration": 28,
    "start_time": "2022-04-16T03:58:23.466Z"
   },
   {
    "duration": 267,
    "start_time": "2022-04-16T03:58:23.496Z"
   },
   {
    "duration": 259,
    "start_time": "2022-04-16T03:58:23.764Z"
   },
   {
    "duration": 261,
    "start_time": "2022-04-16T03:58:24.025Z"
   },
   {
    "duration": 167,
    "start_time": "2022-04-16T03:58:24.288Z"
   },
   {
    "duration": 139,
    "start_time": "2022-04-16T03:58:24.457Z"
   },
   {
    "duration": 248,
    "start_time": "2022-04-16T03:58:24.598Z"
   },
   {
    "duration": 10,
    "start_time": "2022-04-16T03:58:24.848Z"
   },
   {
    "duration": 28,
    "start_time": "2022-04-16T03:58:24.859Z"
   },
   {
    "duration": 200,
    "start_time": "2022-04-16T03:58:24.888Z"
   },
   {
    "duration": 185,
    "start_time": "2022-04-16T03:58:25.090Z"
   },
   {
    "duration": 165,
    "start_time": "2022-04-16T03:58:25.276Z"
   },
   {
    "duration": 171,
    "start_time": "2022-04-16T03:58:25.443Z"
   },
   {
    "duration": 161,
    "start_time": "2022-04-16T03:58:25.616Z"
   },
   {
    "duration": 162,
    "start_time": "2022-04-16T03:58:25.779Z"
   },
   {
    "duration": 245,
    "start_time": "2022-04-16T03:58:25.944Z"
   },
   {
    "duration": 160,
    "start_time": "2022-04-16T03:58:26.191Z"
   },
   {
    "duration": 158,
    "start_time": "2022-04-16T03:58:26.353Z"
   },
   {
    "duration": 32,
    "start_time": "2022-04-16T03:58:26.513Z"
   },
   {
    "duration": 14,
    "start_time": "2022-04-16T03:58:26.547Z"
   },
   {
    "duration": 319,
    "start_time": "2022-04-16T03:58:26.562Z"
   },
   {
    "duration": 8,
    "start_time": "2022-04-16T03:58:26.883Z"
   },
   {
    "duration": 7,
    "start_time": "2022-04-16T03:58:30.403Z"
   },
   {
    "duration": 246,
    "start_time": "2022-04-16T03:58:33.675Z"
   },
   {
    "duration": 231,
    "start_time": "2022-04-16T03:58:42.392Z"
   },
   {
    "duration": 146,
    "start_time": "2022-04-16T03:58:55.923Z"
   },
   {
    "duration": 142,
    "start_time": "2022-04-16T03:59:02.411Z"
   },
   {
    "duration": 249,
    "start_time": "2022-04-16T03:59:15.438Z"
   },
   {
    "duration": 152,
    "start_time": "2022-04-16T03:59:23.720Z"
   },
   {
    "duration": 155,
    "start_time": "2022-04-16T03:59:35.750Z"
   },
   {
    "duration": 78,
    "start_time": "2022-04-16T04:04:22.929Z"
   },
   {
    "duration": 144,
    "start_time": "2022-04-16T04:04:23.009Z"
   },
   {
    "duration": 39,
    "start_time": "2022-04-16T04:04:23.154Z"
   },
   {
    "duration": 45,
    "start_time": "2022-04-16T04:04:23.196Z"
   },
   {
    "duration": 7,
    "start_time": "2022-04-16T04:04:23.243Z"
   },
   {
    "duration": 14,
    "start_time": "2022-04-16T04:04:23.252Z"
   },
   {
    "duration": 19,
    "start_time": "2022-04-16T04:04:23.268Z"
   },
   {
    "duration": 5,
    "start_time": "2022-04-16T04:04:23.289Z"
   },
   {
    "duration": 6,
    "start_time": "2022-04-16T04:04:23.295Z"
   },
   {
    "duration": 50,
    "start_time": "2022-04-16T04:04:23.304Z"
   },
   {
    "duration": 39,
    "start_time": "2022-04-16T04:04:23.356Z"
   },
   {
    "duration": 346,
    "start_time": "2022-04-16T04:04:23.397Z"
   },
   {
    "duration": 28,
    "start_time": "2022-04-16T04:04:23.745Z"
   },
   {
    "duration": 260,
    "start_time": "2022-04-16T04:04:23.775Z"
   },
   {
    "duration": 250,
    "start_time": "2022-04-16T04:04:24.037Z"
   },
   {
    "duration": 173,
    "start_time": "2022-04-16T04:04:24.289Z"
   },
   {
    "duration": 283,
    "start_time": "2022-04-16T04:04:24.464Z"
   },
   {
    "duration": 139,
    "start_time": "2022-04-16T04:04:24.749Z"
   },
   {
    "duration": 248,
    "start_time": "2022-04-16T04:04:24.889Z"
   },
   {
    "duration": 10,
    "start_time": "2022-04-16T04:04:25.139Z"
   },
   {
    "duration": 27,
    "start_time": "2022-04-16T04:04:25.150Z"
   },
   {
    "duration": 197,
    "start_time": "2022-04-16T04:04:25.178Z"
   },
   {
    "duration": 191,
    "start_time": "2022-04-16T04:04:25.377Z"
   },
   {
    "duration": 158,
    "start_time": "2022-04-16T04:04:25.570Z"
   },
   {
    "duration": 168,
    "start_time": "2022-04-16T04:04:25.733Z"
   },
   {
    "duration": 161,
    "start_time": "2022-04-16T04:04:25.902Z"
   },
   {
    "duration": 163,
    "start_time": "2022-04-16T04:04:26.065Z"
   },
   {
    "duration": 160,
    "start_time": "2022-04-16T04:04:26.233Z"
   },
   {
    "duration": 150,
    "start_time": "2022-04-16T04:04:26.395Z"
   },
   {
    "duration": 163,
    "start_time": "2022-04-16T04:04:26.547Z"
   },
   {
    "duration": 29,
    "start_time": "2022-04-16T04:04:26.711Z"
   },
   {
    "duration": 16,
    "start_time": "2022-04-16T04:04:26.742Z"
   },
   {
    "duration": 320,
    "start_time": "2022-04-16T04:04:26.759Z"
   },
   {
    "duration": 9,
    "start_time": "2022-04-16T04:04:27.080Z"
   },
   {
    "duration": 387,
    "start_time": "2022-04-16T04:04:27.091Z"
   },
   {
    "duration": 246,
    "start_time": "2022-04-16T04:04:27.480Z"
   },
   {
    "duration": 154,
    "start_time": "2022-04-16T04:04:27.732Z"
   },
   {
    "duration": 146,
    "start_time": "2022-04-16T04:04:27.889Z"
   },
   {
    "duration": 162,
    "start_time": "2022-04-16T04:04:28.037Z"
   },
   {
    "duration": 181,
    "start_time": "2022-04-16T04:04:28.202Z"
   },
   {
    "duration": 173,
    "start_time": "2022-04-16T04:04:28.385Z"
   },
   {
    "duration": 33,
    "start_time": "2022-04-16T04:06:29.647Z"
   },
   {
    "duration": 156,
    "start_time": "2022-04-16T04:06:37.137Z"
   },
   {
    "duration": 239,
    "start_time": "2022-04-16T04:06:54.891Z"
   },
   {
    "duration": 180,
    "start_time": "2022-04-16T04:07:00.188Z"
   },
   {
    "duration": 184,
    "start_time": "2022-04-16T04:07:45.599Z"
   },
   {
    "duration": 192,
    "start_time": "2022-04-16T04:07:57.897Z"
   },
   {
    "duration": 173,
    "start_time": "2022-04-16T04:08:13.891Z"
   },
   {
    "duration": 179,
    "start_time": "2022-04-16T04:08:19.851Z"
   },
   {
    "duration": 176,
    "start_time": "2022-04-16T04:08:30.498Z"
   },
   {
    "duration": 186,
    "start_time": "2022-04-16T04:19:53.332Z"
   },
   {
    "duration": 190,
    "start_time": "2022-04-16T04:19:59.470Z"
   },
   {
    "duration": 323,
    "start_time": "2022-04-16T04:20:06.816Z"
   },
   {
    "duration": 186,
    "start_time": "2022-04-16T04:20:25.252Z"
   },
   {
    "duration": 177,
    "start_time": "2022-04-16T04:20:30.451Z"
   },
   {
    "duration": 174,
    "start_time": "2022-04-16T04:20:47.663Z"
   },
   {
    "duration": 12,
    "start_time": "2022-04-16T04:21:55.677Z"
   },
   {
    "duration": 13,
    "start_time": "2022-04-16T04:22:08.096Z"
   },
   {
    "duration": 178,
    "start_time": "2022-04-16T04:23:00.525Z"
   },
   {
    "duration": 6,
    "start_time": "2022-04-16T04:23:14.053Z"
   },
   {
    "duration": 6,
    "start_time": "2022-04-16T04:23:36.503Z"
   },
   {
    "duration": 9,
    "start_time": "2022-04-16T04:25:11.130Z"
   },
   {
    "duration": 15,
    "start_time": "2022-04-16T04:25:13.421Z"
   },
   {
    "duration": 15,
    "start_time": "2022-04-16T04:25:24.821Z"
   },
   {
    "duration": 16,
    "start_time": "2022-04-16T04:25:27.692Z"
   },
   {
    "duration": 16,
    "start_time": "2022-04-16T04:25:40.417Z"
   },
   {
    "duration": 8,
    "start_time": "2022-04-16T04:25:44.836Z"
   },
   {
    "duration": 16,
    "start_time": "2022-04-16T04:25:47.313Z"
   },
   {
    "duration": 38,
    "start_time": "2022-04-16T04:25:50.328Z"
   },
   {
    "duration": 14,
    "start_time": "2022-04-16T04:28:23.619Z"
   },
   {
    "duration": 37,
    "start_time": "2022-04-16T04:28:27.295Z"
   },
   {
    "duration": 38,
    "start_time": "2022-04-16T04:28:34.966Z"
   },
   {
    "duration": 161,
    "start_time": "2022-04-16T04:32:55.323Z"
   },
   {
    "duration": 916,
    "start_time": "2022-04-16T12:42:00.880Z"
   },
   {
    "duration": 104,
    "start_time": "2022-04-16T12:42:04.163Z"
   },
   {
    "duration": 32,
    "start_time": "2022-04-16T12:42:09.133Z"
   },
   {
    "duration": 22,
    "start_time": "2022-04-16T12:42:13.508Z"
   },
   {
    "duration": 6,
    "start_time": "2022-04-16T12:42:16.261Z"
   },
   {
    "duration": 5,
    "start_time": "2022-04-16T12:42:18.896Z"
   },
   {
    "duration": 14,
    "start_time": "2022-04-16T12:42:21.338Z"
   },
   {
    "duration": 5,
    "start_time": "2022-04-16T12:42:24.198Z"
   },
   {
    "duration": 3,
    "start_time": "2022-04-16T12:42:28.598Z"
   },
   {
    "duration": 26,
    "start_time": "2022-04-16T12:42:30.939Z"
   },
   {
    "duration": 33,
    "start_time": "2022-04-16T12:42:33.919Z"
   },
   {
    "duration": 297,
    "start_time": "2022-04-16T12:42:36.907Z"
   },
   {
    "duration": 23,
    "start_time": "2022-04-16T12:42:40.144Z"
   },
   {
    "duration": 246,
    "start_time": "2022-04-16T12:42:43.776Z"
   },
   {
    "duration": 198,
    "start_time": "2022-04-16T12:42:46.355Z"
   },
   {
    "duration": 138,
    "start_time": "2022-04-16T12:42:48.923Z"
   },
   {
    "duration": 121,
    "start_time": "2022-04-16T12:42:52.484Z"
   },
   {
    "duration": 113,
    "start_time": "2022-04-16T12:42:57.702Z"
   },
   {
    "duration": 211,
    "start_time": "2022-04-16T12:43:00.669Z"
   },
   {
    "duration": 10,
    "start_time": "2022-04-16T12:43:03.952Z"
   },
   {
    "duration": 27,
    "start_time": "2022-04-16T12:43:08.646Z"
   },
   {
    "duration": 146,
    "start_time": "2022-04-16T12:43:16.619Z"
   },
   {
    "duration": 152,
    "start_time": "2022-04-16T12:43:21.079Z"
   },
   {
    "duration": 241,
    "start_time": "2022-04-16T12:43:24.749Z"
   },
   {
    "duration": 131,
    "start_time": "2022-04-16T12:43:28.802Z"
   },
   {
    "duration": 126,
    "start_time": "2022-04-16T12:43:33.214Z"
   },
   {
    "duration": 122,
    "start_time": "2022-04-16T12:43:40.120Z"
   },
   {
    "duration": 118,
    "start_time": "2022-04-16T12:43:44.557Z"
   },
   {
    "duration": 161,
    "start_time": "2022-04-16T12:43:48.554Z"
   },
   {
    "duration": 175,
    "start_time": "2022-04-16T12:43:51.713Z"
   },
   {
    "duration": 28,
    "start_time": "2022-04-16T12:43:57.188Z"
   },
   {
    "duration": 14,
    "start_time": "2022-04-16T12:44:04.268Z"
   },
   {
    "duration": 245,
    "start_time": "2022-04-16T12:44:17.250Z"
   },
   {
    "duration": 6,
    "start_time": "2022-04-16T12:44:21.507Z"
   },
   {
    "duration": 190,
    "start_time": "2022-04-16T12:44:23.828Z"
   },
   {
    "duration": 237,
    "start_time": "2022-04-16T12:44:27.038Z"
   },
   {
    "duration": 125,
    "start_time": "2022-04-16T12:44:29.983Z"
   },
   {
    "duration": 103,
    "start_time": "2022-04-16T12:44:33.007Z"
   },
   {
    "duration": 117,
    "start_time": "2022-04-16T12:44:36.434Z"
   },
   {
    "duration": 122,
    "start_time": "2022-04-16T12:44:39.685Z"
   },
   {
    "duration": 128,
    "start_time": "2022-04-16T12:44:43.135Z"
   },
   {
    "duration": 122,
    "start_time": "2022-04-16T12:45:07.215Z"
   },
   {
    "duration": 164,
    "start_time": "2022-04-16T12:45:26.766Z"
   },
   {
    "duration": 141,
    "start_time": "2022-04-16T12:45:53.227Z"
   },
   {
    "duration": 120,
    "start_time": "2022-04-16T12:46:49.708Z"
   },
   {
    "duration": 46,
    "start_time": "2022-04-27T19:14:44.193Z"
   },
   {
    "duration": 717,
    "start_time": "2022-04-27T19:14:54.054Z"
   },
   {
    "duration": 106,
    "start_time": "2022-04-27T19:14:54.772Z"
   },
   {
    "duration": 33,
    "start_time": "2022-04-27T19:14:54.880Z"
   },
   {
    "duration": 43,
    "start_time": "2022-04-27T19:14:54.915Z"
   },
   {
    "duration": 6,
    "start_time": "2022-04-27T19:14:54.960Z"
   },
   {
    "duration": 7,
    "start_time": "2022-04-27T19:14:54.967Z"
   },
   {
    "duration": 13,
    "start_time": "2022-04-27T19:14:54.976Z"
   },
   {
    "duration": 5,
    "start_time": "2022-04-27T19:14:54.990Z"
   },
   {
    "duration": 5,
    "start_time": "2022-04-27T19:14:54.996Z"
   },
   {
    "duration": 52,
    "start_time": "2022-04-27T19:14:55.003Z"
   },
   {
    "duration": 34,
    "start_time": "2022-04-27T19:14:55.057Z"
   },
   {
    "duration": 322,
    "start_time": "2022-04-27T19:14:55.092Z"
   },
   {
    "duration": 33,
    "start_time": "2022-04-27T19:14:55.415Z"
   },
   {
    "duration": 272,
    "start_time": "2022-04-27T19:14:55.450Z"
   },
   {
    "duration": 217,
    "start_time": "2022-04-27T19:14:55.724Z"
   },
   {
    "duration": 152,
    "start_time": "2022-04-27T19:14:55.942Z"
   },
   {
    "duration": 142,
    "start_time": "2022-04-27T19:14:56.096Z"
   },
   {
    "duration": 119,
    "start_time": "2022-04-27T19:14:56.247Z"
   },
   {
    "duration": 209,
    "start_time": "2022-04-27T19:14:56.368Z"
   },
   {
    "duration": 9,
    "start_time": "2022-04-27T19:14:56.579Z"
   },
   {
    "duration": 27,
    "start_time": "2022-04-27T19:14:56.589Z"
   },
   {
    "duration": 178,
    "start_time": "2022-04-27T19:14:56.618Z"
   },
   {
    "duration": 163,
    "start_time": "2022-04-27T19:14:56.798Z"
   },
   {
    "duration": 136,
    "start_time": "2022-04-27T19:14:56.963Z"
   },
   {
    "duration": 360,
    "start_time": "2022-04-27T19:14:57.101Z"
   },
   {
    "duration": 132,
    "start_time": "2022-04-27T19:14:57.462Z"
   },
   {
    "duration": 132,
    "start_time": "2022-04-27T19:14:57.595Z"
   },
   {
    "duration": 131,
    "start_time": "2022-04-27T19:14:57.731Z"
   },
   {
    "duration": 127,
    "start_time": "2022-04-27T19:14:57.864Z"
   },
   {
    "duration": 130,
    "start_time": "2022-04-27T19:14:57.993Z"
   },
   {
    "duration": 28,
    "start_time": "2022-04-27T19:14:58.125Z"
   },
   {
    "duration": 13,
    "start_time": "2022-04-27T19:14:58.155Z"
   },
   {
    "duration": 260,
    "start_time": "2022-04-27T19:14:58.169Z"
   },
   {
    "duration": 7,
    "start_time": "2022-04-27T19:14:58.431Z"
   },
   {
    "duration": 209,
    "start_time": "2022-04-27T19:14:58.447Z"
   },
   {
    "duration": 271,
    "start_time": "2022-04-27T19:14:58.657Z"
   },
   {
    "duration": 130,
    "start_time": "2022-04-27T19:14:58.930Z"
   },
   {
    "duration": 120,
    "start_time": "2022-04-27T19:14:59.061Z"
   },
   {
    "duration": 134,
    "start_time": "2022-04-27T19:14:59.182Z"
   },
   {
    "duration": 136,
    "start_time": "2022-04-27T19:14:59.318Z"
   },
   {
    "duration": 137,
    "start_time": "2022-04-27T19:14:59.456Z"
   },
   {
    "duration": 100,
    "start_time": "2022-04-27T19:14:59.595Z"
   },
   {
    "duration": 8,
    "start_time": "2022-04-27T19:14:59.696Z"
   },
   {
    "duration": 102,
    "start_time": "2022-04-27T19:14:59.706Z"
   },
   {
    "duration": 8,
    "start_time": "2022-04-27T19:14:59.810Z"
   },
   {
    "duration": 139,
    "start_time": "2022-04-27T19:14:59.819Z"
   },
   {
    "duration": 131,
    "start_time": "2022-04-27T19:14:59.959Z"
   },
   {
    "duration": 157,
    "start_time": "2022-04-27T19:15:00.092Z"
   },
   {
    "duration": 863,
    "start_time": "2022-09-17T21:07:49.487Z"
   },
   {
    "duration": 109,
    "start_time": "2022-09-17T21:07:50.352Z"
   },
   {
    "duration": 51,
    "start_time": "2022-09-17T21:07:50.463Z"
   },
   {
    "duration": 26,
    "start_time": "2022-09-17T21:07:50.517Z"
   },
   {
    "duration": 7,
    "start_time": "2022-09-17T21:07:50.545Z"
   },
   {
    "duration": 7,
    "start_time": "2022-09-17T21:07:50.554Z"
   },
   {
    "duration": 47,
    "start_time": "2022-09-17T21:07:50.562Z"
   },
   {
    "duration": 7,
    "start_time": "2022-09-17T21:07:50.611Z"
   },
   {
    "duration": 9,
    "start_time": "2022-09-17T21:07:50.620Z"
   },
   {
    "duration": 41,
    "start_time": "2022-09-17T21:07:50.632Z"
   },
   {
    "duration": 53,
    "start_time": "2022-09-17T21:07:50.675Z"
   },
   {
    "duration": 343,
    "start_time": "2022-09-17T21:07:50.730Z"
   },
   {
    "duration": 43,
    "start_time": "2022-09-17T21:07:51.075Z"
   },
   {
    "duration": 314,
    "start_time": "2022-09-17T21:07:51.120Z"
   },
   {
    "duration": 238,
    "start_time": "2022-09-17T21:07:51.435Z"
   },
   {
    "duration": 171,
    "start_time": "2022-09-17T21:07:51.675Z"
   },
   {
    "duration": 171,
    "start_time": "2022-09-17T21:07:51.847Z"
   },
   {
    "duration": 151,
    "start_time": "2022-09-17T21:07:52.020Z"
   },
   {
    "duration": 260,
    "start_time": "2022-09-17T21:07:52.173Z"
   },
   {
    "duration": 9,
    "start_time": "2022-09-17T21:07:52.435Z"
   },
   {
    "duration": 33,
    "start_time": "2022-09-17T21:07:52.445Z"
   },
   {
    "duration": 204,
    "start_time": "2022-09-17T21:07:52.480Z"
   },
   {
    "duration": 217,
    "start_time": "2022-09-17T21:07:52.686Z"
   },
   {
    "duration": 164,
    "start_time": "2022-09-17T21:07:52.906Z"
   },
   {
    "duration": 241,
    "start_time": "2022-09-17T21:07:53.072Z"
   },
   {
    "duration": 167,
    "start_time": "2022-09-17T21:07:53.315Z"
   },
   {
    "duration": 166,
    "start_time": "2022-09-17T21:07:53.484Z"
   },
   {
    "duration": 160,
    "start_time": "2022-09-17T21:07:53.653Z"
   },
   {
    "duration": 148,
    "start_time": "2022-09-17T21:07:53.815Z"
   },
   {
    "duration": 160,
    "start_time": "2022-09-17T21:07:53.965Z"
   },
   {
    "duration": 23,
    "start_time": "2022-09-17T21:07:54.127Z"
   },
   {
    "duration": 15,
    "start_time": "2022-09-17T21:07:54.151Z"
   },
   {
    "duration": 327,
    "start_time": "2022-09-17T21:07:54.168Z"
   },
   {
    "duration": 7,
    "start_time": "2022-09-17T21:07:54.497Z"
   },
   {
    "duration": 263,
    "start_time": "2022-09-17T21:07:54.506Z"
   },
   {
    "duration": 318,
    "start_time": "2022-09-17T21:07:54.771Z"
   },
   {
    "duration": 163,
    "start_time": "2022-09-17T21:07:55.090Z"
   },
   {
    "duration": 145,
    "start_time": "2022-09-17T21:07:55.255Z"
   },
   {
    "duration": 169,
    "start_time": "2022-09-17T21:07:55.401Z"
   },
   {
    "duration": 171,
    "start_time": "2022-09-17T21:07:55.572Z"
   },
   {
    "duration": 162,
    "start_time": "2022-09-17T21:07:55.744Z"
   },
   {
    "duration": 119,
    "start_time": "2022-09-17T21:07:55.908Z"
   },
   {
    "duration": 9,
    "start_time": "2022-09-17T21:07:56.028Z"
   },
   {
    "duration": 111,
    "start_time": "2022-09-17T21:07:56.039Z"
   },
   {
    "duration": 9,
    "start_time": "2022-09-17T21:07:56.152Z"
   },
   {
    "duration": 168,
    "start_time": "2022-09-17T21:07:56.163Z"
   },
   {
    "duration": 167,
    "start_time": "2022-09-17T21:07:56.333Z"
   },
   {
    "duration": 264,
    "start_time": "2022-09-17T21:07:56.502Z"
   },
   {
    "duration": 731,
    "start_time": "2022-09-17T21:15:08.507Z"
   },
   {
    "duration": 109,
    "start_time": "2022-09-17T21:15:09.240Z"
   },
   {
    "duration": 54,
    "start_time": "2022-09-17T21:15:09.351Z"
   },
   {
    "duration": 23,
    "start_time": "2022-09-17T21:15:09.407Z"
   },
   {
    "duration": 6,
    "start_time": "2022-09-17T21:15:09.432Z"
   },
   {
    "duration": 11,
    "start_time": "2022-09-17T21:15:09.440Z"
   },
   {
    "duration": 17,
    "start_time": "2022-09-17T21:15:09.453Z"
   },
   {
    "duration": 26,
    "start_time": "2022-09-17T21:15:09.472Z"
   },
   {
    "duration": 5,
    "start_time": "2022-09-17T21:15:09.499Z"
   },
   {
    "duration": 30,
    "start_time": "2022-09-17T21:15:09.506Z"
   },
   {
    "duration": 36,
    "start_time": "2022-09-17T21:15:09.538Z"
   },
   {
    "duration": 354,
    "start_time": "2022-09-17T21:15:09.576Z"
   },
   {
    "duration": 27,
    "start_time": "2022-09-17T21:15:09.931Z"
   },
   {
    "duration": 327,
    "start_time": "2022-09-17T21:15:09.959Z"
   },
   {
    "duration": 258,
    "start_time": "2022-09-17T21:15:10.288Z"
   },
   {
    "duration": 192,
    "start_time": "2022-09-17T21:15:10.548Z"
   },
   {
    "duration": 171,
    "start_time": "2022-09-17T21:15:10.742Z"
   },
   {
    "duration": 143,
    "start_time": "2022-09-17T21:15:10.915Z"
   },
   {
    "duration": 249,
    "start_time": "2022-09-17T21:15:11.060Z"
   },
   {
    "duration": 9,
    "start_time": "2022-09-17T21:15:11.311Z"
   },
   {
    "duration": 28,
    "start_time": "2022-09-17T21:15:11.322Z"
   },
   {
    "duration": 188,
    "start_time": "2022-09-17T21:15:11.352Z"
   },
   {
    "duration": 188,
    "start_time": "2022-09-17T21:15:11.541Z"
   },
   {
    "duration": 165,
    "start_time": "2022-09-17T21:15:11.731Z"
   },
   {
    "duration": 238,
    "start_time": "2022-09-17T21:15:11.898Z"
   },
   {
    "duration": 160,
    "start_time": "2022-09-17T21:15:12.137Z"
   },
   {
    "duration": 154,
    "start_time": "2022-09-17T21:15:12.299Z"
   },
   {
    "duration": 143,
    "start_time": "2022-09-17T21:15:12.456Z"
   },
   {
    "duration": 149,
    "start_time": "2022-09-17T21:15:12.601Z"
   },
   {
    "duration": 184,
    "start_time": "2022-09-17T21:15:12.752Z"
   },
   {
    "duration": 23,
    "start_time": "2022-09-17T21:15:12.938Z"
   },
   {
    "duration": 33,
    "start_time": "2022-09-17T21:15:12.963Z"
   },
   {
    "duration": 295,
    "start_time": "2022-09-17T21:15:12.998Z"
   },
   {
    "duration": 9,
    "start_time": "2022-09-17T21:15:13.295Z"
   },
   {
    "duration": 238,
    "start_time": "2022-09-17T21:15:13.306Z"
   },
   {
    "duration": 303,
    "start_time": "2022-09-17T21:15:13.546Z"
   },
   {
    "duration": 153,
    "start_time": "2022-09-17T21:15:13.850Z"
   },
   {
    "duration": 135,
    "start_time": "2022-09-17T21:15:14.004Z"
   },
   {
    "duration": 154,
    "start_time": "2022-09-17T21:15:14.141Z"
   },
   {
    "duration": 159,
    "start_time": "2022-09-17T21:15:14.297Z"
   },
   {
    "duration": 151,
    "start_time": "2022-09-17T21:15:14.458Z"
   },
   {
    "duration": 143,
    "start_time": "2022-09-17T21:15:14.611Z"
   },
   {
    "duration": 159,
    "start_time": "2022-09-17T21:15:14.756Z"
   },
   {
    "duration": 208,
    "start_time": "2022-09-17T21:15:14.917Z"
   },
   {
    "duration": 86,
    "start_time": "2022-09-17T21:17:18.577Z"
   },
   {
    "duration": 3,
    "start_time": "2022-09-17T21:17:27.055Z"
   },
   {
    "duration": 3,
    "start_time": "2022-09-17T21:17:47.806Z"
   },
   {
    "duration": 99,
    "start_time": "2022-09-17T21:19:03.304Z"
   },
   {
    "duration": 3,
    "start_time": "2022-09-17T21:19:31.767Z"
   },
   {
    "duration": 10,
    "start_time": "2022-09-17T21:19:43.519Z"
   },
   {
    "duration": 31,
    "start_time": "2022-09-17T21:20:10.138Z"
   },
   {
    "duration": 8,
    "start_time": "2022-09-17T21:20:30.206Z"
   },
   {
    "duration": 13,
    "start_time": "2022-09-17T21:20:53.183Z"
   },
   {
    "duration": 651,
    "start_time": "2022-09-17T21:21:07.115Z"
   },
   {
    "duration": 144,
    "start_time": "2022-09-17T21:21:07.768Z"
   },
   {
    "duration": 38,
    "start_time": "2022-09-17T21:21:07.914Z"
   },
   {
    "duration": 45,
    "start_time": "2022-09-17T21:21:07.954Z"
   },
   {
    "duration": 9,
    "start_time": "2022-09-17T21:21:08.001Z"
   },
   {
    "duration": 10,
    "start_time": "2022-09-17T21:21:08.012Z"
   },
   {
    "duration": 22,
    "start_time": "2022-09-17T21:21:08.024Z"
   },
   {
    "duration": 6,
    "start_time": "2022-09-17T21:21:08.048Z"
   },
   {
    "duration": 6,
    "start_time": "2022-09-17T21:21:08.055Z"
   },
   {
    "duration": 58,
    "start_time": "2022-09-17T21:21:08.064Z"
   },
   {
    "duration": 40,
    "start_time": "2022-09-17T21:21:08.124Z"
   },
   {
    "duration": 386,
    "start_time": "2022-09-17T21:21:08.165Z"
   },
   {
    "duration": 28,
    "start_time": "2022-09-17T21:21:08.553Z"
   },
   {
    "duration": 347,
    "start_time": "2022-09-17T21:21:08.582Z"
   },
   {
    "duration": 267,
    "start_time": "2022-09-17T21:21:08.931Z"
   },
   {
    "duration": 188,
    "start_time": "2022-09-17T21:21:09.200Z"
   },
   {
    "duration": 152,
    "start_time": "2022-09-17T21:21:09.394Z"
   },
   {
    "duration": 127,
    "start_time": "2022-09-17T21:21:09.548Z"
   },
   {
    "duration": 246,
    "start_time": "2022-09-17T21:21:09.677Z"
   },
   {
    "duration": 9,
    "start_time": "2022-09-17T21:21:09.925Z"
   },
   {
    "duration": 28,
    "start_time": "2022-09-17T21:21:09.935Z"
   },
   {
    "duration": 197,
    "start_time": "2022-09-17T21:21:09.965Z"
   },
   {
    "duration": 181,
    "start_time": "2022-09-17T21:21:10.163Z"
   },
   {
    "duration": 153,
    "start_time": "2022-09-17T21:21:10.345Z"
   },
   {
    "duration": 230,
    "start_time": "2022-09-17T21:21:10.500Z"
   },
   {
    "duration": 171,
    "start_time": "2022-09-17T21:21:10.732Z"
   },
   {
    "duration": 159,
    "start_time": "2022-09-17T21:21:10.904Z"
   },
   {
    "duration": 147,
    "start_time": "2022-09-17T21:21:11.067Z"
   },
   {
    "duration": 140,
    "start_time": "2022-09-17T21:21:11.216Z"
   },
   {
    "duration": 155,
    "start_time": "2022-09-17T21:21:11.357Z"
   },
   {
    "duration": 25,
    "start_time": "2022-09-17T21:21:11.513Z"
   },
   {
    "duration": 20,
    "start_time": "2022-09-17T21:21:11.539Z"
   },
   {
    "duration": 366,
    "start_time": "2022-09-17T21:21:11.561Z"
   },
   {
    "duration": 7,
    "start_time": "2022-09-17T21:21:11.929Z"
   },
   {
    "duration": 261,
    "start_time": "2022-09-17T21:21:11.937Z"
   },
   {
    "duration": 311,
    "start_time": "2022-09-17T21:21:12.199Z"
   },
   {
    "duration": 161,
    "start_time": "2022-09-17T21:21:12.511Z"
   },
   {
    "duration": 158,
    "start_time": "2022-09-17T21:21:12.674Z"
   },
   {
    "duration": 172,
    "start_time": "2022-09-17T21:21:12.833Z"
   },
   {
    "duration": 153,
    "start_time": "2022-09-17T21:21:13.007Z"
   },
   {
    "duration": 150,
    "start_time": "2022-09-17T21:21:13.162Z"
   },
   {
    "duration": 156,
    "start_time": "2022-09-17T21:21:13.314Z"
   },
   {
    "duration": 160,
    "start_time": "2022-09-17T21:21:13.471Z"
   },
   {
    "duration": 178,
    "start_time": "2022-09-17T21:21:13.633Z"
   },
   {
    "duration": 15,
    "start_time": "2022-09-17T21:21:50.788Z"
   },
   {
    "duration": 3,
    "start_time": "2022-09-17T21:21:56.736Z"
   }
  ],
  "kernelspec": {
   "display_name": "Python 3 (ipykernel)",
   "language": "python",
   "name": "python3"
  },
  "language_info": {
   "codemirror_mode": {
    "name": "ipython",
    "version": 3
   },
   "file_extension": ".py",
   "mimetype": "text/x-python",
   "name": "python",
   "nbconvert_exporter": "python",
   "pygments_lexer": "ipython3",
   "version": "3.9.5"
  },
  "toc": {
   "base_numbering": 1,
   "nav_menu": {},
   "number_sections": true,
   "sideBar": true,
   "skip_h1_title": true,
   "title_cell": "Содержание",
   "title_sidebar": "Contents",
   "toc_cell": true,
   "toc_position": {
    "height": "322.688px",
    "left": "308px",
    "top": "111.125px",
    "width": "241px"
   },
   "toc_section_display": true,
   "toc_window_display": true
  }
 },
 "nbformat": 4,
 "nbformat_minor": 4
}
